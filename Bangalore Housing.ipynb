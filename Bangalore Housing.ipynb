{
 "cells": [
  {
   "cell_type": "code",
   "execution_count": 1,
   "metadata": {},
   "outputs": [],
   "source": [
    "import numpy as np\n",
    "import pandas as pd\n",
    "import matplotlib.pyplot as plt\n",
    "import matplotlib\n",
    "%matplotlib inline\n",
    "matplotlib.rcParams[\"figure.figsize\"]=(10,6)"
   ]
  },
  {
   "cell_type": "code",
   "execution_count": 2,
   "metadata": {},
   "outputs": [],
   "source": [
    "data= pd.read_csv(\"Bengaluru_House_Data.csv\",na_values=[\"NA\",\"?\"])"
   ]
  },
  {
   "cell_type": "code",
   "execution_count": 3,
   "metadata": {},
   "outputs": [
    {
     "data": {
      "text/html": [
       "<div>\n",
       "<style scoped>\n",
       "    .dataframe tbody tr th:only-of-type {\n",
       "        vertical-align: middle;\n",
       "    }\n",
       "\n",
       "    .dataframe tbody tr th {\n",
       "        vertical-align: top;\n",
       "    }\n",
       "\n",
       "    .dataframe thead th {\n",
       "        text-align: right;\n",
       "    }\n",
       "</style>\n",
       "<table border=\"1\" class=\"dataframe\">\n",
       "  <thead>\n",
       "    <tr style=\"text-align: right;\">\n",
       "      <th></th>\n",
       "      <th>area_type</th>\n",
       "      <th>availability</th>\n",
       "      <th>location</th>\n",
       "      <th>size</th>\n",
       "      <th>society</th>\n",
       "      <th>total_sqft</th>\n",
       "      <th>bath</th>\n",
       "      <th>balcony</th>\n",
       "      <th>price</th>\n",
       "    </tr>\n",
       "  </thead>\n",
       "  <tbody>\n",
       "    <tr>\n",
       "      <th>0</th>\n",
       "      <td>Super built-up  Area</td>\n",
       "      <td>19-Dec</td>\n",
       "      <td>Electronic City Phase II</td>\n",
       "      <td>2 BHK</td>\n",
       "      <td>Coomee</td>\n",
       "      <td>1056</td>\n",
       "      <td>2.0</td>\n",
       "      <td>1.0</td>\n",
       "      <td>39.07</td>\n",
       "    </tr>\n",
       "    <tr>\n",
       "      <th>1</th>\n",
       "      <td>Plot  Area</td>\n",
       "      <td>Ready To Move</td>\n",
       "      <td>Chikka Tirupathi</td>\n",
       "      <td>4 Bedroom</td>\n",
       "      <td>Theanmp</td>\n",
       "      <td>2600</td>\n",
       "      <td>5.0</td>\n",
       "      <td>3.0</td>\n",
       "      <td>120.00</td>\n",
       "    </tr>\n",
       "    <tr>\n",
       "      <th>2</th>\n",
       "      <td>Built-up  Area</td>\n",
       "      <td>Ready To Move</td>\n",
       "      <td>Uttarahalli</td>\n",
       "      <td>3 BHK</td>\n",
       "      <td>NaN</td>\n",
       "      <td>1440</td>\n",
       "      <td>2.0</td>\n",
       "      <td>3.0</td>\n",
       "      <td>62.00</td>\n",
       "    </tr>\n",
       "    <tr>\n",
       "      <th>3</th>\n",
       "      <td>Super built-up  Area</td>\n",
       "      <td>Ready To Move</td>\n",
       "      <td>Lingadheeranahalli</td>\n",
       "      <td>3 BHK</td>\n",
       "      <td>Soiewre</td>\n",
       "      <td>1521</td>\n",
       "      <td>3.0</td>\n",
       "      <td>1.0</td>\n",
       "      <td>95.00</td>\n",
       "    </tr>\n",
       "    <tr>\n",
       "      <th>4</th>\n",
       "      <td>Super built-up  Area</td>\n",
       "      <td>Ready To Move</td>\n",
       "      <td>Kothanur</td>\n",
       "      <td>2 BHK</td>\n",
       "      <td>NaN</td>\n",
       "      <td>1200</td>\n",
       "      <td>2.0</td>\n",
       "      <td>1.0</td>\n",
       "      <td>51.00</td>\n",
       "    </tr>\n",
       "  </tbody>\n",
       "</table>\n",
       "</div>"
      ],
      "text/plain": [
       "              area_type   availability                  location       size  \\\n",
       "0  Super built-up  Area         19-Dec  Electronic City Phase II      2 BHK   \n",
       "1            Plot  Area  Ready To Move          Chikka Tirupathi  4 Bedroom   \n",
       "2        Built-up  Area  Ready To Move               Uttarahalli      3 BHK   \n",
       "3  Super built-up  Area  Ready To Move        Lingadheeranahalli      3 BHK   \n",
       "4  Super built-up  Area  Ready To Move                  Kothanur      2 BHK   \n",
       "\n",
       "   society total_sqft  bath  balcony   price  \n",
       "0  Coomee        1056   2.0      1.0   39.07  \n",
       "1  Theanmp       2600   5.0      3.0  120.00  \n",
       "2      NaN       1440   2.0      3.0   62.00  \n",
       "3  Soiewre       1521   3.0      1.0   95.00  \n",
       "4      NaN       1200   2.0      1.0   51.00  "
      ]
     },
     "execution_count": 3,
     "metadata": {},
     "output_type": "execute_result"
    }
   ],
   "source": [
    "data.head()"
   ]
  },
  {
   "cell_type": "code",
   "execution_count": 4,
   "metadata": {},
   "outputs": [
    {
     "data": {
      "text/plain": [
       "(13320, 9)"
      ]
     },
     "execution_count": 4,
     "metadata": {},
     "output_type": "execute_result"
    }
   ],
   "source": [
    "data.shape"
   ]
  },
  {
   "cell_type": "code",
   "execution_count": 5,
   "metadata": {},
   "outputs": [
    {
     "data": {
      "text/plain": [
       "Super built-up  Area    8790\n",
       "Built-up  Area          2418\n",
       "Plot  Area              2025\n",
       "Carpet  Area              87\n",
       "Name: area_type, dtype: int64"
      ]
     },
     "execution_count": 5,
     "metadata": {},
     "output_type": "execute_result"
    }
   ],
   "source": [
    "data[\"area_type\"].value_counts()"
   ]
  },
  {
   "cell_type": "code",
   "execution_count": 6,
   "metadata": {},
   "outputs": [],
   "source": [
    "data= data.iloc[:,[2,3,5,6,7,8]]"
   ]
  },
  {
   "cell_type": "markdown",
   "metadata": {},
   "source": [
    "# Data Cleaning"
   ]
  },
  {
   "cell_type": "code",
   "execution_count": 7,
   "metadata": {},
   "outputs": [
    {
     "data": {
      "text/html": [
       "<div>\n",
       "<style scoped>\n",
       "    .dataframe tbody tr th:only-of-type {\n",
       "        vertical-align: middle;\n",
       "    }\n",
       "\n",
       "    .dataframe tbody tr th {\n",
       "        vertical-align: top;\n",
       "    }\n",
       "\n",
       "    .dataframe thead th {\n",
       "        text-align: right;\n",
       "    }\n",
       "</style>\n",
       "<table border=\"1\" class=\"dataframe\">\n",
       "  <thead>\n",
       "    <tr style=\"text-align: right;\">\n",
       "      <th></th>\n",
       "      <th>location</th>\n",
       "      <th>size</th>\n",
       "      <th>total_sqft</th>\n",
       "      <th>bath</th>\n",
       "      <th>balcony</th>\n",
       "      <th>price</th>\n",
       "    </tr>\n",
       "  </thead>\n",
       "  <tbody>\n",
       "    <tr>\n",
       "      <th>0</th>\n",
       "      <td>Electronic City Phase II</td>\n",
       "      <td>2 BHK</td>\n",
       "      <td>1056</td>\n",
       "      <td>2.0</td>\n",
       "      <td>1.0</td>\n",
       "      <td>39.07</td>\n",
       "    </tr>\n",
       "    <tr>\n",
       "      <th>1</th>\n",
       "      <td>Chikka Tirupathi</td>\n",
       "      <td>4 Bedroom</td>\n",
       "      <td>2600</td>\n",
       "      <td>5.0</td>\n",
       "      <td>3.0</td>\n",
       "      <td>120.00</td>\n",
       "    </tr>\n",
       "    <tr>\n",
       "      <th>2</th>\n",
       "      <td>Uttarahalli</td>\n",
       "      <td>3 BHK</td>\n",
       "      <td>1440</td>\n",
       "      <td>2.0</td>\n",
       "      <td>3.0</td>\n",
       "      <td>62.00</td>\n",
       "    </tr>\n",
       "    <tr>\n",
       "      <th>3</th>\n",
       "      <td>Lingadheeranahalli</td>\n",
       "      <td>3 BHK</td>\n",
       "      <td>1521</td>\n",
       "      <td>3.0</td>\n",
       "      <td>1.0</td>\n",
       "      <td>95.00</td>\n",
       "    </tr>\n",
       "    <tr>\n",
       "      <th>4</th>\n",
       "      <td>Kothanur</td>\n",
       "      <td>2 BHK</td>\n",
       "      <td>1200</td>\n",
       "      <td>2.0</td>\n",
       "      <td>1.0</td>\n",
       "      <td>51.00</td>\n",
       "    </tr>\n",
       "  </tbody>\n",
       "</table>\n",
       "</div>"
      ],
      "text/plain": [
       "                   location       size total_sqft  bath  balcony   price\n",
       "0  Electronic City Phase II      2 BHK       1056   2.0      1.0   39.07\n",
       "1          Chikka Tirupathi  4 Bedroom       2600   5.0      3.0  120.00\n",
       "2               Uttarahalli      3 BHK       1440   2.0      3.0   62.00\n",
       "3        Lingadheeranahalli      3 BHK       1521   3.0      1.0   95.00\n",
       "4                  Kothanur      2 BHK       1200   2.0      1.0   51.00"
      ]
     },
     "execution_count": 7,
     "metadata": {},
     "output_type": "execute_result"
    }
   ],
   "source": [
    "data.head()"
   ]
  },
  {
   "cell_type": "code",
   "execution_count": 8,
   "metadata": {},
   "outputs": [
    {
     "data": {
      "text/plain": [
       "location        1\n",
       "size           16\n",
       "total_sqft      0\n",
       "bath           73\n",
       "balcony       609\n",
       "price           0\n",
       "dtype: int64"
      ]
     },
     "execution_count": 8,
     "metadata": {},
     "output_type": "execute_result"
    }
   ],
   "source": [
    "data.isnull().sum()"
   ]
  },
  {
   "cell_type": "code",
   "execution_count": 9,
   "metadata": {},
   "outputs": [],
   "source": [
    "data[\"bath\"].fillna(data[\"bath\"].median(),inplace=True)"
   ]
  },
  {
   "cell_type": "code",
   "execution_count": 10,
   "metadata": {},
   "outputs": [],
   "source": [
    "data[\"balcony\"].fillna(data[\"balcony\"].median(),inplace=True)"
   ]
  },
  {
   "cell_type": "code",
   "execution_count": 11,
   "metadata": {},
   "outputs": [
    {
     "data": {
      "text/plain": [
       "location       1\n",
       "size          16\n",
       "total_sqft     0\n",
       "bath           0\n",
       "balcony        0\n",
       "price          0\n",
       "dtype: int64"
      ]
     },
     "execution_count": 11,
     "metadata": {},
     "output_type": "execute_result"
    }
   ],
   "source": [
    "data.isnull().sum()"
   ]
  },
  {
   "cell_type": "code",
   "execution_count": 12,
   "metadata": {},
   "outputs": [],
   "source": [
    "data.dropna(inplace=True)"
   ]
  },
  {
   "cell_type": "code",
   "execution_count": 13,
   "metadata": {},
   "outputs": [
    {
     "data": {
      "text/plain": [
       "location      0\n",
       "size          0\n",
       "total_sqft    0\n",
       "bath          0\n",
       "balcony       0\n",
       "price         0\n",
       "dtype: int64"
      ]
     },
     "execution_count": 13,
     "metadata": {},
     "output_type": "execute_result"
    }
   ],
   "source": [
    "data.isnull().sum()"
   ]
  },
  {
   "cell_type": "code",
   "execution_count": 14,
   "metadata": {},
   "outputs": [],
   "source": [
    "data[\"bhk\"]= data[\"size\"].apply(lambda x: int(x.split(\" \")[0]))"
   ]
  },
  {
   "cell_type": "code",
   "execution_count": 15,
   "metadata": {},
   "outputs": [
    {
     "data": {
      "text/html": [
       "<div>\n",
       "<style scoped>\n",
       "    .dataframe tbody tr th:only-of-type {\n",
       "        vertical-align: middle;\n",
       "    }\n",
       "\n",
       "    .dataframe tbody tr th {\n",
       "        vertical-align: top;\n",
       "    }\n",
       "\n",
       "    .dataframe thead th {\n",
       "        text-align: right;\n",
       "    }\n",
       "</style>\n",
       "<table border=\"1\" class=\"dataframe\">\n",
       "  <thead>\n",
       "    <tr style=\"text-align: right;\">\n",
       "      <th></th>\n",
       "      <th>location</th>\n",
       "      <th>size</th>\n",
       "      <th>total_sqft</th>\n",
       "      <th>bath</th>\n",
       "      <th>balcony</th>\n",
       "      <th>price</th>\n",
       "      <th>bhk</th>\n",
       "    </tr>\n",
       "  </thead>\n",
       "  <tbody>\n",
       "    <tr>\n",
       "      <th>0</th>\n",
       "      <td>Electronic City Phase II</td>\n",
       "      <td>2 BHK</td>\n",
       "      <td>1056</td>\n",
       "      <td>2.0</td>\n",
       "      <td>1.0</td>\n",
       "      <td>39.07</td>\n",
       "      <td>2</td>\n",
       "    </tr>\n",
       "    <tr>\n",
       "      <th>1</th>\n",
       "      <td>Chikka Tirupathi</td>\n",
       "      <td>4 Bedroom</td>\n",
       "      <td>2600</td>\n",
       "      <td>5.0</td>\n",
       "      <td>3.0</td>\n",
       "      <td>120.00</td>\n",
       "      <td>4</td>\n",
       "    </tr>\n",
       "    <tr>\n",
       "      <th>2</th>\n",
       "      <td>Uttarahalli</td>\n",
       "      <td>3 BHK</td>\n",
       "      <td>1440</td>\n",
       "      <td>2.0</td>\n",
       "      <td>3.0</td>\n",
       "      <td>62.00</td>\n",
       "      <td>3</td>\n",
       "    </tr>\n",
       "    <tr>\n",
       "      <th>3</th>\n",
       "      <td>Lingadheeranahalli</td>\n",
       "      <td>3 BHK</td>\n",
       "      <td>1521</td>\n",
       "      <td>3.0</td>\n",
       "      <td>1.0</td>\n",
       "      <td>95.00</td>\n",
       "      <td>3</td>\n",
       "    </tr>\n",
       "    <tr>\n",
       "      <th>4</th>\n",
       "      <td>Kothanur</td>\n",
       "      <td>2 BHK</td>\n",
       "      <td>1200</td>\n",
       "      <td>2.0</td>\n",
       "      <td>1.0</td>\n",
       "      <td>51.00</td>\n",
       "      <td>2</td>\n",
       "    </tr>\n",
       "  </tbody>\n",
       "</table>\n",
       "</div>"
      ],
      "text/plain": [
       "                   location       size total_sqft  bath  balcony   price  bhk\n",
       "0  Electronic City Phase II      2 BHK       1056   2.0      1.0   39.07    2\n",
       "1          Chikka Tirupathi  4 Bedroom       2600   5.0      3.0  120.00    4\n",
       "2               Uttarahalli      3 BHK       1440   2.0      3.0   62.00    3\n",
       "3        Lingadheeranahalli      3 BHK       1521   3.0      1.0   95.00    3\n",
       "4                  Kothanur      2 BHK       1200   2.0      1.0   51.00    2"
      ]
     },
     "execution_count": 15,
     "metadata": {},
     "output_type": "execute_result"
    }
   ],
   "source": [
    "data.head()"
   ]
  },
  {
   "cell_type": "code",
   "execution_count": 16,
   "metadata": {},
   "outputs": [],
   "source": [
    "data.drop(\"size\",axis=1,inplace=True)"
   ]
  },
  {
   "cell_type": "code",
   "execution_count": 17,
   "metadata": {},
   "outputs": [
    {
     "data": {
      "text/html": [
       "<div>\n",
       "<style scoped>\n",
       "    .dataframe tbody tr th:only-of-type {\n",
       "        vertical-align: middle;\n",
       "    }\n",
       "\n",
       "    .dataframe tbody tr th {\n",
       "        vertical-align: top;\n",
       "    }\n",
       "\n",
       "    .dataframe thead th {\n",
       "        text-align: right;\n",
       "    }\n",
       "</style>\n",
       "<table border=\"1\" class=\"dataframe\">\n",
       "  <thead>\n",
       "    <tr style=\"text-align: right;\">\n",
       "      <th></th>\n",
       "      <th>location</th>\n",
       "      <th>total_sqft</th>\n",
       "      <th>bath</th>\n",
       "      <th>balcony</th>\n",
       "      <th>price</th>\n",
       "      <th>bhk</th>\n",
       "    </tr>\n",
       "  </thead>\n",
       "  <tbody>\n",
       "    <tr>\n",
       "      <th>0</th>\n",
       "      <td>Electronic City Phase II</td>\n",
       "      <td>1056</td>\n",
       "      <td>2.0</td>\n",
       "      <td>1.0</td>\n",
       "      <td>39.07</td>\n",
       "      <td>2</td>\n",
       "    </tr>\n",
       "    <tr>\n",
       "      <th>1</th>\n",
       "      <td>Chikka Tirupathi</td>\n",
       "      <td>2600</td>\n",
       "      <td>5.0</td>\n",
       "      <td>3.0</td>\n",
       "      <td>120.00</td>\n",
       "      <td>4</td>\n",
       "    </tr>\n",
       "    <tr>\n",
       "      <th>2</th>\n",
       "      <td>Uttarahalli</td>\n",
       "      <td>1440</td>\n",
       "      <td>2.0</td>\n",
       "      <td>3.0</td>\n",
       "      <td>62.00</td>\n",
       "      <td>3</td>\n",
       "    </tr>\n",
       "    <tr>\n",
       "      <th>3</th>\n",
       "      <td>Lingadheeranahalli</td>\n",
       "      <td>1521</td>\n",
       "      <td>3.0</td>\n",
       "      <td>1.0</td>\n",
       "      <td>95.00</td>\n",
       "      <td>3</td>\n",
       "    </tr>\n",
       "    <tr>\n",
       "      <th>4</th>\n",
       "      <td>Kothanur</td>\n",
       "      <td>1200</td>\n",
       "      <td>2.0</td>\n",
       "      <td>1.0</td>\n",
       "      <td>51.00</td>\n",
       "      <td>2</td>\n",
       "    </tr>\n",
       "  </tbody>\n",
       "</table>\n",
       "</div>"
      ],
      "text/plain": [
       "                   location total_sqft  bath  balcony   price  bhk\n",
       "0  Electronic City Phase II       1056   2.0      1.0   39.07    2\n",
       "1          Chikka Tirupathi       2600   5.0      3.0  120.00    4\n",
       "2               Uttarahalli       1440   2.0      3.0   62.00    3\n",
       "3        Lingadheeranahalli       1521   3.0      1.0   95.00    3\n",
       "4                  Kothanur       1200   2.0      1.0   51.00    2"
      ]
     },
     "execution_count": 17,
     "metadata": {},
     "output_type": "execute_result"
    }
   ],
   "source": [
    "data.head()"
   ]
  },
  {
   "cell_type": "code",
   "execution_count": 18,
   "metadata": {},
   "outputs": [
    {
     "data": {
      "text/plain": [
       "1304"
      ]
     },
     "execution_count": 18,
     "metadata": {},
     "output_type": "execute_result"
    }
   ],
   "source": [
    "len(data['location'].unique())"
   ]
  },
  {
   "cell_type": "code",
   "execution_count": 19,
   "metadata": {},
   "outputs": [
    {
     "data": {
      "text/plain": [
       "array([ 2,  4,  3,  6,  1,  8,  7,  5, 11,  9, 27, 10, 19, 16, 43, 14, 12,\n",
       "       13, 18], dtype=int64)"
      ]
     },
     "execution_count": 19,
     "metadata": {},
     "output_type": "execute_result"
    }
   ],
   "source": [
    "data[\"bhk\"].unique()"
   ]
  },
  {
   "cell_type": "code",
   "execution_count": 20,
   "metadata": {},
   "outputs": [
    {
     "data": {
      "text/html": [
       "<div>\n",
       "<style scoped>\n",
       "    .dataframe tbody tr th:only-of-type {\n",
       "        vertical-align: middle;\n",
       "    }\n",
       "\n",
       "    .dataframe tbody tr th {\n",
       "        vertical-align: top;\n",
       "    }\n",
       "\n",
       "    .dataframe thead th {\n",
       "        text-align: right;\n",
       "    }\n",
       "</style>\n",
       "<table border=\"1\" class=\"dataframe\">\n",
       "  <thead>\n",
       "    <tr style=\"text-align: right;\">\n",
       "      <th></th>\n",
       "      <th>location</th>\n",
       "      <th>total_sqft</th>\n",
       "      <th>bath</th>\n",
       "      <th>balcony</th>\n",
       "      <th>price</th>\n",
       "      <th>bhk</th>\n",
       "    </tr>\n",
       "  </thead>\n",
       "  <tbody>\n",
       "    <tr>\n",
       "      <th>1718</th>\n",
       "      <td>2Electronic City Phase II</td>\n",
       "      <td>8000</td>\n",
       "      <td>27.0</td>\n",
       "      <td>0.0</td>\n",
       "      <td>230.0</td>\n",
       "      <td>27</td>\n",
       "    </tr>\n",
       "    <tr>\n",
       "      <th>4684</th>\n",
       "      <td>Munnekollal</td>\n",
       "      <td>2400</td>\n",
       "      <td>40.0</td>\n",
       "      <td>0.0</td>\n",
       "      <td>660.0</td>\n",
       "      <td>43</td>\n",
       "    </tr>\n",
       "  </tbody>\n",
       "</table>\n",
       "</div>"
      ],
      "text/plain": [
       "                       location total_sqft  bath  balcony  price  bhk\n",
       "1718  2Electronic City Phase II       8000  27.0      0.0  230.0   27\n",
       "4684                Munnekollal       2400  40.0      0.0  660.0   43"
      ]
     },
     "execution_count": 20,
     "metadata": {},
     "output_type": "execute_result"
    }
   ],
   "source": [
    "data[data.bhk>20]"
   ]
  },
  {
   "cell_type": "code",
   "execution_count": 21,
   "metadata": {},
   "outputs": [
    {
     "data": {
      "text/plain": [
       "array(['1056', '2600', '1440', ..., '1133 - 1384', '774', '4689'],\n",
       "      dtype=object)"
      ]
     },
     "execution_count": 21,
     "metadata": {},
     "output_type": "execute_result"
    }
   ],
   "source": [
    "data.total_sqft.unique()  # Here we can see that somevalues are in range"
   ]
  },
  {
   "cell_type": "code",
   "execution_count": 22,
   "metadata": {},
   "outputs": [],
   "source": [
    "def is_float(x):\n",
    "    try:\n",
    "        float(x)\n",
    "    except:\n",
    "        return False\n",
    "    return True"
   ]
  },
  {
   "cell_type": "code",
   "execution_count": 23,
   "metadata": {
    "scrolled": true
   },
   "outputs": [
    {
     "data": {
      "text/html": [
       "<div>\n",
       "<style scoped>\n",
       "    .dataframe tbody tr th:only-of-type {\n",
       "        vertical-align: middle;\n",
       "    }\n",
       "\n",
       "    .dataframe tbody tr th {\n",
       "        vertical-align: top;\n",
       "    }\n",
       "\n",
       "    .dataframe thead th {\n",
       "        text-align: right;\n",
       "    }\n",
       "</style>\n",
       "<table border=\"1\" class=\"dataframe\">\n",
       "  <thead>\n",
       "    <tr style=\"text-align: right;\">\n",
       "      <th></th>\n",
       "      <th>location</th>\n",
       "      <th>total_sqft</th>\n",
       "      <th>bath</th>\n",
       "      <th>balcony</th>\n",
       "      <th>price</th>\n",
       "      <th>bhk</th>\n",
       "    </tr>\n",
       "  </thead>\n",
       "  <tbody>\n",
       "    <tr>\n",
       "      <th>0</th>\n",
       "      <td>Electronic City Phase II</td>\n",
       "      <td>1056</td>\n",
       "      <td>2.0</td>\n",
       "      <td>1.0</td>\n",
       "      <td>39.07</td>\n",
       "      <td>2</td>\n",
       "    </tr>\n",
       "    <tr>\n",
       "      <th>1</th>\n",
       "      <td>Chikka Tirupathi</td>\n",
       "      <td>2600</td>\n",
       "      <td>5.0</td>\n",
       "      <td>3.0</td>\n",
       "      <td>120.00</td>\n",
       "      <td>4</td>\n",
       "    </tr>\n",
       "    <tr>\n",
       "      <th>2</th>\n",
       "      <td>Uttarahalli</td>\n",
       "      <td>1440</td>\n",
       "      <td>2.0</td>\n",
       "      <td>3.0</td>\n",
       "      <td>62.00</td>\n",
       "      <td>3</td>\n",
       "    </tr>\n",
       "    <tr>\n",
       "      <th>3</th>\n",
       "      <td>Lingadheeranahalli</td>\n",
       "      <td>1521</td>\n",
       "      <td>3.0</td>\n",
       "      <td>1.0</td>\n",
       "      <td>95.00</td>\n",
       "      <td>3</td>\n",
       "    </tr>\n",
       "    <tr>\n",
       "      <th>4</th>\n",
       "      <td>Kothanur</td>\n",
       "      <td>1200</td>\n",
       "      <td>2.0</td>\n",
       "      <td>1.0</td>\n",
       "      <td>51.00</td>\n",
       "      <td>2</td>\n",
       "    </tr>\n",
       "    <tr>\n",
       "      <th>5</th>\n",
       "      <td>Whitefield</td>\n",
       "      <td>1170</td>\n",
       "      <td>2.0</td>\n",
       "      <td>1.0</td>\n",
       "      <td>38.00</td>\n",
       "      <td>2</td>\n",
       "    </tr>\n",
       "    <tr>\n",
       "      <th>6</th>\n",
       "      <td>Old Airport Road</td>\n",
       "      <td>2732</td>\n",
       "      <td>4.0</td>\n",
       "      <td>2.0</td>\n",
       "      <td>204.00</td>\n",
       "      <td>4</td>\n",
       "    </tr>\n",
       "    <tr>\n",
       "      <th>7</th>\n",
       "      <td>Rajaji Nagar</td>\n",
       "      <td>3300</td>\n",
       "      <td>4.0</td>\n",
       "      <td>2.0</td>\n",
       "      <td>600.00</td>\n",
       "      <td>4</td>\n",
       "    </tr>\n",
       "    <tr>\n",
       "      <th>8</th>\n",
       "      <td>Marathahalli</td>\n",
       "      <td>1310</td>\n",
       "      <td>3.0</td>\n",
       "      <td>1.0</td>\n",
       "      <td>63.25</td>\n",
       "      <td>3</td>\n",
       "    </tr>\n",
       "    <tr>\n",
       "      <th>9</th>\n",
       "      <td>Gandhi Bazar</td>\n",
       "      <td>1020</td>\n",
       "      <td>6.0</td>\n",
       "      <td>2.0</td>\n",
       "      <td>370.00</td>\n",
       "      <td>6</td>\n",
       "    </tr>\n",
       "    <tr>\n",
       "      <th>10</th>\n",
       "      <td>Whitefield</td>\n",
       "      <td>1800</td>\n",
       "      <td>2.0</td>\n",
       "      <td>2.0</td>\n",
       "      <td>70.00</td>\n",
       "      <td>3</td>\n",
       "    </tr>\n",
       "    <tr>\n",
       "      <th>11</th>\n",
       "      <td>Whitefield</td>\n",
       "      <td>2785</td>\n",
       "      <td>5.0</td>\n",
       "      <td>3.0</td>\n",
       "      <td>295.00</td>\n",
       "      <td>4</td>\n",
       "    </tr>\n",
       "    <tr>\n",
       "      <th>12</th>\n",
       "      <td>7th Phase JP Nagar</td>\n",
       "      <td>1000</td>\n",
       "      <td>2.0</td>\n",
       "      <td>1.0</td>\n",
       "      <td>38.00</td>\n",
       "      <td>2</td>\n",
       "    </tr>\n",
       "    <tr>\n",
       "      <th>13</th>\n",
       "      <td>Gottigere</td>\n",
       "      <td>1100</td>\n",
       "      <td>2.0</td>\n",
       "      <td>2.0</td>\n",
       "      <td>40.00</td>\n",
       "      <td>2</td>\n",
       "    </tr>\n",
       "    <tr>\n",
       "      <th>14</th>\n",
       "      <td>Sarjapur</td>\n",
       "      <td>2250</td>\n",
       "      <td>3.0</td>\n",
       "      <td>2.0</td>\n",
       "      <td>148.00</td>\n",
       "      <td>3</td>\n",
       "    </tr>\n",
       "    <tr>\n",
       "      <th>15</th>\n",
       "      <td>Mysore Road</td>\n",
       "      <td>1175</td>\n",
       "      <td>2.0</td>\n",
       "      <td>2.0</td>\n",
       "      <td>73.50</td>\n",
       "      <td>2</td>\n",
       "    </tr>\n",
       "    <tr>\n",
       "      <th>16</th>\n",
       "      <td>Bisuvanahalli</td>\n",
       "      <td>1180</td>\n",
       "      <td>3.0</td>\n",
       "      <td>2.0</td>\n",
       "      <td>48.00</td>\n",
       "      <td>3</td>\n",
       "    </tr>\n",
       "    <tr>\n",
       "      <th>17</th>\n",
       "      <td>Raja Rajeshwari Nagar</td>\n",
       "      <td>1540</td>\n",
       "      <td>3.0</td>\n",
       "      <td>3.0</td>\n",
       "      <td>60.00</td>\n",
       "      <td>3</td>\n",
       "    </tr>\n",
       "    <tr>\n",
       "      <th>18</th>\n",
       "      <td>Ramakrishnappa Layout</td>\n",
       "      <td>2770</td>\n",
       "      <td>4.0</td>\n",
       "      <td>2.0</td>\n",
       "      <td>290.00</td>\n",
       "      <td>3</td>\n",
       "    </tr>\n",
       "    <tr>\n",
       "      <th>19</th>\n",
       "      <td>Manayata Tech Park</td>\n",
       "      <td>1100</td>\n",
       "      <td>2.0</td>\n",
       "      <td>2.0</td>\n",
       "      <td>48.00</td>\n",
       "      <td>2</td>\n",
       "    </tr>\n",
       "    <tr>\n",
       "      <th>20</th>\n",
       "      <td>Kengeri</td>\n",
       "      <td>600</td>\n",
       "      <td>1.0</td>\n",
       "      <td>1.0</td>\n",
       "      <td>15.00</td>\n",
       "      <td>1</td>\n",
       "    </tr>\n",
       "    <tr>\n",
       "      <th>21</th>\n",
       "      <td>Binny Pete</td>\n",
       "      <td>1755</td>\n",
       "      <td>3.0</td>\n",
       "      <td>1.0</td>\n",
       "      <td>122.00</td>\n",
       "      <td>3</td>\n",
       "    </tr>\n",
       "    <tr>\n",
       "      <th>22</th>\n",
       "      <td>Thanisandra</td>\n",
       "      <td>2800</td>\n",
       "      <td>5.0</td>\n",
       "      <td>2.0</td>\n",
       "      <td>380.00</td>\n",
       "      <td>4</td>\n",
       "    </tr>\n",
       "    <tr>\n",
       "      <th>23</th>\n",
       "      <td>Bellandur</td>\n",
       "      <td>1767</td>\n",
       "      <td>3.0</td>\n",
       "      <td>1.0</td>\n",
       "      <td>103.00</td>\n",
       "      <td>3</td>\n",
       "    </tr>\n",
       "    <tr>\n",
       "      <th>24</th>\n",
       "      <td>Thanisandra</td>\n",
       "      <td>510</td>\n",
       "      <td>1.0</td>\n",
       "      <td>0.0</td>\n",
       "      <td>25.25</td>\n",
       "      <td>1</td>\n",
       "    </tr>\n",
       "    <tr>\n",
       "      <th>25</th>\n",
       "      <td>Mangammanapalya</td>\n",
       "      <td>1250</td>\n",
       "      <td>3.0</td>\n",
       "      <td>2.0</td>\n",
       "      <td>56.00</td>\n",
       "      <td>3</td>\n",
       "    </tr>\n",
       "    <tr>\n",
       "      <th>26</th>\n",
       "      <td>Electronic City</td>\n",
       "      <td>660</td>\n",
       "      <td>1.0</td>\n",
       "      <td>1.0</td>\n",
       "      <td>23.10</td>\n",
       "      <td>2</td>\n",
       "    </tr>\n",
       "    <tr>\n",
       "      <th>27</th>\n",
       "      <td>Whitefield</td>\n",
       "      <td>1610</td>\n",
       "      <td>3.0</td>\n",
       "      <td>2.0</td>\n",
       "      <td>81.00</td>\n",
       "      <td>3</td>\n",
       "    </tr>\n",
       "    <tr>\n",
       "      <th>28</th>\n",
       "      <td>Ramagondanahalli</td>\n",
       "      <td>1151</td>\n",
       "      <td>2.0</td>\n",
       "      <td>2.0</td>\n",
       "      <td>48.77</td>\n",
       "      <td>2</td>\n",
       "    </tr>\n",
       "    <tr>\n",
       "      <th>29</th>\n",
       "      <td>Electronic City</td>\n",
       "      <td>1025</td>\n",
       "      <td>2.0</td>\n",
       "      <td>1.0</td>\n",
       "      <td>47.00</td>\n",
       "      <td>3</td>\n",
       "    </tr>\n",
       "    <tr>\n",
       "      <th>31</th>\n",
       "      <td>Bisuvanahalli</td>\n",
       "      <td>1075</td>\n",
       "      <td>2.0</td>\n",
       "      <td>1.0</td>\n",
       "      <td>35.00</td>\n",
       "      <td>3</td>\n",
       "    </tr>\n",
       "    <tr>\n",
       "      <th>32</th>\n",
       "      <td>Hebbal</td>\n",
       "      <td>1760</td>\n",
       "      <td>2.0</td>\n",
       "      <td>2.0</td>\n",
       "      <td>123.00</td>\n",
       "      <td>3</td>\n",
       "    </tr>\n",
       "    <tr>\n",
       "      <th>33</th>\n",
       "      <td>Raja Rajeshwari Nagar</td>\n",
       "      <td>1693</td>\n",
       "      <td>3.0</td>\n",
       "      <td>3.0</td>\n",
       "      <td>57.39</td>\n",
       "      <td>3</td>\n",
       "    </tr>\n",
       "    <tr>\n",
       "      <th>34</th>\n",
       "      <td>Kasturi Nagar</td>\n",
       "      <td>1925</td>\n",
       "      <td>3.0</td>\n",
       "      <td>2.0</td>\n",
       "      <td>125.00</td>\n",
       "      <td>3</td>\n",
       "    </tr>\n",
       "  </tbody>\n",
       "</table>\n",
       "</div>"
      ],
      "text/plain": [
       "                    location total_sqft  bath  balcony   price  bhk\n",
       "0   Electronic City Phase II       1056   2.0      1.0   39.07    2\n",
       "1           Chikka Tirupathi       2600   5.0      3.0  120.00    4\n",
       "2                Uttarahalli       1440   2.0      3.0   62.00    3\n",
       "3         Lingadheeranahalli       1521   3.0      1.0   95.00    3\n",
       "4                   Kothanur       1200   2.0      1.0   51.00    2\n",
       "5                 Whitefield       1170   2.0      1.0   38.00    2\n",
       "6           Old Airport Road       2732   4.0      2.0  204.00    4\n",
       "7               Rajaji Nagar       3300   4.0      2.0  600.00    4\n",
       "8               Marathahalli       1310   3.0      1.0   63.25    3\n",
       "9               Gandhi Bazar       1020   6.0      2.0  370.00    6\n",
       "10                Whitefield       1800   2.0      2.0   70.00    3\n",
       "11                Whitefield       2785   5.0      3.0  295.00    4\n",
       "12        7th Phase JP Nagar       1000   2.0      1.0   38.00    2\n",
       "13                 Gottigere       1100   2.0      2.0   40.00    2\n",
       "14                  Sarjapur       2250   3.0      2.0  148.00    3\n",
       "15               Mysore Road       1175   2.0      2.0   73.50    2\n",
       "16             Bisuvanahalli       1180   3.0      2.0   48.00    3\n",
       "17     Raja Rajeshwari Nagar       1540   3.0      3.0   60.00    3\n",
       "18     Ramakrishnappa Layout       2770   4.0      2.0  290.00    3\n",
       "19        Manayata Tech Park       1100   2.0      2.0   48.00    2\n",
       "20                   Kengeri        600   1.0      1.0   15.00    1\n",
       "21                Binny Pete       1755   3.0      1.0  122.00    3\n",
       "22               Thanisandra       2800   5.0      2.0  380.00    4\n",
       "23                 Bellandur       1767   3.0      1.0  103.00    3\n",
       "24               Thanisandra        510   1.0      0.0   25.25    1\n",
       "25           Mangammanapalya       1250   3.0      2.0   56.00    3\n",
       "26           Electronic City        660   1.0      1.0   23.10    2\n",
       "27                Whitefield       1610   3.0      2.0   81.00    3\n",
       "28          Ramagondanahalli       1151   2.0      2.0   48.77    2\n",
       "29           Electronic City       1025   2.0      1.0   47.00    3\n",
       "31             Bisuvanahalli       1075   2.0      1.0   35.00    3\n",
       "32                    Hebbal       1760   2.0      2.0  123.00    3\n",
       "33     Raja Rajeshwari Nagar       1693   3.0      3.0   57.39    3\n",
       "34             Kasturi Nagar       1925   3.0      2.0  125.00    3"
      ]
     },
     "execution_count": 23,
     "metadata": {},
     "output_type": "execute_result"
    }
   ],
   "source": [
    "data[data[\"total_sqft\"].apply(is_float)].head(34)"
   ]
  },
  {
   "cell_type": "code",
   "execution_count": 24,
   "metadata": {},
   "outputs": [],
   "source": [
    "def convert_sqft_to_num(x):\n",
    "    tokens= x.split(\"-\")\n",
    "    if len(tokens)==2:\n",
    "        return(float(tokens[0])+float(tokens[1]))/2\n",
    "    try:\n",
    "        return float(x)\n",
    "    except:\n",
    "        return None"
   ]
  },
  {
   "cell_type": "code",
   "execution_count": 25,
   "metadata": {},
   "outputs": [
    {
     "data": {
      "text/plain": [
       "2166.0"
      ]
     },
     "execution_count": 25,
     "metadata": {},
     "output_type": "execute_result"
    }
   ],
   "source": [
    "convert_sqft_to_num(\"2166\")"
   ]
  },
  {
   "cell_type": "code",
   "execution_count": 26,
   "metadata": {},
   "outputs": [
    {
     "data": {
      "text/plain": [
       "1258.5"
      ]
     },
     "execution_count": 26,
     "metadata": {},
     "output_type": "execute_result"
    }
   ],
   "source": [
    "convert_sqft_to_num(\"1133-1384\")"
   ]
  },
  {
   "cell_type": "code",
   "execution_count": 27,
   "metadata": {},
   "outputs": [],
   "source": [
    "data[\"total_sqft\"]= data[\"total_sqft\"].apply(convert_sqft_to_num)"
   ]
  },
  {
   "cell_type": "code",
   "execution_count": 28,
   "metadata": {},
   "outputs": [
    {
     "data": {
      "text/html": [
       "<div>\n",
       "<style scoped>\n",
       "    .dataframe tbody tr th:only-of-type {\n",
       "        vertical-align: middle;\n",
       "    }\n",
       "\n",
       "    .dataframe tbody tr th {\n",
       "        vertical-align: top;\n",
       "    }\n",
       "\n",
       "    .dataframe thead th {\n",
       "        text-align: right;\n",
       "    }\n",
       "</style>\n",
       "<table border=\"1\" class=\"dataframe\">\n",
       "  <thead>\n",
       "    <tr style=\"text-align: right;\">\n",
       "      <th></th>\n",
       "      <th>location</th>\n",
       "      <th>total_sqft</th>\n",
       "      <th>bath</th>\n",
       "      <th>balcony</th>\n",
       "      <th>price</th>\n",
       "      <th>bhk</th>\n",
       "    </tr>\n",
       "  </thead>\n",
       "  <tbody>\n",
       "    <tr>\n",
       "      <th>0</th>\n",
       "      <td>Electronic City Phase II</td>\n",
       "      <td>1056.0</td>\n",
       "      <td>2.0</td>\n",
       "      <td>1.0</td>\n",
       "      <td>39.07</td>\n",
       "      <td>2</td>\n",
       "    </tr>\n",
       "    <tr>\n",
       "      <th>1</th>\n",
       "      <td>Chikka Tirupathi</td>\n",
       "      <td>2600.0</td>\n",
       "      <td>5.0</td>\n",
       "      <td>3.0</td>\n",
       "      <td>120.00</td>\n",
       "      <td>4</td>\n",
       "    </tr>\n",
       "    <tr>\n",
       "      <th>2</th>\n",
       "      <td>Uttarahalli</td>\n",
       "      <td>1440.0</td>\n",
       "      <td>2.0</td>\n",
       "      <td>3.0</td>\n",
       "      <td>62.00</td>\n",
       "      <td>3</td>\n",
       "    </tr>\n",
       "    <tr>\n",
       "      <th>3</th>\n",
       "      <td>Lingadheeranahalli</td>\n",
       "      <td>1521.0</td>\n",
       "      <td>3.0</td>\n",
       "      <td>1.0</td>\n",
       "      <td>95.00</td>\n",
       "      <td>3</td>\n",
       "    </tr>\n",
       "    <tr>\n",
       "      <th>4</th>\n",
       "      <td>Kothanur</td>\n",
       "      <td>1200.0</td>\n",
       "      <td>2.0</td>\n",
       "      <td>1.0</td>\n",
       "      <td>51.00</td>\n",
       "      <td>2</td>\n",
       "    </tr>\n",
       "    <tr>\n",
       "      <th>5</th>\n",
       "      <td>Whitefield</td>\n",
       "      <td>1170.0</td>\n",
       "      <td>2.0</td>\n",
       "      <td>1.0</td>\n",
       "      <td>38.00</td>\n",
       "      <td>2</td>\n",
       "    </tr>\n",
       "    <tr>\n",
       "      <th>6</th>\n",
       "      <td>Old Airport Road</td>\n",
       "      <td>2732.0</td>\n",
       "      <td>4.0</td>\n",
       "      <td>2.0</td>\n",
       "      <td>204.00</td>\n",
       "      <td>4</td>\n",
       "    </tr>\n",
       "    <tr>\n",
       "      <th>7</th>\n",
       "      <td>Rajaji Nagar</td>\n",
       "      <td>3300.0</td>\n",
       "      <td>4.0</td>\n",
       "      <td>2.0</td>\n",
       "      <td>600.00</td>\n",
       "      <td>4</td>\n",
       "    </tr>\n",
       "    <tr>\n",
       "      <th>8</th>\n",
       "      <td>Marathahalli</td>\n",
       "      <td>1310.0</td>\n",
       "      <td>3.0</td>\n",
       "      <td>1.0</td>\n",
       "      <td>63.25</td>\n",
       "      <td>3</td>\n",
       "    </tr>\n",
       "    <tr>\n",
       "      <th>9</th>\n",
       "      <td>Gandhi Bazar</td>\n",
       "      <td>1020.0</td>\n",
       "      <td>6.0</td>\n",
       "      <td>2.0</td>\n",
       "      <td>370.00</td>\n",
       "      <td>6</td>\n",
       "    </tr>\n",
       "  </tbody>\n",
       "</table>\n",
       "</div>"
      ],
      "text/plain": [
       "                   location  total_sqft  bath  balcony   price  bhk\n",
       "0  Electronic City Phase II      1056.0   2.0      1.0   39.07    2\n",
       "1          Chikka Tirupathi      2600.0   5.0      3.0  120.00    4\n",
       "2               Uttarahalli      1440.0   2.0      3.0   62.00    3\n",
       "3        Lingadheeranahalli      1521.0   3.0      1.0   95.00    3\n",
       "4                  Kothanur      1200.0   2.0      1.0   51.00    2\n",
       "5                Whitefield      1170.0   2.0      1.0   38.00    2\n",
       "6          Old Airport Road      2732.0   4.0      2.0  204.00    4\n",
       "7              Rajaji Nagar      3300.0   4.0      2.0  600.00    4\n",
       "8              Marathahalli      1310.0   3.0      1.0   63.25    3\n",
       "9              Gandhi Bazar      1020.0   6.0      2.0  370.00    6"
      ]
     },
     "execution_count": 28,
     "metadata": {},
     "output_type": "execute_result"
    }
   ],
   "source": [
    "data.head(10)"
   ]
  },
  {
   "cell_type": "markdown",
   "metadata": {},
   "source": [
    "# Feature Engineering"
   ]
  },
  {
   "cell_type": "code",
   "execution_count": 29,
   "metadata": {},
   "outputs": [],
   "source": [
    "data[\"price_per_sqft\"]= data[\"price\"]*100000/data[\"total_sqft\"]"
   ]
  },
  {
   "cell_type": "code",
   "execution_count": 30,
   "metadata": {},
   "outputs": [
    {
     "data": {
      "text/html": [
       "<div>\n",
       "<style scoped>\n",
       "    .dataframe tbody tr th:only-of-type {\n",
       "        vertical-align: middle;\n",
       "    }\n",
       "\n",
       "    .dataframe tbody tr th {\n",
       "        vertical-align: top;\n",
       "    }\n",
       "\n",
       "    .dataframe thead th {\n",
       "        text-align: right;\n",
       "    }\n",
       "</style>\n",
       "<table border=\"1\" class=\"dataframe\">\n",
       "  <thead>\n",
       "    <tr style=\"text-align: right;\">\n",
       "      <th></th>\n",
       "      <th>location</th>\n",
       "      <th>total_sqft</th>\n",
       "      <th>bath</th>\n",
       "      <th>balcony</th>\n",
       "      <th>price</th>\n",
       "      <th>bhk</th>\n",
       "      <th>price_per_sqft</th>\n",
       "    </tr>\n",
       "  </thead>\n",
       "  <tbody>\n",
       "    <tr>\n",
       "      <th>0</th>\n",
       "      <td>Electronic City Phase II</td>\n",
       "      <td>1056.0</td>\n",
       "      <td>2.0</td>\n",
       "      <td>1.0</td>\n",
       "      <td>39.07</td>\n",
       "      <td>2</td>\n",
       "      <td>3699.810606</td>\n",
       "    </tr>\n",
       "    <tr>\n",
       "      <th>1</th>\n",
       "      <td>Chikka Tirupathi</td>\n",
       "      <td>2600.0</td>\n",
       "      <td>5.0</td>\n",
       "      <td>3.0</td>\n",
       "      <td>120.00</td>\n",
       "      <td>4</td>\n",
       "      <td>4615.384615</td>\n",
       "    </tr>\n",
       "    <tr>\n",
       "      <th>2</th>\n",
       "      <td>Uttarahalli</td>\n",
       "      <td>1440.0</td>\n",
       "      <td>2.0</td>\n",
       "      <td>3.0</td>\n",
       "      <td>62.00</td>\n",
       "      <td>3</td>\n",
       "      <td>4305.555556</td>\n",
       "    </tr>\n",
       "    <tr>\n",
       "      <th>3</th>\n",
       "      <td>Lingadheeranahalli</td>\n",
       "      <td>1521.0</td>\n",
       "      <td>3.0</td>\n",
       "      <td>1.0</td>\n",
       "      <td>95.00</td>\n",
       "      <td>3</td>\n",
       "      <td>6245.890861</td>\n",
       "    </tr>\n",
       "    <tr>\n",
       "      <th>4</th>\n",
       "      <td>Kothanur</td>\n",
       "      <td>1200.0</td>\n",
       "      <td>2.0</td>\n",
       "      <td>1.0</td>\n",
       "      <td>51.00</td>\n",
       "      <td>2</td>\n",
       "      <td>4250.000000</td>\n",
       "    </tr>\n",
       "  </tbody>\n",
       "</table>\n",
       "</div>"
      ],
      "text/plain": [
       "                   location  total_sqft  bath  balcony   price  bhk  \\\n",
       "0  Electronic City Phase II      1056.0   2.0      1.0   39.07    2   \n",
       "1          Chikka Tirupathi      2600.0   5.0      3.0  120.00    4   \n",
       "2               Uttarahalli      1440.0   2.0      3.0   62.00    3   \n",
       "3        Lingadheeranahalli      1521.0   3.0      1.0   95.00    3   \n",
       "4                  Kothanur      1200.0   2.0      1.0   51.00    2   \n",
       "\n",
       "   price_per_sqft  \n",
       "0     3699.810606  \n",
       "1     4615.384615  \n",
       "2     4305.555556  \n",
       "3     6245.890861  \n",
       "4     4250.000000  "
      ]
     },
     "execution_count": 30,
     "metadata": {},
     "output_type": "execute_result"
    }
   ],
   "source": [
    "data.head()"
   ]
  },
  {
   "cell_type": "code",
   "execution_count": 31,
   "metadata": {
    "scrolled": true
   },
   "outputs": [
    {
     "data": {
      "text/plain": [
       "location\n",
       "Whitefield           540\n",
       "Sarjapur  Road       397\n",
       "Electronic City      304\n",
       "Kanakpura Road       273\n",
       "Thanisandra          237\n",
       "                    ... \n",
       "LIC Colony             1\n",
       "Kuvempu Layout         1\n",
       "Kumbhena Agrahara      1\n",
       "Kudlu Village,         1\n",
       "1 Annasandrapalya      1\n",
       "Name: location, Length: 1293, dtype: int64"
      ]
     },
     "execution_count": 31,
     "metadata": {},
     "output_type": "execute_result"
    }
   ],
   "source": [
    "data.location= data.location.apply(lambda x: x.strip()) # We see that there are many places whose occurance is 1 time or 2 times only\n",
    "\n",
    "location_stats= data.groupby(\"location\")[\"location\"].agg(\"count\").sort_values(ascending=False)\n",
    "location_stats"
   ]
  },
  {
   "cell_type": "code",
   "execution_count": 32,
   "metadata": {},
   "outputs": [
    {
     "data": {
      "text/plain": [
       "1052"
      ]
     },
     "execution_count": 32,
     "metadata": {},
     "output_type": "execute_result"
    }
   ],
   "source": [
    "len(location_stats[location_stats<=10])"
   ]
  },
  {
   "cell_type": "code",
   "execution_count": 33,
   "metadata": {},
   "outputs": [
    {
     "data": {
      "text/plain": [
       "location\n",
       "Nagappa Reddy Layout     10\n",
       "Sector 1 HSR Layout      10\n",
       "1st Block Koramangala    10\n",
       "Naganathapura            10\n",
       "Nagadevanahalli          10\n",
       "                         ..\n",
       "LIC Colony                1\n",
       "Kuvempu Layout            1\n",
       "Kumbhena Agrahara         1\n",
       "Kudlu Village,            1\n",
       "1 Annasandrapalya         1\n",
       "Name: location, Length: 1052, dtype: int64"
      ]
     },
     "execution_count": 33,
     "metadata": {},
     "output_type": "execute_result"
    }
   ],
   "source": [
    "location_stats_less_ten= location_stats[location_stats<=10]\n",
    "location_stats_less_ten"
   ]
  },
  {
   "cell_type": "code",
   "execution_count": 34,
   "metadata": {},
   "outputs": [],
   "source": [
    "data.location= data.location.apply(lambda x: \"other\" if x in location_stats_less_ten else x) "
   ]
  },
  {
   "cell_type": "code",
   "execution_count": 35,
   "metadata": {},
   "outputs": [
    {
     "data": {
      "text/plain": [
       "242"
      ]
     },
     "execution_count": 35,
     "metadata": {},
     "output_type": "execute_result"
    }
   ],
   "source": [
    "len(data.location.unique())"
   ]
  },
  {
   "cell_type": "markdown",
   "metadata": {},
   "source": [
    "# Outlier Detection and Removal"
   ]
  },
  {
   "cell_type": "code",
   "execution_count": 36,
   "metadata": {},
   "outputs": [
    {
     "data": {
      "text/html": [
       "<div>\n",
       "<style scoped>\n",
       "    .dataframe tbody tr th:only-of-type {\n",
       "        vertical-align: middle;\n",
       "    }\n",
       "\n",
       "    .dataframe tbody tr th {\n",
       "        vertical-align: top;\n",
       "    }\n",
       "\n",
       "    .dataframe thead th {\n",
       "        text-align: right;\n",
       "    }\n",
       "</style>\n",
       "<table border=\"1\" class=\"dataframe\">\n",
       "  <thead>\n",
       "    <tr style=\"text-align: right;\">\n",
       "      <th></th>\n",
       "      <th>location</th>\n",
       "      <th>total_sqft</th>\n",
       "      <th>bath</th>\n",
       "      <th>balcony</th>\n",
       "      <th>price</th>\n",
       "      <th>bhk</th>\n",
       "      <th>price_per_sqft</th>\n",
       "    </tr>\n",
       "  </thead>\n",
       "  <tbody>\n",
       "    <tr>\n",
       "      <th>9</th>\n",
       "      <td>other</td>\n",
       "      <td>1020.0</td>\n",
       "      <td>6.0</td>\n",
       "      <td>2.0</td>\n",
       "      <td>370.0</td>\n",
       "      <td>6</td>\n",
       "      <td>36274.509804</td>\n",
       "    </tr>\n",
       "    <tr>\n",
       "      <th>45</th>\n",
       "      <td>HSR Layout</td>\n",
       "      <td>600.0</td>\n",
       "      <td>9.0</td>\n",
       "      <td>2.0</td>\n",
       "      <td>200.0</td>\n",
       "      <td>8</td>\n",
       "      <td>33333.333333</td>\n",
       "    </tr>\n",
       "    <tr>\n",
       "      <th>58</th>\n",
       "      <td>Murugeshpalya</td>\n",
       "      <td>1407.0</td>\n",
       "      <td>4.0</td>\n",
       "      <td>1.0</td>\n",
       "      <td>150.0</td>\n",
       "      <td>6</td>\n",
       "      <td>10660.980810</td>\n",
       "    </tr>\n",
       "    <tr>\n",
       "      <th>68</th>\n",
       "      <td>Devarachikkanahalli</td>\n",
       "      <td>1350.0</td>\n",
       "      <td>7.0</td>\n",
       "      <td>0.0</td>\n",
       "      <td>85.0</td>\n",
       "      <td>8</td>\n",
       "      <td>6296.296296</td>\n",
       "    </tr>\n",
       "    <tr>\n",
       "      <th>70</th>\n",
       "      <td>other</td>\n",
       "      <td>500.0</td>\n",
       "      <td>3.0</td>\n",
       "      <td>2.0</td>\n",
       "      <td>100.0</td>\n",
       "      <td>3</td>\n",
       "      <td>20000.000000</td>\n",
       "    </tr>\n",
       "    <tr>\n",
       "      <th>78</th>\n",
       "      <td>Kaval Byrasandra</td>\n",
       "      <td>460.0</td>\n",
       "      <td>1.0</td>\n",
       "      <td>0.0</td>\n",
       "      <td>22.0</td>\n",
       "      <td>2</td>\n",
       "      <td>4782.608696</td>\n",
       "    </tr>\n",
       "    <tr>\n",
       "      <th>89</th>\n",
       "      <td>Rajaji Nagar</td>\n",
       "      <td>710.0</td>\n",
       "      <td>6.0</td>\n",
       "      <td>3.0</td>\n",
       "      <td>160.0</td>\n",
       "      <td>6</td>\n",
       "      <td>22535.211268</td>\n",
       "    </tr>\n",
       "    <tr>\n",
       "      <th>119</th>\n",
       "      <td>Hennur Road</td>\n",
       "      <td>276.0</td>\n",
       "      <td>3.0</td>\n",
       "      <td>3.0</td>\n",
       "      <td>23.0</td>\n",
       "      <td>2</td>\n",
       "      <td>8333.333333</td>\n",
       "    </tr>\n",
       "    <tr>\n",
       "      <th>129</th>\n",
       "      <td>Vishwapriya Layout</td>\n",
       "      <td>950.0</td>\n",
       "      <td>7.0</td>\n",
       "      <td>0.0</td>\n",
       "      <td>115.0</td>\n",
       "      <td>7</td>\n",
       "      <td>12105.263158</td>\n",
       "    </tr>\n",
       "    <tr>\n",
       "      <th>149</th>\n",
       "      <td>other</td>\n",
       "      <td>1034.0</td>\n",
       "      <td>5.0</td>\n",
       "      <td>2.0</td>\n",
       "      <td>185.0</td>\n",
       "      <td>6</td>\n",
       "      <td>17891.682785</td>\n",
       "    </tr>\n",
       "  </tbody>\n",
       "</table>\n",
       "</div>"
      ],
      "text/plain": [
       "                location  total_sqft  bath  balcony  price  bhk  \\\n",
       "9                  other      1020.0   6.0      2.0  370.0    6   \n",
       "45            HSR Layout       600.0   9.0      2.0  200.0    8   \n",
       "58         Murugeshpalya      1407.0   4.0      1.0  150.0    6   \n",
       "68   Devarachikkanahalli      1350.0   7.0      0.0   85.0    8   \n",
       "70                 other       500.0   3.0      2.0  100.0    3   \n",
       "78      Kaval Byrasandra       460.0   1.0      0.0   22.0    2   \n",
       "89          Rajaji Nagar       710.0   6.0      3.0  160.0    6   \n",
       "119          Hennur Road       276.0   3.0      3.0   23.0    2   \n",
       "129   Vishwapriya Layout       950.0   7.0      0.0  115.0    7   \n",
       "149                other      1034.0   5.0      2.0  185.0    6   \n",
       "\n",
       "     price_per_sqft  \n",
       "9      36274.509804  \n",
       "45     33333.333333  \n",
       "58     10660.980810  \n",
       "68      6296.296296  \n",
       "70     20000.000000  \n",
       "78      4782.608696  \n",
       "89     22535.211268  \n",
       "119     8333.333333  \n",
       "129    12105.263158  \n",
       "149    17891.682785  "
      ]
     },
     "execution_count": 36,
     "metadata": {},
     "output_type": "execute_result"
    }
   ],
   "source": [
    "data[data.total_sqft/data.bhk<300].head(10)"
   ]
  },
  {
   "cell_type": "code",
   "execution_count": 37,
   "metadata": {},
   "outputs": [
    {
     "data": {
      "text/plain": [
       "(13303, 7)"
      ]
     },
     "execution_count": 37,
     "metadata": {},
     "output_type": "execute_result"
    }
   ],
   "source": [
    "data.shape"
   ]
  },
  {
   "cell_type": "code",
   "execution_count": 38,
   "metadata": {},
   "outputs": [],
   "source": [
    "data= data[~(data.total_sqft/data.bhk<300)]"
   ]
  },
  {
   "cell_type": "code",
   "execution_count": 39,
   "metadata": {},
   "outputs": [
    {
     "data": {
      "text/plain": [
       "(12559, 7)"
      ]
     },
     "execution_count": 39,
     "metadata": {},
     "output_type": "execute_result"
    }
   ],
   "source": [
    "data.shape"
   ]
  },
  {
   "cell_type": "code",
   "execution_count": 40,
   "metadata": {},
   "outputs": [],
   "source": [
    "def remove_ppt_outliers(df):\n",
    "    df_out= pd.DataFrame()\n",
    "    for key,subdf in df.groupby(\"location\"):\n",
    "        m= np.mean(subdf.price_per_sqft)\n",
    "        st= np.std(subdf.price_per_sqft)\n",
    "        reduced_df= subdf[(subdf.price_per_sqft>(m-st)) & (subdf.price_per_sqft<=(m+st))]\n",
    "        df_out= pd.concat([df_out,reduced_df],ignore_index=True)\n",
    "    return df_out"
   ]
  },
  {
   "cell_type": "code",
   "execution_count": 41,
   "metadata": {},
   "outputs": [],
   "source": [
    "data= remove_ppt_outliers(data)"
   ]
  },
  {
   "cell_type": "code",
   "execution_count": 42,
   "metadata": {},
   "outputs": [
    {
     "data": {
      "text/plain": [
       "(10286, 7)"
      ]
     },
     "execution_count": 42,
     "metadata": {},
     "output_type": "execute_result"
    }
   ],
   "source": [
    "data.shape"
   ]
  },
  {
   "cell_type": "code",
   "execution_count": 43,
   "metadata": {},
   "outputs": [],
   "source": [
    "def plot_scatter(df,location):\n",
    "    bhk2= df[(df.location==location)& (df.bhk==2)]\n",
    "    bhk3= df[(df.location==location)& (df.bhk==3)]\n",
    "    matplotlib.rcParams[\"figure.figsize\"]=(15,10)\n",
    "    plt.scatter(bhk2.total_sqft,bhk2.price_per_sqft,color=\"blue\",label=\"2BHK\",s=50)\n",
    "    plt.scatter(bhk3.total_sqft,bhk3.price_per_sqft,color=\"green\",label=\"3BHK\",s=50)\n",
    "    plt.xlabel(\"Total Square Feet Area\")\n",
    "    plt.ylabel(\"Price Per Square Feet\")\n",
    "    plt.title(location)\n",
    "    plt.legend()"
   ]
  },
  {
   "cell_type": "code",
   "execution_count": 44,
   "metadata": {
    "scrolled": false
   },
   "outputs": [
    {
     "data": {
      "image/png": "[encoded data removed]",
      "text/plain": [
       "<Figure size 1080x720 with 1 Axes>"
      ]
     },
     "metadata": {
      "needs_background": "light"
     },
     "output_type": "display_data"
    }
   ],
   "source": [
    "plot_scatter(data,\"Rajaji Nagar\")"
   ]
  },
  {
   "cell_type": "code",
   "execution_count": 45,
   "metadata": {
    "scrolled": false
   },
   "outputs": [
    {
     "data": {
      "image/png": "[encoded data removed]",
      "text/plain": [
       "<Figure size 1080x720 with 1 Axes>"
      ]
     },
     "metadata": {
      "needs_background": "light"
     },
     "output_type": "display_data"
    }
   ],
   "source": [
    "plot_scatter(data,\"Hebbal\")"
   ]
  },
  {
   "cell_type": "code",
   "execution_count": 46,
   "metadata": {},
   "outputs": [],
   "source": [
    "# Now we can remove those 2 BHK apartments whose price_per_sqft is less than the mean price_per_sqft of 1 BHK apartment"
   ]
  },
  {
   "cell_type": "code",
   "execution_count": 47,
   "metadata": {},
   "outputs": [],
   "source": [
    "def remove_bhk_outliers(df):\n",
    "    exclude_indices= np.array([])\n",
    "    for location, location_df in df.groupby(\"location\"):\n",
    "        bhk_stats={}\n",
    "        for bhk, bhk_df in location_df.groupby(\"bhk\"):\n",
    "            bhk_stats[bhk]= {\n",
    "                \"mean\" : np.mean(bhk_df.price_per_sqft),\n",
    "                \"std\" : np.std(bhk_df.price_per_sqft),\n",
    "                \"count\" : bhk_df.shape[0]\n",
    "            }\n",
    "        for bhk, bhk_df in location_df.groupby(\"bhk\"):\n",
    "            stats= bhk_stats.get(bhk-1)\n",
    "            if stats and stats[\"count\"]>5:\n",
    "                exclude_indices= np.append(exclude_indices, bhk_df[bhk_df.price_per_sqft<(stats[\"mean\"])].index.values)\n",
    "                \n",
    "    return df.drop(exclude_indices,axis=\"index\")           "
   ]
  },
  {
   "cell_type": "code",
   "execution_count": 48,
   "metadata": {},
   "outputs": [],
   "source": [
    "data= remove_bhk_outliers(data)"
   ]
  },
  {
   "cell_type": "code",
   "execution_count": 49,
   "metadata": {},
   "outputs": [
    {
     "data": {
      "text/plain": [
       "(7353, 7)"
      ]
     },
     "execution_count": 49,
     "metadata": {},
     "output_type": "execute_result"
    }
   ],
   "source": [
    "data.shape"
   ]
  },
  {
   "cell_type": "code",
   "execution_count": 50,
   "metadata": {},
   "outputs": [
    {
     "data": {
      "image/png": "[encoded data removed]",
      "text/plain": [
       "<Figure size 1080x720 with 1 Axes>"
      ]
     },
     "metadata": {
      "needs_background": "light"
     },
     "output_type": "display_data"
    }
   ],
   "source": [
    "plot_scatter(data,\"Hebbal\")"
   ]
  },
  {
   "cell_type": "code",
   "execution_count": 51,
   "metadata": {},
   "outputs": [
    {
     "data": {
      "image/png": "[encoded data removed]",
      "text/plain": [
       "<Figure size 1080x720 with 1 Axes>"
      ]
     },
     "metadata": {
      "needs_background": "light"
     },
     "output_type": "display_data"
    }
   ],
   "source": [
    "plot_scatter(data,\"Rajaji Nagar\")"
   ]
  },
  {
   "cell_type": "code",
   "execution_count": 52,
   "metadata": {},
   "outputs": [
    {
     "data": {
      "text/plain": [
       "Text(0, 0.5, 'Count')"
      ]
     },
     "execution_count": 52,
     "metadata": {},
     "output_type": "execute_result"
    },
    {
     "data": {
      "image/png": "[encoded data removed]",
      "text/plain": [
       "<Figure size 720x432 with 1 Axes>"
      ]
     },
     "metadata": {
      "needs_background": "light"
     },
     "output_type": "display_data"
    }
   ],
   "source": [
    "import matplotlib.pyplot as plt\n",
    "plt.figure(figsize=(10,6))\n",
    "plt.hist(data.price_per_sqft,rwidth=0.8)\n",
    "plt.xlabel(\"Price Per Square Feet\")\n",
    "plt.ylabel(\"Count\")"
   ]
  },
  {
   "cell_type": "code",
   "execution_count": 53,
   "metadata": {},
   "outputs": [
    {
     "data": {
      "text/plain": [
       "array([ 4.,  3.,  2.,  5.,  8.,  1.,  6.,  7.,  9., 12., 16., 13.])"
      ]
     },
     "execution_count": 53,
     "metadata": {},
     "output_type": "execute_result"
    }
   ],
   "source": [
    "data.bath.unique()"
   ]
  },
  {
   "cell_type": "code",
   "execution_count": 54,
   "metadata": {},
   "outputs": [
    {
     "data": {
      "text/html": [
       "<div>\n",
       "<style scoped>\n",
       "    .dataframe tbody tr th:only-of-type {\n",
       "        vertical-align: middle;\n",
       "    }\n",
       "\n",
       "    .dataframe tbody tr th {\n",
       "        vertical-align: top;\n",
       "    }\n",
       "\n",
       "    .dataframe thead th {\n",
       "        text-align: right;\n",
       "    }\n",
       "</style>\n",
       "<table border=\"1\" class=\"dataframe\">\n",
       "  <thead>\n",
       "    <tr style=\"text-align: right;\">\n",
       "      <th></th>\n",
       "      <th>location</th>\n",
       "      <th>total_sqft</th>\n",
       "      <th>bath</th>\n",
       "      <th>balcony</th>\n",
       "      <th>price</th>\n",
       "      <th>bhk</th>\n",
       "      <th>price_per_sqft</th>\n",
       "    </tr>\n",
       "  </thead>\n",
       "  <tbody>\n",
       "    <tr>\n",
       "      <th>5306</th>\n",
       "      <td>Neeladri Nagar</td>\n",
       "      <td>4000.0</td>\n",
       "      <td>12.0</td>\n",
       "      <td>2.0</td>\n",
       "      <td>160.0</td>\n",
       "      <td>10</td>\n",
       "      <td>4000.000000</td>\n",
       "    </tr>\n",
       "    <tr>\n",
       "      <th>8530</th>\n",
       "      <td>other</td>\n",
       "      <td>12000.0</td>\n",
       "      <td>12.0</td>\n",
       "      <td>2.0</td>\n",
       "      <td>525.0</td>\n",
       "      <td>10</td>\n",
       "      <td>4375.000000</td>\n",
       "    </tr>\n",
       "    <tr>\n",
       "      <th>8619</th>\n",
       "      <td>other</td>\n",
       "      <td>10000.0</td>\n",
       "      <td>16.0</td>\n",
       "      <td>2.0</td>\n",
       "      <td>550.0</td>\n",
       "      <td>16</td>\n",
       "      <td>5500.000000</td>\n",
       "    </tr>\n",
       "    <tr>\n",
       "      <th>9352</th>\n",
       "      <td>other</td>\n",
       "      <td>6000.0</td>\n",
       "      <td>12.0</td>\n",
       "      <td>2.0</td>\n",
       "      <td>150.0</td>\n",
       "      <td>11</td>\n",
       "      <td>2500.000000</td>\n",
       "    </tr>\n",
       "    <tr>\n",
       "      <th>9683</th>\n",
       "      <td>other</td>\n",
       "      <td>5425.0</td>\n",
       "      <td>13.0</td>\n",
       "      <td>0.0</td>\n",
       "      <td>275.0</td>\n",
       "      <td>13</td>\n",
       "      <td>5069.124424</td>\n",
       "    </tr>\n",
       "  </tbody>\n",
       "</table>\n",
       "</div>"
      ],
      "text/plain": [
       "            location  total_sqft  bath  balcony  price  bhk  price_per_sqft\n",
       "5306  Neeladri Nagar      4000.0  12.0      2.0  160.0   10     4000.000000\n",
       "8530           other     12000.0  12.0      2.0  525.0   10     4375.000000\n",
       "8619           other     10000.0  16.0      2.0  550.0   16     5500.000000\n",
       "9352           other      6000.0  12.0      2.0  150.0   11     2500.000000\n",
       "9683           other      5425.0  13.0      0.0  275.0   13     5069.124424"
      ]
     },
     "execution_count": 54,
     "metadata": {},
     "output_type": "execute_result"
    }
   ],
   "source": [
    "data[data.bath>10]"
   ]
  },
  {
   "cell_type": "code",
   "execution_count": 55,
   "metadata": {},
   "outputs": [
    {
     "data": {
      "image/png": "[encoded data removed]",
      "text/plain": [
       "<Figure size 720x432 with 1 Axes>"
      ]
     },
     "metadata": {
      "needs_background": "light"
     },
     "output_type": "display_data"
    }
   ],
   "source": [
    "plt.figure(figsize=(10,6))\n",
    "plt.hist(data.bath,rwidth=0.8)\n",
    "plt.xlabel(\"Number of Bathrooms\")\n",
    "plt.ylabel(\"Count\")\n",
    "plt.show()"
   ]
  },
  {
   "cell_type": "code",
   "execution_count": 56,
   "metadata": {},
   "outputs": [
    {
     "data": {
      "text/html": [
       "<div>\n",
       "<style scoped>\n",
       "    .dataframe tbody tr th:only-of-type {\n",
       "        vertical-align: middle;\n",
       "    }\n",
       "\n",
       "    .dataframe tbody tr th {\n",
       "        vertical-align: top;\n",
       "    }\n",
       "\n",
       "    .dataframe thead th {\n",
       "        text-align: right;\n",
       "    }\n",
       "</style>\n",
       "<table border=\"1\" class=\"dataframe\">\n",
       "  <thead>\n",
       "    <tr style=\"text-align: right;\">\n",
       "      <th></th>\n",
       "      <th>location</th>\n",
       "      <th>total_sqft</th>\n",
       "      <th>bath</th>\n",
       "      <th>balcony</th>\n",
       "      <th>price</th>\n",
       "      <th>bhk</th>\n",
       "      <th>price_per_sqft</th>\n",
       "    </tr>\n",
       "  </thead>\n",
       "  <tbody>\n",
       "    <tr>\n",
       "      <th>1634</th>\n",
       "      <td>Chikkabanavar</td>\n",
       "      <td>2460.0</td>\n",
       "      <td>7.0</td>\n",
       "      <td>2.0</td>\n",
       "      <td>80.0</td>\n",
       "      <td>4</td>\n",
       "      <td>3252.032520</td>\n",
       "    </tr>\n",
       "    <tr>\n",
       "      <th>5267</th>\n",
       "      <td>Nagasandra</td>\n",
       "      <td>7000.0</td>\n",
       "      <td>8.0</td>\n",
       "      <td>2.0</td>\n",
       "      <td>450.0</td>\n",
       "      <td>4</td>\n",
       "      <td>6428.571429</td>\n",
       "    </tr>\n",
       "    <tr>\n",
       "      <th>6748</th>\n",
       "      <td>Thanisandra</td>\n",
       "      <td>1806.0</td>\n",
       "      <td>6.0</td>\n",
       "      <td>2.0</td>\n",
       "      <td>116.0</td>\n",
       "      <td>3</td>\n",
       "      <td>6423.034330</td>\n",
       "    </tr>\n",
       "    <tr>\n",
       "      <th>8455</th>\n",
       "      <td>other</td>\n",
       "      <td>11338.0</td>\n",
       "      <td>9.0</td>\n",
       "      <td>1.0</td>\n",
       "      <td>1000.0</td>\n",
       "      <td>6</td>\n",
       "      <td>8819.897689</td>\n",
       "    </tr>\n",
       "  </tbody>\n",
       "</table>\n",
       "</div>"
      ],
      "text/plain": [
       "           location  total_sqft  bath  balcony   price  bhk  price_per_sqft\n",
       "1634  Chikkabanavar      2460.0   7.0      2.0    80.0    4     3252.032520\n",
       "5267     Nagasandra      7000.0   8.0      2.0   450.0    4     6428.571429\n",
       "6748    Thanisandra      1806.0   6.0      2.0   116.0    3     6423.034330\n",
       "8455          other     11338.0   9.0      1.0  1000.0    6     8819.897689"
      ]
     },
     "execution_count": 56,
     "metadata": {},
     "output_type": "execute_result"
    }
   ],
   "source": [
    "data[data.bath>data.bhk+2]"
   ]
  },
  {
   "cell_type": "code",
   "execution_count": 57,
   "metadata": {},
   "outputs": [],
   "source": [
    "data= data[data.bath<data.bhk+2]"
   ]
  },
  {
   "cell_type": "code",
   "execution_count": 58,
   "metadata": {},
   "outputs": [
    {
     "data": {
      "text/plain": [
       "(7275, 7)"
      ]
     },
     "execution_count": 58,
     "metadata": {},
     "output_type": "execute_result"
    }
   ],
   "source": [
    "data.shape"
   ]
  },
  {
   "cell_type": "markdown",
   "metadata": {},
   "source": [
    "# Model Building"
   ]
  },
  {
   "cell_type": "code",
   "execution_count": 59,
   "metadata": {},
   "outputs": [],
   "source": [
    "dummies= pd.get_dummies(data.location,drop_first=True)"
   ]
  },
  {
   "cell_type": "code",
   "execution_count": 60,
   "metadata": {},
   "outputs": [
    {
     "data": {
      "text/html": [
       "<div>\n",
       "<style scoped>\n",
       "    .dataframe tbody tr th:only-of-type {\n",
       "        vertical-align: middle;\n",
       "    }\n",
       "\n",
       "    .dataframe tbody tr th {\n",
       "        vertical-align: top;\n",
       "    }\n",
       "\n",
       "    .dataframe thead th {\n",
       "        text-align: right;\n",
       "    }\n",
       "</style>\n",
       "<table border=\"1\" class=\"dataframe\">\n",
       "  <thead>\n",
       "    <tr style=\"text-align: right;\">\n",
       "      <th></th>\n",
       "      <th>1st Phase JP Nagar</th>\n",
       "      <th>2nd Phase Judicial Layout</th>\n",
       "      <th>2nd Stage Nagarbhavi</th>\n",
       "      <th>5th Block Hbr Layout</th>\n",
       "      <th>5th Phase JP Nagar</th>\n",
       "      <th>6th Phase JP Nagar</th>\n",
       "      <th>7th Phase JP Nagar</th>\n",
       "      <th>8th Phase JP Nagar</th>\n",
       "      <th>9th Phase JP Nagar</th>\n",
       "      <th>AECS Layout</th>\n",
       "      <th>...</th>\n",
       "      <th>Vishveshwarya Layout</th>\n",
       "      <th>Vishwapriya Layout</th>\n",
       "      <th>Vittasandra</th>\n",
       "      <th>Whitefield</th>\n",
       "      <th>Yelachenahalli</th>\n",
       "      <th>Yelahanka</th>\n",
       "      <th>Yelahanka New Town</th>\n",
       "      <th>Yelenahalli</th>\n",
       "      <th>Yeshwanthpur</th>\n",
       "      <th>other</th>\n",
       "    </tr>\n",
       "  </thead>\n",
       "  <tbody>\n",
       "    <tr>\n",
       "      <th>0</th>\n",
       "      <td>0</td>\n",
       "      <td>0</td>\n",
       "      <td>0</td>\n",
       "      <td>0</td>\n",
       "      <td>0</td>\n",
       "      <td>0</td>\n",
       "      <td>0</td>\n",
       "      <td>0</td>\n",
       "      <td>0</td>\n",
       "      <td>0</td>\n",
       "      <td>...</td>\n",
       "      <td>0</td>\n",
       "      <td>0</td>\n",
       "      <td>0</td>\n",
       "      <td>0</td>\n",
       "      <td>0</td>\n",
       "      <td>0</td>\n",
       "      <td>0</td>\n",
       "      <td>0</td>\n",
       "      <td>0</td>\n",
       "      <td>0</td>\n",
       "    </tr>\n",
       "    <tr>\n",
       "      <th>1</th>\n",
       "      <td>0</td>\n",
       "      <td>0</td>\n",
       "      <td>0</td>\n",
       "      <td>0</td>\n",
       "      <td>0</td>\n",
       "      <td>0</td>\n",
       "      <td>0</td>\n",
       "      <td>0</td>\n",
       "      <td>0</td>\n",
       "      <td>0</td>\n",
       "      <td>...</td>\n",
       "      <td>0</td>\n",
       "      <td>0</td>\n",
       "      <td>0</td>\n",
       "      <td>0</td>\n",
       "      <td>0</td>\n",
       "      <td>0</td>\n",
       "      <td>0</td>\n",
       "      <td>0</td>\n",
       "      <td>0</td>\n",
       "      <td>0</td>\n",
       "    </tr>\n",
       "    <tr>\n",
       "      <th>2</th>\n",
       "      <td>0</td>\n",
       "      <td>0</td>\n",
       "      <td>0</td>\n",
       "      <td>0</td>\n",
       "      <td>0</td>\n",
       "      <td>0</td>\n",
       "      <td>0</td>\n",
       "      <td>0</td>\n",
       "      <td>0</td>\n",
       "      <td>0</td>\n",
       "      <td>...</td>\n",
       "      <td>0</td>\n",
       "      <td>0</td>\n",
       "      <td>0</td>\n",
       "      <td>0</td>\n",
       "      <td>0</td>\n",
       "      <td>0</td>\n",
       "      <td>0</td>\n",
       "      <td>0</td>\n",
       "      <td>0</td>\n",
       "      <td>0</td>\n",
       "    </tr>\n",
       "  </tbody>\n",
       "</table>\n",
       "<p>3 rows × 241 columns</p>\n",
       "</div>"
      ],
      "text/plain": [
       "   1st Phase JP Nagar  2nd Phase Judicial Layout  2nd Stage Nagarbhavi  \\\n",
       "0                   0                          0                     0   \n",
       "1                   0                          0                     0   \n",
       "2                   0                          0                     0   \n",
       "\n",
       "   5th Block Hbr Layout  5th Phase JP Nagar  6th Phase JP Nagar  \\\n",
       "0                     0                   0                   0   \n",
       "1                     0                   0                   0   \n",
       "2                     0                   0                   0   \n",
       "\n",
       "   7th Phase JP Nagar  8th Phase JP Nagar  9th Phase JP Nagar  AECS Layout  \\\n",
       "0                   0                   0                   0            0   \n",
       "1                   0                   0                   0            0   \n",
       "2                   0                   0                   0            0   \n",
       "\n",
       "   ...  Vishveshwarya Layout  Vishwapriya Layout  Vittasandra  Whitefield  \\\n",
       "0  ...                     0                   0            0           0   \n",
       "1  ...                     0                   0            0           0   \n",
       "2  ...                     0                   0            0           0   \n",
       "\n",
       "   Yelachenahalli  Yelahanka  Yelahanka New Town  Yelenahalli  Yeshwanthpur  \\\n",
       "0               0          0                   0            0             0   \n",
       "1               0          0                   0            0             0   \n",
       "2               0          0                   0            0             0   \n",
       "\n",
       "   other  \n",
       "0      0  \n",
       "1      0  \n",
       "2      0  \n",
       "\n",
       "[3 rows x 241 columns]"
      ]
     },
     "execution_count": 60,
     "metadata": {},
     "output_type": "execute_result"
    }
   ],
   "source": [
    "dummies.head(3)"
   ]
  },
  {
   "cell_type": "code",
   "execution_count": 61,
   "metadata": {},
   "outputs": [],
   "source": [
    "data= pd.concat([data,dummies],axis=\"columns\")"
   ]
  },
  {
   "cell_type": "code",
   "execution_count": 62,
   "metadata": {},
   "outputs": [
    {
     "data": {
      "text/html": [
       "<div>\n",
       "<style scoped>\n",
       "    .dataframe tbody tr th:only-of-type {\n",
       "        vertical-align: middle;\n",
       "    }\n",
       "\n",
       "    .dataframe tbody tr th {\n",
       "        vertical-align: top;\n",
       "    }\n",
       "\n",
       "    .dataframe thead th {\n",
       "        text-align: right;\n",
       "    }\n",
       "</style>\n",
       "<table border=\"1\" class=\"dataframe\">\n",
       "  <thead>\n",
       "    <tr style=\"text-align: right;\">\n",
       "      <th></th>\n",
       "      <th>total_sqft</th>\n",
       "      <th>bath</th>\n",
       "      <th>balcony</th>\n",
       "      <th>price</th>\n",
       "      <th>bhk</th>\n",
       "      <th>price_per_sqft</th>\n",
       "      <th>1st Phase JP Nagar</th>\n",
       "      <th>2nd Phase Judicial Layout</th>\n",
       "      <th>2nd Stage Nagarbhavi</th>\n",
       "      <th>5th Block Hbr Layout</th>\n",
       "      <th>...</th>\n",
       "      <th>Vishveshwarya Layout</th>\n",
       "      <th>Vishwapriya Layout</th>\n",
       "      <th>Vittasandra</th>\n",
       "      <th>Whitefield</th>\n",
       "      <th>Yelachenahalli</th>\n",
       "      <th>Yelahanka</th>\n",
       "      <th>Yelahanka New Town</th>\n",
       "      <th>Yelenahalli</th>\n",
       "      <th>Yeshwanthpur</th>\n",
       "      <th>other</th>\n",
       "    </tr>\n",
       "  </thead>\n",
       "  <tbody>\n",
       "    <tr>\n",
       "      <th>0</th>\n",
       "      <td>2850.0</td>\n",
       "      <td>4.0</td>\n",
       "      <td>1.0</td>\n",
       "      <td>428.0</td>\n",
       "      <td>4</td>\n",
       "      <td>15017.543860</td>\n",
       "      <td>0</td>\n",
       "      <td>0</td>\n",
       "      <td>0</td>\n",
       "      <td>0</td>\n",
       "      <td>...</td>\n",
       "      <td>0</td>\n",
       "      <td>0</td>\n",
       "      <td>0</td>\n",
       "      <td>0</td>\n",
       "      <td>0</td>\n",
       "      <td>0</td>\n",
       "      <td>0</td>\n",
       "      <td>0</td>\n",
       "      <td>0</td>\n",
       "      <td>0</td>\n",
       "    </tr>\n",
       "    <tr>\n",
       "      <th>1</th>\n",
       "      <td>1630.0</td>\n",
       "      <td>3.0</td>\n",
       "      <td>2.0</td>\n",
       "      <td>194.0</td>\n",
       "      <td>3</td>\n",
       "      <td>11901.840491</td>\n",
       "      <td>0</td>\n",
       "      <td>0</td>\n",
       "      <td>0</td>\n",
       "      <td>0</td>\n",
       "      <td>...</td>\n",
       "      <td>0</td>\n",
       "      <td>0</td>\n",
       "      <td>0</td>\n",
       "      <td>0</td>\n",
       "      <td>0</td>\n",
       "      <td>0</td>\n",
       "      <td>0</td>\n",
       "      <td>0</td>\n",
       "      <td>0</td>\n",
       "      <td>0</td>\n",
       "    </tr>\n",
       "  </tbody>\n",
       "</table>\n",
       "<p>2 rows × 247 columns</p>\n",
       "</div>"
      ],
      "text/plain": [
       "   total_sqft  bath  balcony  price  bhk  price_per_sqft  1st Phase JP Nagar  \\\n",
       "0      2850.0   4.0      1.0  428.0    4    15017.543860                   0   \n",
       "1      1630.0   3.0      2.0  194.0    3    11901.840491                   0   \n",
       "\n",
       "   2nd Phase Judicial Layout  2nd Stage Nagarbhavi  5th Block Hbr Layout  ...  \\\n",
       "0                          0                     0                     0  ...   \n",
       "1                          0                     0                     0  ...   \n",
       "\n",
       "   Vishveshwarya Layout  Vishwapriya Layout  Vittasandra  Whitefield  \\\n",
       "0                     0                   0            0           0   \n",
       "1                     0                   0            0           0   \n",
       "\n",
       "   Yelachenahalli  Yelahanka  Yelahanka New Town  Yelenahalli  Yeshwanthpur  \\\n",
       "0               0          0                   0            0             0   \n",
       "1               0          0                   0            0             0   \n",
       "\n",
       "   other  \n",
       "0      0  \n",
       "1      0  \n",
       "\n",
       "[2 rows x 247 columns]"
      ]
     },
     "execution_count": 62,
     "metadata": {},
     "output_type": "execute_result"
    }
   ],
   "source": [
    "data.drop(\"location\",axis=\"columns\",inplace=True)\n",
    "data.head(2)"
   ]
  },
  {
   "cell_type": "code",
   "execution_count": 63,
   "metadata": {},
   "outputs": [
    {
     "data": {
      "text/html": [
       "<div>\n",
       "<style scoped>\n",
       "    .dataframe tbody tr th:only-of-type {\n",
       "        vertical-align: middle;\n",
       "    }\n",
       "\n",
       "    .dataframe tbody tr th {\n",
       "        vertical-align: top;\n",
       "    }\n",
       "\n",
       "    .dataframe thead th {\n",
       "        text-align: right;\n",
       "    }\n",
       "</style>\n",
       "<table border=\"1\" class=\"dataframe\">\n",
       "  <thead>\n",
       "    <tr style=\"text-align: right;\">\n",
       "      <th></th>\n",
       "      <th>total_sqft</th>\n",
       "      <th>bath</th>\n",
       "      <th>balcony</th>\n",
       "      <th>price</th>\n",
       "      <th>bhk</th>\n",
       "      <th>1st Phase JP Nagar</th>\n",
       "      <th>2nd Phase Judicial Layout</th>\n",
       "      <th>2nd Stage Nagarbhavi</th>\n",
       "      <th>5th Block Hbr Layout</th>\n",
       "      <th>5th Phase JP Nagar</th>\n",
       "      <th>...</th>\n",
       "      <th>Vishveshwarya Layout</th>\n",
       "      <th>Vishwapriya Layout</th>\n",
       "      <th>Vittasandra</th>\n",
       "      <th>Whitefield</th>\n",
       "      <th>Yelachenahalli</th>\n",
       "      <th>Yelahanka</th>\n",
       "      <th>Yelahanka New Town</th>\n",
       "      <th>Yelenahalli</th>\n",
       "      <th>Yeshwanthpur</th>\n",
       "      <th>other</th>\n",
       "    </tr>\n",
       "  </thead>\n",
       "  <tbody>\n",
       "    <tr>\n",
       "      <th>0</th>\n",
       "      <td>2850.0</td>\n",
       "      <td>4.0</td>\n",
       "      <td>1.0</td>\n",
       "      <td>428.0</td>\n",
       "      <td>4</td>\n",
       "      <td>0</td>\n",
       "      <td>0</td>\n",
       "      <td>0</td>\n",
       "      <td>0</td>\n",
       "      <td>0</td>\n",
       "      <td>...</td>\n",
       "      <td>0</td>\n",
       "      <td>0</td>\n",
       "      <td>0</td>\n",
       "      <td>0</td>\n",
       "      <td>0</td>\n",
       "      <td>0</td>\n",
       "      <td>0</td>\n",
       "      <td>0</td>\n",
       "      <td>0</td>\n",
       "      <td>0</td>\n",
       "    </tr>\n",
       "    <tr>\n",
       "      <th>1</th>\n",
       "      <td>1630.0</td>\n",
       "      <td>3.0</td>\n",
       "      <td>2.0</td>\n",
       "      <td>194.0</td>\n",
       "      <td>3</td>\n",
       "      <td>0</td>\n",
       "      <td>0</td>\n",
       "      <td>0</td>\n",
       "      <td>0</td>\n",
       "      <td>0</td>\n",
       "      <td>...</td>\n",
       "      <td>0</td>\n",
       "      <td>0</td>\n",
       "      <td>0</td>\n",
       "      <td>0</td>\n",
       "      <td>0</td>\n",
       "      <td>0</td>\n",
       "      <td>0</td>\n",
       "      <td>0</td>\n",
       "      <td>0</td>\n",
       "      <td>0</td>\n",
       "    </tr>\n",
       "    <tr>\n",
       "      <th>2</th>\n",
       "      <td>1875.0</td>\n",
       "      <td>2.0</td>\n",
       "      <td>3.0</td>\n",
       "      <td>235.0</td>\n",
       "      <td>3</td>\n",
       "      <td>0</td>\n",
       "      <td>0</td>\n",
       "      <td>0</td>\n",
       "      <td>0</td>\n",
       "      <td>0</td>\n",
       "      <td>...</td>\n",
       "      <td>0</td>\n",
       "      <td>0</td>\n",
       "      <td>0</td>\n",
       "      <td>0</td>\n",
       "      <td>0</td>\n",
       "      <td>0</td>\n",
       "      <td>0</td>\n",
       "      <td>0</td>\n",
       "      <td>0</td>\n",
       "      <td>0</td>\n",
       "    </tr>\n",
       "    <tr>\n",
       "      <th>3</th>\n",
       "      <td>1200.0</td>\n",
       "      <td>2.0</td>\n",
       "      <td>0.0</td>\n",
       "      <td>130.0</td>\n",
       "      <td>3</td>\n",
       "      <td>0</td>\n",
       "      <td>0</td>\n",
       "      <td>0</td>\n",
       "      <td>0</td>\n",
       "      <td>0</td>\n",
       "      <td>...</td>\n",
       "      <td>0</td>\n",
       "      <td>0</td>\n",
       "      <td>0</td>\n",
       "      <td>0</td>\n",
       "      <td>0</td>\n",
       "      <td>0</td>\n",
       "      <td>0</td>\n",
       "      <td>0</td>\n",
       "      <td>0</td>\n",
       "      <td>0</td>\n",
       "    </tr>\n",
       "    <tr>\n",
       "      <th>4</th>\n",
       "      <td>1235.0</td>\n",
       "      <td>2.0</td>\n",
       "      <td>2.0</td>\n",
       "      <td>148.0</td>\n",
       "      <td>2</td>\n",
       "      <td>0</td>\n",
       "      <td>0</td>\n",
       "      <td>0</td>\n",
       "      <td>0</td>\n",
       "      <td>0</td>\n",
       "      <td>...</td>\n",
       "      <td>0</td>\n",
       "      <td>0</td>\n",
       "      <td>0</td>\n",
       "      <td>0</td>\n",
       "      <td>0</td>\n",
       "      <td>0</td>\n",
       "      <td>0</td>\n",
       "      <td>0</td>\n",
       "      <td>0</td>\n",
       "      <td>0</td>\n",
       "    </tr>\n",
       "  </tbody>\n",
       "</table>\n",
       "<p>5 rows × 246 columns</p>\n",
       "</div>"
      ],
      "text/plain": [
       "   total_sqft  bath  balcony  price  bhk  1st Phase JP Nagar  \\\n",
       "0      2850.0   4.0      1.0  428.0    4                   0   \n",
       "1      1630.0   3.0      2.0  194.0    3                   0   \n",
       "2      1875.0   2.0      3.0  235.0    3                   0   \n",
       "3      1200.0   2.0      0.0  130.0    3                   0   \n",
       "4      1235.0   2.0      2.0  148.0    2                   0   \n",
       "\n",
       "   2nd Phase Judicial Layout  2nd Stage Nagarbhavi  5th Block Hbr Layout  \\\n",
       "0                          0                     0                     0   \n",
       "1                          0                     0                     0   \n",
       "2                          0                     0                     0   \n",
       "3                          0                     0                     0   \n",
       "4                          0                     0                     0   \n",
       "\n",
       "   5th Phase JP Nagar  ...  Vishveshwarya Layout  Vishwapriya Layout  \\\n",
       "0                   0  ...                     0                   0   \n",
       "1                   0  ...                     0                   0   \n",
       "2                   0  ...                     0                   0   \n",
       "3                   0  ...                     0                   0   \n",
       "4                   0  ...                     0                   0   \n",
       "\n",
       "   Vittasandra  Whitefield  Yelachenahalli  Yelahanka  Yelahanka New Town  \\\n",
       "0            0           0               0          0                   0   \n",
       "1            0           0               0          0                   0   \n",
       "2            0           0               0          0                   0   \n",
       "3            0           0               0          0                   0   \n",
       "4            0           0               0          0                   0   \n",
       "\n",
       "   Yelenahalli  Yeshwanthpur  other  \n",
       "0            0             0      0  \n",
       "1            0             0      0  \n",
       "2            0             0      0  \n",
       "3            0             0      0  \n",
       "4            0             0      0  \n",
       "\n",
       "[5 rows x 246 columns]"
      ]
     },
     "execution_count": 63,
     "metadata": {},
     "output_type": "execute_result"
    }
   ],
   "source": [
    "data.drop(\"price_per_sqft\",axis=\"columns\",inplace=True)\n",
    "data.head()"
   ]
  },
  {
   "cell_type": "code",
   "execution_count": 64,
   "metadata": {},
   "outputs": [
    {
     "data": {
      "text/plain": [
       "(7275, 246)"
      ]
     },
     "execution_count": 64,
     "metadata": {},
     "output_type": "execute_result"
    }
   ],
   "source": [
    "data.shape"
   ]
  },
  {
   "cell_type": "code",
   "execution_count": 65,
   "metadata": {},
   "outputs": [],
   "source": [
    "X= data.drop(\"price\",axis=\"columns\")"
   ]
  },
  {
   "cell_type": "code",
   "execution_count": 66,
   "metadata": {},
   "outputs": [
    {
     "data": {
      "text/html": [
       "<div>\n",
       "<style scoped>\n",
       "    .dataframe tbody tr th:only-of-type {\n",
       "        vertical-align: middle;\n",
       "    }\n",
       "\n",
       "    .dataframe tbody tr th {\n",
       "        vertical-align: top;\n",
       "    }\n",
       "\n",
       "    .dataframe thead th {\n",
       "        text-align: right;\n",
       "    }\n",
       "</style>\n",
       "<table border=\"1\" class=\"dataframe\">\n",
       "  <thead>\n",
       "    <tr style=\"text-align: right;\">\n",
       "      <th></th>\n",
       "      <th>total_sqft</th>\n",
       "      <th>bath</th>\n",
       "      <th>balcony</th>\n",
       "      <th>bhk</th>\n",
       "      <th>1st Phase JP Nagar</th>\n",
       "      <th>2nd Phase Judicial Layout</th>\n",
       "      <th>2nd Stage Nagarbhavi</th>\n",
       "      <th>5th Block Hbr Layout</th>\n",
       "      <th>5th Phase JP Nagar</th>\n",
       "      <th>6th Phase JP Nagar</th>\n",
       "      <th>...</th>\n",
       "      <th>Vishveshwarya Layout</th>\n",
       "      <th>Vishwapriya Layout</th>\n",
       "      <th>Vittasandra</th>\n",
       "      <th>Whitefield</th>\n",
       "      <th>Yelachenahalli</th>\n",
       "      <th>Yelahanka</th>\n",
       "      <th>Yelahanka New Town</th>\n",
       "      <th>Yelenahalli</th>\n",
       "      <th>Yeshwanthpur</th>\n",
       "      <th>other</th>\n",
       "    </tr>\n",
       "  </thead>\n",
       "  <tbody>\n",
       "    <tr>\n",
       "      <th>0</th>\n",
       "      <td>2850.0</td>\n",
       "      <td>4.0</td>\n",
       "      <td>1.0</td>\n",
       "      <td>4</td>\n",
       "      <td>0</td>\n",
       "      <td>0</td>\n",
       "      <td>0</td>\n",
       "      <td>0</td>\n",
       "      <td>0</td>\n",
       "      <td>0</td>\n",
       "      <td>...</td>\n",
       "      <td>0</td>\n",
       "      <td>0</td>\n",
       "      <td>0</td>\n",
       "      <td>0</td>\n",
       "      <td>0</td>\n",
       "      <td>0</td>\n",
       "      <td>0</td>\n",
       "      <td>0</td>\n",
       "      <td>0</td>\n",
       "      <td>0</td>\n",
       "    </tr>\n",
       "    <tr>\n",
       "      <th>1</th>\n",
       "      <td>1630.0</td>\n",
       "      <td>3.0</td>\n",
       "      <td>2.0</td>\n",
       "      <td>3</td>\n",
       "      <td>0</td>\n",
       "      <td>0</td>\n",
       "      <td>0</td>\n",
       "      <td>0</td>\n",
       "      <td>0</td>\n",
       "      <td>0</td>\n",
       "      <td>...</td>\n",
       "      <td>0</td>\n",
       "      <td>0</td>\n",
       "      <td>0</td>\n",
       "      <td>0</td>\n",
       "      <td>0</td>\n",
       "      <td>0</td>\n",
       "      <td>0</td>\n",
       "      <td>0</td>\n",
       "      <td>0</td>\n",
       "      <td>0</td>\n",
       "    </tr>\n",
       "    <tr>\n",
       "      <th>2</th>\n",
       "      <td>1875.0</td>\n",
       "      <td>2.0</td>\n",
       "      <td>3.0</td>\n",
       "      <td>3</td>\n",
       "      <td>0</td>\n",
       "      <td>0</td>\n",
       "      <td>0</td>\n",
       "      <td>0</td>\n",
       "      <td>0</td>\n",
       "      <td>0</td>\n",
       "      <td>...</td>\n",
       "      <td>0</td>\n",
       "      <td>0</td>\n",
       "      <td>0</td>\n",
       "      <td>0</td>\n",
       "      <td>0</td>\n",
       "      <td>0</td>\n",
       "      <td>0</td>\n",
       "      <td>0</td>\n",
       "      <td>0</td>\n",
       "      <td>0</td>\n",
       "    </tr>\n",
       "    <tr>\n",
       "      <th>3</th>\n",
       "      <td>1200.0</td>\n",
       "      <td>2.0</td>\n",
       "      <td>0.0</td>\n",
       "      <td>3</td>\n",
       "      <td>0</td>\n",
       "      <td>0</td>\n",
       "      <td>0</td>\n",
       "      <td>0</td>\n",
       "      <td>0</td>\n",
       "      <td>0</td>\n",
       "      <td>...</td>\n",
       "      <td>0</td>\n",
       "      <td>0</td>\n",
       "      <td>0</td>\n",
       "      <td>0</td>\n",
       "      <td>0</td>\n",
       "      <td>0</td>\n",
       "      <td>0</td>\n",
       "      <td>0</td>\n",
       "      <td>0</td>\n",
       "      <td>0</td>\n",
       "    </tr>\n",
       "    <tr>\n",
       "      <th>4</th>\n",
       "      <td>1235.0</td>\n",
       "      <td>2.0</td>\n",
       "      <td>2.0</td>\n",
       "      <td>2</td>\n",
       "      <td>0</td>\n",
       "      <td>0</td>\n",
       "      <td>0</td>\n",
       "      <td>0</td>\n",
       "      <td>0</td>\n",
       "      <td>0</td>\n",
       "      <td>...</td>\n",
       "      <td>0</td>\n",
       "      <td>0</td>\n",
       "      <td>0</td>\n",
       "      <td>0</td>\n",
       "      <td>0</td>\n",
       "      <td>0</td>\n",
       "      <td>0</td>\n",
       "      <td>0</td>\n",
       "      <td>0</td>\n",
       "      <td>0</td>\n",
       "    </tr>\n",
       "  </tbody>\n",
       "</table>\n",
       "<p>5 rows × 245 columns</p>\n",
       "</div>"
      ],
      "text/plain": [
       "   total_sqft  bath  balcony  bhk  1st Phase JP Nagar  \\\n",
       "0      2850.0   4.0      1.0    4                   0   \n",
       "1      1630.0   3.0      2.0    3                   0   \n",
       "2      1875.0   2.0      3.0    3                   0   \n",
       "3      1200.0   2.0      0.0    3                   0   \n",
       "4      1235.0   2.0      2.0    2                   0   \n",
       "\n",
       "   2nd Phase Judicial Layout  2nd Stage Nagarbhavi  5th Block Hbr Layout  \\\n",
       "0                          0                     0                     0   \n",
       "1                          0                     0                     0   \n",
       "2                          0                     0                     0   \n",
       "3                          0                     0                     0   \n",
       "4                          0                     0                     0   \n",
       "\n",
       "   5th Phase JP Nagar  6th Phase JP Nagar  ...  Vishveshwarya Layout  \\\n",
       "0                   0                   0  ...                     0   \n",
       "1                   0                   0  ...                     0   \n",
       "2                   0                   0  ...                     0   \n",
       "3                   0                   0  ...                     0   \n",
       "4                   0                   0  ...                     0   \n",
       "\n",
       "   Vishwapriya Layout  Vittasandra  Whitefield  Yelachenahalli  Yelahanka  \\\n",
       "0                   0            0           0               0          0   \n",
       "1                   0            0           0               0          0   \n",
       "2                   0            0           0               0          0   \n",
       "3                   0            0           0               0          0   \n",
       "4                   0            0           0               0          0   \n",
       "\n",
       "   Yelahanka New Town  Yelenahalli  Yeshwanthpur  other  \n",
       "0                   0            0             0      0  \n",
       "1                   0            0             0      0  \n",
       "2                   0            0             0      0  \n",
       "3                   0            0             0      0  \n",
       "4                   0            0             0      0  \n",
       "\n",
       "[5 rows x 245 columns]"
      ]
     },
     "execution_count": 66,
     "metadata": {},
     "output_type": "execute_result"
    }
   ],
   "source": [
    "X.head()"
   ]
  },
  {
   "cell_type": "code",
   "execution_count": 67,
   "metadata": {},
   "outputs": [
    {
     "data": {
      "text/plain": [
       "0    428.0\n",
       "1    194.0\n",
       "2    235.0\n",
       "3    130.0\n",
       "4    148.0\n",
       "Name: price, dtype: float64"
      ]
     },
     "execution_count": 67,
     "metadata": {},
     "output_type": "execute_result"
    }
   ],
   "source": [
    "y= data.price\n",
    "y.head()"
   ]
  },
  {
   "cell_type": "code",
   "execution_count": 68,
   "metadata": {},
   "outputs": [],
   "source": [
    "from sklearn.model_selection import train_test_split\n",
    "X_train,X_test,y_train,y_test= train_test_split(X,y,test_size=0.2,random_state=0)"
   ]
  },
  {
   "cell_type": "code",
   "execution_count": 69,
   "metadata": {},
   "outputs": [
    {
     "data": {
      "text/plain": [
       "(5820, 245)"
      ]
     },
     "execution_count": 69,
     "metadata": {},
     "output_type": "execute_result"
    }
   ],
   "source": [
    "X_train.shape"
   ]
  },
  {
   "cell_type": "code",
   "execution_count": 70,
   "metadata": {},
   "outputs": [
    {
     "data": {
      "text/plain": [
       "LinearRegression(copy_X=True, fit_intercept=True, n_jobs=None, normalize=False)"
      ]
     },
     "execution_count": 70,
     "metadata": {},
     "output_type": "execute_result"
    }
   ],
   "source": [
    "from sklearn.linear_model import LinearRegression\n",
    "lr= LinearRegression()\n",
    "lr.fit(X_train,y_train)"
   ]
  },
  {
   "cell_type": "code",
   "execution_count": 71,
   "metadata": {},
   "outputs": [
    {
     "name": "stdout",
     "output_type": "stream",
     "text": [
      "Validation Accuracy : 80.6939122791125\n",
      "Training Accuracy : 86.5872005272463\n"
     ]
    }
   ],
   "source": [
    "print(\"Validation Accuracy : {}\".format(lr.score(X_test,y_test)*100))\n",
    "print(\"Training Accuracy : {}\".format(lr.score(X_train,y_train)*100))"
   ]
  },
  {
   "cell_type": "code",
   "execution_count": 72,
   "metadata": {},
   "outputs": [],
   "source": [
    "from sklearn.model_selection import ShuffleSplit\n",
    "from sklearn.model_selection import cross_val_score"
   ]
  },
  {
   "cell_type": "code",
   "execution_count": 73,
   "metadata": {},
   "outputs": [],
   "source": [
    "cv= ShuffleSplit(n_splits=5,test_size=0.2,random_state=0)"
   ]
  },
  {
   "cell_type": "code",
   "execution_count": 74,
   "metadata": {},
   "outputs": [],
   "source": [
    "a=cross_val_score(LinearRegression(),X,y,cv=cv)"
   ]
  },
  {
   "cell_type": "code",
   "execution_count": 75,
   "metadata": {},
   "outputs": [
    {
     "data": {
      "text/plain": [
       "array([0.80693912, 0.7720927 , 0.86462327, 0.83536095, 0.81809933])"
      ]
     },
     "execution_count": 75,
     "metadata": {},
     "output_type": "execute_result"
    }
   ],
   "source": [
    "a"
   ]
  },
  {
   "cell_type": "code",
   "execution_count": 76,
   "metadata": {},
   "outputs": [
    {
     "data": {
      "text/plain": [
       "0.8194230754379991"
      ]
     },
     "execution_count": 76,
     "metadata": {},
     "output_type": "execute_result"
    }
   ],
   "source": [
    "np.mean(a)"
   ]
  },
  {
   "cell_type": "code",
   "execution_count": 77,
   "metadata": {},
   "outputs": [],
   "source": [
    "from sklearn.linear_model import Lasso\n",
    "from sklearn.model_selection import GridSearchCV\n",
    "from sklearn.tree import DecisionTreeRegressor\n",
    "from sklearn.ensemble import RandomForestRegressor\n",
    "import xgboost"
   ]
  },
  {
   "cell_type": "code",
   "execution_count": 78,
   "metadata": {},
   "outputs": [
    {
     "data": {
      "text/html": [
       "<div>\n",
       "<style scoped>\n",
       "    .dataframe tbody tr th:only-of-type {\n",
       "        vertical-align: middle;\n",
       "    }\n",
       "\n",
       "    .dataframe tbody tr th {\n",
       "        vertical-align: top;\n",
       "    }\n",
       "\n",
       "    .dataframe thead th {\n",
       "        text-align: right;\n",
       "    }\n",
       "</style>\n",
       "<table border=\"1\" class=\"dataframe\">\n",
       "  <thead>\n",
       "    <tr style=\"text-align: right;\">\n",
       "      <th></th>\n",
       "      <th>model</th>\n",
       "      <th>best_score</th>\n",
       "      <th>best_params</th>\n",
       "    </tr>\n",
       "  </thead>\n",
       "  <tbody>\n",
       "    <tr>\n",
       "      <th>0</th>\n",
       "      <td>linear_regression</td>\n",
       "      <td>0.819423</td>\n",
       "      <td>{'normalize': False}</td>\n",
       "    </tr>\n",
       "    <tr>\n",
       "      <th>1</th>\n",
       "      <td>lasso</td>\n",
       "      <td>0.690079</td>\n",
       "      <td>{'alpha': 1, 'selection': 'random'}</td>\n",
       "    </tr>\n",
       "    <tr>\n",
       "      <th>2</th>\n",
       "      <td>decision_tree</td>\n",
       "      <td>0.741252</td>\n",
       "      <td>{'criterion': 'friedman_mse', 'splitter': 'best'}</td>\n",
       "    </tr>\n",
       "  </tbody>\n",
       "</table>\n",
       "</div>"
      ],
      "text/plain": [
       "               model  best_score  \\\n",
       "0  linear_regression    0.819423   \n",
       "1              lasso    0.690079   \n",
       "2      decision_tree    0.741252   \n",
       "\n",
       "                                         best_params  \n",
       "0                               {'normalize': False}  \n",
       "1                {'alpha': 1, 'selection': 'random'}  \n",
       "2  {'criterion': 'friedman_mse', 'splitter': 'best'}  "
      ]
     },
     "execution_count": 78,
     "metadata": {},
     "output_type": "execute_result"
    }
   ],
   "source": [
    "def find_best_model(X,y):\n",
    "    algos= {\n",
    "        \"linear_regression\": {\n",
    "            \"model\": LinearRegression(),\n",
    "            \"params\": {\n",
    "                \"normalize\": [True,False]\n",
    "            }\n",
    "        },\n",
    "        \"lasso\":{\n",
    "            \"model\": Lasso(),\n",
    "            \"params\": {\n",
    "                \"alpha\":[1,2],\n",
    "                \"selection\":[\"random\",\"cyclic\"]\n",
    "            }\n",
    "        },\n",
    "        \"decision_tree\":{\n",
    "            \"model\": DecisionTreeRegressor(),\n",
    "            \"params\": {\n",
    "                \"criterion\":[\"mse\",\"friedman_mse\"],\n",
    "                \"splitter\": [\"best\",\"random\"]\n",
    "            }\n",
    "        }\n",
    "    }\n",
    "    \n",
    "    scores= []\n",
    "    cv= ShuffleSplit(n_splits=5,test_size=0.2,random_state=0)\n",
    "    for algo_name,config in algos.items():\n",
    "        gs= GridSearchCV(config[\"model\"],config[\"params\"],cv=cv,return_train_score=False)\n",
    "        gs.fit(X,y)\n",
    "        scores.append({\n",
    "            \"model\":algo_name,\n",
    "            \"best_score\": gs.best_score_,\n",
    "            \"best_params\": gs.best_params_\n",
    "        })\n",
    "    return pd.DataFrame(scores,columns= [\"model\",\"best_score\",\"best_params\"])   \n",
    "\n",
    "find_best_model(X,y)"
   ]
  },
  {
   "cell_type": "markdown",
   "metadata": {},
   "source": [
    "# XGBoost"
   ]
  },
  {
   "cell_type": "code",
   "execution_count": 79,
   "metadata": {},
   "outputs": [],
   "source": [
    "xg= xgboost.XGBRegressor()"
   ]
  },
  {
   "cell_type": "code",
   "execution_count": 81,
   "metadata": {},
   "outputs": [],
   "source": [
    "cv= ShuffleSplit(n_splits=5,test_size=0.2,random_state=0)"
   ]
  },
  {
   "cell_type": "code",
   "execution_count": 83,
   "metadata": {},
   "outputs": [],
   "source": [
    "b= cross_val_score(xg,X,y,cv=cv,n_jobs=4,verbose=0)"
   ]
  },
  {
   "cell_type": "code",
   "execution_count": 84,
   "metadata": {},
   "outputs": [
    {
     "data": {
      "text/plain": [
       "0.7889997339263616"
      ]
     },
     "execution_count": 84,
     "metadata": {},
     "output_type": "execute_result"
    }
   ],
   "source": [
    "np.mean(b)"
   ]
  },
  {
   "cell_type": "markdown",
   "metadata": {},
   "source": [
    "# Random Forest "
   ]
  },
  {
   "cell_type": "code",
   "execution_count": 85,
   "metadata": {},
   "outputs": [],
   "source": [
    "c= cross_val_score(RandomForestRegressor(),X,y,cv=cv,n_jobs=-1,verbose=0)"
   ]
  },
  {
   "cell_type": "code",
   "execution_count": 86,
   "metadata": {},
   "outputs": [
    {
     "data": {
      "text/plain": [
       "0.7848025193102239"
      ]
     },
     "execution_count": 86,
     "metadata": {},
     "output_type": "execute_result"
    }
   ],
   "source": [
    "np.mean(c)"
   ]
  },
  {
   "cell_type": "markdown",
   "metadata": {},
   "source": [
    "# Neural Network"
   ]
  },
  {
   "cell_type": "code",
   "execution_count": 88,
   "metadata": {},
   "outputs": [],
   "source": [
    "import tensorflow as tf\n",
    "from tensorflow import keras\n",
    "from tensorflow.keras import Sequential\n",
    "from tensorflow.keras.layers import Dense, Flatten"
   ]
  },
  {
   "cell_type": "code",
   "execution_count": 92,
   "metadata": {},
   "outputs": [],
   "source": [
    "model= Sequential()\n",
    "model.add(Dense(16, activation=\"relu\",kernel_initializer=\"he_uniform\",input_dim=245))\n",
    "model.add(Dense(16,activation=\"relu\",kernel_initializer=\"he_uniform\"))\n",
    "model.add(Dense(1,kernel_initializer=\"he_uniform\"))"
   ]
  },
  {
   "cell_type": "code",
   "execution_count": 93,
   "metadata": {},
   "outputs": [],
   "source": [
    "model.compile(loss=\"mean_squared_error\",optimizer=\"adam\",metrics=[\"mae\"])"
   ]
  },
  {
   "cell_type": "code",
   "execution_count": 95,
   "metadata": {},
   "outputs": [
    {
     "name": "stdout",
     "output_type": "stream",
     "text": [
      "Epoch 1/300\n",
      "5820/5820 [==============================] - 0s 81us/sample - loss: 1742.6827 - mean_absolute_error: 21.0528\n",
      "Epoch 2/300\n",
      "5820/5820 [==============================] - 0s 79us/sample - loss: 1748.0564 - mean_absolute_error: 20.6079\n",
      "Epoch 3/300\n",
      "5820/5820 [==============================] - 0s 81us/sample - loss: 1728.5833 - mean_absolute_error: 21.0180\n",
      "Epoch 4/300\n",
      "5820/5820 [==============================] - 0s 78us/sample - loss: 1694.4996 - mean_absolute_error: 20.9166\n",
      "Epoch 5/300\n",
      "5820/5820 [==============================] - 0s 76us/sample - loss: 1697.0206 - mean_absolute_error: 20.3512\n",
      "Epoch 6/300\n",
      "5820/5820 [==============================] - 0s 81us/sample - loss: 1689.7204 - mean_absolute_error: 20.7063\n",
      "Epoch 7/300\n",
      "5820/5820 [==============================] - 0s 77us/sample - loss: 1623.0166 - mean_absolute_error: 19.8869\n",
      "Epoch 8/300\n",
      "5820/5820 [==============================] - 0s 77us/sample - loss: 1695.1009 - mean_absolute_error: 20.7345\n",
      "Epoch 9/300\n",
      "5820/5820 [==============================] - 0s 76us/sample - loss: 1659.5080 - mean_absolute_error: 19.8493\n",
      "Epoch 10/300\n",
      "5820/5820 [==============================] - 0s 73us/sample - loss: 1696.9369 - mean_absolute_error: 20.7948\n",
      "Epoch 11/300\n",
      "5820/5820 [==============================] - 0s 81us/sample - loss: 1763.4093 - mean_absolute_error: 21.0690\n",
      "Epoch 12/300\n",
      "5820/5820 [==============================] - 0s 75us/sample - loss: 1776.1257 - mean_absolute_error: 20.7033\n",
      "Epoch 13/300\n",
      "5820/5820 [==============================] - 0s 79us/sample - loss: 1661.1723 - mean_absolute_error: 20.4870\n",
      "Epoch 14/300\n",
      "5820/5820 [==============================] - 0s 75us/sample - loss: 1688.5314 - mean_absolute_error: 20.4852\n",
      "Epoch 15/300\n",
      "5820/5820 [==============================] - 0s 80us/sample - loss: 1594.8780 - mean_absolute_error: 19.5231\n",
      "Epoch 16/300\n",
      "5820/5820 [==============================] - 0s 79us/sample - loss: 1647.6027 - mean_absolute_error: 20.9892\n",
      "Epoch 17/300\n",
      "5820/5820 [==============================] - 0s 78us/sample - loss: 1707.8972 - mean_absolute_error: 20.6036\n",
      "Epoch 18/300\n",
      "5820/5820 [==============================] - 0s 82us/sample - loss: 1764.8547 - mean_absolute_error: 21.5530\n",
      "Epoch 19/300\n",
      "5820/5820 [==============================] - 0s 75us/sample - loss: 1749.1032 - mean_absolute_error: 21.3726\n",
      "Epoch 20/300\n",
      "5820/5820 [==============================] - 0s 82us/sample - loss: 1658.4367 - mean_absolute_error: 20.9079\n",
      "Epoch 21/300\n",
      "5820/5820 [==============================] - 0s 77us/sample - loss: 1710.3885 - mean_absolute_error: 21.1706\n",
      "Epoch 22/300\n",
      "5820/5820 [==============================] - 0s 80us/sample - loss: 1640.4322 - mean_absolute_error: 19.7913\n",
      "Epoch 23/300\n",
      "5820/5820 [==============================] - 0s 81us/sample - loss: 1860.8053 - mean_absolute_error: 22.4953\n",
      "Epoch 24/300\n",
      "5820/5820 [==============================] - 0s 75us/sample - loss: 1615.2515 - mean_absolute_error: 20.0413\n",
      "Epoch 25/300\n",
      "5820/5820 [==============================] - 0s 82us/sample - loss: 1661.9243 - mean_absolute_error: 20.7790\n",
      "Epoch 26/300\n",
      "5820/5820 [==============================] - 0s 75us/sample - loss: 1564.1733 - mean_absolute_error: 20.2639\n",
      "Epoch 27/300\n",
      "5820/5820 [==============================] - 0s 82us/sample - loss: 1605.9964 - mean_absolute_error: 20.0958\n",
      "Epoch 28/300\n",
      "5820/5820 [==============================] - 0s 78us/sample - loss: 1692.5184 - mean_absolute_error: 20.8114\n",
      "Epoch 29/300\n",
      "5820/5820 [==============================] - 0s 81us/sample - loss: 1636.0133 - mean_absolute_error: 20.4050\n",
      "Epoch 30/300\n",
      "5820/5820 [==============================] - 0s 80us/sample - loss: 1724.8681 - mean_absolute_error: 20.6085\n",
      "Epoch 31/300\n",
      "5820/5820 [==============================] - 0s 76us/sample - loss: 1604.5089 - mean_absolute_error: 20.1689\n",
      "Epoch 32/300\n",
      "5820/5820 [==============================] - 0s 79us/sample - loss: 1534.5011 - mean_absolute_error: 19.5123\n",
      "Epoch 33/300\n",
      "5820/5820 [==============================] - 0s 79us/sample - loss: 1553.9958 - mean_absolute_error: 20.0410\n",
      "Epoch 34/300\n",
      "5820/5820 [==============================] - 0s 83us/sample - loss: 1513.2476 - mean_absolute_error: 19.5669\n",
      "Epoch 35/300\n",
      "5820/5820 [==============================] - 0s 78us/sample - loss: 1600.3741 - mean_absolute_error: 20.0706\n",
      "Epoch 36/300\n",
      "5820/5820 [==============================] - 0s 78us/sample - loss: 1779.8907 - mean_absolute_error: 21.9926\n",
      "Epoch 37/300\n",
      "5820/5820 [==============================] - 0s 82us/sample - loss: 1583.7198 - mean_absolute_error: 19.4139\n",
      "Epoch 38/300\n",
      "5820/5820 [==============================] - 0s 78us/sample - loss: 1503.0053 - mean_absolute_error: 19.2747\n",
      "Epoch 39/300\n",
      "5820/5820 [==============================] - 0s 85us/sample - loss: 1689.1821 - mean_absolute_error: 20.9380\n",
      "Epoch 40/300\n",
      "5820/5820 [==============================] - 0s 72us/sample - loss: 1627.8228 - mean_absolute_error: 20.5752\n",
      "Epoch 41/300\n",
      "5820/5820 [==============================] - 0s 77us/sample - loss: 1727.6332 - mean_absolute_error: 20.8199\n",
      "Epoch 42/300\n",
      "5820/5820 [==============================] - 0s 77us/sample - loss: 1613.3428 - mean_absolute_error: 20.5616\n",
      "Epoch 43/300\n",
      "5820/5820 [==============================] - 0s 79us/sample - loss: 1645.5716 - mean_absolute_error: 20.7092\n",
      "Epoch 44/300\n",
      "5820/5820 [==============================] - 0s 79us/sample - loss: 1489.1724 - mean_absolute_error: 19.1214\n",
      "Epoch 45/300\n",
      "5820/5820 [==============================] - 0s 75us/sample - loss: 1634.0054 - mean_absolute_error: 19.3924\n",
      "Epoch 46/300\n",
      "5820/5820 [==============================] - 0s 78us/sample - loss: 1978.8533 - mean_absolute_error: 22.9279\n",
      "Epoch 47/300\n",
      "5820/5820 [==============================] - 0s 76us/sample - loss: 1692.6158 - mean_absolute_error: 20.8500\n",
      "Epoch 48/300\n",
      "5820/5820 [==============================] - 0s 80us/sample - loss: 1569.4721 - mean_absolute_error: 19.6901\n",
      "Epoch 49/300\n",
      "5820/5820 [==============================] - 0s 83us/sample - loss: 1695.7678 - mean_absolute_error: 20.0649\n",
      "Epoch 50/300\n",
      "5820/5820 [==============================] - 0s 79us/sample - loss: 1728.4314 - mean_absolute_error: 20.9113\n",
      "Epoch 51/300\n",
      "5820/5820 [==============================] - 0s 81us/sample - loss: 1558.2796 - mean_absolute_error: 19.5526\n",
      "Epoch 52/300\n",
      "5820/5820 [==============================] - 0s 75us/sample - loss: 1485.6194 - mean_absolute_error: 19.0741\n",
      "Epoch 53/300\n",
      "5820/5820 [==============================] - 0s 81us/sample - loss: 1449.4934 - mean_absolute_error: 18.6924\n",
      "Epoch 54/300\n",
      "5820/5820 [==============================] - 0s 81us/sample - loss: 1641.0831 - mean_absolute_error: 20.4644\n",
      "Epoch 55/300\n",
      "5820/5820 [==============================] - 0s 81us/sample - loss: 1534.8869 - mean_absolute_error: 19.7964\n",
      "Epoch 56/300\n",
      "5820/5820 [==============================] - 0s 80us/sample - loss: 1413.8986 - mean_absolute_error: 19.0302\n",
      "Epoch 57/300\n",
      "5820/5820 [==============================] - 0s 79us/sample - loss: 1560.2913 - mean_absolute_error: 19.1022\n",
      "Epoch 58/300\n",
      "5820/5820 [==============================] - 0s 79us/sample - loss: 1548.6428 - mean_absolute_error: 20.3001\n",
      "Epoch 59/300\n",
      "5820/5820 [==============================] - 0s 72us/sample - loss: 1353.4762 - mean_absolute_error: 18.5569\n",
      "Epoch 60/300\n",
      "5820/5820 [==============================] - 0s 80us/sample - loss: 1720.6690 - mean_absolute_error: 21.4231\n",
      "Epoch 61/300\n",
      "5820/5820 [==============================] - 0s 71us/sample - loss: 1475.2863 - mean_absolute_error: 19.3973\n",
      "Epoch 62/300\n",
      "5820/5820 [==============================] - 0s 77us/sample - loss: 1460.4440 - mean_absolute_error: 19.5147\n",
      "Epoch 63/300\n",
      "5820/5820 [==============================] - 0s 79us/sample - loss: 1654.7912 - mean_absolute_error: 20.7456\n",
      "Epoch 64/300\n",
      "5820/5820 [==============================] - 0s 76us/sample - loss: 1573.4745 - mean_absolute_error: 19.1330\n",
      "Epoch 65/300\n",
      "5820/5820 [==============================] - 0s 80us/sample - loss: 1491.1469 - mean_absolute_error: 19.0396\n",
      "Epoch 66/300\n",
      "5820/5820 [==============================] - 0s 74us/sample - loss: 1733.7074 - mean_absolute_error: 20.3633\n",
      "Epoch 67/300\n",
      "5820/5820 [==============================] - 0s 78us/sample - loss: 1489.2786 - mean_absolute_error: 19.2820\n",
      "Epoch 68/300\n"
     ]
    },
    {
     "name": "stdout",
     "output_type": "stream",
     "text": [
      "5820/5820 [==============================] - ETA: 0s - loss: 1455.6397 - mean_absolute_error: 18.708 - 0s 75us/sample - loss: 1458.5974 - mean_absolute_error: 18.8838\n",
      "Epoch 69/300\n",
      "5820/5820 [==============================] - 0s 79us/sample - loss: 1455.5066 - mean_absolute_error: 18.4711\n",
      "Epoch 70/300\n",
      "5820/5820 [==============================] - 0s 83us/sample - loss: 1370.3219 - mean_absolute_error: 18.5279\n",
      "Epoch 71/300\n",
      "5820/5820 [==============================] - 0s 75us/sample - loss: 1544.5085 - mean_absolute_error: 19.7233\n",
      "Epoch 72/300\n",
      "5820/5820 [==============================] - 0s 80us/sample - loss: 1460.8010 - mean_absolute_error: 19.3657\n",
      "Epoch 73/300\n",
      "5820/5820 [==============================] - 0s 78us/sample - loss: 1414.5263 - mean_absolute_error: 18.7985\n",
      "Epoch 74/300\n",
      "5820/5820 [==============================] - 0s 81us/sample - loss: 1527.6897 - mean_absolute_error: 19.2866\n",
      "Epoch 75/300\n",
      "5820/5820 [==============================] - 0s 77us/sample - loss: 1408.8289 - mean_absolute_error: 18.8260\n",
      "Epoch 76/300\n",
      "5820/5820 [==============================] - 0s 80us/sample - loss: 1491.6405 - mean_absolute_error: 19.5732\n",
      "Epoch 77/300\n",
      "5820/5820 [==============================] - 0s 81us/sample - loss: 1410.7420 - mean_absolute_error: 18.8763\n",
      "Epoch 78/300\n",
      "5820/5820 [==============================] - 0s 74us/sample - loss: 1448.7512 - mean_absolute_error: 18.8108\n",
      "Epoch 79/300\n",
      "5820/5820 [==============================] - 0s 80us/sample - loss: 1510.6166 - mean_absolute_error: 19.3374\n",
      "Epoch 80/300\n",
      "5820/5820 [==============================] - 0s 76us/sample - loss: 1419.1758 - mean_absolute_error: 19.0457\n",
      "Epoch 81/300\n",
      "5820/5820 [==============================] - 0s 79us/sample - loss: 1688.8660 - mean_absolute_error: 21.4150\n",
      "Epoch 82/300\n",
      "5820/5820 [==============================] - 0s 76us/sample - loss: 1654.8038 - mean_absolute_error: 20.4184\n",
      "Epoch 83/300\n",
      "5820/5820 [==============================] - 0s 78us/sample - loss: 1514.9681 - mean_absolute_error: 19.9435\n",
      "Epoch 84/300\n",
      "5820/5820 [==============================] - 0s 78us/sample - loss: 1407.6263 - mean_absolute_error: 19.0745\n",
      "Epoch 85/300\n",
      "5820/5820 [==============================] - 0s 77us/sample - loss: 1574.5133 - mean_absolute_error: 20.3549\n",
      "Epoch 86/300\n",
      "5820/5820 [==============================] - 0s 80us/sample - loss: 1452.2013 - mean_absolute_error: 19.6803\n",
      "Epoch 87/300\n",
      "5820/5820 [==============================] - 0s 76us/sample - loss: 1539.8027 - mean_absolute_error: 19.9626\n",
      "Epoch 88/300\n",
      "5820/5820 [==============================] - 0s 76us/sample - loss: 1408.4420 - mean_absolute_error: 18.3744\n",
      "Epoch 89/300\n",
      "5820/5820 [==============================] - 0s 80us/sample - loss: 1535.4574 - mean_absolute_error: 19.7002\n",
      "Epoch 90/300\n",
      "5820/5820 [==============================] - 0s 76us/sample - loss: 1400.3676 - mean_absolute_error: 19.1456\n",
      "Epoch 91/300\n",
      "5820/5820 [==============================] - 0s 80us/sample - loss: 1626.6744 - mean_absolute_error: 20.3060\n",
      "Epoch 92/300\n",
      "5820/5820 [==============================] - 0s 73us/sample - loss: 1464.5418 - mean_absolute_error: 18.8626\n",
      "Epoch 93/300\n",
      "5820/5820 [==============================] - 0s 80us/sample - loss: 1563.7458 - mean_absolute_error: 19.3983\n",
      "Epoch 94/300\n",
      "5820/5820 [==============================] - 0s 76us/sample - loss: 1478.1544 - mean_absolute_error: 19.3354\n",
      "Epoch 95/300\n",
      "5820/5820 [==============================] - ETA: 0s - loss: 1123.0151 - mean_absolute_error: 17.326 - 0s 78us/sample - loss: 1295.3577 - mean_absolute_error: 17.7290\n",
      "Epoch 96/300\n",
      "5820/5820 [==============================] - 0s 79us/sample - loss: 1902.7177 - mean_absolute_error: 22.4438\n",
      "Epoch 97/300\n",
      "5820/5820 [==============================] - 0s 72us/sample - loss: 1520.5748 - mean_absolute_error: 20.5536\n",
      "Epoch 98/300\n",
      "5820/5820 [==============================] - 0s 79us/sample - loss: 1969.3868 - mean_absolute_error: 22.6187\n",
      "Epoch 99/300\n",
      "5820/5820 [==============================] - 0s 79us/sample - loss: 1457.1479 - mean_absolute_error: 19.3144\n",
      "Epoch 100/300\n",
      "5820/5820 [==============================] - 0s 78us/sample - loss: 1354.5380 - mean_absolute_error: 18.0857\n",
      "Epoch 101/300\n",
      "5820/5820 [==============================] - 0s 77us/sample - loss: 1393.3509 - mean_absolute_error: 18.3179\n",
      "Epoch 102/300\n",
      "5820/5820 [==============================] - 0s 75us/sample - loss: 1567.0203 - mean_absolute_error: 20.0683\n",
      "Epoch 103/300\n",
      "5820/5820 [==============================] - 0s 80us/sample - loss: 1812.8511 - mean_absolute_error: 22.1990\n",
      "Epoch 104/300\n",
      "5820/5820 [==============================] - 0s 78us/sample - loss: 1724.4790 - mean_absolute_error: 21.1560\n",
      "Epoch 105/300\n",
      "5820/5820 [==============================] - 0s 70us/sample - loss: 1551.0703 - mean_absolute_error: 19.6728\n",
      "Epoch 106/300\n",
      "5820/5820 [==============================] - 0s 66us/sample - loss: 1381.7850 - mean_absolute_error: 18.1843\n",
      "Epoch 107/300\n",
      "5820/5820 [==============================] - 0s 63us/sample - loss: 1518.5545 - mean_absolute_error: 19.7466\n",
      "Epoch 108/300\n",
      "5820/5820 [==============================] - 0s 68us/sample - loss: 1332.8054 - mean_absolute_error: 18.0009\n",
      "Epoch 109/300\n",
      "5820/5820 [==============================] - 0s 64us/sample - loss: 1295.6868 - mean_absolute_error: 18.0844\n",
      "Epoch 110/300\n",
      "5820/5820 [==============================] - 0s 68us/sample - loss: 1209.9312 - mean_absolute_error: 17.6707\n",
      "Epoch 111/300\n",
      "5820/5820 [==============================] - 0s 73us/sample - loss: 1755.0012 - mean_absolute_error: 21.7457\n",
      "Epoch 112/300\n",
      "5820/5820 [==============================] - 0s 68us/sample - loss: 1483.1309 - mean_absolute_error: 19.4515\n",
      "Epoch 113/300\n",
      "5820/5820 [==============================] - 0s 75us/sample - loss: 1338.4297 - mean_absolute_error: 18.2995\n",
      "Epoch 114/300\n",
      "5820/5820 [==============================] - 0s 68us/sample - loss: 1603.2787 - mean_absolute_error: 20.9119\n",
      "Epoch 115/300\n",
      "5820/5820 [==============================] - 0s 68us/sample - loss: 1484.0941 - mean_absolute_error: 19.3069\n",
      "Epoch 116/300\n",
      "5820/5820 [==============================] - 0s 76us/sample - loss: 1629.6814 - mean_absolute_error: 20.8910\n",
      "Epoch 117/300\n",
      "5820/5820 [==============================] - 0s 68us/sample - loss: 1543.9852 - mean_absolute_error: 19.4337\n",
      "Epoch 118/300\n",
      "5820/5820 [==============================] - 0s 75us/sample - loss: 1487.6552 - mean_absolute_error: 20.2068\n",
      "Epoch 119/300\n",
      "5820/5820 [==============================] - 0s 78us/sample - loss: 1588.8251 - mean_absolute_error: 19.9790\n",
      "Epoch 120/300\n",
      "5820/5820 [==============================] - 0s 74us/sample - loss: 1380.6658 - mean_absolute_error: 18.7588\n",
      "Epoch 121/300\n",
      "5820/5820 [==============================] - 0s 80us/sample - loss: 1252.2971 - mean_absolute_error: 17.7260\n",
      "Epoch 122/300\n",
      "5820/5820 [==============================] - 0s 77us/sample - loss: 1312.0394 - mean_absolute_error: 18.0660\n",
      "Epoch 123/300\n",
      "5820/5820 [==============================] - 0s 80us/sample - loss: 1461.5592 - mean_absolute_error: 18.7591\n",
      "Epoch 124/300\n",
      "5820/5820 [==============================] - 0s 73us/sample - loss: 1538.3086 - mean_absolute_error: 19.8709\n",
      "Epoch 125/300\n",
      "5820/5820 [==============================] - 0s 77us/sample - loss: 1398.1626 - mean_absolute_error: 18.4589\n",
      "Epoch 126/300\n",
      "5820/5820 [==============================] - 0s 80us/sample - loss: 1272.7621 - mean_absolute_error: 17.8411\n",
      "Epoch 127/300\n",
      "5820/5820 [==============================] - 0s 74us/sample - loss: 1394.6701 - mean_absolute_error: 18.5294\n",
      "Epoch 128/300\n",
      "5820/5820 [==============================] - 0s 77us/sample - loss: 1275.2848 - mean_absolute_error: 18.0064\n",
      "Epoch 129/300\n",
      "5820/5820 [==============================] - 0s 73us/sample - loss: 1302.1681 - mean_absolute_error: 17.8384\n",
      "Epoch 130/300\n",
      "5820/5820 [==============================] - 0s 78us/sample - loss: 1347.0415 - mean_absolute_error: 18.3196\n",
      "Epoch 131/300\n",
      "5820/5820 [==============================] - 0s 76us/sample - loss: 1391.9657 - mean_absolute_error: 18.2144\n",
      "Epoch 132/300\n",
      "5820/5820 [==============================] - 0s 63us/sample - loss: 1968.7464 - mean_absolute_error: 23.1879\n",
      "Epoch 133/300\n",
      "5820/5820 [==============================] - 0s 76us/sample - loss: 1601.0745 - mean_absolute_error: 20.2757\n",
      "Epoch 134/300\n"
     ]
    },
    {
     "name": "stdout",
     "output_type": "stream",
     "text": [
      "5820/5820 [==============================] - 0s 74us/sample - loss: 1555.7527 - mean_absolute_error: 19.6325\n",
      "Epoch 135/300\n",
      "5820/5820 [==============================] - 0s 78us/sample - loss: 1367.9116 - mean_absolute_error: 18.6575\n",
      "Epoch 136/300\n",
      "5820/5820 [==============================] - 0s 82us/sample - loss: 1534.3541 - mean_absolute_error: 19.6739\n",
      "Epoch 137/300\n",
      "5820/5820 [==============================] - 0s 72us/sample - loss: 1545.6729 - mean_absolute_error: 20.1433\n",
      "Epoch 138/300\n",
      "5820/5820 [==============================] - 0s 78us/sample - loss: 1301.4504 - mean_absolute_error: 18.1584\n",
      "Epoch 139/300\n",
      "5820/5820 [==============================] - 0s 76us/sample - loss: 1306.5123 - mean_absolute_error: 18.2264\n",
      "Epoch 140/300\n",
      "5820/5820 [==============================] - 0s 70us/sample - loss: 1416.2761 - mean_absolute_error: 19.0405\n",
      "Epoch 141/300\n",
      "5820/5820 [==============================] - 0s 70us/sample - loss: 1242.5499 - mean_absolute_error: 17.7412\n",
      "Epoch 142/300\n",
      "5820/5820 [==============================] - 0s 55us/sample - loss: 1572.1341 - mean_absolute_error: 20.4062\n",
      "Epoch 143/300\n",
      "5820/5820 [==============================] - 0s 73us/sample - loss: 1300.8026 - mean_absolute_error: 17.9177\n",
      "Epoch 144/300\n",
      "5820/5820 [==============================] - 0s 74us/sample - loss: 1390.3606 - mean_absolute_error: 19.3013\n",
      "Epoch 145/300\n",
      "5820/5820 [==============================] - 0s 77us/sample - loss: 1751.6403 - mean_absolute_error: 21.4067\n",
      "Epoch 146/300\n",
      "5820/5820 [==============================] - 0s 80us/sample - loss: 1556.5547 - mean_absolute_error: 19.3677\n",
      "Epoch 147/300\n",
      "5820/5820 [==============================] - 0s 77us/sample - loss: 1493.2806 - mean_absolute_error: 19.5526\n",
      "Epoch 148/300\n",
      "5820/5820 [==============================] - 0s 77us/sample - loss: 1253.2097 - mean_absolute_error: 17.9712\n",
      "Epoch 149/300\n",
      "5820/5820 [==============================] - 0s 76us/sample - loss: 1232.1500 - mean_absolute_error: 18.0495\n",
      "Epoch 150/300\n",
      "5820/5820 [==============================] - 0s 82us/sample - loss: 1376.7932 - mean_absolute_error: 18.5685\n",
      "Epoch 151/300\n",
      "5820/5820 [==============================] - 0s 78us/sample - loss: 1411.4074 - mean_absolute_error: 18.8772\n",
      "Epoch 152/300\n",
      "5820/5820 [==============================] - 0s 77us/sample - loss: 1227.1584 - mean_absolute_error: 17.4003\n",
      "Epoch 153/300\n",
      "5820/5820 [==============================] - 0s 79us/sample - loss: 1511.4787 - mean_absolute_error: 20.0291\n",
      "Epoch 154/300\n",
      "5820/5820 [==============================] - 0s 74us/sample - loss: 1411.0197 - mean_absolute_error: 18.6910\n",
      "Epoch 155/300\n",
      "5820/5820 [==============================] - 0s 78us/sample - loss: 1745.5581 - mean_absolute_error: 21.5111\n",
      "Epoch 156/300\n",
      "5820/5820 [==============================] - 0s 80us/sample - loss: 1260.4557 - mean_absolute_error: 17.8607\n",
      "Epoch 157/300\n",
      "5820/5820 [==============================] - 0s 78us/sample - loss: 1365.8331 - mean_absolute_error: 19.0954\n",
      "Epoch 158/300\n",
      "5820/5820 [==============================] - 0s 80us/sample - loss: 1361.1159 - mean_absolute_error: 18.6564\n",
      "Epoch 159/300\n",
      "5820/5820 [==============================] - 0s 75us/sample - loss: 1434.5322 - mean_absolute_error: 18.4890\n",
      "Epoch 160/300\n",
      "5820/5820 [==============================] - 0s 77us/sample - loss: 1567.3913 - mean_absolute_error: 20.0318\n",
      "Epoch 161/300\n",
      "5820/5820 [==============================] - 0s 73us/sample - loss: 1314.4021 - mean_absolute_error: 18.6066\n",
      "Epoch 162/300\n",
      "5820/5820 [==============================] - 0s 78us/sample - loss: 1449.0290 - mean_absolute_error: 19.4898\n",
      "Epoch 163/300\n",
      "5820/5820 [==============================] - 0s 78us/sample - loss: 1378.9198 - mean_absolute_error: 18.3870\n",
      "Epoch 164/300\n",
      "5820/5820 [==============================] - 0s 76us/sample - loss: 1360.0620 - mean_absolute_error: 18.5519\n",
      "Epoch 165/300\n",
      "5820/5820 [==============================] - 0s 78us/sample - loss: 2091.7614 - mean_absolute_error: 22.8797\n",
      "Epoch 166/300\n",
      "5820/5820 [==============================] - 0s 76us/sample - loss: 1634.4691 - mean_absolute_error: 20.4577\n",
      "Epoch 167/300\n",
      "5820/5820 [==============================] - 0s 79us/sample - loss: 1583.4591 - mean_absolute_error: 19.6057\n",
      "Epoch 168/300\n",
      "5820/5820 [==============================] - 0s 74us/sample - loss: 1566.0105 - mean_absolute_error: 19.6855\n",
      "Epoch 169/300\n",
      "5820/5820 [==============================] - 0s 72us/sample - loss: 1573.3643 - mean_absolute_error: 19.61430s - loss: 1353.1622 - mean_absolute_error: \n",
      "Epoch 170/300\n",
      "5820/5820 [==============================] - 0s 84us/sample - loss: 1509.5819 - mean_absolute_error: 18.9246\n",
      "Epoch 171/300\n",
      "5820/5820 [==============================] - 0s 70us/sample - loss: 1556.9036 - mean_absolute_error: 19.26230s - loss: 1522.1135 - mean_absolute_error: 18.\n",
      "Epoch 172/300\n",
      "5820/5820 [==============================] - 0s 79us/sample - loss: 1517.0873 - mean_absolute_error: 19.1577\n",
      "Epoch 173/300\n",
      "5820/5820 [==============================] - 0s 76us/sample - loss: 1473.2344 - mean_absolute_error: 18.7847\n",
      "Epoch 174/300\n",
      "5820/5820 [==============================] - 0s 77us/sample - loss: 1473.2686 - mean_absolute_error: 19.0274\n",
      "Epoch 175/300\n",
      "5820/5820 [==============================] - 0s 78us/sample - loss: 1537.9395 - mean_absolute_error: 19.1003\n",
      "Epoch 176/300\n",
      "5820/5820 [==============================] - 0s 76us/sample - loss: 1483.9169 - mean_absolute_error: 19.2903\n",
      "Epoch 177/300\n",
      "5820/5820 [==============================] - 0s 75us/sample - loss: 1495.1661 - mean_absolute_error: 19.8751\n",
      "Epoch 178/300\n",
      "5820/5820 [==============================] - 0s 69us/sample - loss: 1452.6213 - mean_absolute_error: 19.5341\n",
      "Epoch 179/300\n",
      "5820/5820 [==============================] - 0s 79us/sample - loss: 1545.3225 - mean_absolute_error: 21.2630\n",
      "Epoch 180/300\n",
      "5820/5820 [==============================] - 0s 77us/sample - loss: 1475.2958 - mean_absolute_error: 19.2132\n",
      "Epoch 181/300\n",
      "5820/5820 [==============================] - 0s 76us/sample - loss: 1490.0106 - mean_absolute_error: 19.2233\n",
      "Epoch 182/300\n",
      "5820/5820 [==============================] - 0s 77us/sample - loss: 1454.5148 - mean_absolute_error: 18.9713\n",
      "Epoch 183/300\n",
      "5820/5820 [==============================] - 0s 71us/sample - loss: 1422.6822 - mean_absolute_error: 19.0587\n",
      "Epoch 184/300\n",
      "5820/5820 [==============================] - 0s 64us/sample - loss: 1467.5695 - mean_absolute_error: 19.6841\n",
      "Epoch 185/300\n",
      "5820/5820 [==============================] - 0s 74us/sample - loss: 1480.0065 - mean_absolute_error: 20.5545\n",
      "Epoch 186/300\n",
      "5820/5820 [==============================] - 0s 68us/sample - loss: 1399.1193 - mean_absolute_error: 19.1478\n",
      "Epoch 187/300\n",
      "5820/5820 [==============================] - 0s 80us/sample - loss: 1668.8279 - mean_absolute_error: 22.2275\n",
      "Epoch 188/300\n",
      "5820/5820 [==============================] - 0s 70us/sample - loss: 1379.3767 - mean_absolute_error: 18.3480\n",
      "Epoch 189/300\n",
      "5820/5820 [==============================] - 0s 67us/sample - loss: 1292.0573 - mean_absolute_error: 18.9112\n",
      "Epoch 190/300\n",
      "5820/5820 [==============================] - 0s 83us/sample - loss: 1343.6989 - mean_absolute_error: 18.8503\n",
      "Epoch 191/300\n",
      "5820/5820 [==============================] - 0s 69us/sample - loss: 1865.9864 - mean_absolute_error: 23.4542\n",
      "Epoch 192/300\n",
      "5820/5820 [==============================] - 0s 78us/sample - loss: 1331.4714 - mean_absolute_error: 18.3864\n",
      "Epoch 193/300\n",
      "5820/5820 [==============================] - 0s 72us/sample - loss: 1486.8521 - mean_absolute_error: 19.8685\n",
      "Epoch 194/300\n",
      "5820/5820 [==============================] - 0s 75us/sample - loss: 1260.2616 - mean_absolute_error: 18.3112\n",
      "Epoch 195/300\n",
      "5820/5820 [==============================] - 0s 71us/sample - loss: 1279.8669 - mean_absolute_error: 18.0639\n",
      "Epoch 196/300\n",
      "5820/5820 [==============================] - 0s 66us/sample - loss: 1210.1200 - mean_absolute_error: 17.9871\n",
      "Epoch 197/300\n",
      "5820/5820 [==============================] - 0s 63us/sample - loss: 1354.2560 - mean_absolute_error: 19.0913\n",
      "Epoch 198/300\n",
      "5820/5820 [==============================] - 0s 66us/sample - loss: 1463.7806 - mean_absolute_error: 19.5081\n",
      "Epoch 199/300\n",
      "5820/5820 [==============================] - 0s 63us/sample - loss: 1287.5973 - mean_absolute_error: 18.5511\n"
     ]
    },
    {
     "name": "stdout",
     "output_type": "stream",
     "text": [
      "Epoch 200/300\n",
      "5820/5820 [==============================] - 0s 77us/sample - loss: 1264.8261 - mean_absolute_error: 18.0568\n",
      "Epoch 201/300\n",
      "5820/5820 [==============================] - 0s 75us/sample - loss: 1518.1104 - mean_absolute_error: 20.5582\n",
      "Epoch 202/300\n",
      "5820/5820 [==============================] - 0s 80us/sample - loss: 1228.7611 - mean_absolute_error: 17.9509\n",
      "Epoch 203/300\n",
      "5820/5820 [==============================] - 0s 77us/sample - loss: 1421.3465 - mean_absolute_error: 19.4123\n",
      "Epoch 204/300\n",
      "5820/5820 [==============================] - 0s 75us/sample - loss: 1276.5506 - mean_absolute_error: 17.6262\n",
      "Epoch 205/300\n",
      "5820/5820 [==============================] - 0s 62us/sample - loss: 1295.8100 - mean_absolute_error: 17.8275\n",
      "Epoch 206/300\n",
      "5820/5820 [==============================] - 0s 67us/sample - loss: 1240.7074 - mean_absolute_error: 17.9799\n",
      "Epoch 207/300\n",
      "5820/5820 [==============================] - 0s 64us/sample - loss: 1279.0943 - mean_absolute_error: 17.8884\n",
      "Epoch 208/300\n",
      "5820/5820 [==============================] - 0s 60us/sample - loss: 1365.3756 - mean_absolute_error: 18.8360\n",
      "Epoch 209/300\n",
      "5820/5820 [==============================] - 0s 63us/sample - loss: 1616.7316 - mean_absolute_error: 20.8197\n",
      "Epoch 210/300\n",
      "5820/5820 [==============================] - 0s 58us/sample - loss: 1449.0540 - mean_absolute_error: 18.8098\n",
      "Epoch 211/300\n",
      "5820/5820 [==============================] - 0s 81us/sample - loss: 1273.2717 - mean_absolute_error: 18.2317\n",
      "Epoch 212/300\n",
      "5820/5820 [==============================] - 0s 76us/sample - loss: 1253.9287 - mean_absolute_error: 17.6784\n",
      "Epoch 213/300\n",
      "5820/5820 [==============================] - 0s 82us/sample - loss: 1263.1297 - mean_absolute_error: 17.9763\n",
      "Epoch 214/300\n",
      "5820/5820 [==============================] - 0s 77us/sample - loss: 1819.7563 - mean_absolute_error: 22.1544\n",
      "Epoch 215/300\n",
      "5820/5820 [==============================] - 0s 74us/sample - loss: 1441.9463 - mean_absolute_error: 18.8727\n",
      "Epoch 216/300\n",
      "5820/5820 [==============================] - 0s 80us/sample - loss: 1327.0874 - mean_absolute_error: 18.1280\n",
      "Epoch 217/300\n",
      "5820/5820 [==============================] - 0s 74us/sample - loss: 1356.6956 - mean_absolute_error: 18.3693\n",
      "Epoch 218/300\n",
      "5820/5820 [==============================] - 0s 79us/sample - loss: 1226.0330 - mean_absolute_error: 18.1302\n",
      "Epoch 219/300\n",
      "5820/5820 [==============================] - 0s 76us/sample - loss: 1204.0986 - mean_absolute_error: 17.5361\n",
      "Epoch 220/300\n",
      "5820/5820 [==============================] - 0s 81us/sample - loss: 1255.6324 - mean_absolute_error: 18.2011\n",
      "Epoch 221/300\n",
      "5820/5820 [==============================] - 0s 76us/sample - loss: 1367.7662 - mean_absolute_error: 19.2040\n",
      "Epoch 222/300\n",
      "5820/5820 [==============================] - 0s 80us/sample - loss: 1240.9493 - mean_absolute_error: 17.9329\n",
      "Epoch 223/300\n",
      "5820/5820 [==============================] - 0s 82us/sample - loss: 1175.5623 - mean_absolute_error: 17.7731\n",
      "Epoch 224/300\n",
      "5820/5820 [==============================] - 0s 78us/sample - loss: 1148.6359 - mean_absolute_error: 17.2210\n",
      "Epoch 225/300\n",
      "5820/5820 [==============================] - 0s 80us/sample - loss: 1272.5509 - mean_absolute_error: 18.1643\n",
      "Epoch 226/300\n",
      "5820/5820 [==============================] - 0s 75us/sample - loss: 1465.6792 - mean_absolute_error: 19.3159\n",
      "Epoch 227/300\n",
      "5820/5820 [==============================] - 0s 79us/sample - loss: 1325.8432 - mean_absolute_error: 18.7282\n",
      "Epoch 228/300\n",
      "5820/5820 [==============================] - 0s 79us/sample - loss: 1539.1398 - mean_absolute_error: 20.3015\n",
      "Epoch 229/300\n",
      "5820/5820 [==============================] - 0s 78us/sample - loss: 1218.1599 - mean_absolute_error: 16.9395\n",
      "Epoch 230/300\n",
      "5820/5820 [==============================] - 0s 80us/sample - loss: 1199.3339 - mean_absolute_error: 18.5080\n",
      "Epoch 231/300\n",
      "5820/5820 [==============================] - 0s 73us/sample - loss: 1293.0204 - mean_absolute_error: 17.7678\n",
      "Epoch 232/300\n",
      "5820/5820 [==============================] - 0s 78us/sample - loss: 1706.2337 - mean_absolute_error: 21.0317\n",
      "Epoch 233/300\n",
      "5820/5820 [==============================] - 0s 76us/sample - loss: 1439.4844 - mean_absolute_error: 18.6453\n",
      "Epoch 234/300\n",
      "5820/5820 [==============================] - 0s 76us/sample - loss: 1595.1322 - mean_absolute_error: 20.7332\n",
      "Epoch 235/300\n",
      "5820/5820 [==============================] - 0s 75us/sample - loss: 1459.5621 - mean_absolute_error: 19.3330\n",
      "Epoch 236/300\n",
      "5820/5820 [==============================] - 0s 74us/sample - loss: 1371.8073 - mean_absolute_error: 18.1198\n",
      "Epoch 237/300\n",
      "5820/5820 [==============================] - 0s 78us/sample - loss: 1243.1634 - mean_absolute_error: 18.3101\n",
      "Epoch 238/300\n",
      "5820/5820 [==============================] - 0s 73us/sample - loss: 1244.5968 - mean_absolute_error: 18.4257\n",
      "Epoch 239/300\n",
      "5820/5820 [==============================] - 0s 78us/sample - loss: 1318.1963 - mean_absolute_error: 18.5587\n",
      "Epoch 240/300\n",
      "5820/5820 [==============================] - 0s 77us/sample - loss: 1244.6481 - mean_absolute_error: 18.1600\n",
      "Epoch 241/300\n",
      "5820/5820 [==============================] - 0s 75us/sample - loss: 1219.3347 - mean_absolute_error: 17.6140\n",
      "Epoch 242/300\n",
      "5820/5820 [==============================] - 0s 81us/sample - loss: 1713.3995 - mean_absolute_error: 21.3189\n",
      "Epoch 243/300\n",
      "5820/5820 [==============================] - 0s 73us/sample - loss: 1487.7998 - mean_absolute_error: 18.8476\n",
      "Epoch 244/300\n",
      "5820/5820 [==============================] - 0s 75us/sample - loss: 1412.5865 - mean_absolute_error: 19.0853\n",
      "Epoch 245/300\n",
      "5820/5820 [==============================] - 0s 75us/sample - loss: 1258.5524 - mean_absolute_error: 18.2000\n",
      "Epoch 246/300\n",
      "5820/5820 [==============================] - 0s 78us/sample - loss: 1127.7890 - mean_absolute_error: 16.7907\n",
      "Epoch 247/300\n",
      "5820/5820 [==============================] - 0s 77us/sample - loss: 1422.5761 - mean_absolute_error: 18.6961\n",
      "Epoch 248/300\n",
      "5820/5820 [==============================] - 0s 71us/sample - loss: 1956.5849 - mean_absolute_error: 22.8788\n",
      "Epoch 249/300\n",
      "5820/5820 [==============================] - 0s 77us/sample - loss: 1480.3824 - mean_absolute_error: 19.0574\n",
      "Epoch 250/300\n",
      "5820/5820 [==============================] - 0s 75us/sample - loss: 1445.5625 - mean_absolute_error: 18.3538\n",
      "Epoch 251/300\n",
      "5820/5820 [==============================] - 0s 69us/sample - loss: 1427.5886 - mean_absolute_error: 18.1301\n",
      "Epoch 252/300\n",
      "5820/5820 [==============================] - 0s 74us/sample - loss: 1414.1539 - mean_absolute_error: 17.9924\n",
      "Epoch 253/300\n",
      "5820/5820 [==============================] - 0s 65us/sample - loss: 1399.7025 - mean_absolute_error: 18.2516\n",
      "Epoch 254/300\n",
      "5820/5820 [==============================] - 0s 79us/sample - loss: 1374.2610 - mean_absolute_error: 17.9936\n",
      "Epoch 255/300\n",
      "5820/5820 [==============================] - 0s 74us/sample - loss: 1403.9699 - mean_absolute_error: 18.7322\n",
      "Epoch 256/300\n",
      "5820/5820 [==============================] - 0s 74us/sample - loss: 1431.3541 - mean_absolute_error: 18.8672\n",
      "Epoch 257/300\n",
      "5820/5820 [==============================] - 0s 63us/sample - loss: 1384.0910 - mean_absolute_error: 18.4501\n",
      "Epoch 258/300\n",
      "5820/5820 [==============================] - 0s 64us/sample - loss: 1351.7261 - mean_absolute_error: 18.1236\n",
      "Epoch 259/300\n",
      "5820/5820 [==============================] - 0s 57us/sample - loss: 1403.9818 - mean_absolute_error: 18.1667\n",
      "Epoch 260/300\n",
      "5820/5820 [==============================] - 0s 69us/sample - loss: 1363.5663 - mean_absolute_error: 18.0757\n",
      "Epoch 261/300\n",
      "5820/5820 [==============================] - 0s 66us/sample - loss: 1381.1941 - mean_absolute_error: 18.8924\n",
      "Epoch 262/300\n",
      "5820/5820 [==============================] - 0s 68us/sample - loss: 1338.2356 - mean_absolute_error: 18.4050\n",
      "Epoch 263/300\n",
      "5820/5820 [==============================] - 0s 69us/sample - loss: 1333.3022 - mean_absolute_error: 18.6519\n",
      "Epoch 264/300\n",
      "5820/5820 [==============================] - 0s 70us/sample - loss: 1348.2838 - mean_absolute_error: 17.9660\n",
      "Epoch 265/300\n",
      "5820/5820 [==============================] - 0s 64us/sample - loss: 1328.5068 - mean_absolute_error: 17.7607\n",
      "Epoch 266/300\n"
     ]
    },
    {
     "name": "stdout",
     "output_type": "stream",
     "text": [
      "5820/5820 [==============================] - 0s 62us/sample - loss: 1488.8234 - mean_absolute_error: 18.9306\n",
      "Epoch 267/300\n",
      "5820/5820 [==============================] - 0s 64us/sample - loss: 1380.2370 - mean_absolute_error: 18.5920\n",
      "Epoch 268/300\n",
      "5820/5820 [==============================] - 0s 57us/sample - loss: 1333.6482 - mean_absolute_error: 18.2386\n",
      "Epoch 269/300\n",
      "5820/5820 [==============================] - 0s 65us/sample - loss: 1351.1992 - mean_absolute_error: 18.2543\n",
      "Epoch 270/300\n",
      "5820/5820 [==============================] - 0s 60us/sample - loss: 1302.1586 - mean_absolute_error: 18.1372\n",
      "Epoch 271/300\n",
      "5820/5820 [==============================] - 0s 74us/sample - loss: 1235.6450 - mean_absolute_error: 17.8151\n",
      "Epoch 272/300\n",
      "5820/5820 [==============================] - 0s 75us/sample - loss: 1308.2843 - mean_absolute_error: 18.4228\n",
      "Epoch 273/300\n",
      "5820/5820 [==============================] - 0s 79us/sample - loss: 1458.5425 - mean_absolute_error: 18.8568\n",
      "Epoch 274/300\n",
      "5820/5820 [==============================] - 0s 80us/sample - loss: 1357.1368 - mean_absolute_error: 18.5797\n",
      "Epoch 275/300\n",
      "5820/5820 [==============================] - 0s 81us/sample - loss: 1365.0315 - mean_absolute_error: 19.0907\n",
      "Epoch 276/300\n",
      "5820/5820 [==============================] - 0s 82us/sample - loss: 1307.9555 - mean_absolute_error: 18.1894\n",
      "Epoch 277/300\n",
      "5820/5820 [==============================] - 0s 74us/sample - loss: 1364.6658 - mean_absolute_error: 18.8250\n",
      "Epoch 278/300\n",
      "5820/5820 [==============================] - 0s 79us/sample - loss: 1357.1301 - mean_absolute_error: 18.6132\n",
      "Epoch 279/300\n",
      "5820/5820 [==============================] - 0s 76us/sample - loss: 1334.2632 - mean_absolute_error: 18.2219\n",
      "Epoch 280/300\n",
      "5820/5820 [==============================] - 0s 79us/sample - loss: 1282.4113 - mean_absolute_error: 18.1267\n",
      "Epoch 281/300\n",
      "5820/5820 [==============================] - 0s 79us/sample - loss: 1337.9270 - mean_absolute_error: 18.7020\n",
      "Epoch 282/300\n",
      "5820/5820 [==============================] - 0s 81us/sample - loss: 1316.4709 - mean_absolute_error: 18.1216\n",
      "Epoch 283/300\n",
      "5820/5820 [==============================] - 0s 84us/sample - loss: 1273.5727 - mean_absolute_error: 18.0083\n",
      "Epoch 284/300\n",
      "5820/5820 [==============================] - 0s 77us/sample - loss: 1404.5625 - mean_absolute_error: 19.2840\n",
      "Epoch 285/300\n",
      "5820/5820 [==============================] - 0s 80us/sample - loss: 1247.9679 - mean_absolute_error: 17.4050\n",
      "Epoch 286/300\n",
      "5820/5820 [==============================] - 0s 77us/sample - loss: 1266.2936 - mean_absolute_error: 17.5044\n",
      "Epoch 287/300\n",
      "5820/5820 [==============================] - 0s 83us/sample - loss: 1287.9750 - mean_absolute_error: 18.3452\n",
      "Epoch 288/300\n",
      "5820/5820 [==============================] - 0s 77us/sample - loss: 1324.7742 - mean_absolute_error: 18.5905\n",
      "Epoch 289/300\n",
      "5820/5820 [==============================] - 0s 82us/sample - loss: 1358.5617 - mean_absolute_error: 19.4504\n",
      "Epoch 290/300\n",
      "5820/5820 [==============================] - 0s 83us/sample - loss: 1162.5930 - mean_absolute_error: 18.1041\n",
      "Epoch 291/300\n",
      "5820/5820 [==============================] - 0s 79us/sample - loss: 1257.3840 - mean_absolute_error: 17.8819\n",
      "Epoch 292/300\n",
      "5820/5820 [==============================] - 0s 82us/sample - loss: 1522.6027 - mean_absolute_error: 19.9069\n",
      "Epoch 293/300\n",
      "5820/5820 [==============================] - 0s 74us/sample - loss: 1281.1965 - mean_absolute_error: 17.8773\n",
      "Epoch 294/300\n",
      "5820/5820 [==============================] - 0s 81us/sample - loss: 1238.2980 - mean_absolute_error: 17.7732\n",
      "Epoch 295/300\n",
      "5820/5820 [==============================] - 0s 66us/sample - loss: 1167.8890 - mean_absolute_error: 17.4866\n",
      "Epoch 296/300\n",
      "5820/5820 [==============================] - 0s 69us/sample - loss: 1271.4746 - mean_absolute_error: 18.1479\n",
      "Epoch 297/300\n",
      "5820/5820 [==============================] - 0s 82us/sample - loss: 1284.3647 - mean_absolute_error: 18.0826\n",
      "Epoch 298/300\n",
      "5820/5820 [==============================] - 0s 65us/sample - loss: 1374.3398 - mean_absolute_error: 18.6568\n",
      "Epoch 299/300\n",
      "5820/5820 [==============================] - 0s 64us/sample - loss: 1307.0448 - mean_absolute_error: 18.5548\n",
      "Epoch 300/300\n",
      "5820/5820 [==============================] - 0s 76us/sample - loss: 1306.4330 - mean_absolute_error: 18.6803\n"
     ]
    },
    {
     "data": {
      "text/plain": [
       "<tensorflow.python.keras.callbacks.History at 0x22f53881630>"
      ]
     },
     "execution_count": 95,
     "metadata": {},
     "output_type": "execute_result"
    }
   ],
   "source": [
    "model.fit(X_train,y_train,epochs=300)"
   ]
  },
  {
   "cell_type": "code",
   "execution_count": 99,
   "metadata": {},
   "outputs": [
    {
     "name": "stdout",
     "output_type": "stream",
     "text": [
      "1455/1455 [==============================] - 0s 71us/sample - loss: 2035.8413 - mean_absolute_error: 18.1298\n"
     ]
    },
    {
     "data": {
      "text/plain": [
       "[2035.8412981485583, 18.129833]"
      ]
     },
     "execution_count": 99,
     "metadata": {},
     "output_type": "execute_result"
    }
   ],
   "source": [
    "model.evaluate(X_test,y_test)"
   ]
  },
  {
   "cell_type": "markdown",
   "metadata": {},
   "source": [
    "# Final Model"
   ]
  },
  {
   "cell_type": "code",
   "execution_count": 100,
   "metadata": {},
   "outputs": [],
   "source": [
    "lr= LinearRegression(normalize=False)  # best model is Linear Regression"
   ]
  },
  {
   "cell_type": "code",
   "execution_count": 101,
   "metadata": {},
   "outputs": [
    {
     "data": {
      "text/plain": [
       "LinearRegression(copy_X=True, fit_intercept=True, n_jobs=None, normalize=False)"
      ]
     },
     "execution_count": 101,
     "metadata": {},
     "output_type": "execute_result"
    }
   ],
   "source": [
    "lr.fit(X_train,y_train)"
   ]
  },
  {
   "cell_type": "code",
   "execution_count": 102,
   "metadata": {},
   "outputs": [
    {
     "data": {
      "text/plain": [
       "0.806939122791125"
      ]
     },
     "execution_count": 102,
     "metadata": {},
     "output_type": "execute_result"
    }
   ],
   "source": [
    "lr.score(X_test,y_test)"
   ]
  },
  {
   "cell_type": "markdown",
   "metadata": {},
   "source": [
    "# Testing the Model"
   ]
  },
  {
   "cell_type": "code",
   "execution_count": 103,
   "metadata": {},
   "outputs": [
    {
     "data": {
      "text/plain": [
       "Index(['total_sqft', 'bath', 'balcony', 'bhk', '1st Phase JP Nagar',\n",
       "       '2nd Phase Judicial Layout', '2nd Stage Nagarbhavi',\n",
       "       '5th Block Hbr Layout', '5th Phase JP Nagar', '6th Phase JP Nagar',\n",
       "       ...\n",
       "       'Vishveshwarya Layout', 'Vishwapriya Layout', 'Vittasandra',\n",
       "       'Whitefield', 'Yelachenahalli', 'Yelahanka', 'Yelahanka New Town',\n",
       "       'Yelenahalli', 'Yeshwanthpur', 'other'],\n",
       "      dtype='object', length=245)"
      ]
     },
     "execution_count": 103,
     "metadata": {},
     "output_type": "execute_result"
    }
   ],
   "source": [
    "X_test.columns"
   ]
  },
  {
   "cell_type": "code",
   "execution_count": 104,
   "metadata": {},
   "outputs": [],
   "source": [
    "def predict_price(location,sqft,bath,bhk):\n",
    "    loc_index= np.where(X.columns==location)[0][0]\n",
    "    \n",
    "    x= np.zeros(len(X.columns))\n",
    "    x[0]= sqft\n",
    "    x[1]= bath\n",
    "    x[2]= bhk\n",
    "    if loc_index>=0:\n",
    "        x[loc_index]= 1\n",
    "        \n",
    "    return lr.predict([x])[0]    "
   ]
  },
  {
   "cell_type": "code",
   "execution_count": 109,
   "metadata": {},
   "outputs": [
    {
     "name": "stdout",
     "output_type": "stream",
     "text": [
      "Estimated Price :  95.1309648989631\n"
     ]
    }
   ],
   "source": [
    "print(\"Estimated Price : \",predict_price(\"1st Phase JP Nagar\",1000,2,2))"
   ]
  },
  {
   "cell_type": "code",
   "execution_count": 110,
   "metadata": {},
   "outputs": [],
   "source": [
    "import pickle\n",
    "with open(\"banglore_home_prices_model.pickle\",\"wb\") as f:\n",
    "    pickle.dump(lr,f)"
   ]
  },
  {
   "cell_type": "code",
   "execution_count": 113,
   "metadata": {},
   "outputs": [],
   "source": [
    "import json\n",
    "columns= {\n",
    "    \"data_columns\" : [col.lower() for col in X.columns]\n",
    "}\n",
    "\n",
    "with open(\"columns.json\",\"w\") as f:\n",
    "    f.write(json.dumps(columns))"
   ]
  },
  {
   "cell_type": "code",
   "execution_count": null,
   "metadata": {},
   "outputs": [],
   "source": []
  }
 ],
 "metadata": {
  "kernelspec": {
   "display_name": "Python 3",
   "language": "python",
   "name": "python3"
  },
  "language_info": {
   "codemirror_mode": {
    "name": "ipython",
    "version": 3
   },
   "file_extension": ".py",
   "mimetype": "text/x-python",
   "name": "python",
   "nbconvert_exporter": "python",
   "pygments_lexer": "ipython3",
   "version": "3.6.8"
  }
 },
 "nbformat": 4,
 "nbformat_minor": 4
}
