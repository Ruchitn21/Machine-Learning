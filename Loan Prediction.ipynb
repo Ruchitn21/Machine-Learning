{
 "cells": [
  {
   "cell_type": "code",
   "execution_count": 1,
   "metadata": {},
   "outputs": [],
   "source": [
    "import numpy as np\n",
    "import pandas as pd\n",
    "pd.pandas.set_option(\"display.max_columns\",None)"
   ]
  },
  {
   "cell_type": "code",
   "execution_count": 2,
   "metadata": {},
   "outputs": [],
   "source": [
    "data= pd.read_csv(\"train.csv\",na_values=[\"NA\",\"?\"])"
   ]
  },
  {
   "cell_type": "code",
   "execution_count": 3,
   "metadata": {},
   "outputs": [
    {
     "data": {
      "text/html": [
       "<div>\n",
       "<style scoped>\n",
       "    .dataframe tbody tr th:only-of-type {\n",
       "        vertical-align: middle;\n",
       "    }\n",
       "\n",
       "    .dataframe tbody tr th {\n",
       "        vertical-align: top;\n",
       "    }\n",
       "\n",
       "    .dataframe thead th {\n",
       "        text-align: right;\n",
       "    }\n",
       "</style>\n",
       "<table border=\"1\" class=\"dataframe\">\n",
       "  <thead>\n",
       "    <tr style=\"text-align: right;\">\n",
       "      <th></th>\n",
       "      <th>Loan_ID</th>\n",
       "      <th>Gender</th>\n",
       "      <th>Married</th>\n",
       "      <th>Dependents</th>\n",
       "      <th>Education</th>\n",
       "      <th>Self_Employed</th>\n",
       "      <th>ApplicantIncome</th>\n",
       "      <th>CoapplicantIncome</th>\n",
       "      <th>LoanAmount</th>\n",
       "      <th>Loan_Amount_Term</th>\n",
       "      <th>Credit_History</th>\n",
       "      <th>Property_Area</th>\n",
       "      <th>Loan_Status</th>\n",
       "    </tr>\n",
       "  </thead>\n",
       "  <tbody>\n",
       "    <tr>\n",
       "      <th>0</th>\n",
       "      <td>LP001002</td>\n",
       "      <td>Male</td>\n",
       "      <td>No</td>\n",
       "      <td>0</td>\n",
       "      <td>Graduate</td>\n",
       "      <td>No</td>\n",
       "      <td>5849</td>\n",
       "      <td>0.0</td>\n",
       "      <td>NaN</td>\n",
       "      <td>360.0</td>\n",
       "      <td>1.0</td>\n",
       "      <td>Urban</td>\n",
       "      <td>Y</td>\n",
       "    </tr>\n",
       "    <tr>\n",
       "      <th>1</th>\n",
       "      <td>LP001003</td>\n",
       "      <td>Male</td>\n",
       "      <td>Yes</td>\n",
       "      <td>1</td>\n",
       "      <td>Graduate</td>\n",
       "      <td>No</td>\n",
       "      <td>4583</td>\n",
       "      <td>1508.0</td>\n",
       "      <td>128.0</td>\n",
       "      <td>360.0</td>\n",
       "      <td>1.0</td>\n",
       "      <td>Rural</td>\n",
       "      <td>N</td>\n",
       "    </tr>\n",
       "    <tr>\n",
       "      <th>2</th>\n",
       "      <td>LP001005</td>\n",
       "      <td>Male</td>\n",
       "      <td>Yes</td>\n",
       "      <td>0</td>\n",
       "      <td>Graduate</td>\n",
       "      <td>Yes</td>\n",
       "      <td>3000</td>\n",
       "      <td>0.0</td>\n",
       "      <td>66.0</td>\n",
       "      <td>360.0</td>\n",
       "      <td>1.0</td>\n",
       "      <td>Urban</td>\n",
       "      <td>Y</td>\n",
       "    </tr>\n",
       "    <tr>\n",
       "      <th>3</th>\n",
       "      <td>LP001006</td>\n",
       "      <td>Male</td>\n",
       "      <td>Yes</td>\n",
       "      <td>0</td>\n",
       "      <td>Not Graduate</td>\n",
       "      <td>No</td>\n",
       "      <td>2583</td>\n",
       "      <td>2358.0</td>\n",
       "      <td>120.0</td>\n",
       "      <td>360.0</td>\n",
       "      <td>1.0</td>\n",
       "      <td>Urban</td>\n",
       "      <td>Y</td>\n",
       "    </tr>\n",
       "    <tr>\n",
       "      <th>4</th>\n",
       "      <td>LP001008</td>\n",
       "      <td>Male</td>\n",
       "      <td>No</td>\n",
       "      <td>0</td>\n",
       "      <td>Graduate</td>\n",
       "      <td>No</td>\n",
       "      <td>6000</td>\n",
       "      <td>0.0</td>\n",
       "      <td>141.0</td>\n",
       "      <td>360.0</td>\n",
       "      <td>1.0</td>\n",
       "      <td>Urban</td>\n",
       "      <td>Y</td>\n",
       "    </tr>\n",
       "  </tbody>\n",
       "</table>\n",
       "</div>"
      ],
      "text/plain": [
       "    Loan_ID Gender Married Dependents     Education Self_Employed  \\\n",
       "0  LP001002   Male      No          0      Graduate            No   \n",
       "1  LP001003   Male     Yes          1      Graduate            No   \n",
       "2  LP001005   Male     Yes          0      Graduate           Yes   \n",
       "3  LP001006   Male     Yes          0  Not Graduate            No   \n",
       "4  LP001008   Male      No          0      Graduate            No   \n",
       "\n",
       "   ApplicantIncome  CoapplicantIncome  LoanAmount  Loan_Amount_Term  \\\n",
       "0             5849                0.0         NaN             360.0   \n",
       "1             4583             1508.0       128.0             360.0   \n",
       "2             3000                0.0        66.0             360.0   \n",
       "3             2583             2358.0       120.0             360.0   \n",
       "4             6000                0.0       141.0             360.0   \n",
       "\n",
       "   Credit_History Property_Area Loan_Status  \n",
       "0             1.0         Urban           Y  \n",
       "1             1.0         Rural           N  \n",
       "2             1.0         Urban           Y  \n",
       "3             1.0         Urban           Y  \n",
       "4             1.0         Urban           Y  "
      ]
     },
     "execution_count": 3,
     "metadata": {},
     "output_type": "execute_result"
    }
   ],
   "source": [
    "data.head()"
   ]
  },
  {
   "cell_type": "code",
   "execution_count": 4,
   "metadata": {},
   "outputs": [
    {
     "data": {
      "text/plain": [
       "(614, 13)"
      ]
     },
     "execution_count": 4,
     "metadata": {},
     "output_type": "execute_result"
    }
   ],
   "source": [
    "data.shape"
   ]
  },
  {
   "cell_type": "code",
   "execution_count": 5,
   "metadata": {},
   "outputs": [],
   "source": [
    "data.drop(\"Loan_ID\",axis=1,inplace=True)"
   ]
  },
  {
   "cell_type": "code",
   "execution_count": 6,
   "metadata": {},
   "outputs": [
    {
     "data": {
      "text/html": [
       "<div>\n",
       "<style scoped>\n",
       "    .dataframe tbody tr th:only-of-type {\n",
       "        vertical-align: middle;\n",
       "    }\n",
       "\n",
       "    .dataframe tbody tr th {\n",
       "        vertical-align: top;\n",
       "    }\n",
       "\n",
       "    .dataframe thead th {\n",
       "        text-align: right;\n",
       "    }\n",
       "</style>\n",
       "<table border=\"1\" class=\"dataframe\">\n",
       "  <thead>\n",
       "    <tr style=\"text-align: right;\">\n",
       "      <th></th>\n",
       "      <th>Gender</th>\n",
       "      <th>Married</th>\n",
       "      <th>Dependents</th>\n",
       "      <th>Education</th>\n",
       "      <th>Self_Employed</th>\n",
       "      <th>ApplicantIncome</th>\n",
       "      <th>CoapplicantIncome</th>\n",
       "      <th>LoanAmount</th>\n",
       "      <th>Loan_Amount_Term</th>\n",
       "      <th>Credit_History</th>\n",
       "      <th>Property_Area</th>\n",
       "      <th>Loan_Status</th>\n",
       "    </tr>\n",
       "  </thead>\n",
       "  <tbody>\n",
       "    <tr>\n",
       "      <th>0</th>\n",
       "      <td>Male</td>\n",
       "      <td>No</td>\n",
       "      <td>0</td>\n",
       "      <td>Graduate</td>\n",
       "      <td>No</td>\n",
       "      <td>5849</td>\n",
       "      <td>0.0</td>\n",
       "      <td>NaN</td>\n",
       "      <td>360.0</td>\n",
       "      <td>1.0</td>\n",
       "      <td>Urban</td>\n",
       "      <td>Y</td>\n",
       "    </tr>\n",
       "    <tr>\n",
       "      <th>1</th>\n",
       "      <td>Male</td>\n",
       "      <td>Yes</td>\n",
       "      <td>1</td>\n",
       "      <td>Graduate</td>\n",
       "      <td>No</td>\n",
       "      <td>4583</td>\n",
       "      <td>1508.0</td>\n",
       "      <td>128.0</td>\n",
       "      <td>360.0</td>\n",
       "      <td>1.0</td>\n",
       "      <td>Rural</td>\n",
       "      <td>N</td>\n",
       "    </tr>\n",
       "    <tr>\n",
       "      <th>2</th>\n",
       "      <td>Male</td>\n",
       "      <td>Yes</td>\n",
       "      <td>0</td>\n",
       "      <td>Graduate</td>\n",
       "      <td>Yes</td>\n",
       "      <td>3000</td>\n",
       "      <td>0.0</td>\n",
       "      <td>66.0</td>\n",
       "      <td>360.0</td>\n",
       "      <td>1.0</td>\n",
       "      <td>Urban</td>\n",
       "      <td>Y</td>\n",
       "    </tr>\n",
       "    <tr>\n",
       "      <th>3</th>\n",
       "      <td>Male</td>\n",
       "      <td>Yes</td>\n",
       "      <td>0</td>\n",
       "      <td>Not Graduate</td>\n",
       "      <td>No</td>\n",
       "      <td>2583</td>\n",
       "      <td>2358.0</td>\n",
       "      <td>120.0</td>\n",
       "      <td>360.0</td>\n",
       "      <td>1.0</td>\n",
       "      <td>Urban</td>\n",
       "      <td>Y</td>\n",
       "    </tr>\n",
       "    <tr>\n",
       "      <th>4</th>\n",
       "      <td>Male</td>\n",
       "      <td>No</td>\n",
       "      <td>0</td>\n",
       "      <td>Graduate</td>\n",
       "      <td>No</td>\n",
       "      <td>6000</td>\n",
       "      <td>0.0</td>\n",
       "      <td>141.0</td>\n",
       "      <td>360.0</td>\n",
       "      <td>1.0</td>\n",
       "      <td>Urban</td>\n",
       "      <td>Y</td>\n",
       "    </tr>\n",
       "  </tbody>\n",
       "</table>\n",
       "</div>"
      ],
      "text/plain": [
       "  Gender Married Dependents     Education Self_Employed  ApplicantIncome  \\\n",
       "0   Male      No          0      Graduate            No             5849   \n",
       "1   Male     Yes          1      Graduate            No             4583   \n",
       "2   Male     Yes          0      Graduate           Yes             3000   \n",
       "3   Male     Yes          0  Not Graduate            No             2583   \n",
       "4   Male      No          0      Graduate            No             6000   \n",
       "\n",
       "   CoapplicantIncome  LoanAmount  Loan_Amount_Term  Credit_History  \\\n",
       "0                0.0         NaN             360.0             1.0   \n",
       "1             1508.0       128.0             360.0             1.0   \n",
       "2                0.0        66.0             360.0             1.0   \n",
       "3             2358.0       120.0             360.0             1.0   \n",
       "4                0.0       141.0             360.0             1.0   \n",
       "\n",
       "  Property_Area Loan_Status  \n",
       "0         Urban           Y  \n",
       "1         Rural           N  \n",
       "2         Urban           Y  \n",
       "3         Urban           Y  \n",
       "4         Urban           Y  "
      ]
     },
     "execution_count": 6,
     "metadata": {},
     "output_type": "execute_result"
    }
   ],
   "source": [
    "data.head()"
   ]
  },
  {
   "cell_type": "code",
   "execution_count": 7,
   "metadata": {},
   "outputs": [
    {
     "data": {
      "text/plain": [
       "Gender               13\n",
       "Married               3\n",
       "Dependents           15\n",
       "Education             0\n",
       "Self_Employed        32\n",
       "ApplicantIncome       0\n",
       "CoapplicantIncome     0\n",
       "LoanAmount           22\n",
       "Loan_Amount_Term     14\n",
       "Credit_History       50\n",
       "Property_Area         0\n",
       "Loan_Status           0\n",
       "dtype: int64"
      ]
     },
     "execution_count": 7,
     "metadata": {},
     "output_type": "execute_result"
    }
   ],
   "source": [
    "data.isnull().sum()"
   ]
  },
  {
   "cell_type": "code",
   "execution_count": 8,
   "metadata": {},
   "outputs": [
    {
     "name": "stdout",
     "output_type": "stream",
     "text": [
      "Gender \t 2.12% missing values\n",
      "Married \t 0.49% missing values\n",
      "Dependents \t 2.44% missing values\n",
      "Self_Employed \t 5.21% missing values\n",
      "LoanAmount \t 3.58% missing values\n",
      "Loan_Amount_Term \t 2.28% missing values\n",
      "Credit_History \t 8.14% missing values\n"
     ]
    }
   ],
   "source": [
    "cols_with_nan= [feature for feature in data.columns if data[feature].isnull().sum()>1]\n",
    "\n",
    "for feature in cols_with_nan:\n",
    "    print(f\"{feature} \\t {np.round(data[feature].isnull().mean()*100,2)}% missing values\")"
   ]
  },
  {
   "cell_type": "code",
   "execution_count": 9,
   "metadata": {},
   "outputs": [
    {
     "name": "stdout",
     "output_type": "stream",
     "text": [
      "[INFO] loading categorical features having nan values....\n",
      "Gender\n",
      "Married\n",
      "Dependents\n",
      "Self_Employed\n"
     ]
    }
   ],
   "source": [
    "# Handling Categorical missing values\n",
    "\n",
    "cat_feat_nan= [feature for feature in data.columns if data[feature].isnull().sum()>1 and data[feature].dtype==\"O\"]\n",
    "\n",
    "print(\"[INFO] loading categorical features having nan values....\")\n",
    "\n",
    "for feature in cat_feat_nan:\n",
    "    print(feature)"
   ]
  },
  {
   "cell_type": "code",
   "execution_count": 10,
   "metadata": {},
   "outputs": [
    {
     "name": "stdout",
     "output_type": "stream",
     "text": [
      "[INFO] Filling Nan values....\n"
     ]
    }
   ],
   "source": [
    "def replace_cat_feature(dataset,feat_nan):\n",
    "    data=dataset.copy()\n",
    "    data[feat_nan]= data[feat_nan].fillna(\"Missing\")\n",
    "    return data\n",
    "\n",
    "print(\"[INFO] Filling Nan values....\")\n",
    "data= replace_cat_feature(data,cat_feat_nan)"
   ]
  },
  {
   "cell_type": "code",
   "execution_count": 11,
   "metadata": {},
   "outputs": [
    {
     "data": {
      "text/plain": [
       "Gender           0\n",
       "Married          0\n",
       "Dependents       0\n",
       "Self_Employed    0\n",
       "dtype: int64"
      ]
     },
     "execution_count": 11,
     "metadata": {},
     "output_type": "execute_result"
    }
   ],
   "source": [
    "data[cat_feat_nan].isnull().sum()"
   ]
  },
  {
   "cell_type": "code",
   "execution_count": 12,
   "metadata": {},
   "outputs": [
    {
     "data": {
      "text/html": [
       "<div>\n",
       "<style scoped>\n",
       "    .dataframe tbody tr th:only-of-type {\n",
       "        vertical-align: middle;\n",
       "    }\n",
       "\n",
       "    .dataframe tbody tr th {\n",
       "        vertical-align: top;\n",
       "    }\n",
       "\n",
       "    .dataframe thead th {\n",
       "        text-align: right;\n",
       "    }\n",
       "</style>\n",
       "<table border=\"1\" class=\"dataframe\">\n",
       "  <thead>\n",
       "    <tr style=\"text-align: right;\">\n",
       "      <th></th>\n",
       "      <th>Gender</th>\n",
       "      <th>Married</th>\n",
       "      <th>Dependents</th>\n",
       "      <th>Self_Employed</th>\n",
       "    </tr>\n",
       "  </thead>\n",
       "  <tbody>\n",
       "    <tr>\n",
       "      <th>0</th>\n",
       "      <td>Male</td>\n",
       "      <td>No</td>\n",
       "      <td>0</td>\n",
       "      <td>No</td>\n",
       "    </tr>\n",
       "    <tr>\n",
       "      <th>1</th>\n",
       "      <td>Male</td>\n",
       "      <td>Yes</td>\n",
       "      <td>1</td>\n",
       "      <td>No</td>\n",
       "    </tr>\n",
       "    <tr>\n",
       "      <th>2</th>\n",
       "      <td>Male</td>\n",
       "      <td>Yes</td>\n",
       "      <td>0</td>\n",
       "      <td>Yes</td>\n",
       "    </tr>\n",
       "  </tbody>\n",
       "</table>\n",
       "</div>"
      ],
      "text/plain": [
       "  Gender Married Dependents Self_Employed\n",
       "0   Male      No          0            No\n",
       "1   Male     Yes          1            No\n",
       "2   Male     Yes          0           Yes"
      ]
     },
     "execution_count": 12,
     "metadata": {},
     "output_type": "execute_result"
    }
   ],
   "source": [
    "data[cat_feat_nan].head(3)"
   ]
  },
  {
   "cell_type": "code",
   "execution_count": 13,
   "metadata": {},
   "outputs": [
    {
     "name": "stdout",
     "output_type": "stream",
     "text": [
      "[INFO] loading numerical features with nan....\n",
      "\n",
      "LoanAmount\t0.04% missing values\n",
      "Loan_Amount_Term\t0.02% missing values\n",
      "Credit_History\t0.08% missing values\n"
     ]
    }
   ],
   "source": [
    "# Handling numerical features having nan values\n",
    "\n",
    "num_feat_nan= [feature for feature in data.columns if data[feature].isnull().sum()>1 and data[feature].dtype!=\"O\"]\n",
    "\n",
    "print(\"[INFO] loading numerical features with nan....\\n\")\n",
    "\n",
    "for feature in num_feat_nan:\n",
    "    print(f\"{feature}\\t{np.round(data[feature].isnull().mean(),2)}% missing values\")"
   ]
  },
  {
   "cell_type": "code",
   "execution_count": 14,
   "metadata": {},
   "outputs": [],
   "source": [
    "data[\"LoanAmount\"].fillna(data[\"LoanAmount\"].median(),inplace=True)\n",
    "data[\"Loan_Amount_Term\"].fillna(data[\"Loan_Amount_Term\"],inplace=True)\n",
    "data[\"Credit_History\"].fillna(data[\"Credit_History\"].median(),inplace=True)"
   ]
  },
  {
   "cell_type": "code",
   "execution_count": 15,
   "metadata": {},
   "outputs": [
    {
     "name": "stdout",
     "output_type": "stream",
     "text": [
      "LoanAmount\t0.0% missing values\n",
      "Loan_Amount_Term\t0.02% missing values\n",
      "Credit_History\t0.0% missing values\n"
     ]
    }
   ],
   "source": [
    "for feature in num_feat_nan:\n",
    "    print(f\"{feature}\\t{np.round(data[feature].isnull().mean(),2)}% missing values\")"
   ]
  },
  {
   "cell_type": "code",
   "execution_count": 16,
   "metadata": {},
   "outputs": [
    {
     "data": {
      "text/plain": [
       "Gender                0\n",
       "Married               0\n",
       "Dependents            0\n",
       "Education             0\n",
       "Self_Employed         0\n",
       "ApplicantIncome       0\n",
       "CoapplicantIncome     0\n",
       "LoanAmount            0\n",
       "Loan_Amount_Term     14\n",
       "Credit_History        0\n",
       "Property_Area         0\n",
       "Loan_Status           0\n",
       "dtype: int64"
      ]
     },
     "execution_count": 16,
     "metadata": {},
     "output_type": "execute_result"
    }
   ],
   "source": [
    "data.isnull().sum()"
   ]
  },
  {
   "cell_type": "code",
   "execution_count": 17,
   "metadata": {},
   "outputs": [
    {
     "data": {
      "text/html": [
       "<div>\n",
       "<style scoped>\n",
       "    .dataframe tbody tr th:only-of-type {\n",
       "        vertical-align: middle;\n",
       "    }\n",
       "\n",
       "    .dataframe tbody tr th {\n",
       "        vertical-align: top;\n",
       "    }\n",
       "\n",
       "    .dataframe thead th {\n",
       "        text-align: right;\n",
       "    }\n",
       "</style>\n",
       "<table border=\"1\" class=\"dataframe\">\n",
       "  <thead>\n",
       "    <tr style=\"text-align: right;\">\n",
       "      <th></th>\n",
       "      <th>Gender</th>\n",
       "      <th>Married</th>\n",
       "      <th>Dependents</th>\n",
       "      <th>Education</th>\n",
       "      <th>Self_Employed</th>\n",
       "      <th>ApplicantIncome</th>\n",
       "      <th>CoapplicantIncome</th>\n",
       "      <th>LoanAmount</th>\n",
       "      <th>Loan_Amount_Term</th>\n",
       "      <th>Credit_History</th>\n",
       "      <th>Property_Area</th>\n",
       "      <th>Loan_Status</th>\n",
       "    </tr>\n",
       "  </thead>\n",
       "  <tbody>\n",
       "    <tr>\n",
       "      <th>0</th>\n",
       "      <td>Male</td>\n",
       "      <td>No</td>\n",
       "      <td>0</td>\n",
       "      <td>Graduate</td>\n",
       "      <td>No</td>\n",
       "      <td>5849</td>\n",
       "      <td>0.0</td>\n",
       "      <td>128.0</td>\n",
       "      <td>360.0</td>\n",
       "      <td>1.0</td>\n",
       "      <td>Urban</td>\n",
       "      <td>Y</td>\n",
       "    </tr>\n",
       "    <tr>\n",
       "      <th>1</th>\n",
       "      <td>Male</td>\n",
       "      <td>Yes</td>\n",
       "      <td>1</td>\n",
       "      <td>Graduate</td>\n",
       "      <td>No</td>\n",
       "      <td>4583</td>\n",
       "      <td>1508.0</td>\n",
       "      <td>128.0</td>\n",
       "      <td>360.0</td>\n",
       "      <td>1.0</td>\n",
       "      <td>Rural</td>\n",
       "      <td>N</td>\n",
       "    </tr>\n",
       "    <tr>\n",
       "      <th>2</th>\n",
       "      <td>Male</td>\n",
       "      <td>Yes</td>\n",
       "      <td>0</td>\n",
       "      <td>Graduate</td>\n",
       "      <td>Yes</td>\n",
       "      <td>3000</td>\n",
       "      <td>0.0</td>\n",
       "      <td>66.0</td>\n",
       "      <td>360.0</td>\n",
       "      <td>1.0</td>\n",
       "      <td>Urban</td>\n",
       "      <td>Y</td>\n",
       "    </tr>\n",
       "    <tr>\n",
       "      <th>3</th>\n",
       "      <td>Male</td>\n",
       "      <td>Yes</td>\n",
       "      <td>0</td>\n",
       "      <td>Not Graduate</td>\n",
       "      <td>No</td>\n",
       "      <td>2583</td>\n",
       "      <td>2358.0</td>\n",
       "      <td>120.0</td>\n",
       "      <td>360.0</td>\n",
       "      <td>1.0</td>\n",
       "      <td>Urban</td>\n",
       "      <td>Y</td>\n",
       "    </tr>\n",
       "    <tr>\n",
       "      <th>4</th>\n",
       "      <td>Male</td>\n",
       "      <td>No</td>\n",
       "      <td>0</td>\n",
       "      <td>Graduate</td>\n",
       "      <td>No</td>\n",
       "      <td>6000</td>\n",
       "      <td>0.0</td>\n",
       "      <td>141.0</td>\n",
       "      <td>360.0</td>\n",
       "      <td>1.0</td>\n",
       "      <td>Urban</td>\n",
       "      <td>Y</td>\n",
       "    </tr>\n",
       "  </tbody>\n",
       "</table>\n",
       "</div>"
      ],
      "text/plain": [
       "  Gender Married Dependents     Education Self_Employed  ApplicantIncome  \\\n",
       "0   Male      No          0      Graduate            No             5849   \n",
       "1   Male     Yes          1      Graduate            No             4583   \n",
       "2   Male     Yes          0      Graduate           Yes             3000   \n",
       "3   Male     Yes          0  Not Graduate            No             2583   \n",
       "4   Male      No          0      Graduate            No             6000   \n",
       "\n",
       "   CoapplicantIncome  LoanAmount  Loan_Amount_Term  Credit_History  \\\n",
       "0                0.0       128.0             360.0             1.0   \n",
       "1             1508.0       128.0             360.0             1.0   \n",
       "2                0.0        66.0             360.0             1.0   \n",
       "3             2358.0       120.0             360.0             1.0   \n",
       "4                0.0       141.0             360.0             1.0   \n",
       "\n",
       "  Property_Area Loan_Status  \n",
       "0         Urban           Y  \n",
       "1         Rural           N  \n",
       "2         Urban           Y  \n",
       "3         Urban           Y  \n",
       "4         Urban           Y  "
      ]
     },
     "execution_count": 17,
     "metadata": {},
     "output_type": "execute_result"
    }
   ],
   "source": [
    "data.head(5)"
   ]
  },
  {
   "cell_type": "code",
   "execution_count": 18,
   "metadata": {},
   "outputs": [],
   "source": [
    "data[\"Loan_Amount_Term\"].fillna(data[\"Loan_Amount_Term\"].median(),inplace=True)"
   ]
  },
  {
   "cell_type": "code",
   "execution_count": 19,
   "metadata": {},
   "outputs": [
    {
     "data": {
      "text/plain": [
       "Gender               0\n",
       "Married              0\n",
       "Dependents           0\n",
       "Education            0\n",
       "Self_Employed        0\n",
       "ApplicantIncome      0\n",
       "CoapplicantIncome    0\n",
       "LoanAmount           0\n",
       "Loan_Amount_Term     0\n",
       "Credit_History       0\n",
       "Property_Area        0\n",
       "Loan_Status          0\n",
       "dtype: int64"
      ]
     },
     "execution_count": 19,
     "metadata": {},
     "output_type": "execute_result"
    }
   ],
   "source": [
    "data.isnull().sum()"
   ]
  },
  {
   "cell_type": "code",
   "execution_count": 20,
   "metadata": {},
   "outputs": [],
   "source": [
    "X= data.drop([\"Loan_Status\"],axis=1)"
   ]
  },
  {
   "cell_type": "code",
   "execution_count": 21,
   "metadata": {},
   "outputs": [
    {
     "data": {
      "text/html": [
       "<div>\n",
       "<style scoped>\n",
       "    .dataframe tbody tr th:only-of-type {\n",
       "        vertical-align: middle;\n",
       "    }\n",
       "\n",
       "    .dataframe tbody tr th {\n",
       "        vertical-align: top;\n",
       "    }\n",
       "\n",
       "    .dataframe thead th {\n",
       "        text-align: right;\n",
       "    }\n",
       "</style>\n",
       "<table border=\"1\" class=\"dataframe\">\n",
       "  <thead>\n",
       "    <tr style=\"text-align: right;\">\n",
       "      <th></th>\n",
       "      <th>Gender</th>\n",
       "      <th>Married</th>\n",
       "      <th>Dependents</th>\n",
       "      <th>Education</th>\n",
       "      <th>Self_Employed</th>\n",
       "      <th>ApplicantIncome</th>\n",
       "      <th>CoapplicantIncome</th>\n",
       "      <th>LoanAmount</th>\n",
       "      <th>Loan_Amount_Term</th>\n",
       "      <th>Credit_History</th>\n",
       "      <th>Property_Area</th>\n",
       "    </tr>\n",
       "  </thead>\n",
       "  <tbody>\n",
       "    <tr>\n",
       "      <th>0</th>\n",
       "      <td>Male</td>\n",
       "      <td>No</td>\n",
       "      <td>0</td>\n",
       "      <td>Graduate</td>\n",
       "      <td>No</td>\n",
       "      <td>5849</td>\n",
       "      <td>0.0</td>\n",
       "      <td>128.0</td>\n",
       "      <td>360.0</td>\n",
       "      <td>1.0</td>\n",
       "      <td>Urban</td>\n",
       "    </tr>\n",
       "    <tr>\n",
       "      <th>1</th>\n",
       "      <td>Male</td>\n",
       "      <td>Yes</td>\n",
       "      <td>1</td>\n",
       "      <td>Graduate</td>\n",
       "      <td>No</td>\n",
       "      <td>4583</td>\n",
       "      <td>1508.0</td>\n",
       "      <td>128.0</td>\n",
       "      <td>360.0</td>\n",
       "      <td>1.0</td>\n",
       "      <td>Rural</td>\n",
       "    </tr>\n",
       "    <tr>\n",
       "      <th>2</th>\n",
       "      <td>Male</td>\n",
       "      <td>Yes</td>\n",
       "      <td>0</td>\n",
       "      <td>Graduate</td>\n",
       "      <td>Yes</td>\n",
       "      <td>3000</td>\n",
       "      <td>0.0</td>\n",
       "      <td>66.0</td>\n",
       "      <td>360.0</td>\n",
       "      <td>1.0</td>\n",
       "      <td>Urban</td>\n",
       "    </tr>\n",
       "    <tr>\n",
       "      <th>3</th>\n",
       "      <td>Male</td>\n",
       "      <td>Yes</td>\n",
       "      <td>0</td>\n",
       "      <td>Not Graduate</td>\n",
       "      <td>No</td>\n",
       "      <td>2583</td>\n",
       "      <td>2358.0</td>\n",
       "      <td>120.0</td>\n",
       "      <td>360.0</td>\n",
       "      <td>1.0</td>\n",
       "      <td>Urban</td>\n",
       "    </tr>\n",
       "    <tr>\n",
       "      <th>4</th>\n",
       "      <td>Male</td>\n",
       "      <td>No</td>\n",
       "      <td>0</td>\n",
       "      <td>Graduate</td>\n",
       "      <td>No</td>\n",
       "      <td>6000</td>\n",
       "      <td>0.0</td>\n",
       "      <td>141.0</td>\n",
       "      <td>360.0</td>\n",
       "      <td>1.0</td>\n",
       "      <td>Urban</td>\n",
       "    </tr>\n",
       "  </tbody>\n",
       "</table>\n",
       "</div>"
      ],
      "text/plain": [
       "  Gender Married Dependents     Education Self_Employed  ApplicantIncome  \\\n",
       "0   Male      No          0      Graduate            No             5849   \n",
       "1   Male     Yes          1      Graduate            No             4583   \n",
       "2   Male     Yes          0      Graduate           Yes             3000   \n",
       "3   Male     Yes          0  Not Graduate            No             2583   \n",
       "4   Male      No          0      Graduate            No             6000   \n",
       "\n",
       "   CoapplicantIncome  LoanAmount  Loan_Amount_Term  Credit_History  \\\n",
       "0                0.0       128.0             360.0             1.0   \n",
       "1             1508.0       128.0             360.0             1.0   \n",
       "2                0.0        66.0             360.0             1.0   \n",
       "3             2358.0       120.0             360.0             1.0   \n",
       "4                0.0       141.0             360.0             1.0   \n",
       "\n",
       "  Property_Area  \n",
       "0         Urban  \n",
       "1         Rural  \n",
       "2         Urban  \n",
       "3         Urban  \n",
       "4         Urban  "
      ]
     },
     "execution_count": 21,
     "metadata": {},
     "output_type": "execute_result"
    }
   ],
   "source": [
    "X.head()"
   ]
  },
  {
   "cell_type": "code",
   "execution_count": 22,
   "metadata": {},
   "outputs": [
    {
     "data": {
      "text/plain": [
       "0          345\n",
       "1          102\n",
       "2          101\n",
       "3+          51\n",
       "Missing     15\n",
       "Name: Dependents, dtype: int64"
      ]
     },
     "execution_count": 22,
     "metadata": {},
     "output_type": "execute_result"
    }
   ],
   "source": [
    "X[\"Dependents\"].value_counts()"
   ]
  },
  {
   "cell_type": "code",
   "execution_count": 23,
   "metadata": {},
   "outputs": [],
   "source": [
    "y= data.iloc[:,[-1]]"
   ]
  },
  {
   "cell_type": "code",
   "execution_count": 24,
   "metadata": {},
   "outputs": [
    {
     "data": {
      "text/html": [
       "<div>\n",
       "<style scoped>\n",
       "    .dataframe tbody tr th:only-of-type {\n",
       "        vertical-align: middle;\n",
       "    }\n",
       "\n",
       "    .dataframe tbody tr th {\n",
       "        vertical-align: top;\n",
       "    }\n",
       "\n",
       "    .dataframe thead th {\n",
       "        text-align: right;\n",
       "    }\n",
       "</style>\n",
       "<table border=\"1\" class=\"dataframe\">\n",
       "  <thead>\n",
       "    <tr style=\"text-align: right;\">\n",
       "      <th></th>\n",
       "      <th>Loan_Status</th>\n",
       "    </tr>\n",
       "  </thead>\n",
       "  <tbody>\n",
       "    <tr>\n",
       "      <th>0</th>\n",
       "      <td>Y</td>\n",
       "    </tr>\n",
       "    <tr>\n",
       "      <th>1</th>\n",
       "      <td>N</td>\n",
       "    </tr>\n",
       "    <tr>\n",
       "      <th>2</th>\n",
       "      <td>Y</td>\n",
       "    </tr>\n",
       "    <tr>\n",
       "      <th>3</th>\n",
       "      <td>Y</td>\n",
       "    </tr>\n",
       "    <tr>\n",
       "      <th>4</th>\n",
       "      <td>Y</td>\n",
       "    </tr>\n",
       "  </tbody>\n",
       "</table>\n",
       "</div>"
      ],
      "text/plain": [
       "  Loan_Status\n",
       "0           Y\n",
       "1           N\n",
       "2           Y\n",
       "3           Y\n",
       "4           Y"
      ]
     },
     "execution_count": 24,
     "metadata": {},
     "output_type": "execute_result"
    }
   ],
   "source": [
    "y.head()"
   ]
  },
  {
   "cell_type": "code",
   "execution_count": 25,
   "metadata": {},
   "outputs": [],
   "source": [
    "from sklearn.preprocessing import LabelEncoder"
   ]
  },
  {
   "cell_type": "code",
   "execution_count": 26,
   "metadata": {},
   "outputs": [],
   "source": [
    "lb= LabelEncoder()"
   ]
  },
  {
   "cell_type": "code",
   "execution_count": 27,
   "metadata": {},
   "outputs": [],
   "source": [
    "X[\"Gender\"]= lb.fit_transform(X[\"Gender\"])\n",
    "X[\"Married\"]= lb.fit_transform(X[\"Married\"])\n",
    "X[\"Education\"]= lb.fit_transform(X[\"Education\"])\n",
    "X[\"Property_Area\"]= lb.fit_transform(X[\"Property_Area\"])\n",
    "X[\"Self_Employed\"]= lb.fit_transform(X[\"Self_Employed\"])\n",
    "X[\"Dependents\"]= lb.fit_transform(X[\"Dependents\"])"
   ]
  },
  {
   "cell_type": "code",
   "execution_count": 28,
   "metadata": {},
   "outputs": [
    {
     "data": {
      "text/html": [
       "<div>\n",
       "<style scoped>\n",
       "    .dataframe tbody tr th:only-of-type {\n",
       "        vertical-align: middle;\n",
       "    }\n",
       "\n",
       "    .dataframe tbody tr th {\n",
       "        vertical-align: top;\n",
       "    }\n",
       "\n",
       "    .dataframe thead th {\n",
       "        text-align: right;\n",
       "    }\n",
       "</style>\n",
       "<table border=\"1\" class=\"dataframe\">\n",
       "  <thead>\n",
       "    <tr style=\"text-align: right;\">\n",
       "      <th></th>\n",
       "      <th>Gender</th>\n",
       "      <th>Married</th>\n",
       "      <th>Dependents</th>\n",
       "      <th>Education</th>\n",
       "      <th>Self_Employed</th>\n",
       "      <th>ApplicantIncome</th>\n",
       "      <th>CoapplicantIncome</th>\n",
       "      <th>LoanAmount</th>\n",
       "      <th>Loan_Amount_Term</th>\n",
       "      <th>Credit_History</th>\n",
       "      <th>Property_Area</th>\n",
       "    </tr>\n",
       "  </thead>\n",
       "  <tbody>\n",
       "    <tr>\n",
       "      <th>0</th>\n",
       "      <td>1</td>\n",
       "      <td>1</td>\n",
       "      <td>0</td>\n",
       "      <td>0</td>\n",
       "      <td>1</td>\n",
       "      <td>5849</td>\n",
       "      <td>0.0</td>\n",
       "      <td>128.0</td>\n",
       "      <td>360.0</td>\n",
       "      <td>1.0</td>\n",
       "      <td>2</td>\n",
       "    </tr>\n",
       "    <tr>\n",
       "      <th>1</th>\n",
       "      <td>1</td>\n",
       "      <td>2</td>\n",
       "      <td>1</td>\n",
       "      <td>0</td>\n",
       "      <td>1</td>\n",
       "      <td>4583</td>\n",
       "      <td>1508.0</td>\n",
       "      <td>128.0</td>\n",
       "      <td>360.0</td>\n",
       "      <td>1.0</td>\n",
       "      <td>0</td>\n",
       "    </tr>\n",
       "    <tr>\n",
       "      <th>2</th>\n",
       "      <td>1</td>\n",
       "      <td>2</td>\n",
       "      <td>0</td>\n",
       "      <td>0</td>\n",
       "      <td>2</td>\n",
       "      <td>3000</td>\n",
       "      <td>0.0</td>\n",
       "      <td>66.0</td>\n",
       "      <td>360.0</td>\n",
       "      <td>1.0</td>\n",
       "      <td>2</td>\n",
       "    </tr>\n",
       "    <tr>\n",
       "      <th>3</th>\n",
       "      <td>1</td>\n",
       "      <td>2</td>\n",
       "      <td>0</td>\n",
       "      <td>1</td>\n",
       "      <td>1</td>\n",
       "      <td>2583</td>\n",
       "      <td>2358.0</td>\n",
       "      <td>120.0</td>\n",
       "      <td>360.0</td>\n",
       "      <td>1.0</td>\n",
       "      <td>2</td>\n",
       "    </tr>\n",
       "    <tr>\n",
       "      <th>4</th>\n",
       "      <td>1</td>\n",
       "      <td>1</td>\n",
       "      <td>0</td>\n",
       "      <td>0</td>\n",
       "      <td>1</td>\n",
       "      <td>6000</td>\n",
       "      <td>0.0</td>\n",
       "      <td>141.0</td>\n",
       "      <td>360.0</td>\n",
       "      <td>1.0</td>\n",
       "      <td>2</td>\n",
       "    </tr>\n",
       "  </tbody>\n",
       "</table>\n",
       "</div>"
      ],
      "text/plain": [
       "   Gender  Married  Dependents  Education  Self_Employed  ApplicantIncome  \\\n",
       "0       1        1           0          0              1             5849   \n",
       "1       1        2           1          0              1             4583   \n",
       "2       1        2           0          0              2             3000   \n",
       "3       1        2           0          1              1             2583   \n",
       "4       1        1           0          0              1             6000   \n",
       "\n",
       "   CoapplicantIncome  LoanAmount  Loan_Amount_Term  Credit_History  \\\n",
       "0                0.0       128.0             360.0             1.0   \n",
       "1             1508.0       128.0             360.0             1.0   \n",
       "2                0.0        66.0             360.0             1.0   \n",
       "3             2358.0       120.0             360.0             1.0   \n",
       "4                0.0       141.0             360.0             1.0   \n",
       "\n",
       "   Property_Area  \n",
       "0              2  \n",
       "1              0  \n",
       "2              2  \n",
       "3              2  \n",
       "4              2  "
      ]
     },
     "execution_count": 28,
     "metadata": {},
     "output_type": "execute_result"
    }
   ],
   "source": [
    "X.head()"
   ]
  },
  {
   "cell_type": "code",
   "execution_count": 29,
   "metadata": {},
   "outputs": [],
   "source": [
    "# Doing One Hot Encoding for all the categorical features\n",
    "\n",
    "# gender= pd.get_dummies(X[\"Gender\"],drop_first=True)\n",
    "# married= pd.get_dummies(X[\"Married\"],drop_first=True)\n",
    "# education= pd.get_dummies(X[\"Education\"],drop_first=True)\n",
    "# property_area= pd.get_dummies(X[\"Property_Area\"],drop_first=True)\n",
    "# employed= pd.get_dummies(X[\"Self_Employed\"],drop_first=True)\n",
    "# dependents= pd.get_dummies(X[\"Dependents\"],drop_first=True)"
   ]
  },
  {
   "cell_type": "code",
   "execution_count": 30,
   "metadata": {},
   "outputs": [],
   "source": [
    "# X= pd.concat([X,gender],axis=1)"
   ]
  },
  {
   "cell_type": "code",
   "execution_count": 31,
   "metadata": {},
   "outputs": [],
   "source": [
    "# X= pd.concat([X,married,education],axis=1)"
   ]
  },
  {
   "cell_type": "code",
   "execution_count": 32,
   "metadata": {},
   "outputs": [],
   "source": [
    "# X= pd.concat([X,property_area],axis=1)"
   ]
  },
  {
   "cell_type": "code",
   "execution_count": 33,
   "metadata": {},
   "outputs": [],
   "source": [
    "# X= pd.concat([X,employed],axis=1)"
   ]
  },
  {
   "cell_type": "code",
   "execution_count": 34,
   "metadata": {},
   "outputs": [],
   "source": [
    "# X= pd.concat([X,dependents],axis=1)"
   ]
  },
  {
   "cell_type": "code",
   "execution_count": null,
   "metadata": {},
   "outputs": [],
   "source": []
  },
  {
   "cell_type": "code",
   "execution_count": null,
   "metadata": {},
   "outputs": [],
   "source": []
  },
  {
   "cell_type": "code",
   "execution_count": 35,
   "metadata": {},
   "outputs": [
    {
     "data": {
      "text/html": [
       "<div>\n",
       "<style scoped>\n",
       "    .dataframe tbody tr th:only-of-type {\n",
       "        vertical-align: middle;\n",
       "    }\n",
       "\n",
       "    .dataframe tbody tr th {\n",
       "        vertical-align: top;\n",
       "    }\n",
       "\n",
       "    .dataframe thead th {\n",
       "        text-align: right;\n",
       "    }\n",
       "</style>\n",
       "<table border=\"1\" class=\"dataframe\">\n",
       "  <thead>\n",
       "    <tr style=\"text-align: right;\">\n",
       "      <th></th>\n",
       "      <th>Gender</th>\n",
       "      <th>Married</th>\n",
       "      <th>Dependents</th>\n",
       "      <th>Education</th>\n",
       "      <th>Self_Employed</th>\n",
       "      <th>ApplicantIncome</th>\n",
       "      <th>CoapplicantIncome</th>\n",
       "      <th>LoanAmount</th>\n",
       "      <th>Loan_Amount_Term</th>\n",
       "      <th>Credit_History</th>\n",
       "      <th>Property_Area</th>\n",
       "    </tr>\n",
       "  </thead>\n",
       "  <tbody>\n",
       "    <tr>\n",
       "      <th>0</th>\n",
       "      <td>1</td>\n",
       "      <td>1</td>\n",
       "      <td>0</td>\n",
       "      <td>0</td>\n",
       "      <td>1</td>\n",
       "      <td>5849</td>\n",
       "      <td>0.0</td>\n",
       "      <td>128.0</td>\n",
       "      <td>360.0</td>\n",
       "      <td>1.0</td>\n",
       "      <td>2</td>\n",
       "    </tr>\n",
       "    <tr>\n",
       "      <th>1</th>\n",
       "      <td>1</td>\n",
       "      <td>2</td>\n",
       "      <td>1</td>\n",
       "      <td>0</td>\n",
       "      <td>1</td>\n",
       "      <td>4583</td>\n",
       "      <td>1508.0</td>\n",
       "      <td>128.0</td>\n",
       "      <td>360.0</td>\n",
       "      <td>1.0</td>\n",
       "      <td>0</td>\n",
       "    </tr>\n",
       "    <tr>\n",
       "      <th>2</th>\n",
       "      <td>1</td>\n",
       "      <td>2</td>\n",
       "      <td>0</td>\n",
       "      <td>0</td>\n",
       "      <td>2</td>\n",
       "      <td>3000</td>\n",
       "      <td>0.0</td>\n",
       "      <td>66.0</td>\n",
       "      <td>360.0</td>\n",
       "      <td>1.0</td>\n",
       "      <td>2</td>\n",
       "    </tr>\n",
       "    <tr>\n",
       "      <th>3</th>\n",
       "      <td>1</td>\n",
       "      <td>2</td>\n",
       "      <td>0</td>\n",
       "      <td>1</td>\n",
       "      <td>1</td>\n",
       "      <td>2583</td>\n",
       "      <td>2358.0</td>\n",
       "      <td>120.0</td>\n",
       "      <td>360.0</td>\n",
       "      <td>1.0</td>\n",
       "      <td>2</td>\n",
       "    </tr>\n",
       "    <tr>\n",
       "      <th>4</th>\n",
       "      <td>1</td>\n",
       "      <td>1</td>\n",
       "      <td>0</td>\n",
       "      <td>0</td>\n",
       "      <td>1</td>\n",
       "      <td>6000</td>\n",
       "      <td>0.0</td>\n",
       "      <td>141.0</td>\n",
       "      <td>360.0</td>\n",
       "      <td>1.0</td>\n",
       "      <td>2</td>\n",
       "    </tr>\n",
       "  </tbody>\n",
       "</table>\n",
       "</div>"
      ],
      "text/plain": [
       "   Gender  Married  Dependents  Education  Self_Employed  ApplicantIncome  \\\n",
       "0       1        1           0          0              1             5849   \n",
       "1       1        2           1          0              1             4583   \n",
       "2       1        2           0          0              2             3000   \n",
       "3       1        2           0          1              1             2583   \n",
       "4       1        1           0          0              1             6000   \n",
       "\n",
       "   CoapplicantIncome  LoanAmount  Loan_Amount_Term  Credit_History  \\\n",
       "0                0.0       128.0             360.0             1.0   \n",
       "1             1508.0       128.0             360.0             1.0   \n",
       "2                0.0        66.0             360.0             1.0   \n",
       "3             2358.0       120.0             360.0             1.0   \n",
       "4                0.0       141.0             360.0             1.0   \n",
       "\n",
       "   Property_Area  \n",
       "0              2  \n",
       "1              0  \n",
       "2              2  \n",
       "3              2  \n",
       "4              2  "
      ]
     },
     "execution_count": 35,
     "metadata": {},
     "output_type": "execute_result"
    }
   ],
   "source": [
    "X.head()"
   ]
  },
  {
   "cell_type": "code",
   "execution_count": 36,
   "metadata": {},
   "outputs": [
    {
     "data": {
      "text/plain": [
       "(614, 11)"
      ]
     },
     "execution_count": 36,
     "metadata": {},
     "output_type": "execute_result"
    }
   ],
   "source": [
    "X.shape"
   ]
  },
  {
   "cell_type": "code",
   "execution_count": 37,
   "metadata": {},
   "outputs": [
    {
     "name": "stderr",
     "output_type": "stream",
     "text": [
      "c:\\python3.6\\lib\\site-packages\\sklearn\\preprocessing\\_label.py:251: DataConversionWarning: A column-vector y was passed when a 1d array was expected. Please change the shape of y to (n_samples, ), for example using ravel().\n",
      "  y = column_or_1d(y, warn=True)\n"
     ]
    }
   ],
   "source": [
    "# loan= pd.get_dummies(y[\"Loan_Status\"],prefix=\"Loan\",drop_first=True)\n",
    "y= lb.fit_transform(y)"
   ]
  },
  {
   "cell_type": "code",
   "execution_count": 38,
   "metadata": {},
   "outputs": [],
   "source": [
    "# y= pd.concat([y,loan],axis=1)"
   ]
  },
  {
   "cell_type": "code",
   "execution_count": 39,
   "metadata": {},
   "outputs": [],
   "source": [
    "# y.drop([\"Loan_Status\"],axis=1,inplace=True)"
   ]
  },
  {
   "cell_type": "code",
   "execution_count": 40,
   "metadata": {},
   "outputs": [
    {
     "data": {
      "text/plain": [
       "array([1, 0, 1, 1, 1, 1, 1, 0, 1, 0, 1, 1, 1, 0, 1, 1, 1, 0, 0, 1, 0, 1,\n",
       "       0, 0, 0, 1, 1, 1, 0, 1, 0, 0, 0, 1, 0, 1, 0, 1, 1, 1, 0, 1, 1, 1,\n",
       "       1, 1, 1, 1, 0, 1, 1, 1, 0, 0, 0, 1, 1, 0, 1, 1, 1, 1, 0, 0, 0, 0,\n",
       "       0, 1, 1, 0, 1, 1, 1, 0, 1, 0, 0, 0, 0, 1, 1, 1, 0, 0, 1, 1, 1, 1,\n",
       "       1, 1, 1, 1, 1, 1, 1, 0, 1, 1, 1, 1, 1, 1, 1, 1, 1, 1, 1, 0, 0, 1,\n",
       "       1, 1, 0, 1, 1, 1, 1, 1, 0, 1, 1, 1, 1, 1, 1, 1, 1, 1, 0, 0, 1, 1,\n",
       "       1, 1, 1, 0, 0, 1, 0, 0, 0, 1, 1, 1, 1, 1, 1, 1, 0, 1, 0, 1, 0, 0,\n",
       "       1, 1, 1, 1, 1, 1, 1, 0, 0, 1, 1, 1, 0, 1, 0, 1, 1, 1, 0, 1, 0, 1,\n",
       "       1, 0, 1, 0, 0, 0, 1, 0, 1, 1, 0, 1, 1, 1, 1, 0, 0, 1, 1, 0, 1, 1,\n",
       "       1, 0, 1, 1, 0, 1, 1, 1, 1, 1, 1, 0, 0, 0, 1, 1, 1, 1, 0, 1, 0, 1,\n",
       "       0, 1, 1, 1, 1, 0, 0, 1, 1, 1, 1, 1, 1, 1, 1, 1, 0, 1, 1, 1, 1, 0,\n",
       "       1, 1, 1, 0, 1, 1, 1, 1, 0, 0, 1, 1, 0, 1, 0, 0, 0, 0, 1, 1, 0, 1,\n",
       "       1, 1, 1, 1, 0, 1, 1, 1, 1, 1, 1, 1, 1, 1, 1, 1, 0, 1, 1, 1, 0, 1,\n",
       "       0, 1, 1, 1, 1, 0, 1, 0, 1, 1, 1, 1, 0, 0, 0, 1, 1, 1, 1, 0, 1, 0,\n",
       "       0, 1, 1, 1, 1, 1, 0, 1, 1, 1, 1, 0, 1, 1, 1, 1, 1, 0, 1, 1, 0, 1,\n",
       "       1, 1, 1, 1, 1, 1, 1, 1, 0, 1, 0, 0, 1, 1, 1, 1, 0, 1, 1, 1, 1, 0,\n",
       "       1, 0, 1, 1, 1, 0, 0, 1, 0, 1, 1, 1, 1, 0, 0, 0, 1, 0, 1, 1, 1, 0,\n",
       "       1, 1, 1, 1, 0, 1, 1, 1, 1, 1, 0, 1, 1, 0, 1, 1, 1, 1, 1, 1, 1, 1,\n",
       "       0, 1, 1, 0, 0, 0, 1, 1, 0, 1, 1, 1, 0, 0, 0, 1, 0, 1, 0, 1, 0, 0,\n",
       "       1, 1, 1, 0, 1, 0, 1, 1, 0, 1, 1, 1, 1, 0, 1, 1, 1, 1, 1, 1, 0, 1,\n",
       "       1, 1, 1, 1, 1, 1, 1, 0, 0, 0, 0, 1, 0, 1, 1, 1, 1, 0, 1, 0, 1, 1,\n",
       "       1, 1, 0, 1, 0, 1, 1, 0, 1, 0, 1, 1, 1, 1, 1, 0, 1, 0, 1, 1, 1, 1,\n",
       "       1, 1, 0, 0, 1, 0, 1, 1, 1, 1, 0, 1, 1, 1, 1, 0, 1, 1, 1, 0, 1, 1,\n",
       "       1, 0, 1, 1, 0, 1, 1, 0, 0, 1, 1, 0, 0, 0, 1, 1, 1, 1, 0, 1, 1, 1,\n",
       "       1, 1, 1, 1, 0, 0, 1, 1, 1, 1, 0, 1, 1, 0, 1, 1, 1, 1, 0, 1, 0, 1,\n",
       "       0, 1, 1, 0, 0, 1, 1, 1, 1, 1, 1, 1, 1, 1, 0, 1, 1, 0, 0, 0, 1, 0,\n",
       "       1, 0, 0, 1, 0, 1, 1, 1, 1, 0, 1, 0, 0, 0, 1, 1, 1, 0, 1, 0, 1, 1,\n",
       "       1, 1, 0, 0, 1, 1, 0, 1, 1, 1, 1, 0, 1, 1, 1, 1, 1, 1, 1, 0])"
      ]
     },
     "execution_count": 40,
     "metadata": {},
     "output_type": "execute_result"
    }
   ],
   "source": [
    "y"
   ]
  },
  {
   "cell_type": "code",
   "execution_count": 41,
   "metadata": {},
   "outputs": [],
   "source": [
    "from sklearn.preprocessing import MinMaxScaler"
   ]
  },
  {
   "cell_type": "code",
   "execution_count": 42,
   "metadata": {},
   "outputs": [],
   "source": [
    "scaler= MinMaxScaler()"
   ]
  },
  {
   "cell_type": "code",
   "execution_count": 43,
   "metadata": {},
   "outputs": [],
   "source": [
    "X= scaler.fit_transform(X)"
   ]
  },
  {
   "cell_type": "code",
   "execution_count": 44,
   "metadata": {},
   "outputs": [],
   "source": [
    "from sklearn.model_selection import train_test_split"
   ]
  },
  {
   "cell_type": "code",
   "execution_count": 45,
   "metadata": {},
   "outputs": [],
   "source": [
    "X_train, X_test, y_train, y_test= train_test_split(X,y,test_size=0.2,random_state=42)"
   ]
  },
  {
   "cell_type": "code",
   "execution_count": 46,
   "metadata": {},
   "outputs": [
    {
     "data": {
      "text/plain": [
       "((491, 11), (123, 11))"
      ]
     },
     "execution_count": 46,
     "metadata": {},
     "output_type": "execute_result"
    }
   ],
   "source": [
    "X_train.shape,X_test.shape"
   ]
  },
  {
   "cell_type": "markdown",
   "metadata": {},
   "source": [
    "# XGBoost"
   ]
  },
  {
   "cell_type": "code",
   "execution_count": 47,
   "metadata": {},
   "outputs": [],
   "source": [
    "import xgboost"
   ]
  },
  {
   "cell_type": "code",
   "execution_count": 48,
   "metadata": {},
   "outputs": [],
   "source": [
    "xg= xgboost.XGBClassifier()"
   ]
  },
  {
   "cell_type": "code",
   "execution_count": 49,
   "metadata": {},
   "outputs": [
    {
     "data": {
      "text/plain": [
       "XGBClassifier(base_score=0.5, booster='gbtree', colsample_bylevel=1,\n",
       "              colsample_bynode=1, colsample_bytree=1, gamma=0,\n",
       "              learning_rate=0.1, max_delta_step=0, max_depth=3,\n",
       "              min_child_weight=1, missing=None, n_estimators=100, n_jobs=1,\n",
       "              nthread=None, objective='binary:logistic', random_state=0,\n",
       "              reg_alpha=0, reg_lambda=1, scale_pos_weight=1, seed=None,\n",
       "              silent=None, subsample=1, verbosity=1)"
      ]
     },
     "execution_count": 49,
     "metadata": {},
     "output_type": "execute_result"
    }
   ],
   "source": [
    "xg.fit(X_train,y_train)"
   ]
  },
  {
   "cell_type": "code",
   "execution_count": 50,
   "metadata": {},
   "outputs": [
    {
     "data": {
      "text/plain": [
       "75.60975609756098"
      ]
     },
     "execution_count": 50,
     "metadata": {},
     "output_type": "execute_result"
    }
   ],
   "source": [
    "xg.score(X_test,y_test)*100"
   ]
  },
  {
   "cell_type": "code",
   "execution_count": 51,
   "metadata": {},
   "outputs": [
    {
     "data": {
      "text/plain": [
       "87.37270875763747"
      ]
     },
     "execution_count": 51,
     "metadata": {},
     "output_type": "execute_result"
    }
   ],
   "source": [
    "xg.score(X_train,y_train)*100"
   ]
  },
  {
   "cell_type": "markdown",
   "metadata": {},
   "source": [
    "# Random Forest"
   ]
  },
  {
   "cell_type": "code",
   "execution_count": 52,
   "metadata": {},
   "outputs": [],
   "source": [
    "from sklearn.ensemble import RandomForestRegressor"
   ]
  },
  {
   "cell_type": "code",
   "execution_count": 53,
   "metadata": {},
   "outputs": [
    {
     "data": {
      "application/javascript": [
       "\n",
       "        if (window._pyforest_update_imports_cell) { window._pyforest_update_imports_cell('from sklearn.ensemble import RandomForestClassifier'); }\n",
       "    "
      ],
      "text/plain": [
       "<IPython.core.display.Javascript object>"
      ]
     },
     "metadata": {},
     "output_type": "display_data"
    }
   ],
   "source": [
    "rg= RandomForestClassifier(n_estimators=400,n_jobs=-1)"
   ]
  },
  {
   "cell_type": "code",
   "execution_count": 54,
   "metadata": {},
   "outputs": [
    {
     "data": {
      "text/plain": [
       "RandomForestClassifier(bootstrap=True, ccp_alpha=0.0, class_weight=None,\n",
       "                       criterion='gini', max_depth=None, max_features='auto',\n",
       "                       max_leaf_nodes=None, max_samples=None,\n",
       "                       min_impurity_decrease=0.0, min_impurity_split=None,\n",
       "                       min_samples_leaf=1, min_samples_split=2,\n",
       "                       min_weight_fraction_leaf=0.0, n_estimators=400,\n",
       "                       n_jobs=-1, oob_score=False, random_state=None, verbose=0,\n",
       "                       warm_start=False)"
      ]
     },
     "execution_count": 54,
     "metadata": {},
     "output_type": "execute_result"
    }
   ],
   "source": [
    "rg.fit(X_train,y_train)"
   ]
  },
  {
   "cell_type": "code",
   "execution_count": 55,
   "metadata": {},
   "outputs": [
    {
     "data": {
      "text/plain": [
       "76.42276422764228"
      ]
     },
     "execution_count": 55,
     "metadata": {},
     "output_type": "execute_result"
    }
   ],
   "source": [
    "rg.score(X_test,y_test)*100"
   ]
  },
  {
   "cell_type": "code",
   "execution_count": 56,
   "metadata": {},
   "outputs": [
    {
     "data": {
      "text/plain": [
       "1.0"
      ]
     },
     "execution_count": 56,
     "metadata": {},
     "output_type": "execute_result"
    }
   ],
   "source": [
    "rg.score(X_train,y_train)"
   ]
  },
  {
   "cell_type": "markdown",
   "metadata": {},
   "source": [
    "# Logisitic Regression"
   ]
  },
  {
   "cell_type": "code",
   "execution_count": 57,
   "metadata": {},
   "outputs": [],
   "source": [
    "from sklearn.linear_model import LogisticRegression"
   ]
  },
  {
   "cell_type": "code",
   "execution_count": 58,
   "metadata": {},
   "outputs": [],
   "source": [
    "lg= LogisticRegression()"
   ]
  },
  {
   "cell_type": "code",
   "execution_count": 59,
   "metadata": {},
   "outputs": [
    {
     "data": {
      "text/plain": [
       "LogisticRegression(C=1.0, class_weight=None, dual=False, fit_intercept=True,\n",
       "                   intercept_scaling=1, l1_ratio=None, max_iter=100,\n",
       "                   multi_class='auto', n_jobs=None, penalty='l2',\n",
       "                   random_state=None, solver='lbfgs', tol=0.0001, verbose=0,\n",
       "                   warm_start=False)"
      ]
     },
     "execution_count": 59,
     "metadata": {},
     "output_type": "execute_result"
    }
   ],
   "source": [
    "lg.fit(X_train,y_train)"
   ]
  },
  {
   "cell_type": "code",
   "execution_count": 60,
   "metadata": {},
   "outputs": [
    {
     "data": {
      "text/plain": [
       "78.86178861788618"
      ]
     },
     "execution_count": 60,
     "metadata": {},
     "output_type": "execute_result"
    }
   ],
   "source": [
    "lg.score(X_test,y_test)*100"
   ]
  },
  {
   "cell_type": "markdown",
   "metadata": {},
   "source": [
    "# SVM"
   ]
  },
  {
   "cell_type": "code",
   "execution_count": 61,
   "metadata": {},
   "outputs": [],
   "source": [
    "from sklearn.svm import SVC"
   ]
  },
  {
   "cell_type": "code",
   "execution_count": 62,
   "metadata": {},
   "outputs": [],
   "source": [
    "sv= SVC()"
   ]
  },
  {
   "cell_type": "code",
   "execution_count": 63,
   "metadata": {},
   "outputs": [
    {
     "data": {
      "text/plain": [
       "SVC(C=1.0, break_ties=False, cache_size=200, class_weight=None, coef0=0.0,\n",
       "    decision_function_shape='ovr', degree=3, gamma='scale', kernel='rbf',\n",
       "    max_iter=-1, probability=False, random_state=None, shrinking=True,\n",
       "    tol=0.001, verbose=False)"
      ]
     },
     "execution_count": 63,
     "metadata": {},
     "output_type": "execute_result"
    }
   ],
   "source": [
    "sv.fit(X_train,y_train)"
   ]
  },
  {
   "cell_type": "code",
   "execution_count": 64,
   "metadata": {},
   "outputs": [
    {
     "data": {
      "text/plain": [
       "78.86178861788618"
      ]
     },
     "execution_count": 64,
     "metadata": {},
     "output_type": "execute_result"
    }
   ],
   "source": [
    "sv.score(X_test,y_test)*100"
   ]
  },
  {
   "cell_type": "code",
   "execution_count": 65,
   "metadata": {},
   "outputs": [
    {
     "data": {
      "text/plain": [
       "0.8167006109979633"
      ]
     },
     "execution_count": 65,
     "metadata": {},
     "output_type": "execute_result"
    }
   ],
   "source": [
    "sv.score(X_train,y_train)"
   ]
  },
  {
   "cell_type": "markdown",
   "metadata": {},
   "source": [
    "# Neural Network"
   ]
  },
  {
   "cell_type": "code",
   "execution_count": 66,
   "metadata": {},
   "outputs": [
    {
     "name": "stderr",
     "output_type": "stream",
     "text": [
      "c:\\python3.6\\lib\\site-packages\\tensorflow\\python\\framework\\dtypes.py:516: FutureWarning: Passing (type, 1) or '1type' as a synonym of type is deprecated; in a future version of numpy, it will be understood as (type, (1,)) / '(1,)type'.\n",
      "  _np_qint8 = np.dtype([(\"qint8\", np.int8, 1)])\n",
      "c:\\python3.6\\lib\\site-packages\\tensorflow\\python\\framework\\dtypes.py:517: FutureWarning: Passing (type, 1) or '1type' as a synonym of type is deprecated; in a future version of numpy, it will be understood as (type, (1,)) / '(1,)type'.\n",
      "  _np_quint8 = np.dtype([(\"quint8\", np.uint8, 1)])\n",
      "c:\\python3.6\\lib\\site-packages\\tensorflow\\python\\framework\\dtypes.py:518: FutureWarning: Passing (type, 1) or '1type' as a synonym of type is deprecated; in a future version of numpy, it will be understood as (type, (1,)) / '(1,)type'.\n",
      "  _np_qint16 = np.dtype([(\"qint16\", np.int16, 1)])\n",
      "c:\\python3.6\\lib\\site-packages\\tensorflow\\python\\framework\\dtypes.py:519: FutureWarning: Passing (type, 1) or '1type' as a synonym of type is deprecated; in a future version of numpy, it will be understood as (type, (1,)) / '(1,)type'.\n",
      "  _np_quint16 = np.dtype([(\"quint16\", np.uint16, 1)])\n",
      "c:\\python3.6\\lib\\site-packages\\tensorflow\\python\\framework\\dtypes.py:520: FutureWarning: Passing (type, 1) or '1type' as a synonym of type is deprecated; in a future version of numpy, it will be understood as (type, (1,)) / '(1,)type'.\n",
      "  _np_qint32 = np.dtype([(\"qint32\", np.int32, 1)])\n",
      "c:\\python3.6\\lib\\site-packages\\tensorflow\\python\\framework\\dtypes.py:525: FutureWarning: Passing (type, 1) or '1type' as a synonym of type is deprecated; in a future version of numpy, it will be understood as (type, (1,)) / '(1,)type'.\n",
      "  np_resource = np.dtype([(\"resource\", np.ubyte, 1)])\n",
      "c:\\python3.6\\lib\\site-packages\\tensorboard\\compat\\tensorflow_stub\\dtypes.py:541: FutureWarning: Passing (type, 1) or '1type' as a synonym of type is deprecated; in a future version of numpy, it will be understood as (type, (1,)) / '(1,)type'.\n",
      "  _np_qint8 = np.dtype([(\"qint8\", np.int8, 1)])\n",
      "c:\\python3.6\\lib\\site-packages\\tensorboard\\compat\\tensorflow_stub\\dtypes.py:542: FutureWarning: Passing (type, 1) or '1type' as a synonym of type is deprecated; in a future version of numpy, it will be understood as (type, (1,)) / '(1,)type'.\n",
      "  _np_quint8 = np.dtype([(\"quint8\", np.uint8, 1)])\n",
      "c:\\python3.6\\lib\\site-packages\\tensorboard\\compat\\tensorflow_stub\\dtypes.py:543: FutureWarning: Passing (type, 1) or '1type' as a synonym of type is deprecated; in a future version of numpy, it will be understood as (type, (1,)) / '(1,)type'.\n",
      "  _np_qint16 = np.dtype([(\"qint16\", np.int16, 1)])\n",
      "c:\\python3.6\\lib\\site-packages\\tensorboard\\compat\\tensorflow_stub\\dtypes.py:544: FutureWarning: Passing (type, 1) or '1type' as a synonym of type is deprecated; in a future version of numpy, it will be understood as (type, (1,)) / '(1,)type'.\n",
      "  _np_quint16 = np.dtype([(\"quint16\", np.uint16, 1)])\n",
      "c:\\python3.6\\lib\\site-packages\\tensorboard\\compat\\tensorflow_stub\\dtypes.py:545: FutureWarning: Passing (type, 1) or '1type' as a synonym of type is deprecated; in a future version of numpy, it will be understood as (type, (1,)) / '(1,)type'.\n",
      "  _np_qint32 = np.dtype([(\"qint32\", np.int32, 1)])\n",
      "c:\\python3.6\\lib\\site-packages\\tensorboard\\compat\\tensorflow_stub\\dtypes.py:550: FutureWarning: Passing (type, 1) or '1type' as a synonym of type is deprecated; in a future version of numpy, it will be understood as (type, (1,)) / '(1,)type'.\n",
      "  np_resource = np.dtype([(\"resource\", np.ubyte, 1)])\n"
     ]
    }
   ],
   "source": [
    "import tensorflow as tf\n",
    "from tensorflow import keras\n",
    "from tensorflow.keras import Sequential\n",
    "from tensorflow.keras.layers import Dense"
   ]
  },
  {
   "cell_type": "code",
   "execution_count": 139,
   "metadata": {},
   "outputs": [],
   "source": [
    "model= Sequential()\n",
    "model.add(Dense(16,activation=\"relu\",input_dim=11,kernel_initializer=\"he_uniform\"))\n",
    "model.add(Dense(8,activation=\"relu\",kernel_initializer=\"he_uniform\"))\n",
    "model.add(Dense(1,activation=\"sigmoid\",kernel_initializer=\"he_uniform\"))"
   ]
  },
  {
   "cell_type": "code",
   "execution_count": 140,
   "metadata": {},
   "outputs": [
    {
     "name": "stdout",
     "output_type": "stream",
     "text": [
      "Model: \"sequential_1\"\n",
      "_________________________________________________________________\n",
      "Layer (type)                 Output Shape              Param #   \n",
      "=================================================================\n",
      "dense_3 (Dense)              (None, 16)                192       \n",
      "_________________________________________________________________\n",
      "dense_4 (Dense)              (None, 8)                 136       \n",
      "_________________________________________________________________\n",
      "dense_5 (Dense)              (None, 1)                 9         \n",
      "=================================================================\n",
      "Total params: 337\n",
      "Trainable params: 337\n",
      "Non-trainable params: 0\n",
      "_________________________________________________________________\n"
     ]
    }
   ],
   "source": [
    "model.summary()"
   ]
  },
  {
   "cell_type": "code",
   "execution_count": 141,
   "metadata": {},
   "outputs": [],
   "source": [
    "model.compile(loss=\"binary_crossentropy\",optimizer=\"adam\",metrics=[\"accuracy\"])"
   ]
  },
  {
   "cell_type": "code",
   "execution_count": 142,
   "metadata": {},
   "outputs": [
    {
     "name": "stdout",
     "output_type": "stream",
     "text": [
      "Train on 491 samples, validate on 123 samples\n",
      "Epoch 1/200\n",
      "491/491 [==============================] - 1s 1ms/sample - loss: 1.3557 - acc: 0.3035 - val_loss: 1.1593 - val_acc: 0.3496\n",
      "Epoch 2/200\n",
      "491/491 [==============================] - 0s 104us/sample - loss: 1.0611 - acc: 0.2974 - val_loss: 0.9215 - val_acc: 0.3252\n",
      "Epoch 3/200\n",
      "491/491 [==============================] - 0s 96us/sample - loss: 0.8347 - acc: 0.3422 - val_loss: 0.7610 - val_acc: 0.3577\n",
      "Epoch 4/200\n",
      "491/491 [==============================] - 0s 94us/sample - loss: 0.6897 - acc: 0.5438 - val_loss: 0.6786 - val_acc: 0.6179\n",
      "Epoch 5/200\n",
      "491/491 [==============================] - 0s 86us/sample - loss: 0.6138 - acc: 0.6578 - val_loss: 0.6506 - val_acc: 0.6341\n",
      "Epoch 6/200\n",
      "491/491 [==============================] - 0s 90us/sample - loss: 0.5858 - acc: 0.6986 - val_loss: 0.6423 - val_acc: 0.6341\n",
      "Epoch 7/200\n",
      "491/491 [==============================] - 0s 86us/sample - loss: 0.5761 - acc: 0.7006 - val_loss: 0.6375 - val_acc: 0.6341\n",
      "Epoch 8/200\n",
      "491/491 [==============================] - 0s 94us/sample - loss: 0.5692 - acc: 0.6986 - val_loss: 0.6313 - val_acc: 0.6341\n",
      "Epoch 9/200\n",
      "491/491 [==============================] - 0s 104us/sample - loss: 0.5631 - acc: 0.6986 - val_loss: 0.6239 - val_acc: 0.6341\n",
      "Epoch 10/200\n",
      "491/491 [==============================] - 0s 86us/sample - loss: 0.5577 - acc: 0.7026 - val_loss: 0.6175 - val_acc: 0.6341\n",
      "Epoch 11/200\n",
      "491/491 [==============================] - 0s 73us/sample - loss: 0.5530 - acc: 0.7088 - val_loss: 0.6100 - val_acc: 0.6585\n",
      "Epoch 12/200\n",
      "491/491 [==============================] - 0s 73us/sample - loss: 0.5470 - acc: 0.7108 - val_loss: 0.6083 - val_acc: 0.6585\n",
      "Epoch 13/200\n",
      "491/491 [==============================] - 0s 79us/sample - loss: 0.5418 - acc: 0.7169 - val_loss: 0.6027 - val_acc: 0.6667\n",
      "Epoch 14/200\n",
      "491/491 [==============================] - 0s 84us/sample - loss: 0.5367 - acc: 0.7210 - val_loss: 0.5974 - val_acc: 0.6667\n",
      "Epoch 15/200\n",
      "491/491 [==============================] - 0s 83us/sample - loss: 0.5321 - acc: 0.7393 - val_loss: 0.5919 - val_acc: 0.6748\n",
      "Epoch 16/200\n",
      "491/491 [==============================] - 0s 63us/sample - loss: 0.5278 - acc: 0.7434 - val_loss: 0.5909 - val_acc: 0.6748\n",
      "Epoch 17/200\n",
      "491/491 [==============================] - 0s 77us/sample - loss: 0.5227 - acc: 0.7597 - val_loss: 0.5828 - val_acc: 0.6992\n",
      "Epoch 18/200\n",
      "491/491 [==============================] - 0s 79us/sample - loss: 0.5189 - acc: 0.7882 - val_loss: 0.5798 - val_acc: 0.6992\n",
      "Epoch 19/200\n",
      "491/491 [==============================] - 0s 73us/sample - loss: 0.5149 - acc: 0.7902 - val_loss: 0.5757 - val_acc: 0.6992\n",
      "Epoch 20/200\n",
      "491/491 [==============================] - 0s 84us/sample - loss: 0.5107 - acc: 0.7902 - val_loss: 0.5743 - val_acc: 0.7073\n",
      "Epoch 21/200\n",
      "491/491 [==============================] - 0s 77us/sample - loss: 0.5076 - acc: 0.8004 - val_loss: 0.5727 - val_acc: 0.7073\n",
      "Epoch 22/200\n",
      "491/491 [==============================] - 0s 75us/sample - loss: 0.5041 - acc: 0.8086 - val_loss: 0.5687 - val_acc: 0.7398\n",
      "Epoch 23/200\n",
      "491/491 [==============================] - 0s 73us/sample - loss: 0.5017 - acc: 0.8106 - val_loss: 0.5645 - val_acc: 0.7561\n",
      "Epoch 24/200\n",
      "491/491 [==============================] - 0s 73us/sample - loss: 0.4985 - acc: 0.8126 - val_loss: 0.5637 - val_acc: 0.7561\n",
      "Epoch 25/200\n",
      "491/491 [==============================] - 0s 86us/sample - loss: 0.4957 - acc: 0.8086 - val_loss: 0.5560 - val_acc: 0.7642\n",
      "Epoch 26/200\n",
      "491/491 [==============================] - 0s 77us/sample - loss: 0.4934 - acc: 0.8106 - val_loss: 0.5560 - val_acc: 0.7642\n",
      "Epoch 27/200\n",
      "491/491 [==============================] - 0s 81us/sample - loss: 0.4906 - acc: 0.8126 - val_loss: 0.5528 - val_acc: 0.7642\n",
      "Epoch 28/200\n",
      "491/491 [==============================] - 0s 77us/sample - loss: 0.4886 - acc: 0.8126 - val_loss: 0.5528 - val_acc: 0.7642\n",
      "Epoch 29/200\n",
      "491/491 [==============================] - 0s 81us/sample - loss: 0.4864 - acc: 0.8126 - val_loss: 0.5494 - val_acc: 0.7642\n",
      "Epoch 30/200\n",
      "491/491 [==============================] - 0s 81us/sample - loss: 0.4851 - acc: 0.8106 - val_loss: 0.5462 - val_acc: 0.7642\n",
      "Epoch 31/200\n",
      "491/491 [==============================] - 0s 81us/sample - loss: 0.4866 - acc: 0.8086 - val_loss: 0.5405 - val_acc: 0.7724\n",
      "Epoch 32/200\n",
      "491/491 [==============================] - 0s 83us/sample - loss: 0.4803 - acc: 0.8106 - val_loss: 0.5477 - val_acc: 0.7724\n",
      "Epoch 33/200\n",
      "491/491 [==============================] - 0s 86us/sample - loss: 0.4815 - acc: 0.8126 - val_loss: 0.5482 - val_acc: 0.7724\n",
      "Epoch 34/200\n",
      "491/491 [==============================] - 0s 90us/sample - loss: 0.4792 - acc: 0.8106 - val_loss: 0.5397 - val_acc: 0.7724\n",
      "Epoch 35/200\n",
      "491/491 [==============================] - 0s 90us/sample - loss: 0.4773 - acc: 0.8126 - val_loss: 0.5403 - val_acc: 0.7805\n",
      "Epoch 36/200\n",
      "491/491 [==============================] - 0s 75us/sample - loss: 0.4753 - acc: 0.8126 - val_loss: 0.5380 - val_acc: 0.7805\n",
      "Epoch 37/200\n",
      "491/491 [==============================] - 0s 81us/sample - loss: 0.4744 - acc: 0.8126 - val_loss: 0.5366 - val_acc: 0.7805\n",
      "Epoch 38/200\n",
      "491/491 [==============================] - 0s 75us/sample - loss: 0.4731 - acc: 0.8126 - val_loss: 0.5348 - val_acc: 0.7805\n",
      "Epoch 39/200\n",
      "491/491 [==============================] - 0s 77us/sample - loss: 0.4718 - acc: 0.8106 - val_loss: 0.5320 - val_acc: 0.7805\n",
      "Epoch 40/200\n",
      "491/491 [==============================] - 0s 75us/sample - loss: 0.4709 - acc: 0.8106 - val_loss: 0.5309 - val_acc: 0.7805\n",
      "Epoch 41/200\n",
      "491/491 [==============================] - 0s 84us/sample - loss: 0.4716 - acc: 0.8086 - val_loss: 0.5358 - val_acc: 0.7805\n",
      "Epoch 42/200\n",
      "491/491 [==============================] - 0s 77us/sample - loss: 0.4688 - acc: 0.8106 - val_loss: 0.5282 - val_acc: 0.7805\n",
      "Epoch 43/200\n",
      "491/491 [==============================] - 0s 77us/sample - loss: 0.4680 - acc: 0.8126 - val_loss: 0.5302 - val_acc: 0.7805\n",
      "Epoch 44/200\n",
      "491/491 [==============================] - 0s 71us/sample - loss: 0.4673 - acc: 0.8147 - val_loss: 0.5300 - val_acc: 0.7805\n",
      "Epoch 45/200\n",
      "491/491 [==============================] - 0s 75us/sample - loss: 0.4664 - acc: 0.8147 - val_loss: 0.5284 - val_acc: 0.7805\n",
      "Epoch 46/200\n",
      "491/491 [==============================] - 0s 81us/sample - loss: 0.4657 - acc: 0.8147 - val_loss: 0.5271 - val_acc: 0.7805\n",
      "Epoch 47/200\n",
      "491/491 [==============================] - 0s 69us/sample - loss: 0.4651 - acc: 0.8126 - val_loss: 0.5259 - val_acc: 0.7805\n",
      "Epoch 48/200\n",
      "491/491 [==============================] - 0s 84us/sample - loss: 0.4640 - acc: 0.8147 - val_loss: 0.5280 - val_acc: 0.7805\n",
      "Epoch 49/200\n",
      "491/491 [==============================] - 0s 75us/sample - loss: 0.4637 - acc: 0.8167 - val_loss: 0.5262 - val_acc: 0.7805\n",
      "Epoch 50/200\n",
      "491/491 [==============================] - 0s 81us/sample - loss: 0.4642 - acc: 0.8147 - val_loss: 0.5277 - val_acc: 0.7805\n",
      "Epoch 51/200\n",
      "491/491 [==============================] - 0s 71us/sample - loss: 0.4628 - acc: 0.8147 - val_loss: 0.5218 - val_acc: 0.7805\n",
      "Epoch 52/200\n",
      "491/491 [==============================] - 0s 79us/sample - loss: 0.4631 - acc: 0.8147 - val_loss: 0.5258 - val_acc: 0.7805\n",
      "Epoch 53/200\n",
      "491/491 [==============================] - 0s 69us/sample - loss: 0.4622 - acc: 0.8147 - val_loss: 0.5237 - val_acc: 0.7805\n",
      "Epoch 54/200\n",
      "491/491 [==============================] - 0s 77us/sample - loss: 0.4609 - acc: 0.8167 - val_loss: 0.5216 - val_acc: 0.7805\n",
      "Epoch 55/200\n",
      "491/491 [==============================] - 0s 79us/sample - loss: 0.4606 - acc: 0.8167 - val_loss: 0.5250 - val_acc: 0.7805\n",
      "Epoch 56/200\n",
      "491/491 [==============================] - 0s 77us/sample - loss: 0.4601 - acc: 0.8167 - val_loss: 0.5225 - val_acc: 0.7805\n",
      "Epoch 57/200\n",
      "491/491 [==============================] - 0s 75us/sample - loss: 0.4603 - acc: 0.8147 - val_loss: 0.5205 - val_acc: 0.7805\n",
      "Epoch 58/200\n",
      "491/491 [==============================] - 0s 75us/sample - loss: 0.4588 - acc: 0.8167 - val_loss: 0.5216 - val_acc: 0.7805\n",
      "Epoch 59/200\n",
      "491/491 [==============================] - 0s 86us/sample - loss: 0.4592 - acc: 0.8167 - val_loss: 0.5237 - val_acc: 0.7805\n",
      "Epoch 60/200\n",
      "491/491 [==============================] - 0s 88us/sample - loss: 0.4586 - acc: 0.8167 - val_loss: 0.5222 - val_acc: 0.7805\n",
      "Epoch 61/200\n",
      "491/491 [==============================] - 0s 84us/sample - loss: 0.4595 - acc: 0.8167 - val_loss: 0.5177 - val_acc: 0.7805\n",
      "Epoch 62/200\n",
      "491/491 [==============================] - 0s 75us/sample - loss: 0.4569 - acc: 0.8167 - val_loss: 0.5235 - val_acc: 0.7805\n",
      "Epoch 63/200\n",
      "491/491 [==============================] - 0s 77us/sample - loss: 0.4569 - acc: 0.8167 - val_loss: 0.5214 - val_acc: 0.7805\n",
      "Epoch 64/200\n",
      "491/491 [==============================] - 0s 71us/sample - loss: 0.4566 - acc: 0.8167 - val_loss: 0.5173 - val_acc: 0.7805\n",
      "Epoch 65/200\n",
      "491/491 [==============================] - 0s 71us/sample - loss: 0.4568 - acc: 0.8167 - val_loss: 0.5197 - val_acc: 0.7805\n",
      "Epoch 66/200\n",
      "491/491 [==============================] - 0s 79us/sample - loss: 0.4571 - acc: 0.8167 - val_loss: 0.5157 - val_acc: 0.7805\n",
      "Epoch 67/200\n",
      "491/491 [==============================] - 0s 65us/sample - loss: 0.4577 - acc: 0.8167 - val_loss: 0.5221 - val_acc: 0.7805\n",
      "Epoch 68/200\n",
      "491/491 [==============================] - 0s 71us/sample - loss: 0.4568 - acc: 0.8167 - val_loss: 0.5171 - val_acc: 0.7805\n",
      "Epoch 69/200\n",
      "491/491 [==============================] - 0s 77us/sample - loss: 0.4558 - acc: 0.8167 - val_loss: 0.5199 - val_acc: 0.7805\n",
      "Epoch 70/200\n",
      "491/491 [==============================] - 0s 71us/sample - loss: 0.4553 - acc: 0.8167 - val_loss: 0.5195 - val_acc: 0.7805\n",
      "Epoch 71/200\n",
      "491/491 [==============================] - 0s 75us/sample - loss: 0.4554 - acc: 0.8167 - val_loss: 0.5140 - val_acc: 0.7805\n",
      "Epoch 72/200\n",
      "491/491 [==============================] - 0s 73us/sample - loss: 0.4545 - acc: 0.8167 - val_loss: 0.5192 - val_acc: 0.7805\n",
      "Epoch 73/200\n",
      "491/491 [==============================] - 0s 73us/sample - loss: 0.4541 - acc: 0.8167 - val_loss: 0.5231 - val_acc: 0.7805\n",
      "Epoch 74/200\n",
      "491/491 [==============================] - 0s 77us/sample - loss: 0.4543 - acc: 0.8167 - val_loss: 0.5202 - val_acc: 0.7805\n",
      "Epoch 75/200\n",
      "491/491 [==============================] - 0s 63us/sample - loss: 0.4532 - acc: 0.8167 - val_loss: 0.5157 - val_acc: 0.7805\n",
      "Epoch 76/200\n",
      "491/491 [==============================] - 0s 75us/sample - loss: 0.4540 - acc: 0.8167 - val_loss: 0.5167 - val_acc: 0.7805\n",
      "Epoch 77/200\n",
      "491/491 [==============================] - 0s 73us/sample - loss: 0.4538 - acc: 0.8167 - val_loss: 0.5170 - val_acc: 0.7805\n",
      "Epoch 78/200\n",
      "491/491 [==============================] - 0s 75us/sample - loss: 0.4528 - acc: 0.8167 - val_loss: 0.5180 - val_acc: 0.7805\n",
      "Epoch 79/200\n",
      "491/491 [==============================] - 0s 72us/sample - loss: 0.4541 - acc: 0.8167 - val_loss: 0.5188 - val_acc: 0.7805\n",
      "Epoch 80/200\n",
      "491/491 [==============================] - 0s 71us/sample - loss: 0.4539 - acc: 0.8147 - val_loss: 0.5131 - val_acc: 0.7805\n",
      "Epoch 81/200\n",
      "491/491 [==============================] - 0s 71us/sample - loss: 0.4525 - acc: 0.8167 - val_loss: 0.5184 - val_acc: 0.7805\n",
      "Epoch 82/200\n",
      "491/491 [==============================] - 0s 71us/sample - loss: 0.4523 - acc: 0.8167 - val_loss: 0.5182 - val_acc: 0.7805\n",
      "Epoch 83/200\n",
      "491/491 [==============================] - 0s 73us/sample - loss: 0.4518 - acc: 0.8167 - val_loss: 0.5163 - val_acc: 0.7805\n",
      "Epoch 84/200\n",
      "491/491 [==============================] - 0s 71us/sample - loss: 0.4522 - acc: 0.8167 - val_loss: 0.5182 - val_acc: 0.7805\n",
      "Epoch 85/200\n",
      "491/491 [==============================] - 0s 67us/sample - loss: 0.4512 - acc: 0.8167 - val_loss: 0.5149 - val_acc: 0.7805\n",
      "Epoch 86/200\n",
      "491/491 [==============================] - 0s 75us/sample - loss: 0.4520 - acc: 0.8167 - val_loss: 0.5185 - val_acc: 0.7805\n",
      "Epoch 87/200\n",
      "491/491 [==============================] - 0s 84us/sample - loss: 0.4513 - acc: 0.8167 - val_loss: 0.5190 - val_acc: 0.7805\n",
      "Epoch 88/200\n",
      "491/491 [==============================] - 0s 84us/sample - loss: 0.4507 - acc: 0.8167 - val_loss: 0.5184 - val_acc: 0.7805\n",
      "Epoch 89/200\n",
      "491/491 [==============================] - 0s 73us/sample - loss: 0.4509 - acc: 0.8167 - val_loss: 0.5166 - val_acc: 0.7805\n",
      "Epoch 90/200\n",
      "491/491 [==============================] - 0s 65us/sample - loss: 0.4505 - acc: 0.8167 - val_loss: 0.5202 - val_acc: 0.7805\n",
      "Epoch 91/200\n",
      "491/491 [==============================] - 0s 69us/sample - loss: 0.4499 - acc: 0.8167 - val_loss: 0.5183 - val_acc: 0.7805\n",
      "Epoch 92/200\n",
      "491/491 [==============================] - 0s 75us/sample - loss: 0.4501 - acc: 0.8167 - val_loss: 0.5158 - val_acc: 0.7805\n",
      "Epoch 93/200\n",
      "491/491 [==============================] - 0s 73us/sample - loss: 0.4494 - acc: 0.8167 - val_loss: 0.5173 - val_acc: 0.7805\n",
      "Epoch 94/200\n",
      "491/491 [==============================] - 0s 73us/sample - loss: 0.4497 - acc: 0.8167 - val_loss: 0.5184 - val_acc: 0.7805\n",
      "Epoch 95/200\n",
      "491/491 [==============================] - 0s 81us/sample - loss: 0.4500 - acc: 0.8167 - val_loss: 0.5182 - val_acc: 0.7805\n",
      "Epoch 96/200\n",
      "491/491 [==============================] - 0s 84us/sample - loss: 0.4512 - acc: 0.8167 - val_loss: 0.5209 - val_acc: 0.7805\n",
      "Epoch 97/200\n",
      "491/491 [==============================] - 0s 79us/sample - loss: 0.4489 - acc: 0.8167 - val_loss: 0.5144 - val_acc: 0.7805\n",
      "Epoch 98/200\n",
      "491/491 [==============================] - 0s 75us/sample - loss: 0.4489 - acc: 0.8167 - val_loss: 0.5172 - val_acc: 0.7805\n",
      "Epoch 99/200\n",
      "491/491 [==============================] - 0s 77us/sample - loss: 0.4485 - acc: 0.8167 - val_loss: 0.5186 - val_acc: 0.7805\n",
      "Epoch 100/200\n",
      "491/491 [==============================] - 0s 88us/sample - loss: 0.4480 - acc: 0.8167 - val_loss: 0.5173 - val_acc: 0.7805\n",
      "Epoch 101/200\n",
      "491/491 [==============================] - 0s 77us/sample - loss: 0.4479 - acc: 0.8167 - val_loss: 0.5168 - val_acc: 0.7805\n",
      "Epoch 102/200\n",
      "491/491 [==============================] - 0s 71us/sample - loss: 0.4478 - acc: 0.8167 - val_loss: 0.5165 - val_acc: 0.7805\n",
      "Epoch 103/200\n",
      "491/491 [==============================] - 0s 79us/sample - loss: 0.4476 - acc: 0.8167 - val_loss: 0.5168 - val_acc: 0.7805\n",
      "Epoch 104/200\n",
      "491/491 [==============================] - 0s 75us/sample - loss: 0.4492 - acc: 0.8167 - val_loss: 0.5204 - val_acc: 0.7805\n",
      "Epoch 105/200\n",
      "491/491 [==============================] - 0s 71us/sample - loss: 0.4474 - acc: 0.8167 - val_loss: 0.5137 - val_acc: 0.7805\n",
      "Epoch 106/200\n",
      "491/491 [==============================] - 0s 73us/sample - loss: 0.4472 - acc: 0.8167 - val_loss: 0.5165 - val_acc: 0.7805\n",
      "Epoch 107/200\n",
      "491/491 [==============================] - 0s 65us/sample - loss: 0.4498 - acc: 0.8167 - val_loss: 0.5284 - val_acc: 0.7805\n",
      "Epoch 108/200\n",
      "491/491 [==============================] - 0s 86us/sample - loss: 0.4468 - acc: 0.8167 - val_loss: 0.5159 - val_acc: 0.7805\n",
      "Epoch 109/200\n",
      "491/491 [==============================] - 0s 86us/sample - loss: 0.4467 - acc: 0.8167 - val_loss: 0.5151 - val_acc: 0.7805\n",
      "Epoch 110/200\n",
      "491/491 [==============================] - 0s 79us/sample - loss: 0.4475 - acc: 0.8167 - val_loss: 0.5128 - val_acc: 0.7805\n",
      "Epoch 111/200\n",
      "491/491 [==============================] - 0s 75us/sample - loss: 0.4451 - acc: 0.8167 - val_loss: 0.5205 - val_acc: 0.7805\n",
      "Epoch 112/200\n",
      "491/491 [==============================] - 0s 75us/sample - loss: 0.4470 - acc: 0.8167 - val_loss: 0.5228 - val_acc: 0.7805\n",
      "Epoch 113/200\n",
      "491/491 [==============================] - 0s 81us/sample - loss: 0.4454 - acc: 0.8167 - val_loss: 0.5145 - val_acc: 0.7805\n",
      "Epoch 114/200\n",
      "491/491 [==============================] - 0s 90us/sample - loss: 0.4458 - acc: 0.8167 - val_loss: 0.5171 - val_acc: 0.7805\n",
      "Epoch 115/200\n",
      "491/491 [==============================] - 0s 88us/sample - loss: 0.4445 - acc: 0.8167 - val_loss: 0.5218 - val_acc: 0.7805\n",
      "Epoch 116/200\n",
      "491/491 [==============================] - 0s 71us/sample - loss: 0.4454 - acc: 0.8167 - val_loss: 0.5189 - val_acc: 0.7805\n",
      "Epoch 117/200\n",
      "491/491 [==============================] - 0s 69us/sample - loss: 0.4444 - acc: 0.8167 - val_loss: 0.5155 - val_acc: 0.7805\n",
      "Epoch 118/200\n",
      "491/491 [==============================] - 0s 77us/sample - loss: 0.4449 - acc: 0.8167 - val_loss: 0.5168 - val_acc: 0.7805\n",
      "Epoch 119/200\n",
      "491/491 [==============================] - 0s 71us/sample - loss: 0.4439 - acc: 0.8167 - val_loss: 0.5183 - val_acc: 0.7805\n"
     ]
    },
    {
     "name": "stdout",
     "output_type": "stream",
     "text": [
      "Epoch 120/200\n",
      "491/491 [==============================] - 0s 65us/sample - loss: 0.4440 - acc: 0.8167 - val_loss: 0.5175 - val_acc: 0.7805\n",
      "Epoch 121/200\n",
      "491/491 [==============================] - 0s 77us/sample - loss: 0.4444 - acc: 0.8167 - val_loss: 0.5171 - val_acc: 0.7805\n",
      "Epoch 122/200\n",
      "491/491 [==============================] - 0s 79us/sample - loss: 0.4436 - acc: 0.8167 - val_loss: 0.5139 - val_acc: 0.7805\n",
      "Epoch 123/200\n",
      "491/491 [==============================] - 0s 73us/sample - loss: 0.4432 - acc: 0.8167 - val_loss: 0.5168 - val_acc: 0.7805\n",
      "Epoch 124/200\n",
      "491/491 [==============================] - 0s 84us/sample - loss: 0.4441 - acc: 0.8167 - val_loss: 0.5203 - val_acc: 0.7805\n",
      "Epoch 125/200\n",
      "491/491 [==============================] - 0s 75us/sample - loss: 0.4426 - acc: 0.8167 - val_loss: 0.5146 - val_acc: 0.7805\n",
      "Epoch 126/200\n",
      "491/491 [==============================] - 0s 69us/sample - loss: 0.4433 - acc: 0.8167 - val_loss: 0.5151 - val_acc: 0.7805\n",
      "Epoch 127/200\n",
      "491/491 [==============================] - 0s 73us/sample - loss: 0.4438 - acc: 0.8167 - val_loss: 0.5208 - val_acc: 0.7805\n",
      "Epoch 128/200\n",
      "491/491 [==============================] - 0s 79us/sample - loss: 0.4427 - acc: 0.8167 - val_loss: 0.5163 - val_acc: 0.7805\n",
      "Epoch 129/200\n",
      "491/491 [==============================] - 0s 71us/sample - loss: 0.4427 - acc: 0.8167 - val_loss: 0.5169 - val_acc: 0.7805\n",
      "Epoch 130/200\n",
      "491/491 [==============================] - 0s 73us/sample - loss: 0.4437 - acc: 0.8167 - val_loss: 0.5161 - val_acc: 0.7805\n",
      "Epoch 131/200\n",
      "491/491 [==============================] - 0s 79us/sample - loss: 0.4431 - acc: 0.8208 - val_loss: 0.5158 - val_acc: 0.7805\n",
      "Epoch 132/200\n",
      "491/491 [==============================] - 0s 73us/sample - loss: 0.4415 - acc: 0.8167 - val_loss: 0.5181 - val_acc: 0.7805\n",
      "Epoch 133/200\n",
      "491/491 [==============================] - 0s 71us/sample - loss: 0.4411 - acc: 0.8208 - val_loss: 0.5144 - val_acc: 0.7805\n",
      "Epoch 134/200\n",
      "491/491 [==============================] - 0s 77us/sample - loss: 0.4419 - acc: 0.8208 - val_loss: 0.5169 - val_acc: 0.7805\n",
      "Epoch 135/200\n",
      "491/491 [==============================] - 0s 77us/sample - loss: 0.4426 - acc: 0.8208 - val_loss: 0.5135 - val_acc: 0.7805\n",
      "Epoch 136/200\n",
      "491/491 [==============================] - 0s 77us/sample - loss: 0.4417 - acc: 0.8167 - val_loss: 0.5200 - val_acc: 0.7805\n",
      "Epoch 137/200\n",
      "491/491 [==============================] - 0s 73us/sample - loss: 0.4413 - acc: 0.8187 - val_loss: 0.5173 - val_acc: 0.7805\n",
      "Epoch 138/200\n",
      "491/491 [==============================] - 0s 75us/sample - loss: 0.4410 - acc: 0.8208 - val_loss: 0.5174 - val_acc: 0.7805\n",
      "Epoch 139/200\n",
      "491/491 [==============================] - 0s 77us/sample - loss: 0.4419 - acc: 0.8167 - val_loss: 0.5180 - val_acc: 0.7805\n",
      "Epoch 140/200\n",
      "491/491 [==============================] - 0s 92us/sample - loss: 0.4405 - acc: 0.8208 - val_loss: 0.5149 - val_acc: 0.7805\n",
      "Epoch 141/200\n",
      "491/491 [==============================] - 0s 88us/sample - loss: 0.4408 - acc: 0.8187 - val_loss: 0.5150 - val_acc: 0.7805\n",
      "Epoch 142/200\n",
      "491/491 [==============================] - 0s 73us/sample - loss: 0.4407 - acc: 0.8208 - val_loss: 0.5169 - val_acc: 0.7805\n",
      "Epoch 143/200\n",
      "491/491 [==============================] - 0s 79us/sample - loss: 0.4405 - acc: 0.8208 - val_loss: 0.5130 - val_acc: 0.7805\n",
      "Epoch 144/200\n",
      "491/491 [==============================] - 0s 75us/sample - loss: 0.4418 - acc: 0.8208 - val_loss: 0.5182 - val_acc: 0.7805\n",
      "Epoch 145/200\n",
      "491/491 [==============================] - 0s 75us/sample - loss: 0.4394 - acc: 0.8208 - val_loss: 0.5154 - val_acc: 0.7805\n",
      "Epoch 146/200\n",
      "491/491 [==============================] - 0s 71us/sample - loss: 0.4403 - acc: 0.8187 - val_loss: 0.5154 - val_acc: 0.7805\n",
      "Epoch 147/200\n",
      "491/491 [==============================] - 0s 75us/sample - loss: 0.4402 - acc: 0.8208 - val_loss: 0.5209 - val_acc: 0.7805\n",
      "Epoch 148/200\n",
      "491/491 [==============================] - 0s 81us/sample - loss: 0.4393 - acc: 0.8187 - val_loss: 0.5152 - val_acc: 0.7805\n",
      "Epoch 149/200\n",
      "491/491 [==============================] - 0s 73us/sample - loss: 0.4389 - acc: 0.8208 - val_loss: 0.5148 - val_acc: 0.7805\n",
      "Epoch 150/200\n",
      "491/491 [==============================] - 0s 81us/sample - loss: 0.4393 - acc: 0.8208 - val_loss: 0.5169 - val_acc: 0.7805\n",
      "Epoch 151/200\n",
      "491/491 [==============================] - 0s 73us/sample - loss: 0.4399 - acc: 0.8208 - val_loss: 0.5141 - val_acc: 0.7805\n",
      "Epoch 152/200\n",
      "491/491 [==============================] - 0s 75us/sample - loss: 0.4393 - acc: 0.8208 - val_loss: 0.5226 - val_acc: 0.7805\n",
      "Epoch 153/200\n",
      "491/491 [==============================] - 0s 69us/sample - loss: 0.4380 - acc: 0.8208 - val_loss: 0.5166 - val_acc: 0.7805\n",
      "Epoch 154/200\n",
      "491/491 [==============================] - 0s 69us/sample - loss: 0.4392 - acc: 0.8187 - val_loss: 0.5131 - val_acc: 0.7805\n",
      "Epoch 155/200\n",
      "491/491 [==============================] - 0s 71us/sample - loss: 0.4374 - acc: 0.8208 - val_loss: 0.5197 - val_acc: 0.7805\n",
      "Epoch 156/200\n",
      "491/491 [==============================] - 0s 69us/sample - loss: 0.4379 - acc: 0.8208 - val_loss: 0.5203 - val_acc: 0.7805\n",
      "Epoch 157/200\n",
      "491/491 [==============================] - 0s 69us/sample - loss: 0.4375 - acc: 0.8208 - val_loss: 0.5163 - val_acc: 0.7805\n",
      "Epoch 158/200\n",
      "491/491 [==============================] - 0s 75us/sample - loss: 0.4390 - acc: 0.8208 - val_loss: 0.5161 - val_acc: 0.7805\n",
      "Epoch 159/200\n",
      "491/491 [==============================] - 0s 81us/sample - loss: 0.4383 - acc: 0.8208 - val_loss: 0.5190 - val_acc: 0.7805\n",
      "Epoch 160/200\n",
      "491/491 [==============================] - 0s 67us/sample - loss: 0.4386 - acc: 0.8208 - val_loss: 0.5219 - val_acc: 0.7805\n",
      "Epoch 161/200\n",
      "491/491 [==============================] - 0s 75us/sample - loss: 0.4394 - acc: 0.8187 - val_loss: 0.5132 - val_acc: 0.7805\n",
      "Epoch 162/200\n",
      "491/491 [==============================] - 0s 81us/sample - loss: 0.4365 - acc: 0.8208 - val_loss: 0.5210 - val_acc: 0.7805\n",
      "Epoch 163/200\n",
      "491/491 [==============================] - 0s 75us/sample - loss: 0.4369 - acc: 0.8208 - val_loss: 0.5199 - val_acc: 0.7805\n",
      "Epoch 164/200\n",
      "491/491 [==============================] - 0s 67us/sample - loss: 0.4385 - acc: 0.8208 - val_loss: 0.5133 - val_acc: 0.7805\n",
      "Epoch 165/200\n",
      "491/491 [==============================] - 0s 73us/sample - loss: 0.4371 - acc: 0.8208 - val_loss: 0.5237 - val_acc: 0.7805\n",
      "Epoch 166/200\n",
      "491/491 [==============================] - 0s 75us/sample - loss: 0.4364 - acc: 0.8208 - val_loss: 0.5195 - val_acc: 0.7805\n",
      "Epoch 167/200\n",
      "491/491 [==============================] - 0s 86us/sample - loss: 0.4364 - acc: 0.8208 - val_loss: 0.5189 - val_acc: 0.7805\n",
      "Epoch 168/200\n",
      "491/491 [==============================] - 0s 88us/sample - loss: 0.4358 - acc: 0.8208 - val_loss: 0.5232 - val_acc: 0.7805\n",
      "Epoch 169/200\n",
      "491/491 [==============================] - 0s 85us/sample - loss: 0.4366 - acc: 0.8187 - val_loss: 0.5188 - val_acc: 0.7805\n",
      "Epoch 170/200\n",
      "491/491 [==============================] - 0s 81us/sample - loss: 0.4355 - acc: 0.8187 - val_loss: 0.5199 - val_acc: 0.7805\n",
      "Epoch 171/200\n",
      "491/491 [==============================] - 0s 79us/sample - loss: 0.4353 - acc: 0.8187 - val_loss: 0.5200 - val_acc: 0.7805\n",
      "Epoch 172/200\n",
      "491/491 [==============================] - 0s 81us/sample - loss: 0.4378 - acc: 0.8228 - val_loss: 0.5211 - val_acc: 0.7805\n",
      "Epoch 173/200\n",
      "491/491 [==============================] - 0s 79us/sample - loss: 0.4352 - acc: 0.8208 - val_loss: 0.5175 - val_acc: 0.7724\n",
      "Epoch 174/200\n",
      "491/491 [==============================] - 0s 79us/sample - loss: 0.4351 - acc: 0.8208 - val_loss: 0.5213 - val_acc: 0.7805\n",
      "Epoch 175/200\n",
      "491/491 [==============================] - 0s 77us/sample - loss: 0.4351 - acc: 0.8208 - val_loss: 0.5214 - val_acc: 0.7805\n",
      "Epoch 176/200\n",
      "491/491 [==============================] - 0s 73us/sample - loss: 0.4351 - acc: 0.8187 - val_loss: 0.5193 - val_acc: 0.7805\n",
      "Epoch 177/200\n",
      "491/491 [==============================] - 0s 73us/sample - loss: 0.4358 - acc: 0.8228 - val_loss: 0.5228 - val_acc: 0.7805\n",
      "Epoch 178/200\n",
      "491/491 [==============================] - 0s 73us/sample - loss: 0.4343 - acc: 0.8208 - val_loss: 0.5193 - val_acc: 0.7805\n",
      "Epoch 179/200\n",
      "491/491 [==============================] - 0s 81us/sample - loss: 0.4347 - acc: 0.8187 - val_loss: 0.5193 - val_acc: 0.7805\n",
      "Epoch 180/200\n",
      "491/491 [==============================] - 0s 73us/sample - loss: 0.4348 - acc: 0.8187 - val_loss: 0.5220 - val_acc: 0.7805\n",
      "Epoch 181/200\n",
      "491/491 [==============================] - 0s 73us/sample - loss: 0.4342 - acc: 0.8228 - val_loss: 0.5187 - val_acc: 0.7805\n",
      "Epoch 182/200\n",
      "491/491 [==============================] - 0s 69us/sample - loss: 0.4331 - acc: 0.8208 - val_loss: 0.5237 - val_acc: 0.7805\n",
      "Epoch 183/200\n",
      "491/491 [==============================] - 0s 81us/sample - loss: 0.4355 - acc: 0.8228 - val_loss: 0.5233 - val_acc: 0.7805\n",
      "Epoch 184/200\n",
      "491/491 [==============================] - 0s 71us/sample - loss: 0.4335 - acc: 0.8228 - val_loss: 0.5187 - val_acc: 0.7724\n",
      "Epoch 185/200\n",
      "491/491 [==============================] - 0s 79us/sample - loss: 0.4370 - acc: 0.8228 - val_loss: 0.5184 - val_acc: 0.7805\n",
      "Epoch 186/200\n",
      "491/491 [==============================] - 0s 75us/sample - loss: 0.4328 - acc: 0.8208 - val_loss: 0.5252 - val_acc: 0.7805\n",
      "Epoch 187/200\n",
      "491/491 [==============================] - 0s 77us/sample - loss: 0.4374 - acc: 0.8228 - val_loss: 0.5261 - val_acc: 0.7805\n",
      "Epoch 188/200\n",
      "491/491 [==============================] - 0s 65us/sample - loss: 0.4389 - acc: 0.8187 - val_loss: 0.5162 - val_acc: 0.7805\n",
      "Epoch 189/200\n",
      "491/491 [==============================] - 0s 79us/sample - loss: 0.4319 - acc: 0.8208 - val_loss: 0.5271 - val_acc: 0.7805\n",
      "Epoch 190/200\n",
      "491/491 [==============================] - 0s 73us/sample - loss: 0.4333 - acc: 0.8228 - val_loss: 0.5215 - val_acc: 0.7805\n",
      "Epoch 191/200\n",
      "491/491 [==============================] - 0s 69us/sample - loss: 0.4323 - acc: 0.8208 - val_loss: 0.5199 - val_acc: 0.7724\n",
      "Epoch 192/200\n",
      "491/491 [==============================] - 0s 84us/sample - loss: 0.4344 - acc: 0.8228 - val_loss: 0.5202 - val_acc: 0.7724\n",
      "Epoch 193/200\n",
      "491/491 [==============================] - 0s 85us/sample - loss: 0.4317 - acc: 0.8248 - val_loss: 0.5225 - val_acc: 0.7805\n",
      "Epoch 194/200\n",
      "491/491 [==============================] - 0s 77us/sample - loss: 0.4322 - acc: 0.8228 - val_loss: 0.5206 - val_acc: 0.7724\n",
      "Epoch 195/200\n",
      "491/491 [==============================] - 0s 73us/sample - loss: 0.4327 - acc: 0.8248 - val_loss: 0.5214 - val_acc: 0.7805\n",
      "Epoch 196/200\n",
      "491/491 [==============================] - 0s 75us/sample - loss: 0.4321 - acc: 0.8248 - val_loss: 0.5194 - val_acc: 0.7724\n",
      "Epoch 197/200\n",
      "491/491 [==============================] - 0s 67us/sample - loss: 0.4310 - acc: 0.8248 - val_loss: 0.5228 - val_acc: 0.7805\n",
      "Epoch 198/200\n",
      "491/491 [==============================] - 0s 80us/sample - loss: 0.4319 - acc: 0.8228 - val_loss: 0.5225 - val_acc: 0.7724\n",
      "Epoch 199/200\n",
      "491/491 [==============================] - 0s 77us/sample - loss: 0.4312 - acc: 0.8228 - val_loss: 0.5198 - val_acc: 0.7724\n",
      "Epoch 200/200\n",
      "491/491 [==============================] - 0s 73us/sample - loss: 0.4308 - acc: 0.8248 - val_loss: 0.5199 - val_acc: 0.7724\n"
     ]
    },
    {
     "data": {
      "text/plain": [
       "<tensorflow.python.keras.callbacks.History at 0x2261f0d12e8>"
      ]
     },
     "execution_count": 142,
     "metadata": {},
     "output_type": "execute_result"
    }
   ],
   "source": [
    "model.fit(X_train,y_train,epochs=200,validation_data=(X_test,y_test))"
   ]
  },
  {
   "cell_type": "markdown",
   "metadata": {},
   "source": [
    "# Hyperparamter Tuning"
   ]
  },
  {
   "cell_type": "code",
   "execution_count": 52,
   "metadata": {},
   "outputs": [],
   "source": [
    "# Hyperparameter tuning\n",
    "\n",
    "classifier= xgboost.XGBClassifier()"
   ]
  },
  {
   "cell_type": "code",
   "execution_count": 53,
   "metadata": {},
   "outputs": [
    {
     "data": {
      "text/plain": [
       "XGBClassifier(base_score=0.5, booster='gbtree', colsample_bylevel=1,\n",
       "              colsample_bynode=1, colsample_bytree=1, gamma=0,\n",
       "              learning_rate=0.1, max_delta_step=0, max_depth=3,\n",
       "              min_child_weight=1, missing=None, n_estimators=100, n_jobs=1,\n",
       "              nthread=None, objective='binary:logistic', random_state=0,\n",
       "              reg_alpha=0, reg_lambda=1, scale_pos_weight=1, seed=None,\n",
       "              silent=None, subsample=1, verbosity=1)"
      ]
     },
     "execution_count": 53,
     "metadata": {},
     "output_type": "execute_result"
    }
   ],
   "source": [
    "classifier.fit(X_train,y_train)"
   ]
  },
  {
   "cell_type": "code",
   "execution_count": 54,
   "metadata": {},
   "outputs": [],
   "source": [
    "booster= [\"gbtree\",\"gblinear\"]\n",
    "base_score= [0.25,0.5,0.75,1]\n",
    "n_estimators= [20,50,80,100,200,500,900]\n",
    "max_depth= [2,3,5,10,15]\n",
    "learning_rate=[0.05,0.001,0.1,1.0,0.15,0.20]\n",
    "min_child_weight= [1,2,3,4]"
   ]
  },
  {
   "cell_type": "code",
   "execution_count": 55,
   "metadata": {},
   "outputs": [],
   "source": [
    "hyperparameter_grid= {\n",
    "    \"n_estimators\":n_estimators,\n",
    "    \"max_depth\":max_depth,\n",
    "    \"booster\":booster,\n",
    "    \"base_score\":base_score,\n",
    "    \"learning_rate\":learning_rate,\n",
    "    \"min_child_weight\":min_child_weight,\n",
    "}\n",
    "from sklearn.metrics import mean_squared_error\n",
    "from sklearn.model_selection import RandomizedSearchCV"
   ]
  },
  {
   "cell_type": "code",
   "execution_count": 56,
   "metadata": {},
   "outputs": [
    {
     "name": "stdout",
     "output_type": "stream",
     "text": [
      "Fitting 5 folds for each of 50 candidates, totalling 250 fits\n"
     ]
    },
    {
     "name": "stderr",
     "output_type": "stream",
     "text": [
      "[Parallel(n_jobs=4)]: Using backend LokyBackend with 4 concurrent workers.\n",
      "[Parallel(n_jobs=4)]: Done  10 tasks      | elapsed:    2.1s\n",
      "[Parallel(n_jobs=4)]: Done 108 tasks      | elapsed:    5.1s\n",
      "[Parallel(n_jobs=4)]: Done 250 out of 250 | elapsed:    8.0s finished\n"
     ]
    },
    {
     "data": {
      "text/plain": [
       "RandomizedSearchCV(cv=5, error_score=nan,\n",
       "                   estimator=XGBClassifier(base_score=0.5, booster='gbtree',\n",
       "                                           colsample_bylevel=1,\n",
       "                                           colsample_bynode=1,\n",
       "                                           colsample_bytree=1, gamma=0,\n",
       "                                           learning_rate=0.1, max_delta_step=0,\n",
       "                                           max_depth=3, min_child_weight=1,\n",
       "                                           missing=None, n_estimators=100,\n",
       "                                           n_jobs=1, nthread=None,\n",
       "                                           objective='binary:logistic',\n",
       "                                           random_state=0, reg_alpha=0,\n",
       "                                           reg_lambda=1, sc...\n",
       "                   iid='deprecated', n_iter=50, n_jobs=4,\n",
       "                   param_distributions={'base_score': [0.25, 0.5, 0.75, 1],\n",
       "                                        'booster': ['gbtree', 'gblinear'],\n",
       "                                        'learning_rate': [0.05, 0.001, 0.1, 1.0,\n",
       "                                                          0.15, 0.2],\n",
       "                                        'max_depth': [2, 3, 5, 10, 15],\n",
       "                                        'min_child_weight': [1, 2, 3, 4],\n",
       "                                        'n_estimators': [20, 50, 80, 100, 200,\n",
       "                                                         500, 900]},\n",
       "                   pre_dispatch='2*n_jobs', random_state=42, refit=True,\n",
       "                   return_train_score=True, scoring=None, verbose=5)"
      ]
     },
     "execution_count": 56,
     "metadata": {},
     "output_type": "execute_result"
    }
   ],
   "source": [
    "random_cv= RandomizedSearchCV(estimator=classifier,\n",
    "                             param_distributions=hyperparameter_grid,\n",
    "                             cv=5,\n",
    "                             n_iter=50,\n",
    "                             \n",
    "                             n_jobs=4,\n",
    "                             verbose=5,\n",
    "                             return_train_score=True,\n",
    "                             random_state=42)\n",
    "\n",
    "random_cv.fit(X_train,y_train)"
   ]
  },
  {
   "cell_type": "code",
   "execution_count": 57,
   "metadata": {},
   "outputs": [
    {
     "data": {
      "text/plain": [
       "XGBClassifier(base_score=0.75, booster='gbtree', colsample_bylevel=1,\n",
       "              colsample_bynode=1, colsample_bytree=1, gamma=0,\n",
       "              learning_rate=0.05, max_delta_step=0, max_depth=10,\n",
       "              min_child_weight=1, missing=None, n_estimators=20, n_jobs=1,\n",
       "              nthread=None, objective='binary:logistic', random_state=0,\n",
       "              reg_alpha=0, reg_lambda=1, scale_pos_weight=1, seed=None,\n",
       "              silent=None, subsample=1, verbosity=1)"
      ]
     },
     "execution_count": 57,
     "metadata": {},
     "output_type": "execute_result"
    }
   ],
   "source": [
    "random_cv.best_estimator_"
   ]
  },
  {
   "cell_type": "code",
   "execution_count": 58,
   "metadata": {},
   "outputs": [],
   "source": [
    "classifier= xgboost.XGBClassifier(base_score=0.75, booster='gbtree', colsample_bylevel=1,\n",
    "              colsample_bynode=1, colsample_bytree=1, gamma=0,\n",
    "              learning_rate=0.05, max_delta_step=0, max_depth=10,\n",
    "              min_child_weight=1, missing=None, n_estimators=20, n_jobs=1,\n",
    "              nthread=None, objective='binary:logistic', random_state=0,\n",
    "              reg_alpha=0, reg_lambda=1, scale_pos_weight=1, seed=None,\n",
    "              silent=None, subsample=1, verbosity=1)"
   ]
  },
  {
   "cell_type": "code",
   "execution_count": 59,
   "metadata": {},
   "outputs": [
    {
     "data": {
      "text/plain": [
       "XGBClassifier(base_score=0.75, booster='gbtree', colsample_bylevel=1,\n",
       "              colsample_bynode=1, colsample_bytree=1, gamma=0,\n",
       "              learning_rate=0.05, max_delta_step=0, max_depth=10,\n",
       "              min_child_weight=1, missing=None, n_estimators=20, n_jobs=1,\n",
       "              nthread=None, objective='binary:logistic', random_state=0,\n",
       "              reg_alpha=0, reg_lambda=1, scale_pos_weight=1, seed=None,\n",
       "              silent=None, subsample=1, verbosity=1)"
      ]
     },
     "execution_count": 59,
     "metadata": {},
     "output_type": "execute_result"
    }
   ],
   "source": [
    "classifier.fit(X_train,y_train)"
   ]
  },
  {
   "cell_type": "code",
   "execution_count": 60,
   "metadata": {},
   "outputs": [
    {
     "data": {
      "text/plain": [
       "78.86178861788618"
      ]
     },
     "execution_count": 60,
     "metadata": {},
     "output_type": "execute_result"
    }
   ],
   "source": [
    "classifier.score(X_test,y_test)*100"
   ]
  },
  {
   "cell_type": "markdown",
   "metadata": {},
   "source": [
    "# Testing Data"
   ]
  },
  {
   "cell_type": "code",
   "execution_count": 94,
   "metadata": {},
   "outputs": [],
   "source": [
    "test_data= pd.read_csv(\"test.csv\",na_values=[\"?\",\"NA\"])"
   ]
  },
  {
   "cell_type": "code",
   "execution_count": 95,
   "metadata": {},
   "outputs": [
    {
     "data": {
      "text/html": [
       "<div>\n",
       "<style scoped>\n",
       "    .dataframe tbody tr th:only-of-type {\n",
       "        vertical-align: middle;\n",
       "    }\n",
       "\n",
       "    .dataframe tbody tr th {\n",
       "        vertical-align: top;\n",
       "    }\n",
       "\n",
       "    .dataframe thead th {\n",
       "        text-align: right;\n",
       "    }\n",
       "</style>\n",
       "<table border=\"1\" class=\"dataframe\">\n",
       "  <thead>\n",
       "    <tr style=\"text-align: right;\">\n",
       "      <th></th>\n",
       "      <th>Loan_ID</th>\n",
       "      <th>Gender</th>\n",
       "      <th>Married</th>\n",
       "      <th>Dependents</th>\n",
       "      <th>Education</th>\n",
       "      <th>Self_Employed</th>\n",
       "      <th>ApplicantIncome</th>\n",
       "      <th>CoapplicantIncome</th>\n",
       "      <th>LoanAmount</th>\n",
       "      <th>Loan_Amount_Term</th>\n",
       "      <th>Credit_History</th>\n",
       "      <th>Property_Area</th>\n",
       "    </tr>\n",
       "  </thead>\n",
       "  <tbody>\n",
       "    <tr>\n",
       "      <th>0</th>\n",
       "      <td>LP001015</td>\n",
       "      <td>Male</td>\n",
       "      <td>Yes</td>\n",
       "      <td>0</td>\n",
       "      <td>Graduate</td>\n",
       "      <td>No</td>\n",
       "      <td>5720</td>\n",
       "      <td>0</td>\n",
       "      <td>110.0</td>\n",
       "      <td>360.0</td>\n",
       "      <td>1.0</td>\n",
       "      <td>Urban</td>\n",
       "    </tr>\n",
       "    <tr>\n",
       "      <th>1</th>\n",
       "      <td>LP001022</td>\n",
       "      <td>Male</td>\n",
       "      <td>Yes</td>\n",
       "      <td>1</td>\n",
       "      <td>Graduate</td>\n",
       "      <td>No</td>\n",
       "      <td>3076</td>\n",
       "      <td>1500</td>\n",
       "      <td>126.0</td>\n",
       "      <td>360.0</td>\n",
       "      <td>1.0</td>\n",
       "      <td>Urban</td>\n",
       "    </tr>\n",
       "    <tr>\n",
       "      <th>2</th>\n",
       "      <td>LP001031</td>\n",
       "      <td>Male</td>\n",
       "      <td>Yes</td>\n",
       "      <td>2</td>\n",
       "      <td>Graduate</td>\n",
       "      <td>No</td>\n",
       "      <td>5000</td>\n",
       "      <td>1800</td>\n",
       "      <td>208.0</td>\n",
       "      <td>360.0</td>\n",
       "      <td>1.0</td>\n",
       "      <td>Urban</td>\n",
       "    </tr>\n",
       "    <tr>\n",
       "      <th>3</th>\n",
       "      <td>LP001035</td>\n",
       "      <td>Male</td>\n",
       "      <td>Yes</td>\n",
       "      <td>2</td>\n",
       "      <td>Graduate</td>\n",
       "      <td>No</td>\n",
       "      <td>2340</td>\n",
       "      <td>2546</td>\n",
       "      <td>100.0</td>\n",
       "      <td>360.0</td>\n",
       "      <td>NaN</td>\n",
       "      <td>Urban</td>\n",
       "    </tr>\n",
       "    <tr>\n",
       "      <th>4</th>\n",
       "      <td>LP001051</td>\n",
       "      <td>Male</td>\n",
       "      <td>No</td>\n",
       "      <td>0</td>\n",
       "      <td>Not Graduate</td>\n",
       "      <td>No</td>\n",
       "      <td>3276</td>\n",
       "      <td>0</td>\n",
       "      <td>78.0</td>\n",
       "      <td>360.0</td>\n",
       "      <td>1.0</td>\n",
       "      <td>Urban</td>\n",
       "    </tr>\n",
       "  </tbody>\n",
       "</table>\n",
       "</div>"
      ],
      "text/plain": [
       "    Loan_ID Gender Married Dependents     Education Self_Employed  \\\n",
       "0  LP001015   Male     Yes          0      Graduate            No   \n",
       "1  LP001022   Male     Yes          1      Graduate            No   \n",
       "2  LP001031   Male     Yes          2      Graduate            No   \n",
       "3  LP001035   Male     Yes          2      Graduate            No   \n",
       "4  LP001051   Male      No          0  Not Graduate            No   \n",
       "\n",
       "   ApplicantIncome  CoapplicantIncome  LoanAmount  Loan_Amount_Term  \\\n",
       "0             5720                  0       110.0             360.0   \n",
       "1             3076               1500       126.0             360.0   \n",
       "2             5000               1800       208.0             360.0   \n",
       "3             2340               2546       100.0             360.0   \n",
       "4             3276                  0        78.0             360.0   \n",
       "\n",
       "   Credit_History Property_Area  \n",
       "0             1.0         Urban  \n",
       "1             1.0         Urban  \n",
       "2             1.0         Urban  \n",
       "3             NaN         Urban  \n",
       "4             1.0         Urban  "
      ]
     },
     "execution_count": 95,
     "metadata": {},
     "output_type": "execute_result"
    }
   ],
   "source": [
    "test_data.head()"
   ]
  },
  {
   "cell_type": "code",
   "execution_count": 96,
   "metadata": {},
   "outputs": [],
   "source": [
    "id_df= pd.DataFrame(test_data[\"Loan_ID\"])"
   ]
  },
  {
   "cell_type": "code",
   "execution_count": 97,
   "metadata": {},
   "outputs": [
    {
     "data": {
      "text/html": [
       "<div>\n",
       "<style scoped>\n",
       "    .dataframe tbody tr th:only-of-type {\n",
       "        vertical-align: middle;\n",
       "    }\n",
       "\n",
       "    .dataframe tbody tr th {\n",
       "        vertical-align: top;\n",
       "    }\n",
       "\n",
       "    .dataframe thead th {\n",
       "        text-align: right;\n",
       "    }\n",
       "</style>\n",
       "<table border=\"1\" class=\"dataframe\">\n",
       "  <thead>\n",
       "    <tr style=\"text-align: right;\">\n",
       "      <th></th>\n",
       "      <th>Loan_ID</th>\n",
       "    </tr>\n",
       "  </thead>\n",
       "  <tbody>\n",
       "    <tr>\n",
       "      <th>0</th>\n",
       "      <td>LP001015</td>\n",
       "    </tr>\n",
       "    <tr>\n",
       "      <th>1</th>\n",
       "      <td>LP001022</td>\n",
       "    </tr>\n",
       "    <tr>\n",
       "      <th>2</th>\n",
       "      <td>LP001031</td>\n",
       "    </tr>\n",
       "    <tr>\n",
       "      <th>3</th>\n",
       "      <td>LP001035</td>\n",
       "    </tr>\n",
       "    <tr>\n",
       "      <th>4</th>\n",
       "      <td>LP001051</td>\n",
       "    </tr>\n",
       "    <tr>\n",
       "      <th>...</th>\n",
       "      <td>...</td>\n",
       "    </tr>\n",
       "    <tr>\n",
       "      <th>362</th>\n",
       "      <td>LP002971</td>\n",
       "    </tr>\n",
       "    <tr>\n",
       "      <th>363</th>\n",
       "      <td>LP002975</td>\n",
       "    </tr>\n",
       "    <tr>\n",
       "      <th>364</th>\n",
       "      <td>LP002980</td>\n",
       "    </tr>\n",
       "    <tr>\n",
       "      <th>365</th>\n",
       "      <td>LP002986</td>\n",
       "    </tr>\n",
       "    <tr>\n",
       "      <th>366</th>\n",
       "      <td>LP002989</td>\n",
       "    </tr>\n",
       "  </tbody>\n",
       "</table>\n",
       "<p>367 rows × 1 columns</p>\n",
       "</div>"
      ],
      "text/plain": [
       "      Loan_ID\n",
       "0    LP001015\n",
       "1    LP001022\n",
       "2    LP001031\n",
       "3    LP001035\n",
       "4    LP001051\n",
       "..        ...\n",
       "362  LP002971\n",
       "363  LP002975\n",
       "364  LP002980\n",
       "365  LP002986\n",
       "366  LP002989\n",
       "\n",
       "[367 rows x 1 columns]"
      ]
     },
     "execution_count": 97,
     "metadata": {},
     "output_type": "execute_result"
    }
   ],
   "source": [
    "id_df"
   ]
  },
  {
   "cell_type": "code",
   "execution_count": 98,
   "metadata": {},
   "outputs": [
    {
     "data": {
      "text/plain": [
       "Loan_ID               0\n",
       "Gender               11\n",
       "Married               0\n",
       "Dependents           10\n",
       "Education             0\n",
       "Self_Employed        23\n",
       "ApplicantIncome       0\n",
       "CoapplicantIncome     0\n",
       "LoanAmount            5\n",
       "Loan_Amount_Term      6\n",
       "Credit_History       29\n",
       "Property_Area         0\n",
       "dtype: int64"
      ]
     },
     "execution_count": 98,
     "metadata": {},
     "output_type": "execute_result"
    }
   ],
   "source": [
    "test_data.isnull().sum()"
   ]
  },
  {
   "cell_type": "code",
   "execution_count": 99,
   "metadata": {},
   "outputs": [],
   "source": [
    "test_data[\"LoanAmount\"].fillna(test_data[\"LoanAmount\"].median(),inplace=True)\n",
    "test_data[\"Loan_Amount_Term\"].fillna(test_data[\"Loan_Amount_Term\"],inplace=True)\n",
    "test_data[\"Credit_History\"].fillna(test_data[\"Credit_History\"].median(),inplace=True)"
   ]
  },
  {
   "cell_type": "code",
   "execution_count": 100,
   "metadata": {},
   "outputs": [
    {
     "data": {
      "text/plain": [
       "Loan_ID               0\n",
       "Gender               11\n",
       "Married               0\n",
       "Dependents           10\n",
       "Education             0\n",
       "Self_Employed        23\n",
       "ApplicantIncome       0\n",
       "CoapplicantIncome     0\n",
       "LoanAmount            0\n",
       "Loan_Amount_Term      6\n",
       "Credit_History        0\n",
       "Property_Area         0\n",
       "dtype: int64"
      ]
     },
     "execution_count": 100,
     "metadata": {},
     "output_type": "execute_result"
    }
   ],
   "source": [
    "test_data.isnull().sum()"
   ]
  },
  {
   "cell_type": "code",
   "execution_count": 101,
   "metadata": {},
   "outputs": [
    {
     "name": "stdout",
     "output_type": "stream",
     "text": [
      "[INFO] loading categorical features having nan values....\n",
      "Gender\n",
      "Dependents\n",
      "Self_Employed\n"
     ]
    }
   ],
   "source": [
    "# Handling Categorical missing values\n",
    "\n",
    "test_cat_feat_nan= [feature for feature in test_data.columns if test_data[feature].isnull().sum()>1 and test_data[feature].dtype==\"O\"]\n",
    "\n",
    "print(\"[INFO] loading categorical features having nan values....\")\n",
    "\n",
    "for feature in test_cat_feat_nan:\n",
    "    print(feature)"
   ]
  },
  {
   "cell_type": "code",
   "execution_count": 102,
   "metadata": {},
   "outputs": [
    {
     "name": "stdout",
     "output_type": "stream",
     "text": [
      "[INFO] Filling Nan values....\n"
     ]
    }
   ],
   "source": [
    "def replace_cat_feature(dataset,feat_nan):\n",
    "    test_data=dataset.copy()\n",
    "    test_data[feat_nan]= test_data[feat_nan].fillna(\"Missing\")\n",
    "    return data\n",
    "\n",
    "print(\"[INFO] Filling Nan values....\")\n",
    "test_data= replace_cat_feature(test_data,test_cat_feat_nan)"
   ]
  },
  {
   "cell_type": "code",
   "execution_count": 103,
   "metadata": {},
   "outputs": [
    {
     "data": {
      "text/plain": [
       "Gender               0\n",
       "Married              0\n",
       "Dependents           0\n",
       "Education            0\n",
       "Self_Employed        0\n",
       "ApplicantIncome      0\n",
       "CoapplicantIncome    0\n",
       "LoanAmount           0\n",
       "Loan_Amount_Term     0\n",
       "Credit_History       0\n",
       "Property_Area        0\n",
       "dtype: int64"
      ]
     },
     "execution_count": 103,
     "metadata": {},
     "output_type": "execute_result"
    }
   ],
   "source": [
    "test_data.isnull().sum()"
   ]
  },
  {
   "cell_type": "code",
   "execution_count": 104,
   "metadata": {},
   "outputs": [],
   "source": [
    "test_data[\"Loan_Amount_Term\"].fillna(data[\"Loan_Amount_Term\"].median(),inplace=True)"
   ]
  },
  {
   "cell_type": "code",
   "execution_count": 105,
   "metadata": {},
   "outputs": [
    {
     "data": {
      "text/plain": [
       "Gender               0\n",
       "Married              0\n",
       "Dependents           0\n",
       "Education            0\n",
       "Self_Employed        0\n",
       "ApplicantIncome      0\n",
       "CoapplicantIncome    0\n",
       "LoanAmount           0\n",
       "Loan_Amount_Term     0\n",
       "Credit_History       0\n",
       "Property_Area        0\n",
       "dtype: int64"
      ]
     },
     "execution_count": 105,
     "metadata": {},
     "output_type": "execute_result"
    }
   ],
   "source": [
    "test_data.isnull().sum()"
   ]
  },
  {
   "cell_type": "code",
   "execution_count": null,
   "metadata": {},
   "outputs": [],
   "source": []
  },
  {
   "cell_type": "code",
   "execution_count": 106,
   "metadata": {},
   "outputs": [
    {
     "data": {
      "text/html": [
       "<div>\n",
       "<style scoped>\n",
       "    .dataframe tbody tr th:only-of-type {\n",
       "        vertical-align: middle;\n",
       "    }\n",
       "\n",
       "    .dataframe tbody tr th {\n",
       "        vertical-align: top;\n",
       "    }\n",
       "\n",
       "    .dataframe thead th {\n",
       "        text-align: right;\n",
       "    }\n",
       "</style>\n",
       "<table border=\"1\" class=\"dataframe\">\n",
       "  <thead>\n",
       "    <tr style=\"text-align: right;\">\n",
       "      <th></th>\n",
       "      <th>Gender</th>\n",
       "      <th>Married</th>\n",
       "      <th>Dependents</th>\n",
       "      <th>Education</th>\n",
       "      <th>Self_Employed</th>\n",
       "      <th>ApplicantIncome</th>\n",
       "      <th>CoapplicantIncome</th>\n",
       "      <th>LoanAmount</th>\n",
       "      <th>Loan_Amount_Term</th>\n",
       "      <th>Credit_History</th>\n",
       "      <th>Property_Area</th>\n",
       "    </tr>\n",
       "  </thead>\n",
       "  <tbody>\n",
       "    <tr>\n",
       "      <th>0</th>\n",
       "      <td>1</td>\n",
       "      <td>1</td>\n",
       "      <td>0</td>\n",
       "      <td>0</td>\n",
       "      <td>1</td>\n",
       "      <td>5849</td>\n",
       "      <td>0.0</td>\n",
       "      <td>128.0</td>\n",
       "      <td>360.0</td>\n",
       "      <td>1.0</td>\n",
       "      <td>2</td>\n",
       "    </tr>\n",
       "    <tr>\n",
       "      <th>1</th>\n",
       "      <td>1</td>\n",
       "      <td>2</td>\n",
       "      <td>1</td>\n",
       "      <td>0</td>\n",
       "      <td>1</td>\n",
       "      <td>4583</td>\n",
       "      <td>1508.0</td>\n",
       "      <td>128.0</td>\n",
       "      <td>360.0</td>\n",
       "      <td>1.0</td>\n",
       "      <td>0</td>\n",
       "    </tr>\n",
       "    <tr>\n",
       "      <th>2</th>\n",
       "      <td>1</td>\n",
       "      <td>2</td>\n",
       "      <td>0</td>\n",
       "      <td>0</td>\n",
       "      <td>2</td>\n",
       "      <td>3000</td>\n",
       "      <td>0.0</td>\n",
       "      <td>66.0</td>\n",
       "      <td>360.0</td>\n",
       "      <td>1.0</td>\n",
       "      <td>2</td>\n",
       "    </tr>\n",
       "    <tr>\n",
       "      <th>3</th>\n",
       "      <td>1</td>\n",
       "      <td>2</td>\n",
       "      <td>0</td>\n",
       "      <td>1</td>\n",
       "      <td>1</td>\n",
       "      <td>2583</td>\n",
       "      <td>2358.0</td>\n",
       "      <td>120.0</td>\n",
       "      <td>360.0</td>\n",
       "      <td>1.0</td>\n",
       "      <td>2</td>\n",
       "    </tr>\n",
       "    <tr>\n",
       "      <th>4</th>\n",
       "      <td>1</td>\n",
       "      <td>1</td>\n",
       "      <td>0</td>\n",
       "      <td>0</td>\n",
       "      <td>1</td>\n",
       "      <td>6000</td>\n",
       "      <td>0.0</td>\n",
       "      <td>141.0</td>\n",
       "      <td>360.0</td>\n",
       "      <td>1.0</td>\n",
       "      <td>2</td>\n",
       "    </tr>\n",
       "  </tbody>\n",
       "</table>\n",
       "</div>"
      ],
      "text/plain": [
       "   Gender  Married  Dependents  Education  Self_Employed  ApplicantIncome  \\\n",
       "0       1        1           0          0              1             5849   \n",
       "1       1        2           1          0              1             4583   \n",
       "2       1        2           0          0              2             3000   \n",
       "3       1        2           0          1              1             2583   \n",
       "4       1        1           0          0              1             6000   \n",
       "\n",
       "   CoapplicantIncome  LoanAmount  Loan_Amount_Term  Credit_History  \\\n",
       "0                0.0       128.0             360.0             1.0   \n",
       "1             1508.0       128.0             360.0             1.0   \n",
       "2                0.0        66.0             360.0             1.0   \n",
       "3             2358.0       120.0             360.0             1.0   \n",
       "4                0.0       141.0             360.0             1.0   \n",
       "\n",
       "   Property_Area  \n",
       "0              2  \n",
       "1              0  \n",
       "2              2  \n",
       "3              2  \n",
       "4              2  "
      ]
     },
     "execution_count": 106,
     "metadata": {},
     "output_type": "execute_result"
    }
   ],
   "source": [
    "test_data.head()"
   ]
  },
  {
   "cell_type": "code",
   "execution_count": 107,
   "metadata": {},
   "outputs": [],
   "source": [
    "from sklearn.preprocessing import LabelEncoder\n",
    "lb= LabelEncoder()"
   ]
  },
  {
   "cell_type": "code",
   "execution_count": 108,
   "metadata": {},
   "outputs": [],
   "source": [
    "cols=[\"Gender\",\"Married\",\"Education\",\"Self_Employed\",\"Property_Area\"]\n",
    "for i in range(0,5):\n",
    "    test_data[cols[i]]= lb.fit_transform(test_data[cols[i]])\n",
    "    i+=1  # this is correct code"
   ]
  },
  {
   "cell_type": "code",
   "execution_count": 109,
   "metadata": {},
   "outputs": [],
   "source": [
    "test_data[\"Dependents\"]= lb.fit_transform(test_data[\"Dependents\"])"
   ]
  },
  {
   "cell_type": "code",
   "execution_count": 110,
   "metadata": {},
   "outputs": [
    {
     "data": {
      "text/html": [
       "<div>\n",
       "<style scoped>\n",
       "    .dataframe tbody tr th:only-of-type {\n",
       "        vertical-align: middle;\n",
       "    }\n",
       "\n",
       "    .dataframe tbody tr th {\n",
       "        vertical-align: top;\n",
       "    }\n",
       "\n",
       "    .dataframe thead th {\n",
       "        text-align: right;\n",
       "    }\n",
       "</style>\n",
       "<table border=\"1\" class=\"dataframe\">\n",
       "  <thead>\n",
       "    <tr style=\"text-align: right;\">\n",
       "      <th></th>\n",
       "      <th>Gender</th>\n",
       "      <th>Married</th>\n",
       "      <th>Dependents</th>\n",
       "      <th>Education</th>\n",
       "      <th>Self_Employed</th>\n",
       "      <th>ApplicantIncome</th>\n",
       "      <th>CoapplicantIncome</th>\n",
       "      <th>LoanAmount</th>\n",
       "      <th>Loan_Amount_Term</th>\n",
       "      <th>Credit_History</th>\n",
       "      <th>Property_Area</th>\n",
       "    </tr>\n",
       "  </thead>\n",
       "  <tbody>\n",
       "    <tr>\n",
       "      <th>0</th>\n",
       "      <td>1</td>\n",
       "      <td>1</td>\n",
       "      <td>0</td>\n",
       "      <td>0</td>\n",
       "      <td>1</td>\n",
       "      <td>5849</td>\n",
       "      <td>0.0</td>\n",
       "      <td>128.0</td>\n",
       "      <td>360.0</td>\n",
       "      <td>1.0</td>\n",
       "      <td>2</td>\n",
       "    </tr>\n",
       "    <tr>\n",
       "      <th>1</th>\n",
       "      <td>1</td>\n",
       "      <td>2</td>\n",
       "      <td>1</td>\n",
       "      <td>0</td>\n",
       "      <td>1</td>\n",
       "      <td>4583</td>\n",
       "      <td>1508.0</td>\n",
       "      <td>128.0</td>\n",
       "      <td>360.0</td>\n",
       "      <td>1.0</td>\n",
       "      <td>0</td>\n",
       "    </tr>\n",
       "    <tr>\n",
       "      <th>2</th>\n",
       "      <td>1</td>\n",
       "      <td>2</td>\n",
       "      <td>0</td>\n",
       "      <td>0</td>\n",
       "      <td>2</td>\n",
       "      <td>3000</td>\n",
       "      <td>0.0</td>\n",
       "      <td>66.0</td>\n",
       "      <td>360.0</td>\n",
       "      <td>1.0</td>\n",
       "      <td>2</td>\n",
       "    </tr>\n",
       "    <tr>\n",
       "      <th>3</th>\n",
       "      <td>1</td>\n",
       "      <td>2</td>\n",
       "      <td>0</td>\n",
       "      <td>1</td>\n",
       "      <td>1</td>\n",
       "      <td>2583</td>\n",
       "      <td>2358.0</td>\n",
       "      <td>120.0</td>\n",
       "      <td>360.0</td>\n",
       "      <td>1.0</td>\n",
       "      <td>2</td>\n",
       "    </tr>\n",
       "    <tr>\n",
       "      <th>4</th>\n",
       "      <td>1</td>\n",
       "      <td>1</td>\n",
       "      <td>0</td>\n",
       "      <td>0</td>\n",
       "      <td>1</td>\n",
       "      <td>6000</td>\n",
       "      <td>0.0</td>\n",
       "      <td>141.0</td>\n",
       "      <td>360.0</td>\n",
       "      <td>1.0</td>\n",
       "      <td>2</td>\n",
       "    </tr>\n",
       "  </tbody>\n",
       "</table>\n",
       "</div>"
      ],
      "text/plain": [
       "   Gender  Married  Dependents  Education  Self_Employed  ApplicantIncome  \\\n",
       "0       1        1           0          0              1             5849   \n",
       "1       1        2           1          0              1             4583   \n",
       "2       1        2           0          0              2             3000   \n",
       "3       1        2           0          1              1             2583   \n",
       "4       1        1           0          0              1             6000   \n",
       "\n",
       "   CoapplicantIncome  LoanAmount  Loan_Amount_Term  Credit_History  \\\n",
       "0                0.0       128.0             360.0             1.0   \n",
       "1             1508.0       128.0             360.0             1.0   \n",
       "2                0.0        66.0             360.0             1.0   \n",
       "3             2358.0       120.0             360.0             1.0   \n",
       "4                0.0       141.0             360.0             1.0   \n",
       "\n",
       "   Property_Area  \n",
       "0              2  \n",
       "1              0  \n",
       "2              2  \n",
       "3              2  \n",
       "4              2  "
      ]
     },
     "execution_count": 110,
     "metadata": {},
     "output_type": "execute_result"
    }
   ],
   "source": [
    "test_data.head()"
   ]
  },
  {
   "cell_type": "code",
   "execution_count": null,
   "metadata": {},
   "outputs": [],
   "source": []
  },
  {
   "cell_type": "code",
   "execution_count": 112,
   "metadata": {},
   "outputs": [
    {
     "data": {
      "text/plain": [
       "array([[0.5       , 0.5       , 0.        , ..., 0.74358974, 1.        ,\n",
       "        1.        ],\n",
       "       [0.5       , 1.        , 0.25      , ..., 0.74358974, 1.        ,\n",
       "        0.        ],\n",
       "       [0.5       , 1.        , 0.        , ..., 0.74358974, 1.        ,\n",
       "        1.        ],\n",
       "       ...,\n",
       "       [0.5       , 1.        , 0.25      , ..., 0.74358974, 1.        ,\n",
       "        1.        ],\n",
       "       [0.5       , 1.        , 0.5       , ..., 0.74358974, 1.        ,\n",
       "        1.        ],\n",
       "       [0.        , 0.5       , 0.        , ..., 0.74358974, 0.        ,\n",
       "        0.5       ]])"
      ]
     },
     "execution_count": 112,
     "metadata": {},
     "output_type": "execute_result"
    }
   ],
   "source": [
    "mn= MinMaxScaler()\n",
    "test_data= mn.fit_transform(test_data)\n",
    "test_data"
   ]
  },
  {
   "cell_type": "code",
   "execution_count": null,
   "metadata": {},
   "outputs": [],
   "source": []
  },
  {
   "cell_type": "code",
   "execution_count": null,
   "metadata": {},
   "outputs": [],
   "source": []
  },
  {
   "cell_type": "code",
   "execution_count": 113,
   "metadata": {},
   "outputs": [
    {
     "data": {
      "text/plain": [
       "array([[0.5       , 0.5       , 0.        , ..., 0.74358974, 1.        ,\n",
       "        1.        ],\n",
       "       [0.5       , 1.        , 0.25      , ..., 0.74358974, 1.        ,\n",
       "        0.        ],\n",
       "       [0.5       , 1.        , 0.        , ..., 0.74358974, 1.        ,\n",
       "        1.        ],\n",
       "       ...,\n",
       "       [0.5       , 1.        , 0.25      , ..., 0.74358974, 1.        ,\n",
       "        1.        ],\n",
       "       [0.5       , 1.        , 0.5       , ..., 0.74358974, 1.        ,\n",
       "        1.        ],\n",
       "       [0.        , 0.5       , 0.        , ..., 0.74358974, 0.        ,\n",
       "        0.5       ]])"
      ]
     },
     "execution_count": 113,
     "metadata": {},
     "output_type": "execute_result"
    }
   ],
   "source": [
    "test_data"
   ]
  },
  {
   "cell_type": "code",
   "execution_count": 114,
   "metadata": {},
   "outputs": [],
   "source": [
    "y_pred= classifier.predict(test_data)"
   ]
  },
  {
   "cell_type": "code",
   "execution_count": 115,
   "metadata": {},
   "outputs": [
    {
     "data": {
      "text/plain": [
       "array([1, 1, 1, 1, 1, 1, 1, 0, 1, 1, 1, 1, 1, 1, 1, 1, 1, 0, 1, 1, 0, 1,\n",
       "       0, 0, 1, 1, 1, 1, 1, 1, 1, 1, 1, 1, 1, 1, 0, 1, 1, 1, 0, 1, 1, 1,\n",
       "       1, 1, 1, 1, 0, 1, 1, 1, 1, 1, 0, 1, 1, 1, 1, 1, 1, 1, 0, 0, 0, 1,\n",
       "       0, 1, 1, 0, 1, 1, 1, 0, 1, 1, 1, 1, 0, 1, 1, 1, 1, 1, 1, 1, 1, 1,\n",
       "       1, 1, 1, 1, 1, 1, 1, 1, 1, 1, 1, 1, 1, 1, 1, 1, 1, 1, 1, 1, 0, 1,\n",
       "       1, 1, 0, 1, 1, 1, 1, 1, 1, 1, 1, 1, 0, 1, 1, 1, 1, 1, 0, 1, 1, 1,\n",
       "       1, 1, 1, 1, 0, 1, 0, 1, 1, 1, 1, 1, 1, 1, 1, 1, 1, 1, 0, 1, 1, 1,\n",
       "       1, 0, 1, 1, 1, 1, 1, 1, 0, 1, 1, 1, 1, 1, 0, 1, 1, 1, 1, 1, 1, 1,\n",
       "       1, 0, 1, 0, 0, 1, 1, 1, 1, 1, 0, 1, 1, 1, 1, 1, 1, 1, 1, 1, 1, 1,\n",
       "       1, 1, 1, 0, 1, 1, 1, 1, 1, 1, 1, 1, 1, 0, 1, 1, 1, 1, 1, 1, 0, 1,\n",
       "       0, 1, 1, 1, 1, 1, 1, 1, 1, 1, 1, 1, 1, 1, 1, 1, 1, 1, 1, 1, 1, 1,\n",
       "       1, 1, 1, 1, 1, 1, 1, 1, 0, 1, 1, 1, 0, 1, 0, 1, 0, 1, 1, 1, 1, 1,\n",
       "       1, 1, 1, 0, 1, 1, 1, 1, 1, 1, 1, 1, 1, 1, 1, 1, 0, 1, 1, 1, 1, 1,\n",
       "       1, 1, 1, 1, 1, 0, 1, 0, 1, 1, 1, 1, 1, 1, 0, 1, 1, 1, 1, 0, 1, 0,\n",
       "       1, 1, 1, 1, 1, 1, 1, 1, 1, 1, 1, 1, 1, 1, 1, 1, 1, 0, 0, 1, 1, 1,\n",
       "       1, 1, 1, 1, 1, 1, 1, 1, 0, 1, 1, 1, 1, 1, 1, 1, 0, 1, 1, 1, 1, 0,\n",
       "       1, 0, 1, 1, 1, 1, 0, 1, 1, 1, 1, 1, 1, 1, 1, 0, 1, 1, 1, 1, 1, 0,\n",
       "       1, 1, 1, 1, 1, 1, 1, 1, 1, 1, 1, 1, 1, 0, 1, 1, 1, 1, 1, 1, 1, 1,\n",
       "       0, 1, 1, 0, 0, 1, 1, 1, 1, 1, 1, 1, 0, 0, 1, 1, 0, 1, 0, 1, 0, 1,\n",
       "       1, 1, 1, 0, 1, 0, 1, 1, 0, 1, 1, 1, 1, 0, 1, 1, 1, 1, 1, 1, 0, 1,\n",
       "       1, 1, 1, 1, 1, 1, 1, 1, 0, 1, 0, 1, 0, 0, 1, 1, 1, 1, 1, 1, 1, 1,\n",
       "       1, 1, 0, 1, 0, 1, 1, 1, 1, 0, 1, 1, 1, 1, 1, 0, 1, 1, 1, 1, 1, 1,\n",
       "       1, 1, 0, 1, 1, 1, 1, 1, 1, 1, 0, 1, 1, 1, 1, 0, 1, 1, 1, 1, 1, 1,\n",
       "       1, 1, 1, 1, 1, 1, 1, 1, 1, 1, 1, 0, 1, 1, 1, 1, 1, 1, 1, 1, 1, 0,\n",
       "       1, 1, 1, 1, 0, 1, 1, 1, 1, 1, 0, 1, 1, 0, 1, 1, 1, 1, 1, 1, 0, 1,\n",
       "       0, 1, 1, 0, 0, 1, 1, 1, 1, 1, 1, 1, 1, 1, 0, 1, 1, 0, 1, 0, 1, 0,\n",
       "       1, 1, 1, 1, 0, 1, 1, 1, 1, 1, 1, 0, 0, 1, 1, 1, 1, 0, 1, 1, 1, 1,\n",
       "       1, 1, 1, 0, 1, 1, 0, 1, 1, 1, 1, 1, 1, 1, 1, 1, 1, 1, 1, 0])"
      ]
     },
     "execution_count": 115,
     "metadata": {},
     "output_type": "execute_result"
    }
   ],
   "source": [
    "y_pred"
   ]
  },
  {
   "cell_type": "code",
   "execution_count": 116,
   "metadata": {},
   "outputs": [],
   "source": [
    "pred1_df= pd.DataFrame(y_pred,columns=[\"Loan_Status\"])"
   ]
  },
  {
   "cell_type": "code",
   "execution_count": null,
   "metadata": {},
   "outputs": [],
   "source": [
    "predq_df"
   ]
  },
  {
   "cell_type": "code",
   "execution_count": 90,
   "metadata": {},
   "outputs": [],
   "source": [
    "upload2= pd.concat([id_df,pred_df],axis=1)"
   ]
  },
  {
   "cell_type": "code",
   "execution_count": 91,
   "metadata": {},
   "outputs": [
    {
     "data": {
      "text/html": [
       "<div>\n",
       "<style scoped>\n",
       "    .dataframe tbody tr th:only-of-type {\n",
       "        vertical-align: middle;\n",
       "    }\n",
       "\n",
       "    .dataframe tbody tr th {\n",
       "        vertical-align: top;\n",
       "    }\n",
       "\n",
       "    .dataframe thead th {\n",
       "        text-align: right;\n",
       "    }\n",
       "</style>\n",
       "<table border=\"1\" class=\"dataframe\">\n",
       "  <thead>\n",
       "    <tr style=\"text-align: right;\">\n",
       "      <th></th>\n",
       "      <th>Loan_ID</th>\n",
       "      <th>Loan_Status</th>\n",
       "    </tr>\n",
       "  </thead>\n",
       "  <tbody>\n",
       "    <tr>\n",
       "      <th>0</th>\n",
       "      <td>LP001015</td>\n",
       "      <td>1</td>\n",
       "    </tr>\n",
       "    <tr>\n",
       "      <th>1</th>\n",
       "      <td>LP001022</td>\n",
       "      <td>1</td>\n",
       "    </tr>\n",
       "    <tr>\n",
       "      <th>2</th>\n",
       "      <td>LP001031</td>\n",
       "      <td>1</td>\n",
       "    </tr>\n",
       "    <tr>\n",
       "      <th>3</th>\n",
       "      <td>LP001035</td>\n",
       "      <td>1</td>\n",
       "    </tr>\n",
       "    <tr>\n",
       "      <th>4</th>\n",
       "      <td>LP001051</td>\n",
       "      <td>1</td>\n",
       "    </tr>\n",
       "    <tr>\n",
       "      <th>...</th>\n",
       "      <td>...</td>\n",
       "      <td>...</td>\n",
       "    </tr>\n",
       "    <tr>\n",
       "      <th>609</th>\n",
       "      <td>NaN</td>\n",
       "      <td>1</td>\n",
       "    </tr>\n",
       "    <tr>\n",
       "      <th>610</th>\n",
       "      <td>NaN</td>\n",
       "      <td>1</td>\n",
       "    </tr>\n",
       "    <tr>\n",
       "      <th>611</th>\n",
       "      <td>NaN</td>\n",
       "      <td>1</td>\n",
       "    </tr>\n",
       "    <tr>\n",
       "      <th>612</th>\n",
       "      <td>NaN</td>\n",
       "      <td>1</td>\n",
       "    </tr>\n",
       "    <tr>\n",
       "      <th>613</th>\n",
       "      <td>NaN</td>\n",
       "      <td>0</td>\n",
       "    </tr>\n",
       "  </tbody>\n",
       "</table>\n",
       "<p>614 rows × 2 columns</p>\n",
       "</div>"
      ],
      "text/plain": [
       "      Loan_ID  Loan_Status\n",
       "0    LP001015            1\n",
       "1    LP001022            1\n",
       "2    LP001031            1\n",
       "3    LP001035            1\n",
       "4    LP001051            1\n",
       "..        ...          ...\n",
       "609       NaN            1\n",
       "610       NaN            1\n",
       "611       NaN            1\n",
       "612       NaN            1\n",
       "613       NaN            0\n",
       "\n",
       "[614 rows x 2 columns]"
      ]
     },
     "execution_count": 91,
     "metadata": {},
     "output_type": "execute_result"
    }
   ],
   "source": [
    "upload2"
   ]
  },
  {
   "cell_type": "code",
   "execution_count": 92,
   "metadata": {},
   "outputs": [],
   "source": [
    "upload2.to_csv(\"xg1.csv\",index=False)"
   ]
  },
  {
   "cell_type": "code",
   "execution_count": 93,
   "metadata": {},
   "outputs": [
    {
     "data": {
      "text/html": [
       "<div>\n",
       "<style scoped>\n",
       "    .dataframe tbody tr th:only-of-type {\n",
       "        vertical-align: middle;\n",
       "    }\n",
       "\n",
       "    .dataframe tbody tr th {\n",
       "        vertical-align: top;\n",
       "    }\n",
       "\n",
       "    .dataframe thead th {\n",
       "        text-align: right;\n",
       "    }\n",
       "</style>\n",
       "<table border=\"1\" class=\"dataframe\">\n",
       "  <thead>\n",
       "    <tr style=\"text-align: right;\">\n",
       "      <th></th>\n",
       "      <th>Loan_ID</th>\n",
       "      <th>Loan_Status</th>\n",
       "    </tr>\n",
       "  </thead>\n",
       "  <tbody>\n",
       "    <tr>\n",
       "      <th>0</th>\n",
       "      <td>LP001015</td>\n",
       "      <td>1</td>\n",
       "    </tr>\n",
       "    <tr>\n",
       "      <th>1</th>\n",
       "      <td>LP001022</td>\n",
       "      <td>1</td>\n",
       "    </tr>\n",
       "    <tr>\n",
       "      <th>2</th>\n",
       "      <td>LP001031</td>\n",
       "      <td>1</td>\n",
       "    </tr>\n",
       "    <tr>\n",
       "      <th>3</th>\n",
       "      <td>LP001035</td>\n",
       "      <td>1</td>\n",
       "    </tr>\n",
       "    <tr>\n",
       "      <th>4</th>\n",
       "      <td>LP001051</td>\n",
       "      <td>1</td>\n",
       "    </tr>\n",
       "    <tr>\n",
       "      <th>...</th>\n",
       "      <td>...</td>\n",
       "      <td>...</td>\n",
       "    </tr>\n",
       "    <tr>\n",
       "      <th>609</th>\n",
       "      <td>NaN</td>\n",
       "      <td>1</td>\n",
       "    </tr>\n",
       "    <tr>\n",
       "      <th>610</th>\n",
       "      <td>NaN</td>\n",
       "      <td>1</td>\n",
       "    </tr>\n",
       "    <tr>\n",
       "      <th>611</th>\n",
       "      <td>NaN</td>\n",
       "      <td>1</td>\n",
       "    </tr>\n",
       "    <tr>\n",
       "      <th>612</th>\n",
       "      <td>NaN</td>\n",
       "      <td>1</td>\n",
       "    </tr>\n",
       "    <tr>\n",
       "      <th>613</th>\n",
       "      <td>NaN</td>\n",
       "      <td>0</td>\n",
       "    </tr>\n",
       "  </tbody>\n",
       "</table>\n",
       "<p>614 rows × 2 columns</p>\n",
       "</div>"
      ],
      "text/plain": [
       "      Loan_ID  Loan_Status\n",
       "0    LP001015            1\n",
       "1    LP001022            1\n",
       "2    LP001031            1\n",
       "3    LP001035            1\n",
       "4    LP001051            1\n",
       "..        ...          ...\n",
       "609       NaN            1\n",
       "610       NaN            1\n",
       "611       NaN            1\n",
       "612       NaN            1\n",
       "613       NaN            0\n",
       "\n",
       "[614 rows x 2 columns]"
      ]
     },
     "execution_count": 93,
     "metadata": {},
     "output_type": "execute_result"
    }
   ],
   "source": [
    "pd.read_csv(\"xg1.csv\")"
   ]
  },
  {
   "cell_type": "code",
   "execution_count": null,
   "metadata": {},
   "outputs": [],
   "source": []
  }
 ],
 "metadata": {
  "kernelspec": {
   "display_name": "Python 3",
   "language": "python",
   "name": "python3"
  },
  "language_info": {
   "codemirror_mode": {
    "name": "ipython",
    "version": 3
   },
   "file_extension": ".py",
   "mimetype": "text/x-python",
   "name": "python",
   "nbconvert_exporter": "python",
   "pygments_lexer": "ipython3",
   "version": "3.6.8"
  }
 },
 "nbformat": 4,
 "nbformat_minor": 4
}
