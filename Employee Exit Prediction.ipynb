{
 "cells": [
  {
   "cell_type": "code",
   "execution_count": 137,
   "metadata": {},
   "outputs": [],
   "source": [
    "import numpy as np\n",
    "import pandas as pd"
   ]
  },
  {
   "cell_type": "code",
   "execution_count": 138,
   "metadata": {},
   "outputs": [],
   "source": [
    "data= pd.read_csv(\"hr_data.csv\",na_values=[\"NA\",\"?\"])"
   ]
  },
  {
   "cell_type": "code",
   "execution_count": 139,
   "metadata": {},
   "outputs": [
    {
     "data": {
      "text/html": [
       "<div>\n",
       "<style scoped>\n",
       "    .dataframe tbody tr th:only-of-type {\n",
       "        vertical-align: middle;\n",
       "    }\n",
       "\n",
       "    .dataframe tbody tr th {\n",
       "        vertical-align: top;\n",
       "    }\n",
       "\n",
       "    .dataframe thead th {\n",
       "        text-align: right;\n",
       "    }\n",
       "</style>\n",
       "<table border=\"1\" class=\"dataframe\">\n",
       "  <thead>\n",
       "    <tr style=\"text-align: right;\">\n",
       "      <th></th>\n",
       "      <th>employee_id</th>\n",
       "      <th>number_project</th>\n",
       "      <th>average_montly_hours</th>\n",
       "      <th>time_spend_company</th>\n",
       "      <th>Work_accident</th>\n",
       "      <th>left</th>\n",
       "      <th>promotion_last_5years</th>\n",
       "      <th>department</th>\n",
       "      <th>salary</th>\n",
       "    </tr>\n",
       "  </thead>\n",
       "  <tbody>\n",
       "    <tr>\n",
       "      <th>0</th>\n",
       "      <td>1003</td>\n",
       "      <td>2</td>\n",
       "      <td>157</td>\n",
       "      <td>3</td>\n",
       "      <td>0</td>\n",
       "      <td>1</td>\n",
       "      <td>0</td>\n",
       "      <td>sales</td>\n",
       "      <td>low</td>\n",
       "    </tr>\n",
       "    <tr>\n",
       "      <th>1</th>\n",
       "      <td>1005</td>\n",
       "      <td>5</td>\n",
       "      <td>262</td>\n",
       "      <td>6</td>\n",
       "      <td>0</td>\n",
       "      <td>1</td>\n",
       "      <td>0</td>\n",
       "      <td>sales</td>\n",
       "      <td>medium</td>\n",
       "    </tr>\n",
       "    <tr>\n",
       "      <th>2</th>\n",
       "      <td>1486</td>\n",
       "      <td>7</td>\n",
       "      <td>272</td>\n",
       "      <td>4</td>\n",
       "      <td>0</td>\n",
       "      <td>1</td>\n",
       "      <td>0</td>\n",
       "      <td>sales</td>\n",
       "      <td>medium</td>\n",
       "    </tr>\n",
       "    <tr>\n",
       "      <th>3</th>\n",
       "      <td>1038</td>\n",
       "      <td>5</td>\n",
       "      <td>223</td>\n",
       "      <td>5</td>\n",
       "      <td>0</td>\n",
       "      <td>1</td>\n",
       "      <td>0</td>\n",
       "      <td>sales</td>\n",
       "      <td>low</td>\n",
       "    </tr>\n",
       "    <tr>\n",
       "      <th>4</th>\n",
       "      <td>1057</td>\n",
       "      <td>2</td>\n",
       "      <td>159</td>\n",
       "      <td>3</td>\n",
       "      <td>0</td>\n",
       "      <td>1</td>\n",
       "      <td>0</td>\n",
       "      <td>sales</td>\n",
       "      <td>low</td>\n",
       "    </tr>\n",
       "  </tbody>\n",
       "</table>\n",
       "</div>"
      ],
      "text/plain": [
       "   employee_id  number_project  average_montly_hours  time_spend_company  \\\n",
       "0         1003               2                   157                   3   \n",
       "1         1005               5                   262                   6   \n",
       "2         1486               7                   272                   4   \n",
       "3         1038               5                   223                   5   \n",
       "4         1057               2                   159                   3   \n",
       "\n",
       "   Work_accident  left  promotion_last_5years department  salary  \n",
       "0              0     1                      0      sales     low  \n",
       "1              0     1                      0      sales  medium  \n",
       "2              0     1                      0      sales  medium  \n",
       "3              0     1                      0      sales     low  \n",
       "4              0     1                      0      sales     low  "
      ]
     },
     "execution_count": 139,
     "metadata": {},
     "output_type": "execute_result"
    }
   ],
   "source": [
    "data.head()"
   ]
  },
  {
   "cell_type": "code",
   "execution_count": 140,
   "metadata": {},
   "outputs": [
    {
     "data": {
      "text/plain": [
       "(14999, 9)"
      ]
     },
     "execution_count": 140,
     "metadata": {},
     "output_type": "execute_result"
    }
   ],
   "source": [
    "data.shape"
   ]
  },
  {
   "cell_type": "code",
   "execution_count": 141,
   "metadata": {},
   "outputs": [
    {
     "data": {
      "text/plain": [
       "134991"
      ]
     },
     "execution_count": 141,
     "metadata": {},
     "output_type": "execute_result"
    }
   ],
   "source": [
    "data.size"
   ]
  },
  {
   "cell_type": "code",
   "execution_count": 142,
   "metadata": {},
   "outputs": [
    {
     "name": "stdout",
     "output_type": "stream",
     "text": [
      "<class 'pandas.core.frame.DataFrame'>\n",
      "RangeIndex: 14999 entries, 0 to 14998\n",
      "Data columns (total 9 columns):\n",
      " #   Column                 Non-Null Count  Dtype \n",
      "---  ------                 --------------  ----- \n",
      " 0   employee_id            14999 non-null  int64 \n",
      " 1   number_project         14999 non-null  int64 \n",
      " 2   average_montly_hours   14999 non-null  int64 \n",
      " 3   time_spend_company     14999 non-null  int64 \n",
      " 4   Work_accident          14999 non-null  int64 \n",
      " 5   left                   14999 non-null  int64 \n",
      " 6   promotion_last_5years  14999 non-null  int64 \n",
      " 7   department             14999 non-null  object\n",
      " 8   salary                 14999 non-null  object\n",
      "dtypes: int64(7), object(2)\n",
      "memory usage: 1.0+ MB\n"
     ]
    }
   ],
   "source": [
    "data.info()"
   ]
  },
  {
   "cell_type": "code",
   "execution_count": 143,
   "metadata": {},
   "outputs": [
    {
     "data": {
      "text/plain": [
       "array(['sales', 'accounting', 'hr', 'technical', 'support', 'management',\n",
       "       'IT', 'product_mng', 'marketing', 'RandD'], dtype=object)"
      ]
     },
     "execution_count": 143,
     "metadata": {},
     "output_type": "execute_result"
    }
   ],
   "source": [
    "data[\"department\"].unique()"
   ]
  },
  {
   "cell_type": "code",
   "execution_count": 144,
   "metadata": {},
   "outputs": [
    {
     "data": {
      "text/plain": [
       "array(['low', 'medium', 'high'], dtype=object)"
      ]
     },
     "execution_count": 144,
     "metadata": {},
     "output_type": "execute_result"
    }
   ],
   "source": [
    "data[\"salary\"].unique()"
   ]
  },
  {
   "cell_type": "code",
   "execution_count": 145,
   "metadata": {},
   "outputs": [],
   "source": [
    "s_df = pd.read_excel(\"employee_satisfaction_evaluation.xlsx\")"
   ]
  },
  {
   "cell_type": "code",
   "execution_count": 146,
   "metadata": {},
   "outputs": [
    {
     "data": {
      "text/html": [
       "<div>\n",
       "<style scoped>\n",
       "    .dataframe tbody tr th:only-of-type {\n",
       "        vertical-align: middle;\n",
       "    }\n",
       "\n",
       "    .dataframe tbody tr th {\n",
       "        vertical-align: top;\n",
       "    }\n",
       "\n",
       "    .dataframe thead th {\n",
       "        text-align: right;\n",
       "    }\n",
       "</style>\n",
       "<table border=\"1\" class=\"dataframe\">\n",
       "  <thead>\n",
       "    <tr style=\"text-align: right;\">\n",
       "      <th></th>\n",
       "      <th>EMPLOYEE #</th>\n",
       "      <th>satisfaction_level</th>\n",
       "      <th>last_evaluation</th>\n",
       "    </tr>\n",
       "  </thead>\n",
       "  <tbody>\n",
       "    <tr>\n",
       "      <th>0</th>\n",
       "      <td>1003</td>\n",
       "      <td>0.38</td>\n",
       "      <td>0.53</td>\n",
       "    </tr>\n",
       "    <tr>\n",
       "      <th>1</th>\n",
       "      <td>1005</td>\n",
       "      <td>0.80</td>\n",
       "      <td>0.86</td>\n",
       "    </tr>\n",
       "    <tr>\n",
       "      <th>2</th>\n",
       "      <td>1486</td>\n",
       "      <td>0.11</td>\n",
       "      <td>0.88</td>\n",
       "    </tr>\n",
       "    <tr>\n",
       "      <th>3</th>\n",
       "      <td>1038</td>\n",
       "      <td>0.72</td>\n",
       "      <td>0.87</td>\n",
       "    </tr>\n",
       "    <tr>\n",
       "      <th>4</th>\n",
       "      <td>1057</td>\n",
       "      <td>0.37</td>\n",
       "      <td>0.52</td>\n",
       "    </tr>\n",
       "    <tr>\n",
       "      <th>...</th>\n",
       "      <td>...</td>\n",
       "      <td>...</td>\n",
       "      <td>...</td>\n",
       "    </tr>\n",
       "    <tr>\n",
       "      <th>14994</th>\n",
       "      <td>87670</td>\n",
       "      <td>0.40</td>\n",
       "      <td>0.57</td>\n",
       "    </tr>\n",
       "    <tr>\n",
       "      <th>14995</th>\n",
       "      <td>87673</td>\n",
       "      <td>0.37</td>\n",
       "      <td>0.48</td>\n",
       "    </tr>\n",
       "    <tr>\n",
       "      <th>14996</th>\n",
       "      <td>87679</td>\n",
       "      <td>0.37</td>\n",
       "      <td>0.53</td>\n",
       "    </tr>\n",
       "    <tr>\n",
       "      <th>14997</th>\n",
       "      <td>87681</td>\n",
       "      <td>0.11</td>\n",
       "      <td>0.96</td>\n",
       "    </tr>\n",
       "    <tr>\n",
       "      <th>14998</th>\n",
       "      <td>87684</td>\n",
       "      <td>0.37</td>\n",
       "      <td>0.52</td>\n",
       "    </tr>\n",
       "  </tbody>\n",
       "</table>\n",
       "<p>14999 rows × 3 columns</p>\n",
       "</div>"
      ],
      "text/plain": [
       "       EMPLOYEE #  satisfaction_level  last_evaluation\n",
       "0            1003                0.38             0.53\n",
       "1            1005                0.80             0.86\n",
       "2            1486                0.11             0.88\n",
       "3            1038                0.72             0.87\n",
       "4            1057                0.37             0.52\n",
       "...           ...                 ...              ...\n",
       "14994       87670                0.40             0.57\n",
       "14995       87673                0.37             0.48\n",
       "14996       87679                0.37             0.53\n",
       "14997       87681                0.11             0.96\n",
       "14998       87684                0.37             0.52\n",
       "\n",
       "[14999 rows x 3 columns]"
      ]
     },
     "execution_count": 146,
     "metadata": {},
     "output_type": "execute_result"
    }
   ],
   "source": [
    "s_df"
   ]
  },
  {
   "cell_type": "code",
   "execution_count": 147,
   "metadata": {},
   "outputs": [],
   "source": [
    "data = pd.concat([data,s_df],axis=1)"
   ]
  },
  {
   "cell_type": "code",
   "execution_count": 148,
   "metadata": {},
   "outputs": [
    {
     "data": {
      "text/html": [
       "<div>\n",
       "<style scoped>\n",
       "    .dataframe tbody tr th:only-of-type {\n",
       "        vertical-align: middle;\n",
       "    }\n",
       "\n",
       "    .dataframe tbody tr th {\n",
       "        vertical-align: top;\n",
       "    }\n",
       "\n",
       "    .dataframe thead th {\n",
       "        text-align: right;\n",
       "    }\n",
       "</style>\n",
       "<table border=\"1\" class=\"dataframe\">\n",
       "  <thead>\n",
       "    <tr style=\"text-align: right;\">\n",
       "      <th></th>\n",
       "      <th>employee_id</th>\n",
       "      <th>number_project</th>\n",
       "      <th>average_montly_hours</th>\n",
       "      <th>time_spend_company</th>\n",
       "      <th>Work_accident</th>\n",
       "      <th>left</th>\n",
       "      <th>promotion_last_5years</th>\n",
       "      <th>department</th>\n",
       "      <th>salary</th>\n",
       "      <th>EMPLOYEE #</th>\n",
       "      <th>satisfaction_level</th>\n",
       "      <th>last_evaluation</th>\n",
       "    </tr>\n",
       "  </thead>\n",
       "  <tbody>\n",
       "    <tr>\n",
       "      <th>0</th>\n",
       "      <td>1003</td>\n",
       "      <td>2</td>\n",
       "      <td>157</td>\n",
       "      <td>3</td>\n",
       "      <td>0</td>\n",
       "      <td>1</td>\n",
       "      <td>0</td>\n",
       "      <td>sales</td>\n",
       "      <td>low</td>\n",
       "      <td>1003</td>\n",
       "      <td>0.38</td>\n",
       "      <td>0.53</td>\n",
       "    </tr>\n",
       "    <tr>\n",
       "      <th>1</th>\n",
       "      <td>1005</td>\n",
       "      <td>5</td>\n",
       "      <td>262</td>\n",
       "      <td>6</td>\n",
       "      <td>0</td>\n",
       "      <td>1</td>\n",
       "      <td>0</td>\n",
       "      <td>sales</td>\n",
       "      <td>medium</td>\n",
       "      <td>1005</td>\n",
       "      <td>0.80</td>\n",
       "      <td>0.86</td>\n",
       "    </tr>\n",
       "    <tr>\n",
       "      <th>2</th>\n",
       "      <td>1486</td>\n",
       "      <td>7</td>\n",
       "      <td>272</td>\n",
       "      <td>4</td>\n",
       "      <td>0</td>\n",
       "      <td>1</td>\n",
       "      <td>0</td>\n",
       "      <td>sales</td>\n",
       "      <td>medium</td>\n",
       "      <td>1486</td>\n",
       "      <td>0.11</td>\n",
       "      <td>0.88</td>\n",
       "    </tr>\n",
       "    <tr>\n",
       "      <th>3</th>\n",
       "      <td>1038</td>\n",
       "      <td>5</td>\n",
       "      <td>223</td>\n",
       "      <td>5</td>\n",
       "      <td>0</td>\n",
       "      <td>1</td>\n",
       "      <td>0</td>\n",
       "      <td>sales</td>\n",
       "      <td>low</td>\n",
       "      <td>1038</td>\n",
       "      <td>0.72</td>\n",
       "      <td>0.87</td>\n",
       "    </tr>\n",
       "    <tr>\n",
       "      <th>4</th>\n",
       "      <td>1057</td>\n",
       "      <td>2</td>\n",
       "      <td>159</td>\n",
       "      <td>3</td>\n",
       "      <td>0</td>\n",
       "      <td>1</td>\n",
       "      <td>0</td>\n",
       "      <td>sales</td>\n",
       "      <td>low</td>\n",
       "      <td>1057</td>\n",
       "      <td>0.37</td>\n",
       "      <td>0.52</td>\n",
       "    </tr>\n",
       "  </tbody>\n",
       "</table>\n",
       "</div>"
      ],
      "text/plain": [
       "   employee_id  number_project  average_montly_hours  time_spend_company  \\\n",
       "0         1003               2                   157                   3   \n",
       "1         1005               5                   262                   6   \n",
       "2         1486               7                   272                   4   \n",
       "3         1038               5                   223                   5   \n",
       "4         1057               2                   159                   3   \n",
       "\n",
       "   Work_accident  left  promotion_last_5years department  salary  EMPLOYEE #  \\\n",
       "0              0     1                      0      sales     low        1003   \n",
       "1              0     1                      0      sales  medium        1005   \n",
       "2              0     1                      0      sales  medium        1486   \n",
       "3              0     1                      0      sales     low        1038   \n",
       "4              0     1                      0      sales     low        1057   \n",
       "\n",
       "   satisfaction_level  last_evaluation  \n",
       "0                0.38             0.53  \n",
       "1                0.80             0.86  \n",
       "2                0.11             0.88  \n",
       "3                0.72             0.87  \n",
       "4                0.37             0.52  "
      ]
     },
     "execution_count": 148,
     "metadata": {},
     "output_type": "execute_result"
    }
   ],
   "source": [
    "data.head()"
   ]
  },
  {
   "cell_type": "code",
   "execution_count": 149,
   "metadata": {},
   "outputs": [],
   "source": [
    "data.drop([\"EMPLOYEE #\"],axis=1,inplace=True)"
   ]
  },
  {
   "cell_type": "code",
   "execution_count": 150,
   "metadata": {},
   "outputs": [
    {
     "data": {
      "text/html": [
       "<div>\n",
       "<style scoped>\n",
       "    .dataframe tbody tr th:only-of-type {\n",
       "        vertical-align: middle;\n",
       "    }\n",
       "\n",
       "    .dataframe tbody tr th {\n",
       "        vertical-align: top;\n",
       "    }\n",
       "\n",
       "    .dataframe thead th {\n",
       "        text-align: right;\n",
       "    }\n",
       "</style>\n",
       "<table border=\"1\" class=\"dataframe\">\n",
       "  <thead>\n",
       "    <tr style=\"text-align: right;\">\n",
       "      <th></th>\n",
       "      <th>employee_id</th>\n",
       "      <th>number_project</th>\n",
       "      <th>average_montly_hours</th>\n",
       "      <th>time_spend_company</th>\n",
       "      <th>Work_accident</th>\n",
       "      <th>left</th>\n",
       "      <th>promotion_last_5years</th>\n",
       "      <th>department</th>\n",
       "      <th>salary</th>\n",
       "      <th>satisfaction_level</th>\n",
       "      <th>last_evaluation</th>\n",
       "    </tr>\n",
       "  </thead>\n",
       "  <tbody>\n",
       "    <tr>\n",
       "      <th>0</th>\n",
       "      <td>1003</td>\n",
       "      <td>2</td>\n",
       "      <td>157</td>\n",
       "      <td>3</td>\n",
       "      <td>0</td>\n",
       "      <td>1</td>\n",
       "      <td>0</td>\n",
       "      <td>sales</td>\n",
       "      <td>low</td>\n",
       "      <td>0.38</td>\n",
       "      <td>0.53</td>\n",
       "    </tr>\n",
       "    <tr>\n",
       "      <th>1</th>\n",
       "      <td>1005</td>\n",
       "      <td>5</td>\n",
       "      <td>262</td>\n",
       "      <td>6</td>\n",
       "      <td>0</td>\n",
       "      <td>1</td>\n",
       "      <td>0</td>\n",
       "      <td>sales</td>\n",
       "      <td>medium</td>\n",
       "      <td>0.80</td>\n",
       "      <td>0.86</td>\n",
       "    </tr>\n",
       "    <tr>\n",
       "      <th>2</th>\n",
       "      <td>1486</td>\n",
       "      <td>7</td>\n",
       "      <td>272</td>\n",
       "      <td>4</td>\n",
       "      <td>0</td>\n",
       "      <td>1</td>\n",
       "      <td>0</td>\n",
       "      <td>sales</td>\n",
       "      <td>medium</td>\n",
       "      <td>0.11</td>\n",
       "      <td>0.88</td>\n",
       "    </tr>\n",
       "    <tr>\n",
       "      <th>3</th>\n",
       "      <td>1038</td>\n",
       "      <td>5</td>\n",
       "      <td>223</td>\n",
       "      <td>5</td>\n",
       "      <td>0</td>\n",
       "      <td>1</td>\n",
       "      <td>0</td>\n",
       "      <td>sales</td>\n",
       "      <td>low</td>\n",
       "      <td>0.72</td>\n",
       "      <td>0.87</td>\n",
       "    </tr>\n",
       "    <tr>\n",
       "      <th>4</th>\n",
       "      <td>1057</td>\n",
       "      <td>2</td>\n",
       "      <td>159</td>\n",
       "      <td>3</td>\n",
       "      <td>0</td>\n",
       "      <td>1</td>\n",
       "      <td>0</td>\n",
       "      <td>sales</td>\n",
       "      <td>low</td>\n",
       "      <td>0.37</td>\n",
       "      <td>0.52</td>\n",
       "    </tr>\n",
       "  </tbody>\n",
       "</table>\n",
       "</div>"
      ],
      "text/plain": [
       "   employee_id  number_project  average_montly_hours  time_spend_company  \\\n",
       "0         1003               2                   157                   3   \n",
       "1         1005               5                   262                   6   \n",
       "2         1486               7                   272                   4   \n",
       "3         1038               5                   223                   5   \n",
       "4         1057               2                   159                   3   \n",
       "\n",
       "   Work_accident  left  promotion_last_5years department  salary  \\\n",
       "0              0     1                      0      sales     low   \n",
       "1              0     1                      0      sales  medium   \n",
       "2              0     1                      0      sales  medium   \n",
       "3              0     1                      0      sales     low   \n",
       "4              0     1                      0      sales     low   \n",
       "\n",
       "   satisfaction_level  last_evaluation  \n",
       "0                0.38             0.53  \n",
       "1                0.80             0.86  \n",
       "2                0.11             0.88  \n",
       "3                0.72             0.87  \n",
       "4                0.37             0.52  "
      ]
     },
     "execution_count": 150,
     "metadata": {},
     "output_type": "execute_result"
    }
   ],
   "source": [
    "data.head()"
   ]
  },
  {
   "cell_type": "code",
   "execution_count": 151,
   "metadata": {},
   "outputs": [
    {
     "data": {
      "text/plain": [
       "(14999, 11)"
      ]
     },
     "execution_count": 151,
     "metadata": {},
     "output_type": "execute_result"
    }
   ],
   "source": [
    "data.shape"
   ]
  },
  {
   "cell_type": "code",
   "execution_count": 152,
   "metadata": {},
   "outputs": [
    {
     "name": "stdout",
     "output_type": "stream",
     "text": [
      "<class 'pandas.core.frame.DataFrame'>\n",
      "RangeIndex: 14999 entries, 0 to 14998\n",
      "Data columns (total 11 columns):\n",
      " #   Column                 Non-Null Count  Dtype  \n",
      "---  ------                 --------------  -----  \n",
      " 0   employee_id            14999 non-null  int64  \n",
      " 1   number_project         14999 non-null  int64  \n",
      " 2   average_montly_hours   14999 non-null  int64  \n",
      " 3   time_spend_company     14999 non-null  int64  \n",
      " 4   Work_accident          14999 non-null  int64  \n",
      " 5   left                   14999 non-null  int64  \n",
      " 6   promotion_last_5years  14999 non-null  int64  \n",
      " 7   department             14999 non-null  object \n",
      " 8   salary                 14999 non-null  object \n",
      " 9   satisfaction_level     14972 non-null  float64\n",
      " 10  last_evaluation        14972 non-null  float64\n",
      "dtypes: float64(2), int64(7), object(2)\n",
      "memory usage: 1.3+ MB\n"
     ]
    }
   ],
   "source": [
    "data.info()"
   ]
  },
  {
   "cell_type": "code",
   "execution_count": 153,
   "metadata": {},
   "outputs": [
    {
     "data": {
      "text/plain": [
       "employee_id               0\n",
       "number_project            0\n",
       "average_montly_hours      0\n",
       "time_spend_company        0\n",
       "Work_accident             0\n",
       "left                      0\n",
       "promotion_last_5years     0\n",
       "department                0\n",
       "salary                    0\n",
       "satisfaction_level       27\n",
       "last_evaluation          27\n",
       "dtype: int64"
      ]
     },
     "execution_count": 153,
     "metadata": {},
     "output_type": "execute_result"
    }
   ],
   "source": [
    "data.isnull().sum()"
   ]
  },
  {
   "cell_type": "code",
   "execution_count": 154,
   "metadata": {},
   "outputs": [
    {
     "data": {
      "text/html": [
       "<div>\n",
       "<style scoped>\n",
       "    .dataframe tbody tr th:only-of-type {\n",
       "        vertical-align: middle;\n",
       "    }\n",
       "\n",
       "    .dataframe tbody tr th {\n",
       "        vertical-align: top;\n",
       "    }\n",
       "\n",
       "    .dataframe thead th {\n",
       "        text-align: right;\n",
       "    }\n",
       "</style>\n",
       "<table border=\"1\" class=\"dataframe\">\n",
       "  <thead>\n",
       "    <tr style=\"text-align: right;\">\n",
       "      <th></th>\n",
       "      <th>employee_id</th>\n",
       "      <th>number_project</th>\n",
       "      <th>average_montly_hours</th>\n",
       "      <th>time_spend_company</th>\n",
       "      <th>Work_accident</th>\n",
       "      <th>left</th>\n",
       "      <th>promotion_last_5years</th>\n",
       "      <th>department</th>\n",
       "      <th>salary</th>\n",
       "      <th>satisfaction_level</th>\n",
       "      <th>last_evaluation</th>\n",
       "    </tr>\n",
       "  </thead>\n",
       "  <tbody>\n",
       "    <tr>\n",
       "      <th>18</th>\n",
       "      <td>3794</td>\n",
       "      <td>2</td>\n",
       "      <td>160</td>\n",
       "      <td>3</td>\n",
       "      <td>1</td>\n",
       "      <td>1</td>\n",
       "      <td>1</td>\n",
       "      <td>sales</td>\n",
       "      <td>low</td>\n",
       "      <td>NaN</td>\n",
       "      <td>NaN</td>\n",
       "    </tr>\n",
       "    <tr>\n",
       "      <th>19</th>\n",
       "      <td>1140</td>\n",
       "      <td>5</td>\n",
       "      <td>262</td>\n",
       "      <td>5</td>\n",
       "      <td>0</td>\n",
       "      <td>1</td>\n",
       "      <td>0</td>\n",
       "      <td>sales</td>\n",
       "      <td>low</td>\n",
       "      <td>NaN</td>\n",
       "      <td>0.89</td>\n",
       "    </tr>\n",
       "    <tr>\n",
       "      <th>33</th>\n",
       "      <td>1230</td>\n",
       "      <td>2</td>\n",
       "      <td>140</td>\n",
       "      <td>3</td>\n",
       "      <td>0</td>\n",
       "      <td>1</td>\n",
       "      <td>0</td>\n",
       "      <td>hr</td>\n",
       "      <td>low</td>\n",
       "      <td>NaN</td>\n",
       "      <td>NaN</td>\n",
       "    </tr>\n",
       "    <tr>\n",
       "      <th>53</th>\n",
       "      <td>1340</td>\n",
       "      <td>2</td>\n",
       "      <td>132</td>\n",
       "      <td>3</td>\n",
       "      <td>0</td>\n",
       "      <td>1</td>\n",
       "      <td>0</td>\n",
       "      <td>support</td>\n",
       "      <td>low</td>\n",
       "      <td>NaN</td>\n",
       "      <td>NaN</td>\n",
       "    </tr>\n",
       "    <tr>\n",
       "      <th>72</th>\n",
       "      <td>22316</td>\n",
       "      <td>2</td>\n",
       "      <td>149</td>\n",
       "      <td>3</td>\n",
       "      <td>0</td>\n",
       "      <td>1</td>\n",
       "      <td>0</td>\n",
       "      <td>product_mng</td>\n",
       "      <td>high</td>\n",
       "      <td>NaN</td>\n",
       "      <td>NaN</td>\n",
       "    </tr>\n",
       "    <tr>\n",
       "      <th>92</th>\n",
       "      <td>1581</td>\n",
       "      <td>2</td>\n",
       "      <td>143</td>\n",
       "      <td>3</td>\n",
       "      <td>0</td>\n",
       "      <td>1</td>\n",
       "      <td>0</td>\n",
       "      <td>sales</td>\n",
       "      <td>low</td>\n",
       "      <td>NaN</td>\n",
       "      <td>NaN</td>\n",
       "    </tr>\n",
       "    <tr>\n",
       "      <th>107</th>\n",
       "      <td>17376</td>\n",
       "      <td>2</td>\n",
       "      <td>148</td>\n",
       "      <td>3</td>\n",
       "      <td>0</td>\n",
       "      <td>1</td>\n",
       "      <td>0</td>\n",
       "      <td>accounting</td>\n",
       "      <td>medium</td>\n",
       "      <td>NaN</td>\n",
       "      <td>NaN</td>\n",
       "    </tr>\n",
       "    <tr>\n",
       "      <th>120</th>\n",
       "      <td>1739</td>\n",
       "      <td>4</td>\n",
       "      <td>158</td>\n",
       "      <td>4</td>\n",
       "      <td>1</td>\n",
       "      <td>1</td>\n",
       "      <td>0</td>\n",
       "      <td>technical</td>\n",
       "      <td>low</td>\n",
       "      <td>NaN</td>\n",
       "      <td>NaN</td>\n",
       "    </tr>\n",
       "    <tr>\n",
       "      <th>137</th>\n",
       "      <td>1847</td>\n",
       "      <td>2</td>\n",
       "      <td>129</td>\n",
       "      <td>3</td>\n",
       "      <td>0</td>\n",
       "      <td>1</td>\n",
       "      <td>0</td>\n",
       "      <td>management</td>\n",
       "      <td>low</td>\n",
       "      <td>NaN</td>\n",
       "      <td>NaN</td>\n",
       "    </tr>\n",
       "    <tr>\n",
       "      <th>175</th>\n",
       "      <td>32923</td>\n",
       "      <td>4</td>\n",
       "      <td>164</td>\n",
       "      <td>2</td>\n",
       "      <td>0</td>\n",
       "      <td>1</td>\n",
       "      <td>0</td>\n",
       "      <td>sales</td>\n",
       "      <td>low</td>\n",
       "      <td>NaN</td>\n",
       "      <td>NaN</td>\n",
       "    </tr>\n",
       "    <tr>\n",
       "      <th>191</th>\n",
       "      <td>2160</td>\n",
       "      <td>4</td>\n",
       "      <td>226</td>\n",
       "      <td>6</td>\n",
       "      <td>1</td>\n",
       "      <td>1</td>\n",
       "      <td>0</td>\n",
       "      <td>technical</td>\n",
       "      <td>medium</td>\n",
       "      <td>0.92</td>\n",
       "      <td>NaN</td>\n",
       "    </tr>\n",
       "    <tr>\n",
       "      <th>352</th>\n",
       "      <td>3150</td>\n",
       "      <td>4</td>\n",
       "      <td>262</td>\n",
       "      <td>6</td>\n",
       "      <td>0</td>\n",
       "      <td>1</td>\n",
       "      <td>0</td>\n",
       "      <td>support</td>\n",
       "      <td>low</td>\n",
       "      <td>NaN</td>\n",
       "      <td>0.91</td>\n",
       "    </tr>\n",
       "    <tr>\n",
       "      <th>376</th>\n",
       "      <td>3250</td>\n",
       "      <td>4</td>\n",
       "      <td>296</td>\n",
       "      <td>2</td>\n",
       "      <td>0</td>\n",
       "      <td>1</td>\n",
       "      <td>0</td>\n",
       "      <td>IT</td>\n",
       "      <td>medium</td>\n",
       "      <td>0.56</td>\n",
       "      <td>NaN</td>\n",
       "    </tr>\n",
       "    <tr>\n",
       "      <th>402</th>\n",
       "      <td>3405</td>\n",
       "      <td>5</td>\n",
       "      <td>275</td>\n",
       "      <td>5</td>\n",
       "      <td>0</td>\n",
       "      <td>1</td>\n",
       "      <td>0</td>\n",
       "      <td>sales</td>\n",
       "      <td>low</td>\n",
       "      <td>NaN</td>\n",
       "      <td>1.00</td>\n",
       "    </tr>\n",
       "    <tr>\n",
       "      <th>427</th>\n",
       "      <td>78130</td>\n",
       "      <td>3</td>\n",
       "      <td>180</td>\n",
       "      <td>4</td>\n",
       "      <td>0</td>\n",
       "      <td>1</td>\n",
       "      <td>0</td>\n",
       "      <td>technical</td>\n",
       "      <td>medium</td>\n",
       "      <td>NaN</td>\n",
       "      <td>0.60</td>\n",
       "    </tr>\n",
       "    <tr>\n",
       "      <th>442</th>\n",
       "      <td>3635</td>\n",
       "      <td>5</td>\n",
       "      <td>229</td>\n",
       "      <td>5</td>\n",
       "      <td>0</td>\n",
       "      <td>1</td>\n",
       "      <td>0</td>\n",
       "      <td>management</td>\n",
       "      <td>low</td>\n",
       "      <td>0.77</td>\n",
       "      <td>NaN</td>\n",
       "    </tr>\n",
       "    <tr>\n",
       "      <th>468</th>\n",
       "      <td>3755</td>\n",
       "      <td>5</td>\n",
       "      <td>245</td>\n",
       "      <td>5</td>\n",
       "      <td>0</td>\n",
       "      <td>1</td>\n",
       "      <td>0</td>\n",
       "      <td>sales</td>\n",
       "      <td>low</td>\n",
       "      <td>NaN</td>\n",
       "      <td>0.92</td>\n",
       "    </tr>\n",
       "    <tr>\n",
       "      <th>543</th>\n",
       "      <td>4150</td>\n",
       "      <td>5</td>\n",
       "      <td>237</td>\n",
       "      <td>5</td>\n",
       "      <td>0</td>\n",
       "      <td>1</td>\n",
       "      <td>0</td>\n",
       "      <td>sales</td>\n",
       "      <td>medium</td>\n",
       "      <td>0.89</td>\n",
       "      <td>NaN</td>\n",
       "    </tr>\n",
       "    <tr>\n",
       "      <th>892</th>\n",
       "      <td>43615</td>\n",
       "      <td>4</td>\n",
       "      <td>276</td>\n",
       "      <td>5</td>\n",
       "      <td>0</td>\n",
       "      <td>1</td>\n",
       "      <td>0</td>\n",
       "      <td>support</td>\n",
       "      <td>low</td>\n",
       "      <td>0.74</td>\n",
       "      <td>NaN</td>\n",
       "    </tr>\n",
       "    <tr>\n",
       "      <th>1588</th>\n",
       "      <td>42185</td>\n",
       "      <td>5</td>\n",
       "      <td>264</td>\n",
       "      <td>5</td>\n",
       "      <td>0</td>\n",
       "      <td>1</td>\n",
       "      <td>0</td>\n",
       "      <td>IT</td>\n",
       "      <td>medium</td>\n",
       "      <td>NaN</td>\n",
       "      <td>0.81</td>\n",
       "    </tr>\n",
       "    <tr>\n",
       "      <th>1934</th>\n",
       "      <td>11895</td>\n",
       "      <td>4</td>\n",
       "      <td>225</td>\n",
       "      <td>5</td>\n",
       "      <td>0</td>\n",
       "      <td>1</td>\n",
       "      <td>0</td>\n",
       "      <td>sales</td>\n",
       "      <td>medium</td>\n",
       "      <td>0.78</td>\n",
       "      <td>NaN</td>\n",
       "    </tr>\n",
       "    <tr>\n",
       "      <th>2343</th>\n",
       "      <td>14170</td>\n",
       "      <td>3</td>\n",
       "      <td>115</td>\n",
       "      <td>2</td>\n",
       "      <td>1</td>\n",
       "      <td>0</td>\n",
       "      <td>0</td>\n",
       "      <td>support</td>\n",
       "      <td>low</td>\n",
       "      <td>NaN</td>\n",
       "      <td>0.97</td>\n",
       "    </tr>\n",
       "    <tr>\n",
       "      <th>2743</th>\n",
       "      <td>16445</td>\n",
       "      <td>5</td>\n",
       "      <td>149</td>\n",
       "      <td>2</td>\n",
       "      <td>0</td>\n",
       "      <td>0</td>\n",
       "      <td>0</td>\n",
       "      <td>RandD</td>\n",
       "      <td>low</td>\n",
       "      <td>0.62</td>\n",
       "      <td>NaN</td>\n",
       "    </tr>\n",
       "    <tr>\n",
       "      <th>3170</th>\n",
       "      <td>18980</td>\n",
       "      <td>5</td>\n",
       "      <td>186</td>\n",
       "      <td>2</td>\n",
       "      <td>0</td>\n",
       "      <td>0</td>\n",
       "      <td>0</td>\n",
       "      <td>technical</td>\n",
       "      <td>medium</td>\n",
       "      <td>NaN</td>\n",
       "      <td>NaN</td>\n",
       "    </tr>\n",
       "    <tr>\n",
       "      <th>3609</th>\n",
       "      <td>21580</td>\n",
       "      <td>3</td>\n",
       "      <td>263</td>\n",
       "      <td>2</td>\n",
       "      <td>1</td>\n",
       "      <td>0</td>\n",
       "      <td>0</td>\n",
       "      <td>sales</td>\n",
       "      <td>medium</td>\n",
       "      <td>0.95</td>\n",
       "      <td>NaN</td>\n",
       "    </tr>\n",
       "    <tr>\n",
       "      <th>3776</th>\n",
       "      <td>22555</td>\n",
       "      <td>4</td>\n",
       "      <td>214</td>\n",
       "      <td>3</td>\n",
       "      <td>0</td>\n",
       "      <td>0</td>\n",
       "      <td>0</td>\n",
       "      <td>technical</td>\n",
       "      <td>medium</td>\n",
       "      <td>NaN</td>\n",
       "      <td>0.68</td>\n",
       "    </tr>\n",
       "    <tr>\n",
       "      <th>4122</th>\n",
       "      <td>24505</td>\n",
       "      <td>3</td>\n",
       "      <td>192</td>\n",
       "      <td>3</td>\n",
       "      <td>0</td>\n",
       "      <td>0</td>\n",
       "      <td>0</td>\n",
       "      <td>marketing</td>\n",
       "      <td>high</td>\n",
       "      <td>0.86</td>\n",
       "      <td>NaN</td>\n",
       "    </tr>\n",
       "    <tr>\n",
       "      <th>4740</th>\n",
       "      <td>27950</td>\n",
       "      <td>3</td>\n",
       "      <td>253</td>\n",
       "      <td>3</td>\n",
       "      <td>0</td>\n",
       "      <td>0</td>\n",
       "      <td>0</td>\n",
       "      <td>marketing</td>\n",
       "      <td>medium</td>\n",
       "      <td>NaN</td>\n",
       "      <td>0.95</td>\n",
       "    </tr>\n",
       "    <tr>\n",
       "      <th>5028</th>\n",
       "      <td>29640</td>\n",
       "      <td>4</td>\n",
       "      <td>180</td>\n",
       "      <td>4</td>\n",
       "      <td>0</td>\n",
       "      <td>0</td>\n",
       "      <td>0</td>\n",
       "      <td>product_mng</td>\n",
       "      <td>medium</td>\n",
       "      <td>0.64</td>\n",
       "      <td>NaN</td>\n",
       "    </tr>\n",
       "    <tr>\n",
       "      <th>6453</th>\n",
       "      <td>38090</td>\n",
       "      <td>5</td>\n",
       "      <td>166</td>\n",
       "      <td>2</td>\n",
       "      <td>0</td>\n",
       "      <td>0</td>\n",
       "      <td>0</td>\n",
       "      <td>technical</td>\n",
       "      <td>high</td>\n",
       "      <td>NaN</td>\n",
       "      <td>0.78</td>\n",
       "    </tr>\n",
       "    <tr>\n",
       "      <th>7005</th>\n",
       "      <td>41535</td>\n",
       "      <td>4</td>\n",
       "      <td>150</td>\n",
       "      <td>3</td>\n",
       "      <td>0</td>\n",
       "      <td>0</td>\n",
       "      <td>0</td>\n",
       "      <td>technical</td>\n",
       "      <td>low</td>\n",
       "      <td>0.82</td>\n",
       "      <td>NaN</td>\n",
       "    </tr>\n",
       "    <tr>\n",
       "      <th>7516</th>\n",
       "      <td>44460</td>\n",
       "      <td>4</td>\n",
       "      <td>264</td>\n",
       "      <td>3</td>\n",
       "      <td>0</td>\n",
       "      <td>0</td>\n",
       "      <td>0</td>\n",
       "      <td>technical</td>\n",
       "      <td>low</td>\n",
       "      <td>NaN</td>\n",
       "      <td>0.97</td>\n",
       "    </tr>\n",
       "    <tr>\n",
       "      <th>8630</th>\n",
       "      <td>50960</td>\n",
       "      <td>4</td>\n",
       "      <td>167</td>\n",
       "      <td>3</td>\n",
       "      <td>1</td>\n",
       "      <td>0</td>\n",
       "      <td>0</td>\n",
       "      <td>technical</td>\n",
       "      <td>low</td>\n",
       "      <td>0.90</td>\n",
       "      <td>NaN</td>\n",
       "    </tr>\n",
       "    <tr>\n",
       "      <th>9455</th>\n",
       "      <td>55770</td>\n",
       "      <td>4</td>\n",
       "      <td>270</td>\n",
       "      <td>3</td>\n",
       "      <td>0</td>\n",
       "      <td>0</td>\n",
       "      <td>0</td>\n",
       "      <td>product_mng</td>\n",
       "      <td>low</td>\n",
       "      <td>NaN</td>\n",
       "      <td>0.88</td>\n",
       "    </tr>\n",
       "    <tr>\n",
       "      <th>9901</th>\n",
       "      <td>58630</td>\n",
       "      <td>5</td>\n",
       "      <td>252</td>\n",
       "      <td>3</td>\n",
       "      <td>0</td>\n",
       "      <td>0</td>\n",
       "      <td>0</td>\n",
       "      <td>support</td>\n",
       "      <td>medium</td>\n",
       "      <td>0.92</td>\n",
       "      <td>NaN</td>\n",
       "    </tr>\n",
       "    <tr>\n",
       "      <th>10647</th>\n",
       "      <td>62595</td>\n",
       "      <td>4</td>\n",
       "      <td>165</td>\n",
       "      <td>3</td>\n",
       "      <td>0</td>\n",
       "      <td>0</td>\n",
       "      <td>0</td>\n",
       "      <td>technical</td>\n",
       "      <td>low</td>\n",
       "      <td>NaN</td>\n",
       "      <td>0.69</td>\n",
       "    </tr>\n",
       "    <tr>\n",
       "      <th>10962</th>\n",
       "      <td>64350</td>\n",
       "      <td>5</td>\n",
       "      <td>233</td>\n",
       "      <td>3</td>\n",
       "      <td>0</td>\n",
       "      <td>0</td>\n",
       "      <td>0</td>\n",
       "      <td>support</td>\n",
       "      <td>low</td>\n",
       "      <td>0.65</td>\n",
       "      <td>NaN</td>\n",
       "    </tr>\n",
       "    <tr>\n",
       "      <th>11575</th>\n",
       "      <td>20215</td>\n",
       "      <td>3</td>\n",
       "      <td>192</td>\n",
       "      <td>7</td>\n",
       "      <td>0</td>\n",
       "      <td>0</td>\n",
       "      <td>0</td>\n",
       "      <td>management</td>\n",
       "      <td>high</td>\n",
       "      <td>NaN</td>\n",
       "      <td>NaN</td>\n",
       "    </tr>\n",
       "    <tr>\n",
       "      <th>11967</th>\n",
       "      <td>70005</td>\n",
       "      <td>3</td>\n",
       "      <td>148</td>\n",
       "      <td>3</td>\n",
       "      <td>0</td>\n",
       "      <td>0</td>\n",
       "      <td>0</td>\n",
       "      <td>IT</td>\n",
       "      <td>low</td>\n",
       "      <td>0.82</td>\n",
       "      <td>NaN</td>\n",
       "    </tr>\n",
       "    <tr>\n",
       "      <th>12422</th>\n",
       "      <td>72475</td>\n",
       "      <td>5</td>\n",
       "      <td>257</td>\n",
       "      <td>5</td>\n",
       "      <td>0</td>\n",
       "      <td>1</td>\n",
       "      <td>0</td>\n",
       "      <td>technical</td>\n",
       "      <td>medium</td>\n",
       "      <td>NaN</td>\n",
       "      <td>1.00</td>\n",
       "    </tr>\n",
       "    <tr>\n",
       "      <th>12853</th>\n",
       "      <td>74880</td>\n",
       "      <td>3</td>\n",
       "      <td>136</td>\n",
       "      <td>2</td>\n",
       "      <td>0</td>\n",
       "      <td>0</td>\n",
       "      <td>0</td>\n",
       "      <td>hr</td>\n",
       "      <td>high</td>\n",
       "      <td>NaN</td>\n",
       "      <td>0.70</td>\n",
       "    </tr>\n",
       "    <tr>\n",
       "      <th>13482</th>\n",
       "      <td>78780</td>\n",
       "      <td>3</td>\n",
       "      <td>207</td>\n",
       "      <td>7</td>\n",
       "      <td>0</td>\n",
       "      <td>0</td>\n",
       "      <td>1</td>\n",
       "      <td>management</td>\n",
       "      <td>medium</td>\n",
       "      <td>0.58</td>\n",
       "      <td>NaN</td>\n",
       "    </tr>\n",
       "    <tr>\n",
       "      <th>13925</th>\n",
       "      <td>81315</td>\n",
       "      <td>3</td>\n",
       "      <td>133</td>\n",
       "      <td>3</td>\n",
       "      <td>0</td>\n",
       "      <td>0</td>\n",
       "      <td>0</td>\n",
       "      <td>sales</td>\n",
       "      <td>medium</td>\n",
       "      <td>NaN</td>\n",
       "      <td>0.75</td>\n",
       "    </tr>\n",
       "  </tbody>\n",
       "</table>\n",
       "</div>"
      ],
      "text/plain": [
       "       employee_id  number_project  average_montly_hours  time_spend_company  \\\n",
       "18            3794               2                   160                   3   \n",
       "19            1140               5                   262                   5   \n",
       "33            1230               2                   140                   3   \n",
       "53            1340               2                   132                   3   \n",
       "72           22316               2                   149                   3   \n",
       "92            1581               2                   143                   3   \n",
       "107          17376               2                   148                   3   \n",
       "120           1739               4                   158                   4   \n",
       "137           1847               2                   129                   3   \n",
       "175          32923               4                   164                   2   \n",
       "191           2160               4                   226                   6   \n",
       "352           3150               4                   262                   6   \n",
       "376           3250               4                   296                   2   \n",
       "402           3405               5                   275                   5   \n",
       "427          78130               3                   180                   4   \n",
       "442           3635               5                   229                   5   \n",
       "468           3755               5                   245                   5   \n",
       "543           4150               5                   237                   5   \n",
       "892          43615               4                   276                   5   \n",
       "1588         42185               5                   264                   5   \n",
       "1934         11895               4                   225                   5   \n",
       "2343         14170               3                   115                   2   \n",
       "2743         16445               5                   149                   2   \n",
       "3170         18980               5                   186                   2   \n",
       "3609         21580               3                   263                   2   \n",
       "3776         22555               4                   214                   3   \n",
       "4122         24505               3                   192                   3   \n",
       "4740         27950               3                   253                   3   \n",
       "5028         29640               4                   180                   4   \n",
       "6453         38090               5                   166                   2   \n",
       "7005         41535               4                   150                   3   \n",
       "7516         44460               4                   264                   3   \n",
       "8630         50960               4                   167                   3   \n",
       "9455         55770               4                   270                   3   \n",
       "9901         58630               5                   252                   3   \n",
       "10647        62595               4                   165                   3   \n",
       "10962        64350               5                   233                   3   \n",
       "11575        20215               3                   192                   7   \n",
       "11967        70005               3                   148                   3   \n",
       "12422        72475               5                   257                   5   \n",
       "12853        74880               3                   136                   2   \n",
       "13482        78780               3                   207                   7   \n",
       "13925        81315               3                   133                   3   \n",
       "\n",
       "       Work_accident  left  promotion_last_5years   department  salary  \\\n",
       "18                 1     1                      1        sales     low   \n",
       "19                 0     1                      0        sales     low   \n",
       "33                 0     1                      0           hr     low   \n",
       "53                 0     1                      0      support     low   \n",
       "72                 0     1                      0  product_mng    high   \n",
       "92                 0     1                      0        sales     low   \n",
       "107                0     1                      0   accounting  medium   \n",
       "120                1     1                      0    technical     low   \n",
       "137                0     1                      0   management     low   \n",
       "175                0     1                      0        sales     low   \n",
       "191                1     1                      0    technical  medium   \n",
       "352                0     1                      0      support     low   \n",
       "376                0     1                      0           IT  medium   \n",
       "402                0     1                      0        sales     low   \n",
       "427                0     1                      0    technical  medium   \n",
       "442                0     1                      0   management     low   \n",
       "468                0     1                      0        sales     low   \n",
       "543                0     1                      0        sales  medium   \n",
       "892                0     1                      0      support     low   \n",
       "1588               0     1                      0           IT  medium   \n",
       "1934               0     1                      0        sales  medium   \n",
       "2343               1     0                      0      support     low   \n",
       "2743               0     0                      0        RandD     low   \n",
       "3170               0     0                      0    technical  medium   \n",
       "3609               1     0                      0        sales  medium   \n",
       "3776               0     0                      0    technical  medium   \n",
       "4122               0     0                      0    marketing    high   \n",
       "4740               0     0                      0    marketing  medium   \n",
       "5028               0     0                      0  product_mng  medium   \n",
       "6453               0     0                      0    technical    high   \n",
       "7005               0     0                      0    technical     low   \n",
       "7516               0     0                      0    technical     low   \n",
       "8630               1     0                      0    technical     low   \n",
       "9455               0     0                      0  product_mng     low   \n",
       "9901               0     0                      0      support  medium   \n",
       "10647              0     0                      0    technical     low   \n",
       "10962              0     0                      0      support     low   \n",
       "11575              0     0                      0   management    high   \n",
       "11967              0     0                      0           IT     low   \n",
       "12422              0     1                      0    technical  medium   \n",
       "12853              0     0                      0           hr    high   \n",
       "13482              0     0                      1   management  medium   \n",
       "13925              0     0                      0        sales  medium   \n",
       "\n",
       "       satisfaction_level  last_evaluation  \n",
       "18                    NaN              NaN  \n",
       "19                    NaN             0.89  \n",
       "33                    NaN              NaN  \n",
       "53                    NaN              NaN  \n",
       "72                    NaN              NaN  \n",
       "92                    NaN              NaN  \n",
       "107                   NaN              NaN  \n",
       "120                   NaN              NaN  \n",
       "137                   NaN              NaN  \n",
       "175                   NaN              NaN  \n",
       "191                  0.92              NaN  \n",
       "352                   NaN             0.91  \n",
       "376                  0.56              NaN  \n",
       "402                   NaN             1.00  \n",
       "427                   NaN             0.60  \n",
       "442                  0.77              NaN  \n",
       "468                   NaN             0.92  \n",
       "543                  0.89              NaN  \n",
       "892                  0.74              NaN  \n",
       "1588                  NaN             0.81  \n",
       "1934                 0.78              NaN  \n",
       "2343                  NaN             0.97  \n",
       "2743                 0.62              NaN  \n",
       "3170                  NaN              NaN  \n",
       "3609                 0.95              NaN  \n",
       "3776                  NaN             0.68  \n",
       "4122                 0.86              NaN  \n",
       "4740                  NaN             0.95  \n",
       "5028                 0.64              NaN  \n",
       "6453                  NaN             0.78  \n",
       "7005                 0.82              NaN  \n",
       "7516                  NaN             0.97  \n",
       "8630                 0.90              NaN  \n",
       "9455                  NaN             0.88  \n",
       "9901                 0.92              NaN  \n",
       "10647                 NaN             0.69  \n",
       "10962                0.65              NaN  \n",
       "11575                 NaN              NaN  \n",
       "11967                0.82              NaN  \n",
       "12422                 NaN             1.00  \n",
       "12853                 NaN             0.70  \n",
       "13482                0.58              NaN  \n",
       "13925                 NaN             0.75  "
      ]
     },
     "execution_count": 154,
     "metadata": {},
     "output_type": "execute_result"
    }
   ],
   "source": [
    "data[data.isnull().any(axis=1)]"
   ]
  },
  {
   "cell_type": "code",
   "execution_count": 155,
   "metadata": {},
   "outputs": [
    {
     "data": {
      "text/html": [
       "<div>\n",
       "<style scoped>\n",
       "    .dataframe tbody tr th:only-of-type {\n",
       "        vertical-align: middle;\n",
       "    }\n",
       "\n",
       "    .dataframe tbody tr th {\n",
       "        vertical-align: top;\n",
       "    }\n",
       "\n",
       "    .dataframe thead th {\n",
       "        text-align: right;\n",
       "    }\n",
       "</style>\n",
       "<table border=\"1\" class=\"dataframe\">\n",
       "  <thead>\n",
       "    <tr style=\"text-align: right;\">\n",
       "      <th></th>\n",
       "      <th>employee_id</th>\n",
       "      <th>number_project</th>\n",
       "      <th>average_montly_hours</th>\n",
       "      <th>time_spend_company</th>\n",
       "      <th>Work_accident</th>\n",
       "      <th>left</th>\n",
       "      <th>promotion_last_5years</th>\n",
       "      <th>satisfaction_level</th>\n",
       "      <th>last_evaluation</th>\n",
       "    </tr>\n",
       "  </thead>\n",
       "  <tbody>\n",
       "    <tr>\n",
       "      <th>count</th>\n",
       "      <td>14999.000000</td>\n",
       "      <td>14999.000000</td>\n",
       "      <td>14999.000000</td>\n",
       "      <td>14999.000000</td>\n",
       "      <td>14999.000000</td>\n",
       "      <td>14999.000000</td>\n",
       "      <td>14999.000000</td>\n",
       "      <td>14972.000000</td>\n",
       "      <td>14972.000000</td>\n",
       "    </tr>\n",
       "    <tr>\n",
       "      <th>mean</th>\n",
       "      <td>45424.627575</td>\n",
       "      <td>3.803054</td>\n",
       "      <td>201.050337</td>\n",
       "      <td>3.498233</td>\n",
       "      <td>0.144610</td>\n",
       "      <td>0.238083</td>\n",
       "      <td>0.021268</td>\n",
       "      <td>0.612830</td>\n",
       "      <td>0.716125</td>\n",
       "    </tr>\n",
       "    <tr>\n",
       "      <th>std</th>\n",
       "      <td>25915.900127</td>\n",
       "      <td>1.232592</td>\n",
       "      <td>49.943099</td>\n",
       "      <td>1.460136</td>\n",
       "      <td>0.351719</td>\n",
       "      <td>0.425924</td>\n",
       "      <td>0.144281</td>\n",
       "      <td>0.248714</td>\n",
       "      <td>0.171138</td>\n",
       "    </tr>\n",
       "    <tr>\n",
       "      <th>min</th>\n",
       "      <td>1003.000000</td>\n",
       "      <td>2.000000</td>\n",
       "      <td>96.000000</td>\n",
       "      <td>2.000000</td>\n",
       "      <td>0.000000</td>\n",
       "      <td>0.000000</td>\n",
       "      <td>0.000000</td>\n",
       "      <td>0.090000</td>\n",
       "      <td>0.360000</td>\n",
       "    </tr>\n",
       "    <tr>\n",
       "      <th>25%</th>\n",
       "      <td>22872.500000</td>\n",
       "      <td>3.000000</td>\n",
       "      <td>156.000000</td>\n",
       "      <td>3.000000</td>\n",
       "      <td>0.000000</td>\n",
       "      <td>0.000000</td>\n",
       "      <td>0.000000</td>\n",
       "      <td>0.440000</td>\n",
       "      <td>0.560000</td>\n",
       "    </tr>\n",
       "    <tr>\n",
       "      <th>50%</th>\n",
       "      <td>45448.000000</td>\n",
       "      <td>4.000000</td>\n",
       "      <td>200.000000</td>\n",
       "      <td>3.000000</td>\n",
       "      <td>0.000000</td>\n",
       "      <td>0.000000</td>\n",
       "      <td>0.000000</td>\n",
       "      <td>0.640000</td>\n",
       "      <td>0.720000</td>\n",
       "    </tr>\n",
       "    <tr>\n",
       "      <th>75%</th>\n",
       "      <td>67480.500000</td>\n",
       "      <td>5.000000</td>\n",
       "      <td>245.000000</td>\n",
       "      <td>4.000000</td>\n",
       "      <td>0.000000</td>\n",
       "      <td>0.000000</td>\n",
       "      <td>0.000000</td>\n",
       "      <td>0.820000</td>\n",
       "      <td>0.870000</td>\n",
       "    </tr>\n",
       "    <tr>\n",
       "      <th>max</th>\n",
       "      <td>99815.000000</td>\n",
       "      <td>7.000000</td>\n",
       "      <td>310.000000</td>\n",
       "      <td>10.000000</td>\n",
       "      <td>1.000000</td>\n",
       "      <td>1.000000</td>\n",
       "      <td>1.000000</td>\n",
       "      <td>1.000000</td>\n",
       "      <td>1.000000</td>\n",
       "    </tr>\n",
       "  </tbody>\n",
       "</table>\n",
       "</div>"
      ],
      "text/plain": [
       "        employee_id  number_project  average_montly_hours  time_spend_company  \\\n",
       "count  14999.000000    14999.000000          14999.000000        14999.000000   \n",
       "mean   45424.627575        3.803054            201.050337            3.498233   \n",
       "std    25915.900127        1.232592             49.943099            1.460136   \n",
       "min     1003.000000        2.000000             96.000000            2.000000   \n",
       "25%    22872.500000        3.000000            156.000000            3.000000   \n",
       "50%    45448.000000        4.000000            200.000000            3.000000   \n",
       "75%    67480.500000        5.000000            245.000000            4.000000   \n",
       "max    99815.000000        7.000000            310.000000           10.000000   \n",
       "\n",
       "       Work_accident          left  promotion_last_5years  satisfaction_level  \\\n",
       "count   14999.000000  14999.000000           14999.000000        14972.000000   \n",
       "mean        0.144610      0.238083               0.021268            0.612830   \n",
       "std         0.351719      0.425924               0.144281            0.248714   \n",
       "min         0.000000      0.000000               0.000000            0.090000   \n",
       "25%         0.000000      0.000000               0.000000            0.440000   \n",
       "50%         0.000000      0.000000               0.000000            0.640000   \n",
       "75%         0.000000      0.000000               0.000000            0.820000   \n",
       "max         1.000000      1.000000               1.000000            1.000000   \n",
       "\n",
       "       last_evaluation  \n",
       "count     14972.000000  \n",
       "mean          0.716125  \n",
       "std           0.171138  \n",
       "min           0.360000  \n",
       "25%           0.560000  \n",
       "50%           0.720000  \n",
       "75%           0.870000  \n",
       "max           1.000000  "
      ]
     },
     "execution_count": 155,
     "metadata": {},
     "output_type": "execute_result"
    }
   ],
   "source": [
    "data.describe()"
   ]
  },
  {
   "cell_type": "code",
   "execution_count": 156,
   "metadata": {},
   "outputs": [],
   "source": [
    "data[\"satisfaction_level\"]= data[\"satisfaction_level\"].fillna(data[\"satisfaction_level\"].median())"
   ]
  },
  {
   "cell_type": "code",
   "execution_count": 157,
   "metadata": {},
   "outputs": [
    {
     "data": {
      "text/plain": [
       "employee_id               0\n",
       "number_project            0\n",
       "average_montly_hours      0\n",
       "time_spend_company        0\n",
       "Work_accident             0\n",
       "left                      0\n",
       "promotion_last_5years     0\n",
       "department                0\n",
       "salary                    0\n",
       "satisfaction_level        0\n",
       "last_evaluation          27\n",
       "dtype: int64"
      ]
     },
     "execution_count": 157,
     "metadata": {},
     "output_type": "execute_result"
    }
   ],
   "source": [
    "data.isnull().sum()"
   ]
  },
  {
   "cell_type": "code",
   "execution_count": 158,
   "metadata": {},
   "outputs": [
    {
     "data": {
      "text/plain": [
       "0.64"
      ]
     },
     "execution_count": 158,
     "metadata": {},
     "output_type": "execute_result"
    }
   ],
   "source": [
    "data[\"satisfaction_level\"].median()"
   ]
  },
  {
   "cell_type": "code",
   "execution_count": 159,
   "metadata": {},
   "outputs": [
    {
     "data": {
      "text/plain": [
       "employee_id              45424.627575\n",
       "number_project               3.803054\n",
       "average_montly_hours       201.050337\n",
       "time_spend_company           3.498233\n",
       "Work_accident                0.144610\n",
       "left                         0.238083\n",
       "promotion_last_5years        0.021268\n",
       "satisfaction_level           0.612879\n",
       "last_evaluation              0.716125\n",
       "dtype: float64"
      ]
     },
     "execution_count": 159,
     "metadata": {},
     "output_type": "execute_result"
    }
   ],
   "source": [
    "data.mean()"
   ]
  },
  {
   "cell_type": "code",
   "execution_count": 160,
   "metadata": {},
   "outputs": [],
   "source": [
    "data[\"last_evaluation\"]= data[\"last_evaluation\"].fillna(data[\"last_evaluation\"].median())"
   ]
  },
  {
   "cell_type": "code",
   "execution_count": 161,
   "metadata": {},
   "outputs": [
    {
     "data": {
      "text/plain": [
       "employee_id              0\n",
       "number_project           0\n",
       "average_montly_hours     0\n",
       "time_spend_company       0\n",
       "Work_accident            0\n",
       "left                     0\n",
       "promotion_last_5years    0\n",
       "department               0\n",
       "salary                   0\n",
       "satisfaction_level       0\n",
       "last_evaluation          0\n",
       "dtype: int64"
      ]
     },
     "execution_count": 161,
     "metadata": {},
     "output_type": "execute_result"
    }
   ],
   "source": [
    "data.isnull().sum()"
   ]
  },
  {
   "cell_type": "code",
   "execution_count": 162,
   "metadata": {},
   "outputs": [
    {
     "data": {
      "text/html": [
       "<div>\n",
       "<style scoped>\n",
       "    .dataframe tbody tr th:only-of-type {\n",
       "        vertical-align: middle;\n",
       "    }\n",
       "\n",
       "    .dataframe tbody tr th {\n",
       "        vertical-align: top;\n",
       "    }\n",
       "\n",
       "    .dataframe thead th {\n",
       "        text-align: right;\n",
       "    }\n",
       "</style>\n",
       "<table border=\"1\" class=\"dataframe\">\n",
       "  <thead>\n",
       "    <tr style=\"text-align: right;\">\n",
       "      <th></th>\n",
       "      <th>employee_id</th>\n",
       "      <th>number_project</th>\n",
       "      <th>average_montly_hours</th>\n",
       "      <th>time_spend_company</th>\n",
       "      <th>Work_accident</th>\n",
       "      <th>left</th>\n",
       "      <th>promotion_last_5years</th>\n",
       "      <th>department</th>\n",
       "      <th>salary</th>\n",
       "      <th>satisfaction_level</th>\n",
       "      <th>last_evaluation</th>\n",
       "    </tr>\n",
       "  </thead>\n",
       "  <tbody>\n",
       "    <tr>\n",
       "      <th>53</th>\n",
       "      <td>1340</td>\n",
       "      <td>2</td>\n",
       "      <td>132</td>\n",
       "      <td>3</td>\n",
       "      <td>0</td>\n",
       "      <td>1</td>\n",
       "      <td>0</td>\n",
       "      <td>support</td>\n",
       "      <td>low</td>\n",
       "      <td>0.64</td>\n",
       "      <td>0.72</td>\n",
       "    </tr>\n",
       "  </tbody>\n",
       "</table>\n",
       "</div>"
      ],
      "text/plain": [
       "    employee_id  number_project  average_montly_hours  time_spend_company  \\\n",
       "53         1340               2                   132                   3   \n",
       "\n",
       "    Work_accident  left  promotion_last_5years department salary  \\\n",
       "53              0     1                      0    support    low   \n",
       "\n",
       "    satisfaction_level  last_evaluation  \n",
       "53                0.64             0.72  "
      ]
     },
     "execution_count": 162,
     "metadata": {},
     "output_type": "execute_result"
    }
   ],
   "source": [
    "data[data[\"employee_id\"]==1340]"
   ]
  },
  {
   "cell_type": "code",
   "execution_count": 163,
   "metadata": {},
   "outputs": [],
   "source": [
    "data.drop([\"employee_id\"],axis=1,inplace=True)"
   ]
  },
  {
   "cell_type": "code",
   "execution_count": 164,
   "metadata": {},
   "outputs": [
    {
     "data": {
      "text/html": [
       "<div>\n",
       "<style scoped>\n",
       "    .dataframe tbody tr th:only-of-type {\n",
       "        vertical-align: middle;\n",
       "    }\n",
       "\n",
       "    .dataframe tbody tr th {\n",
       "        vertical-align: top;\n",
       "    }\n",
       "\n",
       "    .dataframe thead th {\n",
       "        text-align: right;\n",
       "    }\n",
       "</style>\n",
       "<table border=\"1\" class=\"dataframe\">\n",
       "  <thead>\n",
       "    <tr style=\"text-align: right;\">\n",
       "      <th></th>\n",
       "      <th>number_project</th>\n",
       "      <th>average_montly_hours</th>\n",
       "      <th>time_spend_company</th>\n",
       "      <th>Work_accident</th>\n",
       "      <th>left</th>\n",
       "      <th>promotion_last_5years</th>\n",
       "      <th>department</th>\n",
       "      <th>salary</th>\n",
       "      <th>satisfaction_level</th>\n",
       "      <th>last_evaluation</th>\n",
       "    </tr>\n",
       "  </thead>\n",
       "  <tbody>\n",
       "    <tr>\n",
       "      <th>0</th>\n",
       "      <td>2</td>\n",
       "      <td>157</td>\n",
       "      <td>3</td>\n",
       "      <td>0</td>\n",
       "      <td>1</td>\n",
       "      <td>0</td>\n",
       "      <td>sales</td>\n",
       "      <td>low</td>\n",
       "      <td>0.38</td>\n",
       "      <td>0.53</td>\n",
       "    </tr>\n",
       "    <tr>\n",
       "      <th>1</th>\n",
       "      <td>5</td>\n",
       "      <td>262</td>\n",
       "      <td>6</td>\n",
       "      <td>0</td>\n",
       "      <td>1</td>\n",
       "      <td>0</td>\n",
       "      <td>sales</td>\n",
       "      <td>medium</td>\n",
       "      <td>0.80</td>\n",
       "      <td>0.86</td>\n",
       "    </tr>\n",
       "    <tr>\n",
       "      <th>2</th>\n",
       "      <td>7</td>\n",
       "      <td>272</td>\n",
       "      <td>4</td>\n",
       "      <td>0</td>\n",
       "      <td>1</td>\n",
       "      <td>0</td>\n",
       "      <td>sales</td>\n",
       "      <td>medium</td>\n",
       "      <td>0.11</td>\n",
       "      <td>0.88</td>\n",
       "    </tr>\n",
       "    <tr>\n",
       "      <th>3</th>\n",
       "      <td>5</td>\n",
       "      <td>223</td>\n",
       "      <td>5</td>\n",
       "      <td>0</td>\n",
       "      <td>1</td>\n",
       "      <td>0</td>\n",
       "      <td>sales</td>\n",
       "      <td>low</td>\n",
       "      <td>0.72</td>\n",
       "      <td>0.87</td>\n",
       "    </tr>\n",
       "    <tr>\n",
       "      <th>4</th>\n",
       "      <td>2</td>\n",
       "      <td>159</td>\n",
       "      <td>3</td>\n",
       "      <td>0</td>\n",
       "      <td>1</td>\n",
       "      <td>0</td>\n",
       "      <td>sales</td>\n",
       "      <td>low</td>\n",
       "      <td>0.37</td>\n",
       "      <td>0.52</td>\n",
       "    </tr>\n",
       "  </tbody>\n",
       "</table>\n",
       "</div>"
      ],
      "text/plain": [
       "   number_project  average_montly_hours  time_spend_company  Work_accident  \\\n",
       "0               2                   157                   3              0   \n",
       "1               5                   262                   6              0   \n",
       "2               7                   272                   4              0   \n",
       "3               5                   223                   5              0   \n",
       "4               2                   159                   3              0   \n",
       "\n",
       "   left  promotion_last_5years department  salary  satisfaction_level  \\\n",
       "0     1                      0      sales     low                0.38   \n",
       "1     1                      0      sales  medium                0.80   \n",
       "2     1                      0      sales  medium                0.11   \n",
       "3     1                      0      sales     low                0.72   \n",
       "4     1                      0      sales     low                0.37   \n",
       "\n",
       "   last_evaluation  \n",
       "0             0.53  \n",
       "1             0.86  \n",
       "2             0.88  \n",
       "3             0.87  \n",
       "4             0.52  "
      ]
     },
     "execution_count": 164,
     "metadata": {},
     "output_type": "execute_result"
    }
   ],
   "source": [
    "data.head()"
   ]
  },
  {
   "cell_type": "code",
   "execution_count": 165,
   "metadata": {},
   "outputs": [
    {
     "data": {
      "text/plain": [
       "sales          4140\n",
       "technical      2720\n",
       "support        2229\n",
       "IT             1227\n",
       "product_mng     902\n",
       "marketing       858\n",
       "RandD           787\n",
       "accounting      767\n",
       "hr              739\n",
       "management      630\n",
       "Name: department, dtype: int64"
      ]
     },
     "execution_count": 165,
     "metadata": {},
     "output_type": "execute_result"
    }
   ],
   "source": [
    "data[\"department\"].value_counts()"
   ]
  },
  {
   "cell_type": "code",
   "execution_count": 166,
   "metadata": {},
   "outputs": [
    {
     "data": {
      "text/html": [
       "<div>\n",
       "<style scoped>\n",
       "    .dataframe tbody tr th:only-of-type {\n",
       "        vertical-align: middle;\n",
       "    }\n",
       "\n",
       "    .dataframe tbody tr th {\n",
       "        vertical-align: top;\n",
       "    }\n",
       "\n",
       "    .dataframe thead th {\n",
       "        text-align: right;\n",
       "    }\n",
       "</style>\n",
       "<table border=\"1\" class=\"dataframe\">\n",
       "  <thead>\n",
       "    <tr style=\"text-align: right;\">\n",
       "      <th></th>\n",
       "      <th>number_project</th>\n",
       "      <th>average_montly_hours</th>\n",
       "      <th>time_spend_company</th>\n",
       "      <th>Work_accident</th>\n",
       "      <th>left</th>\n",
       "      <th>promotion_last_5years</th>\n",
       "      <th>satisfaction_level</th>\n",
       "      <th>last_evaluation</th>\n",
       "    </tr>\n",
       "    <tr>\n",
       "      <th>department</th>\n",
       "      <th></th>\n",
       "      <th></th>\n",
       "      <th></th>\n",
       "      <th></th>\n",
       "      <th></th>\n",
       "      <th></th>\n",
       "      <th></th>\n",
       "      <th></th>\n",
       "    </tr>\n",
       "  </thead>\n",
       "  <tbody>\n",
       "    <tr>\n",
       "      <th>IT</th>\n",
       "      <td>4683</td>\n",
       "      <td>248119</td>\n",
       "      <td>4256</td>\n",
       "      <td>164</td>\n",
       "      <td>273</td>\n",
       "      <td>3</td>\n",
       "      <td>758.20</td>\n",
       "      <td>879.46</td>\n",
       "    </tr>\n",
       "    <tr>\n",
       "      <th>RandD</th>\n",
       "      <td>3033</td>\n",
       "      <td>158030</td>\n",
       "      <td>2650</td>\n",
       "      <td>134</td>\n",
       "      <td>121</td>\n",
       "      <td>27</td>\n",
       "      <td>487.80</td>\n",
       "      <td>560.45</td>\n",
       "    </tr>\n",
       "    <tr>\n",
       "      <th>accounting</th>\n",
       "      <td>2934</td>\n",
       "      <td>154292</td>\n",
       "      <td>2702</td>\n",
       "      <td>96</td>\n",
       "      <td>204</td>\n",
       "      <td>14</td>\n",
       "      <td>446.71</td>\n",
       "      <td>550.71</td>\n",
       "    </tr>\n",
       "    <tr>\n",
       "      <th>hr</th>\n",
       "      <td>2701</td>\n",
       "      <td>146828</td>\n",
       "      <td>2480</td>\n",
       "      <td>89</td>\n",
       "      <td>215</td>\n",
       "      <td>15</td>\n",
       "      <td>442.59</td>\n",
       "      <td>524.01</td>\n",
       "    </tr>\n",
       "    <tr>\n",
       "      <th>management</th>\n",
       "      <td>2432</td>\n",
       "      <td>126787</td>\n",
       "      <td>2711</td>\n",
       "      <td>103</td>\n",
       "      <td>91</td>\n",
       "      <td>69</td>\n",
       "      <td>391.82</td>\n",
       "      <td>456.25</td>\n",
       "    </tr>\n",
       "    <tr>\n",
       "      <th>marketing</th>\n",
       "      <td>3164</td>\n",
       "      <td>171073</td>\n",
       "      <td>3063</td>\n",
       "      <td>138</td>\n",
       "      <td>203</td>\n",
       "      <td>43</td>\n",
       "      <td>530.65</td>\n",
       "      <td>613.95</td>\n",
       "    </tr>\n",
       "    <tr>\n",
       "      <th>product_mng</th>\n",
       "      <td>3434</td>\n",
       "      <td>180369</td>\n",
       "      <td>3135</td>\n",
       "      <td>132</td>\n",
       "      <td>198</td>\n",
       "      <td>0</td>\n",
       "      <td>559.25</td>\n",
       "      <td>644.67</td>\n",
       "    </tr>\n",
       "    <tr>\n",
       "      <th>sales</th>\n",
       "      <td>15634</td>\n",
       "      <td>831773</td>\n",
       "      <td>14631</td>\n",
       "      <td>587</td>\n",
       "      <td>1014</td>\n",
       "      <td>100</td>\n",
       "      <td>2543.97</td>\n",
       "      <td>2938.26</td>\n",
       "    </tr>\n",
       "    <tr>\n",
       "      <th>support</th>\n",
       "      <td>8479</td>\n",
       "      <td>447490</td>\n",
       "      <td>7563</td>\n",
       "      <td>345</td>\n",
       "      <td>555</td>\n",
       "      <td>20</td>\n",
       "      <td>1377.99</td>\n",
       "      <td>1611.55</td>\n",
       "    </tr>\n",
       "    <tr>\n",
       "      <th>technical</th>\n",
       "      <td>10548</td>\n",
       "      <td>550793</td>\n",
       "      <td>9279</td>\n",
       "      <td>381</td>\n",
       "      <td>697</td>\n",
       "      <td>28</td>\n",
       "      <td>1653.59</td>\n",
       "      <td>1961.95</td>\n",
       "    </tr>\n",
       "  </tbody>\n",
       "</table>\n",
       "</div>"
      ],
      "text/plain": [
       "             number_project  average_montly_hours  time_spend_company  \\\n",
       "department                                                              \n",
       "IT                     4683                248119                4256   \n",
       "RandD                  3033                158030                2650   \n",
       "accounting             2934                154292                2702   \n",
       "hr                     2701                146828                2480   \n",
       "management             2432                126787                2711   \n",
       "marketing              3164                171073                3063   \n",
       "product_mng            3434                180369                3135   \n",
       "sales                 15634                831773               14631   \n",
       "support                8479                447490                7563   \n",
       "technical             10548                550793                9279   \n",
       "\n",
       "             Work_accident  left  promotion_last_5years  satisfaction_level  \\\n",
       "department                                                                    \n",
       "IT                     164   273                      3              758.20   \n",
       "RandD                  134   121                     27              487.80   \n",
       "accounting              96   204                     14              446.71   \n",
       "hr                      89   215                     15              442.59   \n",
       "management             103    91                     69              391.82   \n",
       "marketing              138   203                     43              530.65   \n",
       "product_mng            132   198                      0              559.25   \n",
       "sales                  587  1014                    100             2543.97   \n",
       "support                345   555                     20             1377.99   \n",
       "technical              381   697                     28             1653.59   \n",
       "\n",
       "             last_evaluation  \n",
       "department                    \n",
       "IT                    879.46  \n",
       "RandD                 560.45  \n",
       "accounting            550.71  \n",
       "hr                    524.01  \n",
       "management            456.25  \n",
       "marketing             613.95  \n",
       "product_mng           644.67  \n",
       "sales                2938.26  \n",
       "support              1611.55  \n",
       "technical            1961.95  "
      ]
     },
     "execution_count": 166,
     "metadata": {},
     "output_type": "execute_result"
    }
   ],
   "source": [
    "data.groupby(\"department\").sum()"
   ]
  },
  {
   "cell_type": "code",
   "execution_count": 167,
   "metadata": {
    "scrolled": false
   },
   "outputs": [
    {
     "data": {
      "image/png": "[encoded data removed]",
      "text/plain": [
       "<Figure size 1080x432 with 1 Axes>"
      ]
     },
     "metadata": {
      "needs_background": "light"
     },
     "output_type": "display_data"
    }
   ],
   "source": [
    "plt.figure(figsize=(15,6))\n",
    "sns.barplot(data[\"department\"],data[\"left\"])\n",
    "plt.yticks([])\n",
    "plt.show()\n",
    "\n",
    "#from the graph we can conclude that the maximum no. of employees left were from (hr) department so something should be done\n",
    "# in this department. The least people left from (management) department"
   ]
  },
  {
   "cell_type": "code",
   "execution_count": 168,
   "metadata": {},
   "outputs": [
    {
     "data": {
      "image/png": "[encoded data removed]",
      "text/plain": [
       "<Figure size 1080x432 with 1 Axes>"
      ]
     },
     "metadata": {
      "needs_background": "light"
     },
     "output_type": "display_data"
    }
   ],
   "source": [
    "plt.figure(figsize=(15,6))\n",
    "sns.barplot(data[\"department\"],data[\"promotion_last_5years\"])\n",
    "plt.yticks([])\n",
    "plt.show()\n",
    "\n",
    "# The maximum promotions given in the company were from (management) department"
   ]
  },
  {
   "cell_type": "code",
   "execution_count": 169,
   "metadata": {},
   "outputs": [
    {
     "data": {
      "text/html": [
       "<div>\n",
       "<style scoped>\n",
       "    .dataframe tbody tr th:only-of-type {\n",
       "        vertical-align: middle;\n",
       "    }\n",
       "\n",
       "    .dataframe tbody tr th {\n",
       "        vertical-align: top;\n",
       "    }\n",
       "\n",
       "    .dataframe thead th {\n",
       "        text-align: right;\n",
       "    }\n",
       "</style>\n",
       "<table border=\"1\" class=\"dataframe\">\n",
       "  <thead>\n",
       "    <tr style=\"text-align: right;\">\n",
       "      <th></th>\n",
       "      <th>number_project</th>\n",
       "      <th>average_montly_hours</th>\n",
       "      <th>time_spend_company</th>\n",
       "      <th>Work_accident</th>\n",
       "      <th>left</th>\n",
       "      <th>promotion_last_5years</th>\n",
       "      <th>satisfaction_level</th>\n",
       "      <th>last_evaluation</th>\n",
       "    </tr>\n",
       "    <tr>\n",
       "      <th>department</th>\n",
       "      <th></th>\n",
       "      <th></th>\n",
       "      <th></th>\n",
       "      <th></th>\n",
       "      <th></th>\n",
       "      <th></th>\n",
       "      <th></th>\n",
       "      <th></th>\n",
       "    </tr>\n",
       "  </thead>\n",
       "  <tbody>\n",
       "    <tr>\n",
       "      <th>IT</th>\n",
       "      <td>3.816626</td>\n",
       "      <td>202.215974</td>\n",
       "      <td>3.468623</td>\n",
       "      <td>0.133659</td>\n",
       "      <td>0.222494</td>\n",
       "      <td>0.002445</td>\n",
       "      <td>0.617930</td>\n",
       "      <td>0.716756</td>\n",
       "    </tr>\n",
       "    <tr>\n",
       "      <th>RandD</th>\n",
       "      <td>3.853875</td>\n",
       "      <td>200.800508</td>\n",
       "      <td>3.367217</td>\n",
       "      <td>0.170267</td>\n",
       "      <td>0.153748</td>\n",
       "      <td>0.034307</td>\n",
       "      <td>0.619822</td>\n",
       "      <td>0.712135</td>\n",
       "    </tr>\n",
       "    <tr>\n",
       "      <th>accounting</th>\n",
       "      <td>3.825293</td>\n",
       "      <td>201.162973</td>\n",
       "      <td>3.522816</td>\n",
       "      <td>0.125163</td>\n",
       "      <td>0.265971</td>\n",
       "      <td>0.018253</td>\n",
       "      <td>0.582412</td>\n",
       "      <td>0.718005</td>\n",
       "    </tr>\n",
       "    <tr>\n",
       "      <th>hr</th>\n",
       "      <td>3.654939</td>\n",
       "      <td>198.684709</td>\n",
       "      <td>3.355886</td>\n",
       "      <td>0.120433</td>\n",
       "      <td>0.290934</td>\n",
       "      <td>0.020298</td>\n",
       "      <td>0.598904</td>\n",
       "      <td>0.709080</td>\n",
       "    </tr>\n",
       "    <tr>\n",
       "      <th>management</th>\n",
       "      <td>3.860317</td>\n",
       "      <td>201.249206</td>\n",
       "      <td>4.303175</td>\n",
       "      <td>0.163492</td>\n",
       "      <td>0.144444</td>\n",
       "      <td>0.109524</td>\n",
       "      <td>0.621937</td>\n",
       "      <td>0.724206</td>\n",
       "    </tr>\n",
       "    <tr>\n",
       "      <th>marketing</th>\n",
       "      <td>3.687646</td>\n",
       "      <td>199.385781</td>\n",
       "      <td>3.569930</td>\n",
       "      <td>0.160839</td>\n",
       "      <td>0.236597</td>\n",
       "      <td>0.050117</td>\n",
       "      <td>0.618473</td>\n",
       "      <td>0.715559</td>\n",
       "    </tr>\n",
       "    <tr>\n",
       "      <th>product_mng</th>\n",
       "      <td>3.807095</td>\n",
       "      <td>199.965632</td>\n",
       "      <td>3.475610</td>\n",
       "      <td>0.146341</td>\n",
       "      <td>0.219512</td>\n",
       "      <td>0.000000</td>\n",
       "      <td>0.620011</td>\n",
       "      <td>0.714712</td>\n",
       "    </tr>\n",
       "    <tr>\n",
       "      <th>sales</th>\n",
       "      <td>3.776329</td>\n",
       "      <td>200.911353</td>\n",
       "      <td>3.534058</td>\n",
       "      <td>0.141787</td>\n",
       "      <td>0.244928</td>\n",
       "      <td>0.024155</td>\n",
       "      <td>0.614486</td>\n",
       "      <td>0.709725</td>\n",
       "    </tr>\n",
       "    <tr>\n",
       "      <th>support</th>\n",
       "      <td>3.803948</td>\n",
       "      <td>200.758188</td>\n",
       "      <td>3.393001</td>\n",
       "      <td>0.154778</td>\n",
       "      <td>0.248991</td>\n",
       "      <td>0.008973</td>\n",
       "      <td>0.618210</td>\n",
       "      <td>0.722992</td>\n",
       "    </tr>\n",
       "    <tr>\n",
       "      <th>technical</th>\n",
       "      <td>3.877941</td>\n",
       "      <td>202.497426</td>\n",
       "      <td>3.411397</td>\n",
       "      <td>0.140074</td>\n",
       "      <td>0.256250</td>\n",
       "      <td>0.010294</td>\n",
       "      <td>0.607938</td>\n",
       "      <td>0.721305</td>\n",
       "    </tr>\n",
       "  </tbody>\n",
       "</table>\n",
       "</div>"
      ],
      "text/plain": [
       "             number_project  average_montly_hours  time_spend_company  \\\n",
       "department                                                              \n",
       "IT                 3.816626            202.215974            3.468623   \n",
       "RandD              3.853875            200.800508            3.367217   \n",
       "accounting         3.825293            201.162973            3.522816   \n",
       "hr                 3.654939            198.684709            3.355886   \n",
       "management         3.860317            201.249206            4.303175   \n",
       "marketing          3.687646            199.385781            3.569930   \n",
       "product_mng        3.807095            199.965632            3.475610   \n",
       "sales              3.776329            200.911353            3.534058   \n",
       "support            3.803948            200.758188            3.393001   \n",
       "technical          3.877941            202.497426            3.411397   \n",
       "\n",
       "             Work_accident      left  promotion_last_5years  \\\n",
       "department                                                    \n",
       "IT                0.133659  0.222494               0.002445   \n",
       "RandD             0.170267  0.153748               0.034307   \n",
       "accounting        0.125163  0.265971               0.018253   \n",
       "hr                0.120433  0.290934               0.020298   \n",
       "management        0.163492  0.144444               0.109524   \n",
       "marketing         0.160839  0.236597               0.050117   \n",
       "product_mng       0.146341  0.219512               0.000000   \n",
       "sales             0.141787  0.244928               0.024155   \n",
       "support           0.154778  0.248991               0.008973   \n",
       "technical         0.140074  0.256250               0.010294   \n",
       "\n",
       "             satisfaction_level  last_evaluation  \n",
       "department                                        \n",
       "IT                     0.617930         0.716756  \n",
       "RandD                  0.619822         0.712135  \n",
       "accounting             0.582412         0.718005  \n",
       "hr                     0.598904         0.709080  \n",
       "management             0.621937         0.724206  \n",
       "marketing              0.618473         0.715559  \n",
       "product_mng            0.620011         0.714712  \n",
       "sales                  0.614486         0.709725  \n",
       "support                0.618210         0.722992  \n",
       "technical              0.607938         0.721305  "
      ]
     },
     "execution_count": 169,
     "metadata": {},
     "output_type": "execute_result"
    }
   ],
   "source": [
    "data.groupby('department').mean()"
   ]
  },
  {
   "cell_type": "code",
   "execution_count": 170,
   "metadata": {},
   "outputs": [
    {
     "data": {
      "text/plain": [
       "0    11428\n",
       "1     3571\n",
       "Name: left, dtype: int64"
      ]
     },
     "execution_count": 170,
     "metadata": {},
     "output_type": "execute_result"
    }
   ],
   "source": [
    "data['left'].value_counts()"
   ]
  },
  {
   "cell_type": "code",
   "execution_count": 171,
   "metadata": {},
   "outputs": [],
   "source": [
    "import matplotlib.pyplot as plt\n",
    "import seaborn as sns"
   ]
  },
  {
   "cell_type": "code",
   "execution_count": 172,
   "metadata": {},
   "outputs": [
    {
     "data": {
      "image/png": "[encoded data removed]",
      "text/plain": [
       "<Figure size 720x432 with 2 Axes>"
      ]
     },
     "metadata": {
      "needs_background": "light"
     },
     "output_type": "display_data"
    }
   ],
   "source": [
    "plt.figure(figsize=(10,6))\n",
    "sns.heatmap(data.corr(),annot=True,cmap=\"viridis\")\n",
    "plt.show()"
   ]
  },
  {
   "cell_type": "code",
   "execution_count": 173,
   "metadata": {},
   "outputs": [
    {
     "data": {
      "image/png": "[encoded data removed]",
      "text/plain": [
       "<Figure size 720x432 with 1 Axes>"
      ]
     },
     "metadata": {
      "needs_background": "light"
     },
     "output_type": "display_data"
    }
   ],
   "source": [
    "plt.figure(figsize=(10,6))\n",
    "sns.barplot(data[\"left\"],data[\"satisfaction_level\"])\n",
    "plt.show()"
   ]
  },
  {
   "cell_type": "code",
   "execution_count": 174,
   "metadata": {},
   "outputs": [
    {
     "data": {
      "text/plain": [
       "<matplotlib.axes._subplots.AxesSubplot at 0x2145b0ce7b8>"
      ]
     },
     "execution_count": 174,
     "metadata": {},
     "output_type": "execute_result"
    },
    {
     "data": {
      "image/png": "[encoded data removed]",
      "text/plain": [
       "<Figure size 432x288 with 1 Axes>"
      ]
     },
     "metadata": {
      "needs_background": "light"
     },
     "output_type": "display_data"
    }
   ],
   "source": [
    "sns.barplot(x=\"promotion_last_5years\",y=\"satisfaction_level\",data=data,hue=\"left\")"
   ]
  },
  {
   "cell_type": "code",
   "execution_count": 175,
   "metadata": {},
   "outputs": [
    {
     "data": {
      "image/png": "[encoded data removed]",
      "text/plain": [
       "<Figure size 1440x1440 with 72 Axes>"
      ]
     },
     "metadata": {
      "needs_background": "light"
     },
     "output_type": "display_data"
    }
   ],
   "source": [
    "sns.pairplot(data)\n",
    "plt.show()"
   ]
  },
  {
   "cell_type": "code",
   "execution_count": 176,
   "metadata": {},
   "outputs": [
    {
     "data": {
      "text/plain": [
       "['average_montly_hours', 'satisfaction_level', 'last_evaluation']"
      ]
     },
     "execution_count": 176,
     "metadata": {},
     "output_type": "execute_result"
    }
   ],
   "source": [
    "numeric_feat= [features for features in data.columns if data[features].nunique()>10]\n",
    "numeric_feat"
   ]
  },
  {
   "cell_type": "code",
   "execution_count": 177,
   "metadata": {},
   "outputs": [
    {
     "data": {
      "image/png": "[encoded data removed]",
      "text/plain": [
       "<Figure size 720x432 with 3 Axes>"
      ]
     },
     "metadata": {},
     "output_type": "display_data"
    },
    {
     "data": {
      "text/plain": [
       "<Figure size 432x288 with 0 Axes>"
      ]
     },
     "metadata": {},
     "output_type": "display_data"
    }
   ],
   "source": [
    "plt.figure(figsize=(10,6))\n",
    "for i in range(len(numeric_feat)):\n",
    "    plt.subplot(3,1,i+1)\n",
    "    sns.distplot(data[numeric_feat[i]])\n",
    "    plt.title(numeric_feat[i],loc=\"left\")\n",
    "    plt.xticks([])\n",
    "    plt.yticks([])\n",
    "plt.show()\n",
    "plt.tight_layout()\n",
    "    "
   ]
  },
  {
   "cell_type": "code",
   "execution_count": 178,
   "metadata": {},
   "outputs": [
    {
     "data": {
      "text/html": [
       "<div>\n",
       "<style scoped>\n",
       "    .dataframe tbody tr th:only-of-type {\n",
       "        vertical-align: middle;\n",
       "    }\n",
       "\n",
       "    .dataframe tbody tr th {\n",
       "        vertical-align: top;\n",
       "    }\n",
       "\n",
       "    .dataframe thead th {\n",
       "        text-align: right;\n",
       "    }\n",
       "</style>\n",
       "<table border=\"1\" class=\"dataframe\">\n",
       "  <thead>\n",
       "    <tr style=\"text-align: right;\">\n",
       "      <th></th>\n",
       "      <th>average_montly_hours</th>\n",
       "      <th>satisfaction_level</th>\n",
       "      <th>last_evaluation</th>\n",
       "    </tr>\n",
       "  </thead>\n",
       "  <tbody>\n",
       "    <tr>\n",
       "      <th>0</th>\n",
       "      <td>157</td>\n",
       "      <td>0.38</td>\n",
       "      <td>0.53</td>\n",
       "    </tr>\n",
       "    <tr>\n",
       "      <th>1</th>\n",
       "      <td>262</td>\n",
       "      <td>0.80</td>\n",
       "      <td>0.86</td>\n",
       "    </tr>\n",
       "    <tr>\n",
       "      <th>2</th>\n",
       "      <td>272</td>\n",
       "      <td>0.11</td>\n",
       "      <td>0.88</td>\n",
       "    </tr>\n",
       "    <tr>\n",
       "      <th>3</th>\n",
       "      <td>223</td>\n",
       "      <td>0.72</td>\n",
       "      <td>0.87</td>\n",
       "    </tr>\n",
       "    <tr>\n",
       "      <th>4</th>\n",
       "      <td>159</td>\n",
       "      <td>0.37</td>\n",
       "      <td>0.52</td>\n",
       "    </tr>\n",
       "    <tr>\n",
       "      <th>...</th>\n",
       "      <td>...</td>\n",
       "      <td>...</td>\n",
       "      <td>...</td>\n",
       "    </tr>\n",
       "    <tr>\n",
       "      <th>14994</th>\n",
       "      <td>151</td>\n",
       "      <td>0.40</td>\n",
       "      <td>0.57</td>\n",
       "    </tr>\n",
       "    <tr>\n",
       "      <th>14995</th>\n",
       "      <td>160</td>\n",
       "      <td>0.37</td>\n",
       "      <td>0.48</td>\n",
       "    </tr>\n",
       "    <tr>\n",
       "      <th>14996</th>\n",
       "      <td>143</td>\n",
       "      <td>0.37</td>\n",
       "      <td>0.53</td>\n",
       "    </tr>\n",
       "    <tr>\n",
       "      <th>14997</th>\n",
       "      <td>280</td>\n",
       "      <td>0.11</td>\n",
       "      <td>0.96</td>\n",
       "    </tr>\n",
       "    <tr>\n",
       "      <th>14998</th>\n",
       "      <td>158</td>\n",
       "      <td>0.37</td>\n",
       "      <td>0.52</td>\n",
       "    </tr>\n",
       "  </tbody>\n",
       "</table>\n",
       "<p>14999 rows × 3 columns</p>\n",
       "</div>"
      ],
      "text/plain": [
       "       average_montly_hours  satisfaction_level  last_evaluation\n",
       "0                       157                0.38             0.53\n",
       "1                       262                0.80             0.86\n",
       "2                       272                0.11             0.88\n",
       "3                       223                0.72             0.87\n",
       "4                       159                0.37             0.52\n",
       "...                     ...                 ...              ...\n",
       "14994                   151                0.40             0.57\n",
       "14995                   160                0.37             0.48\n",
       "14996                   143                0.37             0.53\n",
       "14997                   280                0.11             0.96\n",
       "14998                   158                0.37             0.52\n",
       "\n",
       "[14999 rows x 3 columns]"
      ]
     },
     "execution_count": 178,
     "metadata": {},
     "output_type": "execute_result"
    }
   ],
   "source": [
    "data[numeric_feat]"
   ]
  },
  {
   "cell_type": "code",
   "execution_count": 179,
   "metadata": {
    "scrolled": false
   },
   "outputs": [
    {
     "data": {
      "text/html": [
       "<div>\n",
       "<style scoped>\n",
       "    .dataframe tbody tr th:only-of-type {\n",
       "        vertical-align: middle;\n",
       "    }\n",
       "\n",
       "    .dataframe tbody tr th {\n",
       "        vertical-align: top;\n",
       "    }\n",
       "\n",
       "    .dataframe thead th {\n",
       "        text-align: right;\n",
       "    }\n",
       "</style>\n",
       "<table border=\"1\" class=\"dataframe\">\n",
       "  <thead>\n",
       "    <tr style=\"text-align: right;\">\n",
       "      <th></th>\n",
       "      <th>number_project</th>\n",
       "      <th>average_montly_hours</th>\n",
       "      <th>time_spend_company</th>\n",
       "      <th>Work_accident</th>\n",
       "      <th>left</th>\n",
       "      <th>promotion_last_5years</th>\n",
       "      <th>department</th>\n",
       "      <th>salary</th>\n",
       "      <th>satisfaction_level</th>\n",
       "      <th>last_evaluation</th>\n",
       "    </tr>\n",
       "  </thead>\n",
       "  <tbody>\n",
       "    <tr>\n",
       "      <th>0</th>\n",
       "      <td>2</td>\n",
       "      <td>157</td>\n",
       "      <td>3</td>\n",
       "      <td>0</td>\n",
       "      <td>1</td>\n",
       "      <td>0</td>\n",
       "      <td>sales</td>\n",
       "      <td>low</td>\n",
       "      <td>0.38</td>\n",
       "      <td>0.53</td>\n",
       "    </tr>\n",
       "    <tr>\n",
       "      <th>1</th>\n",
       "      <td>5</td>\n",
       "      <td>262</td>\n",
       "      <td>6</td>\n",
       "      <td>0</td>\n",
       "      <td>1</td>\n",
       "      <td>0</td>\n",
       "      <td>sales</td>\n",
       "      <td>medium</td>\n",
       "      <td>0.80</td>\n",
       "      <td>0.86</td>\n",
       "    </tr>\n",
       "    <tr>\n",
       "      <th>2</th>\n",
       "      <td>7</td>\n",
       "      <td>272</td>\n",
       "      <td>4</td>\n",
       "      <td>0</td>\n",
       "      <td>1</td>\n",
       "      <td>0</td>\n",
       "      <td>sales</td>\n",
       "      <td>medium</td>\n",
       "      <td>0.11</td>\n",
       "      <td>0.88</td>\n",
       "    </tr>\n",
       "    <tr>\n",
       "      <th>3</th>\n",
       "      <td>5</td>\n",
       "      <td>223</td>\n",
       "      <td>5</td>\n",
       "      <td>0</td>\n",
       "      <td>1</td>\n",
       "      <td>0</td>\n",
       "      <td>sales</td>\n",
       "      <td>low</td>\n",
       "      <td>0.72</td>\n",
       "      <td>0.87</td>\n",
       "    </tr>\n",
       "    <tr>\n",
       "      <th>4</th>\n",
       "      <td>2</td>\n",
       "      <td>159</td>\n",
       "      <td>3</td>\n",
       "      <td>0</td>\n",
       "      <td>1</td>\n",
       "      <td>0</td>\n",
       "      <td>sales</td>\n",
       "      <td>low</td>\n",
       "      <td>0.37</td>\n",
       "      <td>0.52</td>\n",
       "    </tr>\n",
       "  </tbody>\n",
       "</table>\n",
       "</div>"
      ],
      "text/plain": [
       "   number_project  average_montly_hours  time_spend_company  Work_accident  \\\n",
       "0               2                   157                   3              0   \n",
       "1               5                   262                   6              0   \n",
       "2               7                   272                   4              0   \n",
       "3               5                   223                   5              0   \n",
       "4               2                   159                   3              0   \n",
       "\n",
       "   left  promotion_last_5years department  salary  satisfaction_level  \\\n",
       "0     1                      0      sales     low                0.38   \n",
       "1     1                      0      sales  medium                0.80   \n",
       "2     1                      0      sales  medium                0.11   \n",
       "3     1                      0      sales     low                0.72   \n",
       "4     1                      0      sales     low                0.37   \n",
       "\n",
       "   last_evaluation  \n",
       "0             0.53  \n",
       "1             0.86  \n",
       "2             0.88  \n",
       "3             0.87  \n",
       "4             0.52  "
      ]
     },
     "execution_count": 179,
     "metadata": {},
     "output_type": "execute_result"
    }
   ],
   "source": [
    "data.head()"
   ]
  },
  {
   "cell_type": "code",
   "execution_count": 180,
   "metadata": {},
   "outputs": [
    {
     "data": {
      "text/html": [
       "<div>\n",
       "<style scoped>\n",
       "    .dataframe tbody tr th:only-of-type {\n",
       "        vertical-align: middle;\n",
       "    }\n",
       "\n",
       "    .dataframe tbody tr th {\n",
       "        vertical-align: top;\n",
       "    }\n",
       "\n",
       "    .dataframe thead th {\n",
       "        text-align: right;\n",
       "    }\n",
       "</style>\n",
       "<table border=\"1\" class=\"dataframe\">\n",
       "  <thead>\n",
       "    <tr style=\"text-align: right;\">\n",
       "      <th></th>\n",
       "      <th>number_project</th>\n",
       "      <th>average_montly_hours</th>\n",
       "      <th>time_spend_company</th>\n",
       "      <th>Work_accident</th>\n",
       "      <th>left</th>\n",
       "      <th>promotion_last_5years</th>\n",
       "      <th>department</th>\n",
       "      <th>salary</th>\n",
       "      <th>satisfaction_level</th>\n",
       "      <th>last_evaluation</th>\n",
       "    </tr>\n",
       "  </thead>\n",
       "  <tbody>\n",
       "    <tr>\n",
       "      <th>0</th>\n",
       "      <td>2</td>\n",
       "      <td>157</td>\n",
       "      <td>3</td>\n",
       "      <td>0</td>\n",
       "      <td>1</td>\n",
       "      <td>0</td>\n",
       "      <td>7</td>\n",
       "      <td>low</td>\n",
       "      <td>0.38</td>\n",
       "      <td>0.53</td>\n",
       "    </tr>\n",
       "    <tr>\n",
       "      <th>1</th>\n",
       "      <td>5</td>\n",
       "      <td>262</td>\n",
       "      <td>6</td>\n",
       "      <td>0</td>\n",
       "      <td>1</td>\n",
       "      <td>0</td>\n",
       "      <td>7</td>\n",
       "      <td>medium</td>\n",
       "      <td>0.80</td>\n",
       "      <td>0.86</td>\n",
       "    </tr>\n",
       "    <tr>\n",
       "      <th>2</th>\n",
       "      <td>7</td>\n",
       "      <td>272</td>\n",
       "      <td>4</td>\n",
       "      <td>0</td>\n",
       "      <td>1</td>\n",
       "      <td>0</td>\n",
       "      <td>7</td>\n",
       "      <td>medium</td>\n",
       "      <td>0.11</td>\n",
       "      <td>0.88</td>\n",
       "    </tr>\n",
       "    <tr>\n",
       "      <th>3</th>\n",
       "      <td>5</td>\n",
       "      <td>223</td>\n",
       "      <td>5</td>\n",
       "      <td>0</td>\n",
       "      <td>1</td>\n",
       "      <td>0</td>\n",
       "      <td>7</td>\n",
       "      <td>low</td>\n",
       "      <td>0.72</td>\n",
       "      <td>0.87</td>\n",
       "    </tr>\n",
       "    <tr>\n",
       "      <th>4</th>\n",
       "      <td>2</td>\n",
       "      <td>159</td>\n",
       "      <td>3</td>\n",
       "      <td>0</td>\n",
       "      <td>1</td>\n",
       "      <td>0</td>\n",
       "      <td>7</td>\n",
       "      <td>low</td>\n",
       "      <td>0.37</td>\n",
       "      <td>0.52</td>\n",
       "    </tr>\n",
       "  </tbody>\n",
       "</table>\n",
       "</div>"
      ],
      "text/plain": [
       "   number_project  average_montly_hours  time_spend_company  Work_accident  \\\n",
       "0               2                   157                   3              0   \n",
       "1               5                   262                   6              0   \n",
       "2               7                   272                   4              0   \n",
       "3               5                   223                   5              0   \n",
       "4               2                   159                   3              0   \n",
       "\n",
       "   left  promotion_last_5years  department  salary  satisfaction_level  \\\n",
       "0     1                      0           7     low                0.38   \n",
       "1     1                      0           7  medium                0.80   \n",
       "2     1                      0           7  medium                0.11   \n",
       "3     1                      0           7     low                0.72   \n",
       "4     1                      0           7     low                0.37   \n",
       "\n",
       "   last_evaluation  \n",
       "0             0.53  \n",
       "1             0.86  \n",
       "2             0.88  \n",
       "3             0.87  \n",
       "4             0.52  "
      ]
     },
     "execution_count": 180,
     "metadata": {},
     "output_type": "execute_result"
    }
   ],
   "source": [
    "from sklearn.preprocessing import LabelEncoder\n",
    "lb= LabelEncoder()\n",
    "data[\"department\"]=lb.fit_transform(data[\"department\"])\n",
    "data.head()"
   ]
  },
  {
   "cell_type": "code",
   "execution_count": 181,
   "metadata": {},
   "outputs": [
    {
     "data": {
      "text/plain": [
       "array([7, 2, 3, 9, 8, 4, 0, 6, 5, 1])"
      ]
     },
     "execution_count": 181,
     "metadata": {},
     "output_type": "execute_result"
    }
   ],
   "source": [
    "data[\"department\"].unique()  #Nominal categorical variable has been processed with LabelEncoding"
   ]
  },
  {
   "cell_type": "code",
   "execution_count": 182,
   "metadata": {},
   "outputs": [],
   "source": [
    "data[\"salary\"]= data[\"salary\"].map({\"low\":0,\"medium\":1,\"high\":2})"
   ]
  },
  {
   "cell_type": "code",
   "execution_count": 183,
   "metadata": {},
   "outputs": [
    {
     "data": {
      "text/html": [
       "<div>\n",
       "<style scoped>\n",
       "    .dataframe tbody tr th:only-of-type {\n",
       "        vertical-align: middle;\n",
       "    }\n",
       "\n",
       "    .dataframe tbody tr th {\n",
       "        vertical-align: top;\n",
       "    }\n",
       "\n",
       "    .dataframe thead th {\n",
       "        text-align: right;\n",
       "    }\n",
       "</style>\n",
       "<table border=\"1\" class=\"dataframe\">\n",
       "  <thead>\n",
       "    <tr style=\"text-align: right;\">\n",
       "      <th></th>\n",
       "      <th>number_project</th>\n",
       "      <th>average_montly_hours</th>\n",
       "      <th>time_spend_company</th>\n",
       "      <th>Work_accident</th>\n",
       "      <th>left</th>\n",
       "      <th>promotion_last_5years</th>\n",
       "      <th>department</th>\n",
       "      <th>salary</th>\n",
       "      <th>satisfaction_level</th>\n",
       "      <th>last_evaluation</th>\n",
       "    </tr>\n",
       "  </thead>\n",
       "  <tbody>\n",
       "    <tr>\n",
       "      <th>0</th>\n",
       "      <td>2</td>\n",
       "      <td>157</td>\n",
       "      <td>3</td>\n",
       "      <td>0</td>\n",
       "      <td>1</td>\n",
       "      <td>0</td>\n",
       "      <td>7</td>\n",
       "      <td>0</td>\n",
       "      <td>0.38</td>\n",
       "      <td>0.53</td>\n",
       "    </tr>\n",
       "    <tr>\n",
       "      <th>1</th>\n",
       "      <td>5</td>\n",
       "      <td>262</td>\n",
       "      <td>6</td>\n",
       "      <td>0</td>\n",
       "      <td>1</td>\n",
       "      <td>0</td>\n",
       "      <td>7</td>\n",
       "      <td>1</td>\n",
       "      <td>0.80</td>\n",
       "      <td>0.86</td>\n",
       "    </tr>\n",
       "    <tr>\n",
       "      <th>2</th>\n",
       "      <td>7</td>\n",
       "      <td>272</td>\n",
       "      <td>4</td>\n",
       "      <td>0</td>\n",
       "      <td>1</td>\n",
       "      <td>0</td>\n",
       "      <td>7</td>\n",
       "      <td>1</td>\n",
       "      <td>0.11</td>\n",
       "      <td>0.88</td>\n",
       "    </tr>\n",
       "    <tr>\n",
       "      <th>3</th>\n",
       "      <td>5</td>\n",
       "      <td>223</td>\n",
       "      <td>5</td>\n",
       "      <td>0</td>\n",
       "      <td>1</td>\n",
       "      <td>0</td>\n",
       "      <td>7</td>\n",
       "      <td>0</td>\n",
       "      <td>0.72</td>\n",
       "      <td>0.87</td>\n",
       "    </tr>\n",
       "    <tr>\n",
       "      <th>4</th>\n",
       "      <td>2</td>\n",
       "      <td>159</td>\n",
       "      <td>3</td>\n",
       "      <td>0</td>\n",
       "      <td>1</td>\n",
       "      <td>0</td>\n",
       "      <td>7</td>\n",
       "      <td>0</td>\n",
       "      <td>0.37</td>\n",
       "      <td>0.52</td>\n",
       "    </tr>\n",
       "  </tbody>\n",
       "</table>\n",
       "</div>"
      ],
      "text/plain": [
       "   number_project  average_montly_hours  time_spend_company  Work_accident  \\\n",
       "0               2                   157                   3              0   \n",
       "1               5                   262                   6              0   \n",
       "2               7                   272                   4              0   \n",
       "3               5                   223                   5              0   \n",
       "4               2                   159                   3              0   \n",
       "\n",
       "   left  promotion_last_5years  department  salary  satisfaction_level  \\\n",
       "0     1                      0           7       0                0.38   \n",
       "1     1                      0           7       1                0.80   \n",
       "2     1                      0           7       1                0.11   \n",
       "3     1                      0           7       0                0.72   \n",
       "4     1                      0           7       0                0.37   \n",
       "\n",
       "   last_evaluation  \n",
       "0             0.53  \n",
       "1             0.86  \n",
       "2             0.88  \n",
       "3             0.87  \n",
       "4             0.52  "
      ]
     },
     "execution_count": 183,
     "metadata": {},
     "output_type": "execute_result"
    }
   ],
   "source": [
    "data.head()  #Ordinal categorical variable has been processed with mapping"
   ]
  },
  {
   "cell_type": "code",
   "execution_count": 184,
   "metadata": {},
   "outputs": [],
   "source": [
    "X= data.drop([\"left\"],axis=1)"
   ]
  },
  {
   "cell_type": "code",
   "execution_count": 185,
   "metadata": {},
   "outputs": [
    {
     "data": {
      "text/html": [
       "<div>\n",
       "<style scoped>\n",
       "    .dataframe tbody tr th:only-of-type {\n",
       "        vertical-align: middle;\n",
       "    }\n",
       "\n",
       "    .dataframe tbody tr th {\n",
       "        vertical-align: top;\n",
       "    }\n",
       "\n",
       "    .dataframe thead th {\n",
       "        text-align: right;\n",
       "    }\n",
       "</style>\n",
       "<table border=\"1\" class=\"dataframe\">\n",
       "  <thead>\n",
       "    <tr style=\"text-align: right;\">\n",
       "      <th></th>\n",
       "      <th>number_project</th>\n",
       "      <th>average_montly_hours</th>\n",
       "      <th>time_spend_company</th>\n",
       "      <th>Work_accident</th>\n",
       "      <th>promotion_last_5years</th>\n",
       "      <th>department</th>\n",
       "      <th>salary</th>\n",
       "      <th>satisfaction_level</th>\n",
       "      <th>last_evaluation</th>\n",
       "    </tr>\n",
       "  </thead>\n",
       "  <tbody>\n",
       "    <tr>\n",
       "      <th>0</th>\n",
       "      <td>2</td>\n",
       "      <td>157</td>\n",
       "      <td>3</td>\n",
       "      <td>0</td>\n",
       "      <td>0</td>\n",
       "      <td>7</td>\n",
       "      <td>0</td>\n",
       "      <td>0.38</td>\n",
       "      <td>0.53</td>\n",
       "    </tr>\n",
       "    <tr>\n",
       "      <th>1</th>\n",
       "      <td>5</td>\n",
       "      <td>262</td>\n",
       "      <td>6</td>\n",
       "      <td>0</td>\n",
       "      <td>0</td>\n",
       "      <td>7</td>\n",
       "      <td>1</td>\n",
       "      <td>0.80</td>\n",
       "      <td>0.86</td>\n",
       "    </tr>\n",
       "    <tr>\n",
       "      <th>2</th>\n",
       "      <td>7</td>\n",
       "      <td>272</td>\n",
       "      <td>4</td>\n",
       "      <td>0</td>\n",
       "      <td>0</td>\n",
       "      <td>7</td>\n",
       "      <td>1</td>\n",
       "      <td>0.11</td>\n",
       "      <td>0.88</td>\n",
       "    </tr>\n",
       "    <tr>\n",
       "      <th>3</th>\n",
       "      <td>5</td>\n",
       "      <td>223</td>\n",
       "      <td>5</td>\n",
       "      <td>0</td>\n",
       "      <td>0</td>\n",
       "      <td>7</td>\n",
       "      <td>0</td>\n",
       "      <td>0.72</td>\n",
       "      <td>0.87</td>\n",
       "    </tr>\n",
       "    <tr>\n",
       "      <th>4</th>\n",
       "      <td>2</td>\n",
       "      <td>159</td>\n",
       "      <td>3</td>\n",
       "      <td>0</td>\n",
       "      <td>0</td>\n",
       "      <td>7</td>\n",
       "      <td>0</td>\n",
       "      <td>0.37</td>\n",
       "      <td>0.52</td>\n",
       "    </tr>\n",
       "  </tbody>\n",
       "</table>\n",
       "</div>"
      ],
      "text/plain": [
       "   number_project  average_montly_hours  time_spend_company  Work_accident  \\\n",
       "0               2                   157                   3              0   \n",
       "1               5                   262                   6              0   \n",
       "2               7                   272                   4              0   \n",
       "3               5                   223                   5              0   \n",
       "4               2                   159                   3              0   \n",
       "\n",
       "   promotion_last_5years  department  salary  satisfaction_level  \\\n",
       "0                      0           7       0                0.38   \n",
       "1                      0           7       1                0.80   \n",
       "2                      0           7       1                0.11   \n",
       "3                      0           7       0                0.72   \n",
       "4                      0           7       0                0.37   \n",
       "\n",
       "   last_evaluation  \n",
       "0             0.53  \n",
       "1             0.86  \n",
       "2             0.88  \n",
       "3             0.87  \n",
       "4             0.52  "
      ]
     },
     "execution_count": 185,
     "metadata": {},
     "output_type": "execute_result"
    }
   ],
   "source": [
    "X.head()"
   ]
  },
  {
   "cell_type": "code",
   "execution_count": 190,
   "metadata": {},
   "outputs": [
    {
     "data": {
      "text/plain": [
       "(14999, 9)"
      ]
     },
     "execution_count": 190,
     "metadata": {},
     "output_type": "execute_result"
    }
   ],
   "source": [
    "X.shape"
   ]
  },
  {
   "cell_type": "code",
   "execution_count": 193,
   "metadata": {},
   "outputs": [],
   "source": [
    "y= data.iloc[:,4]"
   ]
  },
  {
   "cell_type": "code",
   "execution_count": 196,
   "metadata": {},
   "outputs": [
    {
     "data": {
      "text/plain": [
       "0    11428\n",
       "1     3571\n",
       "Name: left, dtype: int64"
      ]
     },
     "execution_count": 196,
     "metadata": {},
     "output_type": "execute_result"
    }
   ],
   "source": [
    "y.value_counts()"
   ]
  },
  {
   "cell_type": "code",
   "execution_count": 197,
   "metadata": {},
   "outputs": [],
   "source": [
    "from sklearn.model_selection import train_test_split"
   ]
  },
  {
   "cell_type": "code",
   "execution_count": 198,
   "metadata": {},
   "outputs": [],
   "source": [
    "X_train,X_test,y_train,y_test= train_test_split(X,y,test_size=0.2,random_state=41)"
   ]
  },
  {
   "cell_type": "code",
   "execution_count": 199,
   "metadata": {},
   "outputs": [
    {
     "data": {
      "text/plain": [
       "((11999, 9), (3000, 9), (11999,), (3000,))"
      ]
     },
     "execution_count": 199,
     "metadata": {},
     "output_type": "execute_result"
    }
   ],
   "source": [
    "X_train.shape,X_test.shape,y_train.shape,y_test.shape"
   ]
  },
  {
   "cell_type": "code",
   "execution_count": 207,
   "metadata": {},
   "outputs": [],
   "source": [
    "import tensorflow as tf\n",
    "from tensorflow import keras\n",
    "from tensorflow.keras import Sequential\n",
    "from tensorflow.keras.layers import Dense,Dropout"
   ]
  },
  {
   "cell_type": "code",
   "execution_count": 208,
   "metadata": {},
   "outputs": [],
   "source": [
    "model= Sequential()\n",
    "model.add(Dense(16,activation=\"relu\",input_dim=(9)))\n",
    "model.add(Dropout(0.2))\n",
    "model.add(Dense(32,activation=\"relu\"))\n",
    "model.add(Dropout(0.3))\n",
    "model.add(Dense(32,activation=\"relu\"))\n",
    "model.add(Dropout(0.3))\n",
    "model.add(Dense(1,activation=\"sigmoid\"))"
   ]
  },
  {
   "cell_type": "code",
   "execution_count": 209,
   "metadata": {},
   "outputs": [
    {
     "name": "stdout",
     "output_type": "stream",
     "text": [
      "Model: \"sequential_2\"\n",
      "_________________________________________________________________\n",
      "Layer (type)                 Output Shape              Param #   \n",
      "=================================================================\n",
      "dense_8 (Dense)              (None, 16)                160       \n",
      "_________________________________________________________________\n",
      "dropout_3 (Dropout)          (None, 16)                0         \n",
      "_________________________________________________________________\n",
      "dense_9 (Dense)              (None, 32)                544       \n",
      "_________________________________________________________________\n",
      "dropout_4 (Dropout)          (None, 32)                0         \n",
      "_________________________________________________________________\n",
      "dense_10 (Dense)             (None, 32)                1056      \n",
      "_________________________________________________________________\n",
      "dropout_5 (Dropout)          (None, 32)                0         \n",
      "_________________________________________________________________\n",
      "dense_11 (Dense)             (None, 1)                 33        \n",
      "=================================================================\n",
      "Total params: 1,793\n",
      "Trainable params: 1,793\n",
      "Non-trainable params: 0\n",
      "_________________________________________________________________\n"
     ]
    }
   ],
   "source": [
    "model.summary()"
   ]
  },
  {
   "cell_type": "code",
   "execution_count": 210,
   "metadata": {},
   "outputs": [
    {
     "name": "stdout",
     "output_type": "stream",
     "text": [
      "WARNING:tensorflow:From c:\\python3.6\\lib\\site-packages\\tensorflow\\python\\ops\\nn_impl.py:180: add_dispatch_support.<locals>.wrapper (from tensorflow.python.ops.array_ops) is deprecated and will be removed in a future version.\n",
      "Instructions for updating:\n",
      "Use tf.where in 2.0, which has the same broadcast rule as np.where\n"
     ]
    }
   ],
   "source": [
    "model.compile(loss=\"binary_crossentropy\",optimizer=\"adam\",metrics=[\"accuracy\"])"
   ]
  },
  {
   "cell_type": "code",
   "execution_count": 213,
   "metadata": {},
   "outputs": [
    {
     "name": "stdout",
     "output_type": "stream",
     "text": [
      "Train on 11999 samples, validate on 3000 samples\n",
      "Epoch 1/100\n",
      "11999/11999 [==============================] - 1s 112us/sample - loss: 0.2739 - acc: 0.8796 - val_loss: 0.2534 - val_acc: 0.9050\n",
      "Epoch 2/100\n",
      "11999/11999 [==============================] - 1s 118us/sample - loss: 0.2841 - acc: 0.8744 - val_loss: 0.2829 - val_acc: 0.8713\n",
      "Epoch 3/100\n",
      "11999/11999 [==============================] - 1s 117us/sample - loss: 0.2832 - acc: 0.8756 - val_loss: 0.3100 - val_acc: 0.8867\n",
      "Epoch 4/100\n",
      "11999/11999 [==============================] - 1s 116us/sample - loss: 0.2774 - acc: 0.8785 - val_loss: 0.2410 - val_acc: 0.9080\n",
      "Epoch 5/100\n",
      "11999/11999 [==============================] - 1s 116us/sample - loss: 0.2804 - acc: 0.8787 - val_loss: 0.2469 - val_acc: 0.9057\n",
      "Epoch 6/100\n",
      "11999/11999 [==============================] - 1s 115us/sample - loss: 0.2861 - acc: 0.8760 - val_loss: 0.2313 - val_acc: 0.9153\n",
      "Epoch 7/100\n",
      "11999/11999 [==============================] - 1s 118us/sample - loss: 0.2778 - acc: 0.8809 - val_loss: 0.2512 - val_acc: 0.8977\n",
      "Epoch 8/100\n",
      "11999/11999 [==============================] - 1s 113us/sample - loss: 0.2935 - acc: 0.8676 - val_loss: 0.3060 - val_acc: 0.8423\n",
      "Epoch 9/100\n",
      "11999/11999 [==============================] - 1s 113us/sample - loss: 0.2838 - acc: 0.8724 - val_loss: 0.2579 - val_acc: 0.9057\n",
      "Epoch 10/100\n",
      "11999/11999 [==============================] - 1s 100us/sample - loss: 0.2917 - acc: 0.8729 - val_loss: 0.2796 - val_acc: 0.8757\n",
      "Epoch 11/100\n",
      "11999/11999 [==============================] - 1s 117us/sample - loss: 0.2770 - acc: 0.8799 - val_loss: 0.2655 - val_acc: 0.8860\n",
      "Epoch 12/100\n",
      "11999/11999 [==============================] - 1s 117us/sample - loss: 0.2807 - acc: 0.8783 - val_loss: 0.2581 - val_acc: 0.8993\n",
      "Epoch 13/100\n",
      "11999/11999 [==============================] - 1s 115us/sample - loss: 0.2797 - acc: 0.8776 - val_loss: 0.2562 - val_acc: 0.9043\n",
      "Epoch 14/100\n",
      "11999/11999 [==============================] - 1s 118us/sample - loss: 0.2793 - acc: 0.8770 - val_loss: 0.2430 - val_acc: 0.9100\n",
      "Epoch 15/100\n",
      "11999/11999 [==============================] - 1s 112us/sample - loss: 0.2792 - acc: 0.8798 - val_loss: 0.2412 - val_acc: 0.9093\n",
      "Epoch 16/100\n",
      "11999/11999 [==============================] - 1s 115us/sample - loss: 0.2787 - acc: 0.8792 - val_loss: 0.2816 - val_acc: 0.8750\n",
      "Epoch 17/100\n",
      "11999/11999 [==============================] - 1s 112us/sample - loss: 0.2849 - acc: 0.8747 - val_loss: 0.3244 - val_acc: 0.8173\n",
      "Epoch 18/100\n",
      "11999/11999 [==============================] - 1s 117us/sample - loss: 0.2861 - acc: 0.8720 - val_loss: 0.2521 - val_acc: 0.9027\n",
      "Epoch 19/100\n",
      "11999/11999 [==============================] - 1s 117us/sample - loss: 0.2844 - acc: 0.8783 - val_loss: 0.2607 - val_acc: 0.9030\n",
      "Epoch 20/100\n",
      "11999/11999 [==============================] - 1s 114us/sample - loss: 0.2801 - acc: 0.8782 - val_loss: 0.2925 - val_acc: 0.8587\n",
      "Epoch 21/100\n",
      "11999/11999 [==============================] - 1s 119us/sample - loss: 0.2829 - acc: 0.8729 - val_loss: 0.2429 - val_acc: 0.9067\n",
      "Epoch 22/100\n",
      "11999/11999 [==============================] - 1s 96us/sample - loss: 0.2718 - acc: 0.8812 - val_loss: 0.2349 - val_acc: 0.9100\n",
      "Epoch 23/100\n",
      "11999/11999 [==============================] - 1s 97us/sample - loss: 0.2782 - acc: 0.8765 - val_loss: 0.2380 - val_acc: 0.9103\n",
      "Epoch 24/100\n",
      "11999/11999 [==============================] - 1s 116us/sample - loss: 0.2819 - acc: 0.8765 - val_loss: 0.2239 - val_acc: 0.9190\n",
      "Epoch 25/100\n",
      "11999/11999 [==============================] - 1s 116us/sample - loss: 0.2770 - acc: 0.8809 - val_loss: 0.2365 - val_acc: 0.9127\n",
      "Epoch 26/100\n",
      "11999/11999 [==============================] - 1s 118us/sample - loss: 0.2758 - acc: 0.8797 - val_loss: 0.2366 - val_acc: 0.9103\n",
      "Epoch 27/100\n",
      "11999/11999 [==============================] - 1s 113us/sample - loss: 0.2875 - acc: 0.8734 - val_loss: 0.2574 - val_acc: 0.8920\n",
      "Epoch 28/100\n",
      "11999/11999 [==============================] - 1s 103us/sample - loss: 0.2762 - acc: 0.8807 - val_loss: 0.2466 - val_acc: 0.9093\n",
      "Epoch 29/100\n",
      "11999/11999 [==============================] - 1s 106us/sample - loss: 0.2838 - acc: 0.8782 - val_loss: 0.2689 - val_acc: 0.9047\n",
      "Epoch 30/100\n",
      "11999/11999 [==============================] - 1s 92us/sample - loss: 0.2812 - acc: 0.8762 - val_loss: 0.2367 - val_acc: 0.9103\n",
      "Epoch 31/100\n",
      "11999/11999 [==============================] - 1s 95us/sample - loss: 0.2771 - acc: 0.8827 - val_loss: 0.2634 - val_acc: 0.8980\n",
      "Epoch 32/100\n",
      "11999/11999 [==============================] - 1s 94us/sample - loss: 0.2873 - acc: 0.8744 - val_loss: 0.2306 - val_acc: 0.9160\n",
      "Epoch 33/100\n",
      "11999/11999 [==============================] - 1s 103us/sample - loss: 0.2762 - acc: 0.8821 - val_loss: 0.2358 - val_acc: 0.9130\n",
      "Epoch 34/100\n",
      "11999/11999 [==============================] - 1s 113us/sample - loss: 0.2788 - acc: 0.8784 - val_loss: 0.2339 - val_acc: 0.9107\n",
      "Epoch 35/100\n",
      "11999/11999 [==============================] - 1s 111us/sample - loss: 0.2762 - acc: 0.8835 - val_loss: 0.2509 - val_acc: 0.9040\n",
      "Epoch 36/100\n",
      "11999/11999 [==============================] - 1s 113us/sample - loss: 0.2774 - acc: 0.8817 - val_loss: 0.2319 - val_acc: 0.9197\n",
      "Epoch 37/100\n",
      "11999/11999 [==============================] - 1s 115us/sample - loss: 0.2754 - acc: 0.8804 - val_loss: 0.2357 - val_acc: 0.9137\n",
      "Epoch 38/100\n",
      "11999/11999 [==============================] - 1s 109us/sample - loss: 0.2741 - acc: 0.8826 - val_loss: 0.2334 - val_acc: 0.9160\n",
      "Epoch 39/100\n",
      "11999/11999 [==============================] - 1s 112us/sample - loss: 0.2836 - acc: 0.8780 - val_loss: 0.2446 - val_acc: 0.9113\n",
      "Epoch 40/100\n",
      "11999/11999 [==============================] - 1s 117us/sample - loss: 0.2809 - acc: 0.8765 - val_loss: 0.2677 - val_acc: 0.8860\n",
      "Epoch 41/100\n",
      "11999/11999 [==============================] - 1s 114us/sample - loss: 0.2700 - acc: 0.8851 - val_loss: 0.2597 - val_acc: 0.9020\n",
      "Epoch 42/100\n",
      "11999/11999 [==============================] - 1s 113us/sample - loss: 0.2794 - acc: 0.8754 - val_loss: 0.2780 - val_acc: 0.8957\n",
      "Epoch 43/100\n",
      "11999/11999 [==============================] - 1s 116us/sample - loss: 0.2866 - acc: 0.8728 - val_loss: 0.2549 - val_acc: 0.9023\n",
      "Epoch 44/100\n",
      "11999/11999 [==============================] - 1s 116us/sample - loss: 0.2779 - acc: 0.8798 - val_loss: 0.2320 - val_acc: 0.9073\n",
      "Epoch 45/100\n",
      "11999/11999 [==============================] - 1s 119us/sample - loss: 0.2826 - acc: 0.8777 - val_loss: 0.2834 - val_acc: 0.8717\n",
      "Epoch 46/100\n",
      "11999/11999 [==============================] - 1s 114us/sample - loss: 0.2736 - acc: 0.8793 - val_loss: 0.2608 - val_acc: 0.8927\n",
      "Epoch 47/100\n",
      "11999/11999 [==============================] - 1s 115us/sample - loss: 0.2708 - acc: 0.8823 - val_loss: 0.2314 - val_acc: 0.9130\n",
      "Epoch 48/100\n",
      "11999/11999 [==============================] - 1s 112us/sample - loss: 0.2876 - acc: 0.8765 - val_loss: 0.2303 - val_acc: 0.9183\n",
      "Epoch 49/100\n",
      "11999/11999 [==============================] - 1s 115us/sample - loss: 0.2803 - acc: 0.8771 - val_loss: 0.2327 - val_acc: 0.9097\n",
      "Epoch 50/100\n",
      "11999/11999 [==============================] - 1s 112us/sample - loss: 0.2746 - acc: 0.8817 - val_loss: 0.2802 - val_acc: 0.8860\n",
      "Epoch 51/100\n",
      "11999/11999 [==============================] - 1s 115us/sample - loss: 0.2713 - acc: 0.8815 - val_loss: 0.2319 - val_acc: 0.9123\n",
      "Epoch 52/100\n",
      "11999/11999 [==============================] - 1s 115us/sample - loss: 0.2701 - acc: 0.8848 - val_loss: 0.2533 - val_acc: 0.9053\n",
      "Epoch 53/100\n",
      "11999/11999 [==============================] - 1s 116us/sample - loss: 0.2733 - acc: 0.8814 - val_loss: 0.2339 - val_acc: 0.9063\n",
      "Epoch 54/100\n",
      "11999/11999 [==============================] - 1s 113us/sample - loss: 0.2688 - acc: 0.8822 - val_loss: 0.2320 - val_acc: 0.9117\n",
      "Epoch 55/100\n",
      "11999/11999 [==============================] - 1s 106us/sample - loss: 0.2741 - acc: 0.8781 - val_loss: 0.2419 - val_acc: 0.9110\n",
      "Epoch 56/100\n",
      "11999/11999 [==============================] - 1s 112us/sample - loss: 0.2785 - acc: 0.8748 - val_loss: 0.2556 - val_acc: 0.9043\n",
      "Epoch 57/100\n",
      "11999/11999 [==============================] - 1s 114us/sample - loss: 0.2764 - acc: 0.8806 - val_loss: 0.2294 - val_acc: 0.9143\n",
      "Epoch 58/100\n"
     ]
    },
    {
     "name": "stdout",
     "output_type": "stream",
     "text": [
      "11999/11999 [==============================] - 1s 120us/sample - loss: 0.2829 - acc: 0.8754 - val_loss: 0.2598 - val_acc: 0.9017\n",
      "Epoch 59/100\n",
      "11999/11999 [==============================] - 1s 119us/sample - loss: 0.2850 - acc: 0.8717 - val_loss: 0.2326 - val_acc: 0.9153\n",
      "Epoch 60/100\n",
      "11999/11999 [==============================] - 1s 119us/sample - loss: 0.2819 - acc: 0.8788 - val_loss: 0.2586 - val_acc: 0.9063\n",
      "Epoch 61/100\n",
      "11999/11999 [==============================] - 1s 117us/sample - loss: 0.2696 - acc: 0.8839 - val_loss: 0.2492 - val_acc: 0.9023\n",
      "Epoch 62/100\n",
      "11999/11999 [==============================] - 1s 118us/sample - loss: 0.2768 - acc: 0.8791 - val_loss: 0.2514 - val_acc: 0.9083\n",
      "Epoch 63/100\n",
      "11999/11999 [==============================] - 1s 114us/sample - loss: 0.2786 - acc: 0.8783 - val_loss: 0.2298 - val_acc: 0.9090\n",
      "Epoch 64/100\n",
      "11999/11999 [==============================] - 1s 117us/sample - loss: 0.2725 - acc: 0.8805 - val_loss: 0.2761 - val_acc: 0.8800\n",
      "Epoch 65/100\n",
      "11999/11999 [==============================] - 1s 120us/sample - loss: 0.2768 - acc: 0.8815 - val_loss: 0.2399 - val_acc: 0.9050\n",
      "Epoch 66/100\n",
      "11999/11999 [==============================] - 1s 120us/sample - loss: 0.2791 - acc: 0.8769 - val_loss: 0.2544 - val_acc: 0.8893\n",
      "Epoch 67/100\n",
      "11999/11999 [==============================] - 1s 118us/sample - loss: 0.2825 - acc: 0.8782 - val_loss: 0.2627 - val_acc: 0.8970\n",
      "Epoch 68/100\n",
      "11999/11999 [==============================] - 1s 118us/sample - loss: 0.2753 - acc: 0.8805 - val_loss: 0.2863 - val_acc: 0.8667\n",
      "Epoch 69/100\n",
      "11999/11999 [==============================] - 1s 118us/sample - loss: 0.2776 - acc: 0.8745 - val_loss: 0.2390 - val_acc: 0.9103\n",
      "Epoch 70/100\n",
      "11999/11999 [==============================] - 1s 119us/sample - loss: 0.2731 - acc: 0.8811 - val_loss: 0.2484 - val_acc: 0.9077\n",
      "Epoch 71/100\n",
      "11999/11999 [==============================] - 1s 120us/sample - loss: 0.2720 - acc: 0.8836 - val_loss: 0.2530 - val_acc: 0.9057\n",
      "Epoch 72/100\n",
      "11999/11999 [==============================] - 1s 118us/sample - loss: 0.2856 - acc: 0.8732 - val_loss: 0.2264 - val_acc: 0.9203\n",
      "Epoch 73/100\n",
      "11999/11999 [==============================] - 1s 119us/sample - loss: 0.2770 - acc: 0.8805 - val_loss: 0.2489 - val_acc: 0.9080\n",
      "Epoch 74/100\n",
      "11999/11999 [==============================] - 1s 118us/sample - loss: 0.2823 - acc: 0.8759 - val_loss: 0.2425 - val_acc: 0.9050\n",
      "Epoch 75/100\n",
      "11999/11999 [==============================] - 1s 116us/sample - loss: 0.2718 - acc: 0.8826 - val_loss: 0.2399 - val_acc: 0.9093\n",
      "Epoch 76/100\n",
      "11999/11999 [==============================] - 1s 117us/sample - loss: 0.2779 - acc: 0.8805 - val_loss: 0.2773 - val_acc: 0.8887\n",
      "Epoch 77/100\n",
      "11999/11999 [==============================] - 1s 107us/sample - loss: 0.2802 - acc: 0.8771 - val_loss: 0.2462 - val_acc: 0.9093\n",
      "Epoch 78/100\n",
      "11999/11999 [==============================] - 1s 99us/sample - loss: 0.2721 - acc: 0.8819 - val_loss: 0.2799 - val_acc: 0.8857\n",
      "Epoch 79/100\n",
      "11999/11999 [==============================] - 1s 96us/sample - loss: 0.2783 - acc: 0.8792 - val_loss: 0.2648 - val_acc: 0.8990\n",
      "Epoch 80/100\n",
      "11999/11999 [==============================] - 1s 103us/sample - loss: 0.2983 - acc: 0.8509 - val_loss: 0.2433 - val_acc: 0.9013\n",
      "Epoch 81/100\n",
      "11999/11999 [==============================] - 1s 112us/sample - loss: 0.2717 - acc: 0.8828 - val_loss: 0.2311 - val_acc: 0.9073\n",
      "Epoch 82/100\n",
      "11999/11999 [==============================] - 1s 117us/sample - loss: 0.2731 - acc: 0.8818 - val_loss: 0.2566 - val_acc: 0.8980\n",
      "Epoch 83/100\n",
      "11999/11999 [==============================] - 1s 115us/sample - loss: 0.2818 - acc: 0.8788 - val_loss: 0.2612 - val_acc: 0.8933\n",
      "Epoch 84/100\n",
      "11999/11999 [==============================] - 1s 119us/sample - loss: 0.2741 - acc: 0.8790 - val_loss: 0.2509 - val_acc: 0.9027\n",
      "Epoch 85/100\n",
      "11999/11999 [==============================] - 1s 118us/sample - loss: 0.2685 - acc: 0.8827 - val_loss: 0.2347 - val_acc: 0.9123\n",
      "Epoch 86/100\n",
      "11999/11999 [==============================] - 1s 116us/sample - loss: 0.2769 - acc: 0.8832 - val_loss: 0.2737 - val_acc: 0.8787\n",
      "Epoch 87/100\n",
      "11999/11999 [==============================] - 1s 121us/sample - loss: 0.2795 - acc: 0.8773 - val_loss: 0.2480 - val_acc: 0.9083\n",
      "Epoch 88/100\n",
      "11999/11999 [==============================] - 1s 120us/sample - loss: 0.2709 - acc: 0.8853 - val_loss: 0.2412 - val_acc: 0.9090\n",
      "Epoch 89/100\n",
      "11999/11999 [==============================] - 1s 116us/sample - loss: 0.2757 - acc: 0.8768 - val_loss: 0.2372 - val_acc: 0.9113\n",
      "Epoch 90/100\n",
      "11999/11999 [==============================] - 1s 116us/sample - loss: 0.2763 - acc: 0.8797 - val_loss: 0.2626 - val_acc: 0.9050\n",
      "Epoch 91/100\n",
      "11999/11999 [==============================] - 1s 117us/sample - loss: 0.2769 - acc: 0.8769 - val_loss: 0.2519 - val_acc: 0.9077\n",
      "Epoch 92/100\n",
      "11999/11999 [==============================] - 1s 115us/sample - loss: 0.2785 - acc: 0.8808 - val_loss: 0.2406 - val_acc: 0.9097\n",
      "Epoch 93/100\n",
      "11999/11999 [==============================] - 1s 116us/sample - loss: 0.2807 - acc: 0.8766 - val_loss: 0.2350 - val_acc: 0.9140\n",
      "Epoch 94/100\n",
      "11999/11999 [==============================] - 1s 117us/sample - loss: 0.2738 - acc: 0.8812 - val_loss: 0.2319 - val_acc: 0.9173\n",
      "Epoch 95/100\n",
      "11999/11999 [==============================] - 1s 118us/sample - loss: 0.2730 - acc: 0.8808 - val_loss: 0.2479 - val_acc: 0.9083\n",
      "Epoch 96/100\n",
      "11999/11999 [==============================] - 1s 114us/sample - loss: 0.2779 - acc: 0.8775 - val_loss: 0.2675 - val_acc: 0.9027\n",
      "Epoch 97/100\n",
      "11999/11999 [==============================] - 1s 116us/sample - loss: 0.2715 - acc: 0.8807 - val_loss: 0.2317 - val_acc: 0.9060\n",
      "Epoch 98/100\n",
      "11999/11999 [==============================] - 1s 104us/sample - loss: 0.2868 - acc: 0.8717 - val_loss: 0.2379 - val_acc: 0.9067\n",
      "Epoch 99/100\n",
      "11999/11999 [==============================] - 1s 103us/sample - loss: 0.2688 - acc: 0.8812 - val_loss: 0.3034 - val_acc: 0.8763\n",
      "Epoch 100/100\n",
      "11999/11999 [==============================] - 1s 97us/sample - loss: 0.2813 - acc: 0.8781 - val_loss: 0.2393 - val_acc: 0.9163\n"
     ]
    },
    {
     "data": {
      "text/plain": [
       "<tensorflow.python.keras.callbacks.History at 0x214657aebe0>"
      ]
     },
     "execution_count": 213,
     "metadata": {},
     "output_type": "execute_result"
    }
   ],
   "source": [
    "model.fit(X_train,y_train,validation_data=(X_test,y_test),epochs=100)"
   ]
  },
  {
   "cell_type": "code",
   "execution_count": 233,
   "metadata": {},
   "outputs": [
    {
     "name": "stdout",
     "output_type": "stream",
     "text": [
      "3000/3000 [==============================] - 0s 48us/sample - loss: 0.2393 - acc: 0.9163\n"
     ]
    },
    {
     "data": {
      "text/plain": [
       "[0.2392722865740458, 0.9163333]"
      ]
     },
     "execution_count": 233,
     "metadata": {},
     "output_type": "execute_result"
    }
   ],
   "source": [
    "model.evaluate(X_test,y_test)"
   ]
  },
  {
   "cell_type": "code",
   "execution_count": 234,
   "metadata": {},
   "outputs": [],
   "source": [
    "y_pred_neural= model.predict(X_test)"
   ]
  },
  {
   "cell_type": "code",
   "execution_count": 235,
   "metadata": {},
   "outputs": [],
   "source": [
    "y_pred_neural= y_pred_neural.argmax(axis=1)"
   ]
  },
  {
   "cell_type": "code",
   "execution_count": 236,
   "metadata": {},
   "outputs": [
    {
     "data": {
      "text/plain": [
       "array([0, 0, 0, ..., 0, 0, 0], dtype=int64)"
      ]
     },
     "execution_count": 236,
     "metadata": {},
     "output_type": "execute_result"
    }
   ],
   "source": [
    "y_pred_neural"
   ]
  },
  {
   "cell_type": "code",
   "execution_count": 237,
   "metadata": {},
   "outputs": [
    {
     "data": {
      "text/plain": [
       "(3000,)"
      ]
     },
     "execution_count": 237,
     "metadata": {},
     "output_type": "execute_result"
    }
   ],
   "source": [
    "y_pred_neural.shape"
   ]
  },
  {
   "cell_type": "code",
   "execution_count": 238,
   "metadata": {},
   "outputs": [
    {
     "data": {
      "text/html": [
       "<div>\n",
       "<style scoped>\n",
       "    .dataframe tbody tr th:only-of-type {\n",
       "        vertical-align: middle;\n",
       "    }\n",
       "\n",
       "    .dataframe tbody tr th {\n",
       "        vertical-align: top;\n",
       "    }\n",
       "\n",
       "    .dataframe thead th {\n",
       "        text-align: right;\n",
       "    }\n",
       "</style>\n",
       "<table border=\"1\" class=\"dataframe\">\n",
       "  <thead>\n",
       "    <tr style=\"text-align: right;\">\n",
       "      <th></th>\n",
       "      <th>0</th>\n",
       "    </tr>\n",
       "  </thead>\n",
       "  <tbody>\n",
       "    <tr>\n",
       "      <th>0</th>\n",
       "      <td>0</td>\n",
       "    </tr>\n",
       "    <tr>\n",
       "      <th>1</th>\n",
       "      <td>0</td>\n",
       "    </tr>\n",
       "    <tr>\n",
       "      <th>2</th>\n",
       "      <td>0</td>\n",
       "    </tr>\n",
       "    <tr>\n",
       "      <th>3</th>\n",
       "      <td>0</td>\n",
       "    </tr>\n",
       "    <tr>\n",
       "      <th>4</th>\n",
       "      <td>0</td>\n",
       "    </tr>\n",
       "    <tr>\n",
       "      <th>...</th>\n",
       "      <td>...</td>\n",
       "    </tr>\n",
       "    <tr>\n",
       "      <th>2995</th>\n",
       "      <td>0</td>\n",
       "    </tr>\n",
       "    <tr>\n",
       "      <th>2996</th>\n",
       "      <td>0</td>\n",
       "    </tr>\n",
       "    <tr>\n",
       "      <th>2997</th>\n",
       "      <td>0</td>\n",
       "    </tr>\n",
       "    <tr>\n",
       "      <th>2998</th>\n",
       "      <td>0</td>\n",
       "    </tr>\n",
       "    <tr>\n",
       "      <th>2999</th>\n",
       "      <td>0</td>\n",
       "    </tr>\n",
       "  </tbody>\n",
       "</table>\n",
       "<p>3000 rows × 1 columns</p>\n",
       "</div>"
      ],
      "text/plain": [
       "      0\n",
       "0     0\n",
       "1     0\n",
       "2     0\n",
       "3     0\n",
       "4     0\n",
       "...  ..\n",
       "2995  0\n",
       "2996  0\n",
       "2997  0\n",
       "2998  0\n",
       "2999  0\n",
       "\n",
       "[3000 rows x 1 columns]"
      ]
     },
     "execution_count": 238,
     "metadata": {},
     "output_type": "execute_result"
    }
   ],
   "source": [
    "pd.DataFrame(y_pred_neural)"
   ]
  },
  {
   "cell_type": "markdown",
   "metadata": {},
   "source": [
    "# Decision Tree Classifier"
   ]
  },
  {
   "cell_type": "code",
   "execution_count": 239,
   "metadata": {},
   "outputs": [
    {
     "data": {
      "text/plain": [
       "DecisionTreeClassifier(ccp_alpha=0.0, class_weight=None, criterion='gini',\n",
       "                       max_depth=None, max_features=None, max_leaf_nodes=None,\n",
       "                       min_impurity_decrease=0.0, min_impurity_split=None,\n",
       "                       min_samples_leaf=1, min_samples_split=2,\n",
       "                       min_weight_fraction_leaf=0.0, presort='deprecated',\n",
       "                       random_state=None, splitter='best')"
      ]
     },
     "execution_count": 239,
     "metadata": {},
     "output_type": "execute_result"
    }
   ],
   "source": [
    "from sklearn.tree import DecisionTreeClassifier\n",
    "dt= DecisionTreeClassifier()\n",
    "dt.fit(X_train,y_train)"
   ]
  },
  {
   "cell_type": "code",
   "execution_count": 241,
   "metadata": {},
   "outputs": [
    {
     "data": {
      "text/plain": [
       "97.76666666666667"
      ]
     },
     "execution_count": 241,
     "metadata": {},
     "output_type": "execute_result"
    }
   ],
   "source": [
    "dt.score(X_test,y_test)*100"
   ]
  },
  {
   "cell_type": "code",
   "execution_count": 242,
   "metadata": {},
   "outputs": [],
   "source": [
    "pred_dt= dt.predict(X_test)"
   ]
  },
  {
   "cell_type": "code",
   "execution_count": 243,
   "metadata": {},
   "outputs": [
    {
     "data": {
      "text/plain": [
       "array([0, 0, 0, ..., 0, 1, 0], dtype=int64)"
      ]
     },
     "execution_count": 243,
     "metadata": {},
     "output_type": "execute_result"
    }
   ],
   "source": [
    "pred_dt"
   ]
  },
  {
   "cell_type": "code",
   "execution_count": 244,
   "metadata": {},
   "outputs": [
    {
     "data": {
      "text/plain": [
       "3805     0\n",
       "11844    0\n",
       "7851     0\n",
       "2762     0\n",
       "4354     0\n",
       "        ..\n",
       "12878    0\n",
       "8179     0\n",
       "7467     0\n",
       "14917    1\n",
       "6309     0\n",
       "Name: left, Length: 3000, dtype: int64"
      ]
     },
     "execution_count": 244,
     "metadata": {},
     "output_type": "execute_result"
    }
   ],
   "source": [
    "y_test"
   ]
  },
  {
   "cell_type": "code",
   "execution_count": 246,
   "metadata": {},
   "outputs": [],
   "source": [
    "from sklearn.metrics import accuracy_score\n",
    "accuracy_dt=accuracy_score(y_test,pred_dt)*100"
   ]
  },
  {
   "cell_type": "code",
   "execution_count": 247,
   "metadata": {},
   "outputs": [
    {
     "data": {
      "text/plain": [
       "97.76666666666667"
      ]
     },
     "execution_count": 247,
     "metadata": {},
     "output_type": "execute_result"
    }
   ],
   "source": [
    "accuracy_dt"
   ]
  },
  {
   "cell_type": "code",
   "execution_count": 248,
   "metadata": {},
   "outputs": [
    {
     "data": {
      "text/html": [
       "<div>\n",
       "<style scoped>\n",
       "    .dataframe tbody tr th:only-of-type {\n",
       "        vertical-align: middle;\n",
       "    }\n",
       "\n",
       "    .dataframe tbody tr th {\n",
       "        vertical-align: top;\n",
       "    }\n",
       "\n",
       "    .dataframe thead th {\n",
       "        text-align: right;\n",
       "    }\n",
       "</style>\n",
       "<table border=\"1\" class=\"dataframe\">\n",
       "  <thead>\n",
       "    <tr style=\"text-align: right;\">\n",
       "      <th></th>\n",
       "      <th>number_project</th>\n",
       "      <th>average_montly_hours</th>\n",
       "      <th>time_spend_company</th>\n",
       "      <th>Work_accident</th>\n",
       "      <th>promotion_last_5years</th>\n",
       "      <th>department</th>\n",
       "      <th>salary</th>\n",
       "      <th>satisfaction_level</th>\n",
       "      <th>last_evaluation</th>\n",
       "    </tr>\n",
       "  </thead>\n",
       "  <tbody>\n",
       "    <tr>\n",
       "      <th>3805</th>\n",
       "      <td>3</td>\n",
       "      <td>141</td>\n",
       "      <td>3</td>\n",
       "      <td>0</td>\n",
       "      <td>0</td>\n",
       "      <td>6</td>\n",
       "      <td>1</td>\n",
       "      <td>0.68</td>\n",
       "      <td>0.59</td>\n",
       "    </tr>\n",
       "    <tr>\n",
       "      <th>11844</th>\n",
       "      <td>3</td>\n",
       "      <td>253</td>\n",
       "      <td>3</td>\n",
       "      <td>0</td>\n",
       "      <td>0</td>\n",
       "      <td>4</td>\n",
       "      <td>2</td>\n",
       "      <td>0.69</td>\n",
       "      <td>0.75</td>\n",
       "    </tr>\n",
       "    <tr>\n",
       "      <th>7851</th>\n",
       "      <td>3</td>\n",
       "      <td>145</td>\n",
       "      <td>3</td>\n",
       "      <td>0</td>\n",
       "      <td>0</td>\n",
       "      <td>6</td>\n",
       "      <td>2</td>\n",
       "      <td>0.49</td>\n",
       "      <td>0.54</td>\n",
       "    </tr>\n",
       "    <tr>\n",
       "      <th>2762</th>\n",
       "      <td>3</td>\n",
       "      <td>248</td>\n",
       "      <td>3</td>\n",
       "      <td>0</td>\n",
       "      <td>0</td>\n",
       "      <td>7</td>\n",
       "      <td>1</td>\n",
       "      <td>0.91</td>\n",
       "      <td>0.85</td>\n",
       "    </tr>\n",
       "    <tr>\n",
       "      <th>4354</th>\n",
       "      <td>3</td>\n",
       "      <td>140</td>\n",
       "      <td>3</td>\n",
       "      <td>0</td>\n",
       "      <td>0</td>\n",
       "      <td>2</td>\n",
       "      <td>1</td>\n",
       "      <td>0.84</td>\n",
       "      <td>0.58</td>\n",
       "    </tr>\n",
       "    <tr>\n",
       "      <th>...</th>\n",
       "      <td>...</td>\n",
       "      <td>...</td>\n",
       "      <td>...</td>\n",
       "      <td>...</td>\n",
       "      <td>...</td>\n",
       "      <td>...</td>\n",
       "      <td>...</td>\n",
       "      <td>...</td>\n",
       "      <td>...</td>\n",
       "    </tr>\n",
       "    <tr>\n",
       "      <th>12878</th>\n",
       "      <td>3</td>\n",
       "      <td>194</td>\n",
       "      <td>2</td>\n",
       "      <td>0</td>\n",
       "      <td>0</td>\n",
       "      <td>9</td>\n",
       "      <td>1</td>\n",
       "      <td>0.79</td>\n",
       "      <td>0.87</td>\n",
       "    </tr>\n",
       "    <tr>\n",
       "      <th>8179</th>\n",
       "      <td>5</td>\n",
       "      <td>176</td>\n",
       "      <td>3</td>\n",
       "      <td>0</td>\n",
       "      <td>0</td>\n",
       "      <td>7</td>\n",
       "      <td>1</td>\n",
       "      <td>0.90</td>\n",
       "      <td>0.91</td>\n",
       "    </tr>\n",
       "    <tr>\n",
       "      <th>7467</th>\n",
       "      <td>5</td>\n",
       "      <td>161</td>\n",
       "      <td>3</td>\n",
       "      <td>0</td>\n",
       "      <td>0</td>\n",
       "      <td>0</td>\n",
       "      <td>0</td>\n",
       "      <td>0.51</td>\n",
       "      <td>0.83</td>\n",
       "    </tr>\n",
       "    <tr>\n",
       "      <th>14917</th>\n",
       "      <td>2</td>\n",
       "      <td>142</td>\n",
       "      <td>3</td>\n",
       "      <td>0</td>\n",
       "      <td>0</td>\n",
       "      <td>8</td>\n",
       "      <td>0</td>\n",
       "      <td>0.40</td>\n",
       "      <td>0.48</td>\n",
       "    </tr>\n",
       "    <tr>\n",
       "      <th>6309</th>\n",
       "      <td>5</td>\n",
       "      <td>219</td>\n",
       "      <td>3</td>\n",
       "      <td>0</td>\n",
       "      <td>0</td>\n",
       "      <td>8</td>\n",
       "      <td>0</td>\n",
       "      <td>0.94</td>\n",
       "      <td>0.66</td>\n",
       "    </tr>\n",
       "  </tbody>\n",
       "</table>\n",
       "<p>3000 rows × 9 columns</p>\n",
       "</div>"
      ],
      "text/plain": [
       "       number_project  average_montly_hours  time_spend_company  \\\n",
       "3805                3                   141                   3   \n",
       "11844               3                   253                   3   \n",
       "7851                3                   145                   3   \n",
       "2762                3                   248                   3   \n",
       "4354                3                   140                   3   \n",
       "...               ...                   ...                 ...   \n",
       "12878               3                   194                   2   \n",
       "8179                5                   176                   3   \n",
       "7467                5                   161                   3   \n",
       "14917               2                   142                   3   \n",
       "6309                5                   219                   3   \n",
       "\n",
       "       Work_accident  promotion_last_5years  department  salary  \\\n",
       "3805               0                      0           6       1   \n",
       "11844              0                      0           4       2   \n",
       "7851               0                      0           6       2   \n",
       "2762               0                      0           7       1   \n",
       "4354               0                      0           2       1   \n",
       "...              ...                    ...         ...     ...   \n",
       "12878              0                      0           9       1   \n",
       "8179               0                      0           7       1   \n",
       "7467               0                      0           0       0   \n",
       "14917              0                      0           8       0   \n",
       "6309               0                      0           8       0   \n",
       "\n",
       "       satisfaction_level  last_evaluation  \n",
       "3805                 0.68             0.59  \n",
       "11844                0.69             0.75  \n",
       "7851                 0.49             0.54  \n",
       "2762                 0.91             0.85  \n",
       "4354                 0.84             0.58  \n",
       "...                   ...              ...  \n",
       "12878                0.79             0.87  \n",
       "8179                 0.90             0.91  \n",
       "7467                 0.51             0.83  \n",
       "14917                0.40             0.48  \n",
       "6309                 0.94             0.66  \n",
       "\n",
       "[3000 rows x 9 columns]"
      ]
     },
     "execution_count": 248,
     "metadata": {},
     "output_type": "execute_result"
    }
   ],
   "source": [
    "X_test"
   ]
  },
  {
   "cell_type": "code",
   "execution_count": 249,
   "metadata": {},
   "outputs": [],
   "source": [
    "pred_dt_df= pd.DataFrame(pred_dt)"
   ]
  },
  {
   "cell_type": "code",
   "execution_count": 253,
   "metadata": {},
   "outputs": [
    {
     "data": {
      "text/html": [
       "<div>\n",
       "<style scoped>\n",
       "    .dataframe tbody tr th:only-of-type {\n",
       "        vertical-align: middle;\n",
       "    }\n",
       "\n",
       "    .dataframe tbody tr th {\n",
       "        vertical-align: top;\n",
       "    }\n",
       "\n",
       "    .dataframe thead th {\n",
       "        text-align: right;\n",
       "    }\n",
       "</style>\n",
       "<table border=\"1\" class=\"dataframe\">\n",
       "  <thead>\n",
       "    <tr style=\"text-align: right;\">\n",
       "      <th></th>\n",
       "      <th>0</th>\n",
       "    </tr>\n",
       "  </thead>\n",
       "  <tbody>\n",
       "    <tr>\n",
       "      <th>0</th>\n",
       "      <td>0</td>\n",
       "    </tr>\n",
       "    <tr>\n",
       "      <th>1</th>\n",
       "      <td>0</td>\n",
       "    </tr>\n",
       "    <tr>\n",
       "      <th>2</th>\n",
       "      <td>0</td>\n",
       "    </tr>\n",
       "    <tr>\n",
       "      <th>3</th>\n",
       "      <td>0</td>\n",
       "    </tr>\n",
       "    <tr>\n",
       "      <th>4</th>\n",
       "      <td>0</td>\n",
       "    </tr>\n",
       "    <tr>\n",
       "      <th>...</th>\n",
       "      <td>...</td>\n",
       "    </tr>\n",
       "    <tr>\n",
       "      <th>2995</th>\n",
       "      <td>0</td>\n",
       "    </tr>\n",
       "    <tr>\n",
       "      <th>2996</th>\n",
       "      <td>0</td>\n",
       "    </tr>\n",
       "    <tr>\n",
       "      <th>2997</th>\n",
       "      <td>0</td>\n",
       "    </tr>\n",
       "    <tr>\n",
       "      <th>2998</th>\n",
       "      <td>1</td>\n",
       "    </tr>\n",
       "    <tr>\n",
       "      <th>2999</th>\n",
       "      <td>0</td>\n",
       "    </tr>\n",
       "  </tbody>\n",
       "</table>\n",
       "<p>3000 rows × 1 columns</p>\n",
       "</div>"
      ],
      "text/plain": [
       "      0\n",
       "0     0\n",
       "1     0\n",
       "2     0\n",
       "3     0\n",
       "4     0\n",
       "...  ..\n",
       "2995  0\n",
       "2996  0\n",
       "2997  0\n",
       "2998  1\n",
       "2999  0\n",
       "\n",
       "[3000 rows x 1 columns]"
      ]
     },
     "execution_count": 253,
     "metadata": {},
     "output_type": "execute_result"
    }
   ],
   "source": [
    "pred_dt_df"
   ]
  },
  {
   "cell_type": "code",
   "execution_count": 254,
   "metadata": {},
   "outputs": [
    {
     "data": {
      "text/html": [
       "<div>\n",
       "<style scoped>\n",
       "    .dataframe tbody tr th:only-of-type {\n",
       "        vertical-align: middle;\n",
       "    }\n",
       "\n",
       "    .dataframe tbody tr th {\n",
       "        vertical-align: top;\n",
       "    }\n",
       "\n",
       "    .dataframe thead th {\n",
       "        text-align: right;\n",
       "    }\n",
       "</style>\n",
       "<table border=\"1\" class=\"dataframe\">\n",
       "  <thead>\n",
       "    <tr style=\"text-align: right;\">\n",
       "      <th></th>\n",
       "      <th>number_project</th>\n",
       "      <th>average_montly_hours</th>\n",
       "      <th>time_spend_company</th>\n",
       "      <th>Work_accident</th>\n",
       "      <th>promotion_last_5years</th>\n",
       "      <th>department</th>\n",
       "      <th>salary</th>\n",
       "      <th>satisfaction_level</th>\n",
       "      <th>last_evaluation</th>\n",
       "    </tr>\n",
       "  </thead>\n",
       "  <tbody>\n",
       "    <tr>\n",
       "      <th>3805</th>\n",
       "      <td>3</td>\n",
       "      <td>141</td>\n",
       "      <td>3</td>\n",
       "      <td>0</td>\n",
       "      <td>0</td>\n",
       "      <td>6</td>\n",
       "      <td>1</td>\n",
       "      <td>0.68</td>\n",
       "      <td>0.59</td>\n",
       "    </tr>\n",
       "    <tr>\n",
       "      <th>11844</th>\n",
       "      <td>3</td>\n",
       "      <td>253</td>\n",
       "      <td>3</td>\n",
       "      <td>0</td>\n",
       "      <td>0</td>\n",
       "      <td>4</td>\n",
       "      <td>2</td>\n",
       "      <td>0.69</td>\n",
       "      <td>0.75</td>\n",
       "    </tr>\n",
       "    <tr>\n",
       "      <th>7851</th>\n",
       "      <td>3</td>\n",
       "      <td>145</td>\n",
       "      <td>3</td>\n",
       "      <td>0</td>\n",
       "      <td>0</td>\n",
       "      <td>6</td>\n",
       "      <td>2</td>\n",
       "      <td>0.49</td>\n",
       "      <td>0.54</td>\n",
       "    </tr>\n",
       "    <tr>\n",
       "      <th>2762</th>\n",
       "      <td>3</td>\n",
       "      <td>248</td>\n",
       "      <td>3</td>\n",
       "      <td>0</td>\n",
       "      <td>0</td>\n",
       "      <td>7</td>\n",
       "      <td>1</td>\n",
       "      <td>0.91</td>\n",
       "      <td>0.85</td>\n",
       "    </tr>\n",
       "    <tr>\n",
       "      <th>4354</th>\n",
       "      <td>3</td>\n",
       "      <td>140</td>\n",
       "      <td>3</td>\n",
       "      <td>0</td>\n",
       "      <td>0</td>\n",
       "      <td>2</td>\n",
       "      <td>1</td>\n",
       "      <td>0.84</td>\n",
       "      <td>0.58</td>\n",
       "    </tr>\n",
       "  </tbody>\n",
       "</table>\n",
       "</div>"
      ],
      "text/plain": [
       "       number_project  average_montly_hours  time_spend_company  \\\n",
       "3805                3                   141                   3   \n",
       "11844               3                   253                   3   \n",
       "7851                3                   145                   3   \n",
       "2762                3                   248                   3   \n",
       "4354                3                   140                   3   \n",
       "\n",
       "       Work_accident  promotion_last_5years  department  salary  \\\n",
       "3805               0                      0           6       1   \n",
       "11844              0                      0           4       2   \n",
       "7851               0                      0           6       2   \n",
       "2762               0                      0           7       1   \n",
       "4354               0                      0           2       1   \n",
       "\n",
       "       satisfaction_level  last_evaluation  \n",
       "3805                 0.68             0.59  \n",
       "11844                0.69             0.75  \n",
       "7851                 0.49             0.54  \n",
       "2762                 0.91             0.85  \n",
       "4354                 0.84             0.58  "
      ]
     },
     "execution_count": 254,
     "metadata": {},
     "output_type": "execute_result"
    }
   ],
   "source": [
    "X_test.head()"
   ]
  },
  {
   "cell_type": "code",
   "execution_count": 264,
   "metadata": {},
   "outputs": [],
   "source": [
    "custom_dt= [[2,140,3,1,2,3,2,0.70,0.80]]"
   ]
  },
  {
   "cell_type": "code",
   "execution_count": 256,
   "metadata": {},
   "outputs": [],
   "source": [
    "Catagory=['Employee will stay','Employee will Leave']"
   ]
  },
  {
   "cell_type": "code",
   "execution_count": 257,
   "metadata": {},
   "outputs": [
    {
     "name": "stdout",
     "output_type": "stream",
     "text": [
      "0\n"
     ]
    }
   ],
   "source": [
    "print(int(dt.predict(custom_dt)))"
   ]
  },
  {
   "cell_type": "code",
   "execution_count": 258,
   "metadata": {},
   "outputs": [
    {
     "data": {
      "text/plain": [
       "'Employee will stay'"
      ]
     },
     "execution_count": 258,
     "metadata": {},
     "output_type": "execute_result"
    }
   ],
   "source": [
    "Catagory[int(dt.predict(custom_dt))]"
   ]
  },
  {
   "cell_type": "code",
   "execution_count": 265,
   "metadata": {},
   "outputs": [
    {
     "data": {
      "text/plain": [
       "array([0.11239738, 0.10050329, 0.14652328, 0.00247118, 0.00068954,\n",
       "       0.01054713, 0.00461596, 0.48253913, 0.13971312])"
      ]
     },
     "execution_count": 265,
     "metadata": {},
     "output_type": "execute_result"
    }
   ],
   "source": [
    "dt.feature_importances_"
   ]
  },
  {
   "cell_type": "code",
   "execution_count": 270,
   "metadata": {},
   "outputs": [],
   "source": [
    "feature_importance= pd.DataFrame(dt.feature_importances_,index=X_train.columns,columns=[\"Importance\"]).sort_values('Importance',ascending=False)"
   ]
  },
  {
   "cell_type": "code",
   "execution_count": 271,
   "metadata": {},
   "outputs": [
    {
     "data": {
      "text/html": [
       "<div>\n",
       "<style scoped>\n",
       "    .dataframe tbody tr th:only-of-type {\n",
       "        vertical-align: middle;\n",
       "    }\n",
       "\n",
       "    .dataframe tbody tr th {\n",
       "        vertical-align: top;\n",
       "    }\n",
       "\n",
       "    .dataframe thead th {\n",
       "        text-align: right;\n",
       "    }\n",
       "</style>\n",
       "<table border=\"1\" class=\"dataframe\">\n",
       "  <thead>\n",
       "    <tr style=\"text-align: right;\">\n",
       "      <th></th>\n",
       "      <th>Importance</th>\n",
       "    </tr>\n",
       "  </thead>\n",
       "  <tbody>\n",
       "    <tr>\n",
       "      <th>satisfaction_level</th>\n",
       "      <td>0.482539</td>\n",
       "    </tr>\n",
       "    <tr>\n",
       "      <th>time_spend_company</th>\n",
       "      <td>0.146523</td>\n",
       "    </tr>\n",
       "    <tr>\n",
       "      <th>last_evaluation</th>\n",
       "      <td>0.139713</td>\n",
       "    </tr>\n",
       "    <tr>\n",
       "      <th>number_project</th>\n",
       "      <td>0.112397</td>\n",
       "    </tr>\n",
       "    <tr>\n",
       "      <th>average_montly_hours</th>\n",
       "      <td>0.100503</td>\n",
       "    </tr>\n",
       "    <tr>\n",
       "      <th>department</th>\n",
       "      <td>0.010547</td>\n",
       "    </tr>\n",
       "    <tr>\n",
       "      <th>salary</th>\n",
       "      <td>0.004616</td>\n",
       "    </tr>\n",
       "    <tr>\n",
       "      <th>Work_accident</th>\n",
       "      <td>0.002471</td>\n",
       "    </tr>\n",
       "    <tr>\n",
       "      <th>promotion_last_5years</th>\n",
       "      <td>0.000690</td>\n",
       "    </tr>\n",
       "  </tbody>\n",
       "</table>\n",
       "</div>"
      ],
      "text/plain": [
       "                       Importance\n",
       "satisfaction_level       0.482539\n",
       "time_spend_company       0.146523\n",
       "last_evaluation          0.139713\n",
       "number_project           0.112397\n",
       "average_montly_hours     0.100503\n",
       "department               0.010547\n",
       "salary                   0.004616\n",
       "Work_accident            0.002471\n",
       "promotion_last_5years    0.000690"
      ]
     },
     "execution_count": 271,
     "metadata": {},
     "output_type": "execute_result"
    }
   ],
   "source": [
    "feature_importance"
   ]
  },
  {
   "cell_type": "markdown",
   "metadata": {},
   "source": [
    "# KNN Classifier"
   ]
  },
  {
   "cell_type": "code",
   "execution_count": 273,
   "metadata": {},
   "outputs": [],
   "source": [
    "from sklearn.preprocessing import StandardScaler"
   ]
  },
  {
   "cell_type": "code",
   "execution_count": 274,
   "metadata": {},
   "outputs": [],
   "source": [
    "sc= StandardScaler()"
   ]
  },
  {
   "cell_type": "code",
   "execution_count": 275,
   "metadata": {},
   "outputs": [],
   "source": [
    "X_train_std= sc.fit_transform(X_train)\n",
    "X_test_std= sc.fit_transform(X_test)"
   ]
  },
  {
   "cell_type": "code",
   "execution_count": 276,
   "metadata": {},
   "outputs": [
    {
     "data": {
      "text/plain": [
       "array([[ 1.78444991,  1.1787886 ,  0.33773014, ...,  0.64002441,\n",
       "        -2.11752354,  0.37322779],\n",
       "       [ 0.1593416 ,  1.41981965,  0.33773014, ...,  0.64002441,\n",
       "         1.39382591,  0.72402692],\n",
       "       [ 0.97189576,  1.15870268,  0.33773014, ..., -0.93077799,\n",
       "        -1.91572185, -0.91303571],\n",
       "       ...,\n",
       "       [ 2.59700406,  1.54033517,  0.33773014, ..., -0.93077799,\n",
       "        -2.03680286,  0.37322779],\n",
       "       [ 0.97189576, -0.95031899,  0.33773014, ..., -0.93077799,\n",
       "         1.15166388,  1.1917591 ],\n",
       "       [-1.4657667 , -0.82980347, -0.34197867, ..., -0.93077799,\n",
       "        -0.86635305, -1.32230136]])"
      ]
     },
     "execution_count": 276,
     "metadata": {},
     "output_type": "execute_result"
    }
   ],
   "source": [
    "X_train_std"
   ]
  },
  {
   "cell_type": "code",
   "execution_count": 277,
   "metadata": {},
   "outputs": [
    {
     "data": {
      "text/plain": [
       "array([[-0.64490648, -1.16731338, -0.33839416, ...,  0.62050745,\n",
       "         0.29547234, -0.73797888],\n",
       "       [-0.64490648,  1.04856599, -0.33839416, ...,  2.18481196,\n",
       "         0.3352809 ,  0.19911237],\n",
       "       [-0.64490648, -1.08817483, -0.33839416, ...,  2.18481196,\n",
       "        -0.46089015, -1.0308199 ],\n",
       "       ...,\n",
       "       [ 0.96803177, -0.77162064, -0.33839416, ..., -0.94379705,\n",
       "        -0.38127304,  0.66765799],\n",
       "       [-1.4513756 , -1.14752874, -0.33839416, ..., -0.94379705,\n",
       "        -0.81916712, -1.38222911],\n",
       "       [ 0.96803177,  0.37588832, -0.33839416, ..., -0.94379705,\n",
       "         1.3304947 , -0.32800146]])"
      ]
     },
     "execution_count": 277,
     "metadata": {},
     "output_type": "execute_result"
    }
   ],
   "source": [
    "X_test_std"
   ]
  },
  {
   "cell_type": "code",
   "execution_count": 272,
   "metadata": {},
   "outputs": [],
   "source": [
    "from sklearn.neighbors import KNeighborsClassifier"
   ]
  },
  {
   "cell_type": "code",
   "execution_count": 278,
   "metadata": {},
   "outputs": [],
   "source": [
    "knn= KNeighborsClassifier(n_neighbors=3)"
   ]
  },
  {
   "cell_type": "code",
   "execution_count": 286,
   "metadata": {},
   "outputs": [
    {
     "data": {
      "text/plain": [
       "KNeighborsClassifier(algorithm='auto', leaf_size=30, metric='minkowski',\n",
       "                     metric_params=None, n_jobs=None, n_neighbors=3, p=2,\n",
       "                     weights='uniform')"
      ]
     },
     "execution_count": 286,
     "metadata": {},
     "output_type": "execute_result"
    }
   ],
   "source": [
    "knn.fit(X_train_std,y_train)"
   ]
  },
  {
   "cell_type": "code",
   "execution_count": 287,
   "metadata": {},
   "outputs": [
    {
     "data": {
      "text/plain": [
       "95.96666666666667"
      ]
     },
     "execution_count": 287,
     "metadata": {},
     "output_type": "execute_result"
    }
   ],
   "source": [
    "knn.score(X_test_std,y_test)*100"
   ]
  },
  {
   "cell_type": "code",
   "execution_count": 288,
   "metadata": {},
   "outputs": [],
   "source": [
    "pred_knn= knn.predict(X_test_std)"
   ]
  },
  {
   "cell_type": "code",
   "execution_count": 289,
   "metadata": {},
   "outputs": [
    {
     "data": {
      "text/plain": [
       "array([0, 0, 0, ..., 0, 1, 0], dtype=int64)"
      ]
     },
     "execution_count": 289,
     "metadata": {},
     "output_type": "execute_result"
    }
   ],
   "source": [
    "pred_knn"
   ]
  },
  {
   "cell_type": "code",
   "execution_count": 290,
   "metadata": {},
   "outputs": [],
   "source": [
    "k_range= range(1,26)\n",
    "scores={}\n",
    "scores_list=[]\n",
    "\n",
    "for k in k_range:\n",
    "    knn= KNeighborsClassifier(n_neighbors=k)\n",
    "    knn.fit(X_train_std,y_train)\n",
    "    prediction_knn= knn.predict(X_test_std)\n",
    "    scores[k]=accuracy_score(y_test,prediction_knn)*100\n",
    "    scores_list.append(accuracy_score(y_test,prediction_knn))"
   ]
  },
  {
   "cell_type": "code",
   "execution_count": 291,
   "metadata": {},
   "outputs": [
    {
     "data": {
      "text/plain": [
       "{1: 96.93333333333334,\n",
       " 2: 96.46666666666667,\n",
       " 3: 95.96666666666667,\n",
       " 4: 96.13333333333334,\n",
       " 5: 95.6,\n",
       " 6: 96.33333333333334,\n",
       " 7: 95.86666666666666,\n",
       " 8: 96.1,\n",
       " 9: 95.8,\n",
       " 10: 95.83333333333334,\n",
       " 11: 95.66666666666667,\n",
       " 12: 95.63333333333334,\n",
       " 13: 95.33333333333334,\n",
       " 14: 95.43333333333334,\n",
       " 15: 95.3,\n",
       " 16: 95.33333333333334,\n",
       " 17: 95.13333333333334,\n",
       " 18: 95.33333333333334,\n",
       " 19: 95.19999999999999,\n",
       " 20: 95.23333333333333,\n",
       " 21: 95.06666666666666,\n",
       " 22: 95.13333333333334,\n",
       " 23: 94.86666666666666,\n",
       " 24: 94.86666666666666,\n",
       " 25: 94.76666666666667}"
      ]
     },
     "execution_count": 291,
     "metadata": {},
     "output_type": "execute_result"
    }
   ],
   "source": [
    "scores"
   ]
  },
  {
   "cell_type": "code",
   "execution_count": 292,
   "metadata": {},
   "outputs": [
    {
     "data": {
      "text/plain": [
       "[0.9693333333333334,\n",
       " 0.9646666666666667,\n",
       " 0.9596666666666667,\n",
       " 0.9613333333333334,\n",
       " 0.956,\n",
       " 0.9633333333333334,\n",
       " 0.9586666666666667,\n",
       " 0.961,\n",
       " 0.958,\n",
       " 0.9583333333333334,\n",
       " 0.9566666666666667,\n",
       " 0.9563333333333334,\n",
       " 0.9533333333333334,\n",
       " 0.9543333333333334,\n",
       " 0.953,\n",
       " 0.9533333333333334,\n",
       " 0.9513333333333334,\n",
       " 0.9533333333333334,\n",
       " 0.952,\n",
       " 0.9523333333333334,\n",
       " 0.9506666666666667,\n",
       " 0.9513333333333334,\n",
       " 0.9486666666666667,\n",
       " 0.9486666666666667,\n",
       " 0.9476666666666667]"
      ]
     },
     "execution_count": 292,
     "metadata": {},
     "output_type": "execute_result"
    }
   ],
   "source": [
    "scores_list"
   ]
  },
  {
   "cell_type": "code",
   "execution_count": 293,
   "metadata": {},
   "outputs": [
    {
     "data": {
      "text/plain": [
       "[<matplotlib.lines.Line2D at 0x21466c25940>]"
      ]
     },
     "execution_count": 293,
     "metadata": {},
     "output_type": "execute_result"
    },
    {
     "data": {
      "image/png": "[encoded data removed]",
      "text/plain": [
       "<Figure size 432x288 with 1 Axes>"
      ]
     },
     "metadata": {
      "needs_background": "light"
     },
     "output_type": "display_data"
    }
   ],
   "source": [
    "plt.plot(k_range,scores_list)"
   ]
  },
  {
   "cell_type": "code",
   "execution_count": 294,
   "metadata": {},
   "outputs": [
    {
     "data": {
      "text/html": [
       "<div>\n",
       "<style scoped>\n",
       "    .dataframe tbody tr th:only-of-type {\n",
       "        vertical-align: middle;\n",
       "    }\n",
       "\n",
       "    .dataframe tbody tr th {\n",
       "        vertical-align: top;\n",
       "    }\n",
       "\n",
       "    .dataframe thead th {\n",
       "        text-align: right;\n",
       "    }\n",
       "</style>\n",
       "<table border=\"1\" class=\"dataframe\">\n",
       "  <thead>\n",
       "    <tr style=\"text-align: right;\">\n",
       "      <th></th>\n",
       "      <th>number_project</th>\n",
       "      <th>average_montly_hours</th>\n",
       "      <th>time_spend_company</th>\n",
       "      <th>Work_accident</th>\n",
       "      <th>promotion_last_5years</th>\n",
       "      <th>department</th>\n",
       "      <th>salary</th>\n",
       "      <th>satisfaction_level</th>\n",
       "      <th>last_evaluation</th>\n",
       "    </tr>\n",
       "  </thead>\n",
       "  <tbody>\n",
       "    <tr>\n",
       "      <th>3805</th>\n",
       "      <td>3</td>\n",
       "      <td>141</td>\n",
       "      <td>3</td>\n",
       "      <td>0</td>\n",
       "      <td>0</td>\n",
       "      <td>6</td>\n",
       "      <td>1</td>\n",
       "      <td>0.68</td>\n",
       "      <td>0.59</td>\n",
       "    </tr>\n",
       "  </tbody>\n",
       "</table>\n",
       "</div>"
      ],
      "text/plain": [
       "      number_project  average_montly_hours  time_spend_company  Work_accident  \\\n",
       "3805               3                   141                   3              0   \n",
       "\n",
       "      promotion_last_5years  department  salary  satisfaction_level  \\\n",
       "3805                      0           6       1                0.68   \n",
       "\n",
       "      last_evaluation  \n",
       "3805             0.59  "
      ]
     },
     "execution_count": 294,
     "metadata": {},
     "output_type": "execute_result"
    }
   ],
   "source": [
    "X_test.head(1)"
   ]
  },
  {
   "cell_type": "code",
   "execution_count": 295,
   "metadata": {},
   "outputs": [],
   "source": [
    "X_knn=np.array([[20,500,10,6,0,0.10,0.30,1,8]])\n",
    "X_knn_std=sc.transform(X_knn)"
   ]
  },
  {
   "cell_type": "code",
   "execution_count": 296,
   "metadata": {},
   "outputs": [
    {
     "data": {
      "text/plain": [
       "array([[13.06506866,  5.93537138,  4.61026692, 17.2199035 , -0.1353881 ,\n",
       "        -2.04605445, -0.4745057 ,  1.56934602, 42.66105957]])"
      ]
     },
     "execution_count": 296,
     "metadata": {},
     "output_type": "execute_result"
    }
   ],
   "source": [
    "X_knn_std"
   ]
  },
  {
   "cell_type": "code",
   "execution_count": 298,
   "metadata": {},
   "outputs": [
    {
     "data": {
      "text/plain": [
       "array([0], dtype=int64)"
      ]
     },
     "execution_count": 298,
     "metadata": {},
     "output_type": "execute_result"
    }
   ],
   "source": [
    "X_knn_prediction=knn.predict(X_knn_std)\n",
    "X_knn_prediction"
   ]
  },
  {
   "cell_type": "code",
   "execution_count": 299,
   "metadata": {},
   "outputs": [
    {
     "data": {
      "text/plain": [
       "'Employee will stay'"
      ]
     },
     "execution_count": 299,
     "metadata": {},
     "output_type": "execute_result"
    }
   ],
   "source": [
    "\n",
    "Catagory[int(dt.predict(custom_dt))]"
   ]
  },
  {
   "cell_type": "code",
   "execution_count": 301,
   "metadata": {},
   "outputs": [],
   "source": [
    "# algorithms=['Decision Tree','KNN']\n",
    "# scores=[accuracy_dt,accuracy_knn]\n",
    "# plt.xlabel(\"Algorithms\")\n",
    "# plt.ylabel(\"Accuracy Score\")\n",
    "# sns.barplot(algorithms,scores)\n",
    "# plt.show()"
   ]
  },
  {
   "cell_type": "code",
   "execution_count": null,
   "metadata": {},
   "outputs": [],
   "source": []
  }
 ],
 "metadata": {
  "kernelspec": {
   "display_name": "Python 3",
   "language": "python",
   "name": "python3"
  },
  "language_info": {
   "codemirror_mode": {
    "name": "ipython",
    "version": 3
   },
   "file_extension": ".py",
   "mimetype": "text/x-python",
   "name": "python",
   "nbconvert_exporter": "python",
   "pygments_lexer": "ipython3",
   "version": "3.6.8"
  }
 },
 "nbformat": 4,
 "nbformat_minor": 4
}
